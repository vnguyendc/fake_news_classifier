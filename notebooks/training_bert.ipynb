{
  "nbformat": 4,
  "nbformat_minor": 0,
  "metadata": {
    "accelerator": "GPU",
    "colab": {
      "name": "Fake News Classifier with BERT Transformer in TensorFlow",
      "provenance": [],
      "collapsed_sections": [],
      "toc_visible": true
    },
    "kernelspec": {
      "display_name": "Python 3",
      "name": "python3"
    }
  },
  "cells": [
    {
      "cell_type": "code",
      "metadata": {
        "id": "j0a4mTk9o1Qg"
      },
      "source": [
        "# Copyright 2019 Google Inc.\n",
        "\n",
        "# Licensed under the Apache License, Version 2.0 (the \"License\");\n",
        "# you may not use this file except in compliance with the License.\n",
        "# You may obtain a copy of the License at\n",
        "\n",
        "#     http://www.apache.org/licenses/LICENSE-2.0\n",
        "\n",
        "# Unless required by applicable law or agreed to in writing, software\n",
        "# distributed under the License is distributed on an \"AS IS\" BASIS,\n",
        "# WITHOUT WARRANTIES OR CONDITIONS OF ANY KIND, either express or implied.\n",
        "# See the License for the specific language governing permissions and\n",
        "# limitations under the License."
      ],
      "execution_count": null,
      "outputs": []
    },
    {
      "cell_type": "code",
      "metadata": {
        "id": "Ua2rZRuBu6xe",
        "colab": {
          "base_uri": "https://localhost:8080/"
        },
        "outputId": "ee16d4ba-e915-47dd-decc-fd903c019c6f"
      },
      "source": [
        "!python --version"
      ],
      "execution_count": null,
      "outputs": [
        {
          "output_type": "stream",
          "text": [
            "Python 3.6.9\n"
          ],
          "name": "stdout"
        }
      ]
    },
    {
      "cell_type": "markdown",
      "metadata": {
        "id": "dCpvgG0vwXAZ"
      },
      "source": [
        "#Predicting Fake News with BERT on TF Hub\n",
        "\n"
      ]
    },
    {
      "cell_type": "markdown",
      "metadata": {
        "id": "xiYrZKaHwV81"
      },
      "source": [
        "If you’ve been following Natural Language Processing over the past year, you’ve probably heard of BERT: Bidirectional Encoder Representations from Transformers. It’s a neural network architecture designed by Google researchers that’s totally transformed what’s state-of-the-art for NLP tasks, like text classification, translation, summarization, and question answering.\n",
        "\n",
        "Now that BERT's been added to [TF Hub](https://www.tensorflow.org/hub) as a loadable module, it's easy(ish) to add into existing Tensorflow text pipelines. In an existing pipeline, BERT can replace text embedding layers like ELMO and GloVE. Alternatively, [finetuning](http://wiki.fast.ai/index.php/Fine_tuning) BERT can provide both an accuracy boost and faster training time in many cases.\n",
        "\n",
        "Here, we'll train a model to predict whether an online article  is real or fake using BERT in Tensorflow with tf hub. Some code was adapted from [this colab notebook](https://colab.sandbox.google.com/github/tensorflow/tpu/blob/master/tools/colab/bert_finetuning_with_cloud_tpus.ipynb). Let's get started!"
      ]
    },
    {
      "cell_type": "code",
      "metadata": {
        "colab": {
          "base_uri": "https://localhost:8080/"
        },
        "id": "jviywGyWyKsA",
        "outputId": "fc66816c-bbb5-438a-e6f8-063620e76bb7"
      },
      "source": [
        "!pip install bert-tensorflow==1.0.1\n",
        "#!pip install tensorflow==1.15\n",
        "!pip install --upgrade tb-nightly"
      ],
      "execution_count": null,
      "outputs": [
        {
          "output_type": "stream",
          "text": [
            "Collecting bert-tensorflow==1.0.1\n",
            "\u001b[?25l  Downloading https://files.pythonhosted.org/packages/a6/66/7eb4e8b6ea35b7cc54c322c816f976167a43019750279a8473d355800a93/bert_tensorflow-1.0.1-py2.py3-none-any.whl (67kB)\n",
            "\r\u001b[K     |████▉                           | 10kB 26.0MB/s eta 0:00:01\r\u001b[K     |█████████▊                      | 20kB 19.3MB/s eta 0:00:01\r\u001b[K     |██████████████▋                 | 30kB 17.0MB/s eta 0:00:01\r\u001b[K     |███████████████████▍            | 40kB 16.1MB/s eta 0:00:01\r\u001b[K     |████████████████████████▎       | 51kB 12.7MB/s eta 0:00:01\r\u001b[K     |█████████████████████████████▏  | 61kB 12.7MB/s eta 0:00:01\r\u001b[K     |████████████████████████████████| 71kB 6.1MB/s \n",
            "\u001b[?25hRequirement already satisfied: six in /usr/local/lib/python3.6/dist-packages (from bert-tensorflow==1.0.1) (1.15.0)\n",
            "Installing collected packages: bert-tensorflow\n",
            "Successfully installed bert-tensorflow-1.0.1\n",
            "Collecting tb-nightly\n",
            "\u001b[?25l  Downloading https://files.pythonhosted.org/packages/86/3b/7765dcaa8c562457cc5205112bd42d257f1bcd54ab740dca24675e740512/tb_nightly-2.5.0a20201201-py3-none-any.whl (12.2MB)\n",
            "\u001b[K     |████████████████████████████████| 12.2MB 23.6MB/s \n",
            "\u001b[?25hRequirement already satisfied, skipping upgrade: google-auth<2,>=1.6.3 in /usr/local/lib/python3.6/dist-packages (from tb-nightly) (1.17.2)\n",
            "Requirement already satisfied, skipping upgrade: markdown>=2.6.8 in /usr/local/lib/python3.6/dist-packages (from tb-nightly) (3.3.3)\n",
            "Requirement already satisfied, skipping upgrade: protobuf>=3.6.0 in /usr/local/lib/python3.6/dist-packages (from tb-nightly) (3.12.4)\n",
            "Requirement already satisfied, skipping upgrade: tensorboard-plugin-wit>=1.6.0 in /usr/local/lib/python3.6/dist-packages (from tb-nightly) (1.7.0)\n",
            "Requirement already satisfied, skipping upgrade: six>=1.10.0 in /usr/local/lib/python3.6/dist-packages (from tb-nightly) (1.15.0)\n",
            "Requirement already satisfied, skipping upgrade: grpcio>=1.24.3 in /usr/local/lib/python3.6/dist-packages (from tb-nightly) (1.33.2)\n",
            "Requirement already satisfied, skipping upgrade: setuptools>=41.0.0 in /usr/local/lib/python3.6/dist-packages (from tb-nightly) (50.3.2)\n",
            "Requirement already satisfied, skipping upgrade: numpy>=1.12.0 in /usr/local/lib/python3.6/dist-packages (from tb-nightly) (1.18.5)\n",
            "Requirement already satisfied, skipping upgrade: requests<3,>=2.21.0 in /usr/local/lib/python3.6/dist-packages (from tb-nightly) (2.23.0)\n",
            "Requirement already satisfied, skipping upgrade: werkzeug>=0.11.15 in /usr/local/lib/python3.6/dist-packages (from tb-nightly) (1.0.1)\n",
            "Requirement already satisfied, skipping upgrade: absl-py>=0.4 in /usr/local/lib/python3.6/dist-packages (from tb-nightly) (0.10.0)\n",
            "Requirement already satisfied, skipping upgrade: google-auth-oauthlib<0.5,>=0.4.1 in /usr/local/lib/python3.6/dist-packages (from tb-nightly) (0.4.2)\n",
            "Requirement already satisfied, skipping upgrade: wheel>=0.26; python_version >= \"3\" in /usr/local/lib/python3.6/dist-packages (from tb-nightly) (0.35.1)\n",
            "Requirement already satisfied, skipping upgrade: pyasn1-modules>=0.2.1 in /usr/local/lib/python3.6/dist-packages (from google-auth<2,>=1.6.3->tb-nightly) (0.2.8)\n",
            "Requirement already satisfied, skipping upgrade: cachetools<5.0,>=2.0.0 in /usr/local/lib/python3.6/dist-packages (from google-auth<2,>=1.6.3->tb-nightly) (4.1.1)\n",
            "Requirement already satisfied, skipping upgrade: rsa<5,>=3.1.4; python_version >= \"3\" in /usr/local/lib/python3.6/dist-packages (from google-auth<2,>=1.6.3->tb-nightly) (4.6)\n",
            "Requirement already satisfied, skipping upgrade: importlib-metadata; python_version < \"3.8\" in /usr/local/lib/python3.6/dist-packages (from markdown>=2.6.8->tb-nightly) (2.0.0)\n",
            "Requirement already satisfied, skipping upgrade: certifi>=2017.4.17 in /usr/local/lib/python3.6/dist-packages (from requests<3,>=2.21.0->tb-nightly) (2020.11.8)\n",
            "Requirement already satisfied, skipping upgrade: chardet<4,>=3.0.2 in /usr/local/lib/python3.6/dist-packages (from requests<3,>=2.21.0->tb-nightly) (3.0.4)\n",
            "Requirement already satisfied, skipping upgrade: urllib3!=1.25.0,!=1.25.1,<1.26,>=1.21.1 in /usr/local/lib/python3.6/dist-packages (from requests<3,>=2.21.0->tb-nightly) (1.24.3)\n",
            "Requirement already satisfied, skipping upgrade: idna<3,>=2.5 in /usr/local/lib/python3.6/dist-packages (from requests<3,>=2.21.0->tb-nightly) (2.10)\n",
            "Requirement already satisfied, skipping upgrade: requests-oauthlib>=0.7.0 in /usr/local/lib/python3.6/dist-packages (from google-auth-oauthlib<0.5,>=0.4.1->tb-nightly) (1.3.0)\n",
            "Requirement already satisfied, skipping upgrade: pyasn1<0.5.0,>=0.4.6 in /usr/local/lib/python3.6/dist-packages (from pyasn1-modules>=0.2.1->google-auth<2,>=1.6.3->tb-nightly) (0.4.8)\n",
            "Requirement already satisfied, skipping upgrade: zipp>=0.5 in /usr/local/lib/python3.6/dist-packages (from importlib-metadata; python_version < \"3.8\"->markdown>=2.6.8->tb-nightly) (3.4.0)\n",
            "Requirement already satisfied, skipping upgrade: oauthlib>=3.0.0 in /usr/local/lib/python3.6/dist-packages (from requests-oauthlib>=0.7.0->google-auth-oauthlib<0.5,>=0.4.1->tb-nightly) (3.1.0)\n",
            "Installing collected packages: tb-nightly\n",
            "Successfully installed tb-nightly-2.5.0a20201201\n"
          ],
          "name": "stdout"
        }
      ]
    },
    {
      "cell_type": "code",
      "metadata": {
        "colab": {
          "base_uri": "https://localhost:8080/"
        },
        "id": "hsZvic2YxnTz",
        "outputId": "4795120f-7547-44f4-cd69-531c826b14a9"
      },
      "source": [
        "from sklearn.model_selection import train_test_split\n",
        "import pandas as pd\n",
        "%tensorflow_version 1.x\n",
        "import tensorflow as tf\n",
        "import tensorflow_hub as hub\n",
        "from datetime import datetime\n",
        "from tensorflow import keras\n",
        "import os\n",
        "import re"
      ],
      "execution_count": null,
      "outputs": [
        {
          "output_type": "stream",
          "text": [
            "TensorFlow 1.x selected.\n"
          ],
          "name": "stdout"
        }
      ]
    },
    {
      "cell_type": "markdown",
      "metadata": {
        "id": "cp5wfXDx5SPH"
      },
      "source": [
        "In addition to the standard libraries we imported above, we'll need to install BERT's python package."
      ]
    },
    {
      "cell_type": "code",
      "metadata": {
        "colab": {
          "base_uri": "https://localhost:8080/"
        },
        "id": "hhbGEfwgdEtw",
        "outputId": "09733556-e45e-457b-99cc-342571006233"
      },
      "source": [
        "import bert\n",
        "from bert import run_classifier\n",
        "from bert import optimization\n",
        "from bert import tokenization"
      ],
      "execution_count": null,
      "outputs": [
        {
          "output_type": "stream",
          "text": [
            "WARNING:tensorflow:From /usr/local/lib/python3.6/dist-packages/bert/optimization.py:87: The name tf.train.Optimizer is deprecated. Please use tf.compat.v1.train.Optimizer instead.\n",
            "\n"
          ],
          "name": "stdout"
        }
      ]
    },
    {
      "cell_type": "markdown",
      "metadata": {
        "id": "KVB3eOcjxxm1"
      },
      "source": [
        "Below, we'll set an output directory location to store our model output and checkpoints. This can be a local directory, in which case you'd set OUTPUT_DIR to the name of the directory you'd like to create. If you're running this code in Google's hosted Colab, the directory won't persist after the Colab session ends.\n",
        "\n",
        "Alternatively, if you're a GCP user, you can store output in a GCP bucket. To do that, set a directory name in OUTPUT_DIR and the name of the GCP bucket in the BUCKET field.\n",
        "\n",
        "Set DO_DELETE to rewrite the OUTPUT_DIR if it exists. Otherwise, Tensorflow will load existing model checkpoints from that directory (if they exist)."
      ]
    },
    {
      "cell_type": "code",
      "metadata": {
        "colab": {
          "base_uri": "https://localhost:8080/"
        },
        "id": "US_EAnICvP7f",
        "outputId": "837af620-0cf0-47d1-dcde-af0aa62481dc"
      },
      "source": [
        "# Set the output directory for saving model file\n",
        "# Optionally, set a GCP bucket location\n",
        "\n",
        "OUTPUT_DIR = 'model'#@param {type:\"string\"}\n",
        "#@markdown Whether or not to clear/delete the directory and create a new one\n",
        "DO_DELETE = False #@param {type:\"boolean\"}\n",
        "#@markdown Set USE_BUCKET and BUCKET if you want to (optionally) store model output on GCP bucket.\n",
        "USE_BUCKET = True #@param {type:\"boolean\"}\n",
        "BUCKET = 'bert_model1' #@param {type:\"string\"}\n",
        "\n",
        "if USE_BUCKET:\n",
        "  OUTPUT_DIR = 'gs://{}/{}'.format(BUCKET, OUTPUT_DIR)\n",
        "  from google.colab import auth\n",
        "  auth.authenticate_user()\n",
        "\n",
        "if DO_DELETE:\n",
        "  try:\n",
        "    tf.gfile.DeleteRecursively(OUTPUT_DIR)\n",
        "  except:\n",
        "    # Doesn't matter if the directory didn't exist\n",
        "    pass\n",
        "tf.gfile.MakeDirs(OUTPUT_DIR)\n",
        "print('***** Model output directory: {} *****'.format(OUTPUT_DIR))\n"
      ],
      "execution_count": null,
      "outputs": [
        {
          "output_type": "stream",
          "text": [
            "***** Model output directory: gs://bert_model1/model *****\n"
          ],
          "name": "stdout"
        }
      ]
    },
    {
      "cell_type": "markdown",
      "metadata": {
        "id": "pmFYvkylMwXn"
      },
      "source": [
        "#Data"
      ]
    },
    {
      "cell_type": "markdown",
      "metadata": {
        "id": "MC_w8SRqN0fr"
      },
      "source": [
        "First, let's download the dataset, hosted by Stanford. The code below, which downloads, extracts, and imports the IMDB Large Movie Review Dataset, is borrowed from [this Tensorflow tutorial](https://www.tensorflow.org/hub/tutorials/text_classification_with_tf_hub)."
      ]
    },
    {
      "cell_type": "code",
      "metadata": {
        "colab": {
          "base_uri": "https://localhost:8080/"
        },
        "id": "fom_ff20gyy6",
        "outputId": "75ed0c50-8e3a-4f17-a694-93f440c91a53"
      },
      "source": [
        "## Import data from Kaggle\n",
        "# enter these bash commands in terminal/console\n",
        "\n",
        "%%bash\n",
        "pip install kaggle\n",
        "export KAGGLE_USERNAME=vnguyendc\n",
        "export KAGGLE_KEY=36092dcde868ae55a7502b92fd38ed28\n",
        "kaggle datasets download -d nopdev/real-and-fake-news-dataset\n",
        "mkdir news"
      ],
      "execution_count": null,
      "outputs": [
        {
          "output_type": "stream",
          "text": [
            "Requirement already satisfied: kaggle in /usr/local/lib/python3.6/dist-packages (1.5.9)\n",
            "Requirement already satisfied: certifi in /usr/local/lib/python3.6/dist-packages (from kaggle) (2020.11.8)\n",
            "Requirement already satisfied: tqdm in /usr/local/lib/python3.6/dist-packages (from kaggle) (4.41.1)\n",
            "Requirement already satisfied: python-dateutil in /usr/local/lib/python3.6/dist-packages (from kaggle) (2.8.1)\n",
            "Requirement already satisfied: slugify in /usr/local/lib/python3.6/dist-packages (from kaggle) (0.0.1)\n",
            "Requirement already satisfied: python-slugify in /usr/local/lib/python3.6/dist-packages (from kaggle) (4.0.1)\n",
            "Requirement already satisfied: requests in /usr/local/lib/python3.6/dist-packages (from kaggle) (2.23.0)\n",
            "Requirement already satisfied: six>=1.10 in /usr/local/lib/python3.6/dist-packages (from kaggle) (1.15.0)\n",
            "Requirement already satisfied: urllib3 in /usr/local/lib/python3.6/dist-packages (from kaggle) (1.24.3)\n",
            "Requirement already satisfied: text-unidecode>=1.3 in /usr/local/lib/python3.6/dist-packages (from python-slugify->kaggle) (1.3)\n",
            "Requirement already satisfied: idna<3,>=2.5 in /usr/local/lib/python3.6/dist-packages (from requests->kaggle) (2.10)\n",
            "Requirement already satisfied: chardet<4,>=3.0.2 in /usr/local/lib/python3.6/dist-packages (from requests->kaggle) (3.0.4)\n",
            "Downloading real-and-fake-news-dataset.zip to /content\n",
            "\n"
          ],
          "name": "stdout"
        },
        {
          "output_type": "stream",
          "text": [
            "\r  0%|          | 0.00/11.5M [00:00<?, ?B/s]\r 61%|######1   | 7.00M/11.5M [00:00<00:00, 53.1MB/s]\r 79%|#######8  | 9.00M/11.5M [00:00<00:00, 34.7MB/s]\r100%|##########| 11.5M/11.5M [00:00<00:00, 45.5MB/s]\n",
            "mkdir: cannot create directory ‘news’: File exists\n"
          ],
          "name": "stderr"
        }
      ]
    },
    {
      "cell_type": "code",
      "metadata": {
        "colab": {
          "base_uri": "https://localhost:8080/"
        },
        "id": "JzFXqyFuu-I5",
        "outputId": "dc5ea33e-25a0-4fbe-ba54-20ffd864c327"
      },
      "source": [
        "from zipfile import ZipFile\n",
        "import pandas as pd\n",
        "\n",
        "with ZipFile('real-and-fake-news-dataset.zip') as zf:\n",
        "    with zf.open('news.csv') as news_zf:\n",
        "        news = pd.read_csv(news_zf)\n",
        "\n",
        "news.drop('Unnamed: 0', axis=1, inplace=True)\n",
        "news['titletext'] = news['title'] + \" \" + news['text']\n",
        "print(news.head())\n",
        "\n",
        "from sklearn.model_selection import train_test_split\n",
        "X_train,X_test,y_train,y_test = train_test_split(news[['title','text','titletext']],news['label'],stratify=news['label'],test_size=0.3)\n",
        "X_test,X_valid,y_test,y_valid = train_test_split(X_test,y_test,stratify=y_test,test_size=0.5)\n",
        "\n",
        "print(f\"Train Size: {X_train.shape} {y_train.shape}\")\n",
        "print(f\"Test Size: {X_test.shape} {y_test.shape}\")\n",
        "print(f\"Valid Size: {X_valid.shape} {y_valid.shape}\")\n",
        "\n",
        "X_train['label'] = y_train.values\n",
        "X_test['label'] = y_test.values\n",
        "X_valid['label'] = y_valid.values\n",
        "\n",
        "X_train.to_csv(\"news/train.csv\")\n",
        "X_test.to_csv(\"news/test.csv\")\n",
        "X_valid.to_csv(\"news/valid.csv\")\n",
        "\n",
        "\n",
        "### DATA PROCESSING ###\n",
        "import pandas as pd\n",
        "from sklearn.preprocessing import LabelEncoder\n",
        "\n",
        "prefix = 'news/'\n",
        "\n",
        "train_df = pd.read_csv(prefix + 'train.csv')\n",
        "train_df.head()\n",
        "\n",
        "eval_df = pd.read_csv(prefix + 'test.csv')\n",
        "eval_df.head()\n",
        "\n",
        "le = LabelEncoder()\n",
        "le.fit(train_df['label'])\n",
        "\n",
        "#train_df[0] = (train_df[0] == 2).astype(int)\n",
        "#eval_df[0] = (eval_df[0] == 2).astype(int)\n",
        "\n",
        "train_df = pd.DataFrame({\n",
        "    'text': train_df['titletext'].replace(r'\\n', ' ', regex=True),\n",
        "    'label':le.transform(train_df['label'])\n",
        "})\n",
        "\n",
        "print(train_df.head())\n",
        "\n",
        "eval_df = pd.DataFrame({\n",
        "    'text': eval_df['titletext'].replace(r'\\n', ' ', regex=True),\n",
        "    'label':le.transform(eval_df['label'])\n",
        "})\n",
        "\n",
        "print(eval_df.head())"
      ],
      "execution_count": null,
      "outputs": [
        {
          "output_type": "stream",
          "text": [
            "                                               title  ...                                          titletext\n",
            "0                       You Can Smell Hillary’s Fear  ...  You Can Smell Hillary’s Fear Daniel Greenfield...\n",
            "1  Watch The Exact Moment Paul Ryan Committed Pol...  ...  Watch The Exact Moment Paul Ryan Committed Pol...\n",
            "2        Kerry to go to Paris in gesture of sympathy  ...  Kerry to go to Paris in gesture of sympathy U....\n",
            "3  Bernie supporters on Twitter erupt in anger ag...  ...  Bernie supporters on Twitter erupt in anger ag...\n",
            "4   The Battle of New York: Why This Primary Matters  ...  The Battle of New York: Why This Primary Matte...\n",
            "\n",
            "[5 rows x 4 columns]\n",
            "Train Size: (4434, 3) (4434,)\n",
            "Test Size: (950, 3) (950,)\n",
            "Valid Size: (951, 3) (951,)\n",
            "                                                text  label\n",
            "0  Jeb Bush 3.0 will crash and burn: Why his new ...      1\n",
            "1  Ashutosh attempts suicide at protest rally, re...      0\n",
            "2  Buzzfeed: Leaked Colin Powell Emails Rip 'Raci...      1\n",
            "3  PSVITA Japan News : Moe Moe World War 3 + Chao...      0\n",
            "4  White House to host counterterrorism summit Fe...      1\n",
            "                                                text  label\n",
            "0  Iran’s Zarif to hold talks with Russia’s Lavro...      0\n",
            "1  Clinton ‘Not Concerned’ About New Flap Over Cl...      1\n",
            "2  Obama's UN Ambassador: Cuba is Right About Our...      0\n",
            "3  State Department OK'd most Bill Clinton speech...      1\n",
            "4  The Republicans’ November fantasy: A glance at...      1\n"
          ],
          "name": "stdout"
        }
      ]
    },
    {
      "cell_type": "code",
      "metadata": {
        "colab": {
          "base_uri": "https://localhost:8080/"
        },
        "id": "prRQM8pDi8xI",
        "outputId": "2deff626-f7a6-4f3b-fe6a-cd32ffb10e3f"
      },
      "source": [
        "train_df.columns"
      ],
      "execution_count": null,
      "outputs": [
        {
          "output_type": "execute_result",
          "data": {
            "text/plain": [
              "Index(['text', 'label'], dtype='object')"
            ]
          },
          "metadata": {
            "tags": []
          },
          "execution_count": 11
        }
      ]
    },
    {
      "cell_type": "code",
      "metadata": {
        "id": "IuMOGwFui4it"
      },
      "source": [
        "DATA_COLUMN = 'text'\n",
        "LABEL_COLUMN = 'label'\n",
        "# label_list is the list of labels, i.e. True, False or 0, 1 or 'dog', 'cat'\n",
        "label_list = [0, 1]"
      ],
      "execution_count": null,
      "outputs": []
    },
    {
      "cell_type": "markdown",
      "metadata": {
        "id": "V399W0rqNJ-Z"
      },
      "source": [
        "#Data Preprocessing\n",
        "We'll need to transform our data into a format BERT understands. This involves two steps. First, we create  `InputExample`'s using the constructor provided in the BERT library.\n",
        "\n",
        "- `text_a` is the text we want to classify, which in this case, is the `Request` field in our Dataframe. \n",
        "- `text_b` is used if we're training a model to understand the relationship between sentences (i.e. is `text_b` a translation of `text_a`? Is `text_b` an answer to the question asked by `text_a`?). This doesn't apply to our task, so we can leave `text_b` blank.\n",
        "- `label` is the label for our example, i.e. True, False"
      ]
    },
    {
      "cell_type": "code",
      "metadata": {
        "id": "p9gEt5SmM6i6"
      },
      "source": [
        "# Use the InputExample class from BERT's run_classifier code to create examples from the data\n",
        "train_InputExamples = train_df.apply(lambda x: bert.run_classifier.InputExample(guid=None, # Globally unique ID for bookkeeping, unused in this example\n",
        "                                                                   text_a = x[DATA_COLUMN], \n",
        "                                                                   text_b = None, \n",
        "                                                                   label = x[LABEL_COLUMN]), axis = 1)\n",
        "\n",
        "test_InputExamples = eval_df.apply(lambda x: bert.run_classifier.InputExample(guid=None, \n",
        "                                                                   text_a = x[DATA_COLUMN], \n",
        "                                                                   text_b = None, \n",
        "                                                                   label = x[LABEL_COLUMN]), axis = 1)"
      ],
      "execution_count": null,
      "outputs": []
    },
    {
      "cell_type": "markdown",
      "metadata": {
        "id": "SCZWZtKxObjh"
      },
      "source": [
        "Next, we need to preprocess our data so that it matches the data BERT was trained on. For this, we'll need to do a couple of things (but don't worry--this is also included in the Python library):\n",
        "\n",
        "\n",
        "1. Lowercase our text (if we're using a BERT lowercase model)\n",
        "2. Tokenize it (i.e. \"sally says hi\" -> [\"sally\", \"says\", \"hi\"])\n",
        "3. Break words into WordPieces (i.e. \"calling\" -> [\"call\", \"##ing\"])\n",
        "4. Map our words to indexes using a vocab file that BERT provides\n",
        "5. Add special \"CLS\" and \"SEP\" tokens (see the [readme](https://github.com/google-research/bert))\n",
        "6. Append \"index\" and \"segment\" tokens to each input (see the [BERT paper](https://arxiv.org/pdf/1810.04805.pdf))\n",
        "\n",
        "Happily, we don't have to worry about most of these details.\n",
        "\n",
        "\n"
      ]
    },
    {
      "cell_type": "markdown",
      "metadata": {
        "id": "qMWiDtpyQSoU"
      },
      "source": [
        "To start, we'll need to load a vocabulary file and lowercasing information directly from the BERT tf hub module:"
      ]
    },
    {
      "cell_type": "code",
      "metadata": {
        "colab": {
          "base_uri": "https://localhost:8080/"
        },
        "id": "IhJSe0QHNG7U",
        "outputId": "30227c03-f959-4099-d5cc-3a8c7e90e02a"
      },
      "source": [
        "# This is a path to an uncased (all lowercase) version of BERT\n",
        "BERT_MODEL_HUB = \"https://tfhub.dev/google/bert_uncased_L-12_H-768_A-12/1\"\n",
        "\n",
        "def create_tokenizer_from_hub_module():\n",
        "  \"\"\"Get the vocab file and casing info from the Hub module.\"\"\"\n",
        "  with tf.Graph().as_default():\n",
        "    bert_module = hub.Module(BERT_MODEL_HUB)\n",
        "    tokenization_info = bert_module(signature=\"tokenization_info\", as_dict=True)\n",
        "    with tf.Session() as sess:\n",
        "      vocab_file, do_lower_case = sess.run([tokenization_info[\"vocab_file\"],\n",
        "                                            tokenization_info[\"do_lower_case\"]])\n",
        "      \n",
        "  return bert.tokenization.FullTokenizer(\n",
        "      vocab_file=vocab_file, do_lower_case=do_lower_case)\n",
        "\n",
        "tokenizer = create_tokenizer_from_hub_module()"
      ],
      "execution_count": null,
      "outputs": [
        {
          "output_type": "stream",
          "text": [
            "INFO:tensorflow:Saver not created because there are no variables in the graph to restore\n"
          ],
          "name": "stdout"
        },
        {
          "output_type": "stream",
          "text": [
            "INFO:tensorflow:Saver not created because there are no variables in the graph to restore\n"
          ],
          "name": "stderr"
        },
        {
          "output_type": "stream",
          "text": [
            "WARNING:tensorflow:From /usr/local/lib/python3.6/dist-packages/bert/tokenization.py:125: The name tf.gfile.GFile is deprecated. Please use tf.io.gfile.GFile instead.\n",
            "\n"
          ],
          "name": "stdout"
        },
        {
          "output_type": "stream",
          "text": [
            "WARNING:tensorflow:From /usr/local/lib/python3.6/dist-packages/bert/tokenization.py:125: The name tf.gfile.GFile is deprecated. Please use tf.io.gfile.GFile instead.\n",
            "\n"
          ],
          "name": "stderr"
        }
      ]
    },
    {
      "cell_type": "markdown",
      "metadata": {
        "id": "z4oFkhpZBDKm"
      },
      "source": [
        "Great--we just learned that the BERT model we're using expects lowercase data (that's what stored in tokenization_info[\"do_lower_case\"]) and we also loaded BERT's vocab file. We also created a tokenizer, which breaks words into word pieces:"
      ]
    },
    {
      "cell_type": "code",
      "metadata": {
        "colab": {
          "base_uri": "https://localhost:8080/"
        },
        "id": "dsBo6RCtQmwx",
        "outputId": "edcf119e-774c-4a40-84f2-d68c21d018a4"
      },
      "source": [
        "tokenizer.tokenize(\"This here's an example of using the BERT tokenizer\")"
      ],
      "execution_count": null,
      "outputs": [
        {
          "output_type": "execute_result",
          "data": {
            "text/plain": [
              "['this',\n",
              " 'here',\n",
              " \"'\",\n",
              " 's',\n",
              " 'an',\n",
              " 'example',\n",
              " 'of',\n",
              " 'using',\n",
              " 'the',\n",
              " 'bert',\n",
              " 'token',\n",
              " '##izer']"
            ]
          },
          "metadata": {
            "tags": []
          },
          "execution_count": 15
        }
      ]
    },
    {
      "cell_type": "markdown",
      "metadata": {
        "id": "0OEzfFIt6GIc"
      },
      "source": [
        "Using our tokenizer, we'll call `run_classifier.convert_examples_to_features` on our InputExamples to convert them into features BERT understands."
      ]
    },
    {
      "cell_type": "code",
      "metadata": {
        "colab": {
          "base_uri": "https://localhost:8080/"
        },
        "id": "LL5W8gEGRTAf",
        "outputId": "b911f4e1-dada-44de-cbd7-167fde449855"
      },
      "source": [
        "# We'll set sequences to be at most 128 tokens long.\n",
        "MAX_SEQ_LENGTH = 128\n",
        "# Convert our train and test features to InputFeatures that BERT understands.\n",
        "train_features = bert.run_classifier.convert_examples_to_features(train_InputExamples, label_list, MAX_SEQ_LENGTH, tokenizer)\n",
        "test_features = bert.run_classifier.convert_examples_to_features(test_InputExamples, label_list, MAX_SEQ_LENGTH, tokenizer)"
      ],
      "execution_count": null,
      "outputs": [
        {
          "output_type": "stream",
          "text": [
            "WARNING:tensorflow:From /usr/local/lib/python3.6/dist-packages/bert/run_classifier.py:774: The name tf.logging.info is deprecated. Please use tf.compat.v1.logging.info instead.\n",
            "\n"
          ],
          "name": "stdout"
        },
        {
          "output_type": "stream",
          "text": [
            "WARNING:tensorflow:From /usr/local/lib/python3.6/dist-packages/bert/run_classifier.py:774: The name tf.logging.info is deprecated. Please use tf.compat.v1.logging.info instead.\n",
            "\n"
          ],
          "name": "stderr"
        },
        {
          "output_type": "stream",
          "text": [
            "INFO:tensorflow:Writing example 0 of 4434\n"
          ],
          "name": "stdout"
        },
        {
          "output_type": "stream",
          "text": [
            "INFO:tensorflow:Writing example 0 of 4434\n"
          ],
          "name": "stderr"
        },
        {
          "output_type": "stream",
          "text": [
            "INFO:tensorflow:*** Example ***\n"
          ],
          "name": "stdout"
        },
        {
          "output_type": "stream",
          "text": [
            "INFO:tensorflow:*** Example ***\n"
          ],
          "name": "stderr"
        },
        {
          "output_type": "stream",
          "text": [
            "INFO:tensorflow:guid: None\n"
          ],
          "name": "stdout"
        },
        {
          "output_type": "stream",
          "text": [
            "INFO:tensorflow:guid: None\n"
          ],
          "name": "stderr"
        },
        {
          "output_type": "stream",
          "text": [
            "INFO:tensorflow:tokens: [CLS] je ##b bush 3 . 0 will crash and burn : why his new ( new ) strategy is almost certainly doomed it seems like every few weeks we get a new explanation for why je ##b bush should continue running president . as the summer dragged and donald trump shot to the top of the national polls while je ##b ’ s support began to soft ##en , je ##b ’ s plan was to use the debates to offer himself as a serious alternative to trump , someone who could fix problems and get things done . he did that , and his numbers kept dropping . but not to worry , je ##b said as we transitioned to autumn , things will turn [SEP]\n"
          ],
          "name": "stdout"
        },
        {
          "output_type": "stream",
          "text": [
            "INFO:tensorflow:tokens: [CLS] je ##b bush 3 . 0 will crash and burn : why his new ( new ) strategy is almost certainly doomed it seems like every few weeks we get a new explanation for why je ##b bush should continue running president . as the summer dragged and donald trump shot to the top of the national polls while je ##b ’ s support began to soft ##en , je ##b ’ s plan was to use the debates to offer himself as a serious alternative to trump , someone who could fix problems and get things done . he did that , and his numbers kept dropping . but not to worry , je ##b said as we transitioned to autumn , things will turn [SEP]\n"
          ],
          "name": "stderr"
        },
        {
          "output_type": "stream",
          "text": [
            "INFO:tensorflow:input_ids: 101 15333 2497 5747 1017 1012 1014 2097 5823 1998 6402 1024 2339 2010 2047 1006 2047 1007 5656 2003 2471 5121 20076 2009 3849 2066 2296 2261 3134 2057 2131 1037 2047 7526 2005 2339 15333 2497 5747 2323 3613 2770 2343 1012 2004 1996 2621 7944 1998 6221 8398 2915 2000 1996 2327 1997 1996 2120 14592 2096 15333 2497 1521 1055 2490 2211 2000 3730 2368 1010 15333 2497 1521 1055 2933 2001 2000 2224 1996 14379 2000 3749 2370 2004 1037 3809 4522 2000 8398 1010 2619 2040 2071 8081 3471 1998 2131 2477 2589 1012 2002 2106 2008 1010 1998 2010 3616 2921 7510 1012 2021 2025 2000 4737 1010 15333 2497 2056 2004 2057 23946 2000 7114 1010 2477 2097 2735 102\n"
          ],
          "name": "stdout"
        },
        {
          "output_type": "stream",
          "text": [
            "INFO:tensorflow:input_ids: 101 15333 2497 5747 1017 1012 1014 2097 5823 1998 6402 1024 2339 2010 2047 1006 2047 1007 5656 2003 2471 5121 20076 2009 3849 2066 2296 2261 3134 2057 2131 1037 2047 7526 2005 2339 15333 2497 5747 2323 3613 2770 2343 1012 2004 1996 2621 7944 1998 6221 8398 2915 2000 1996 2327 1997 1996 2120 14592 2096 15333 2497 1521 1055 2490 2211 2000 3730 2368 1010 15333 2497 1521 1055 2933 2001 2000 2224 1996 14379 2000 3749 2370 2004 1037 3809 4522 2000 8398 1010 2619 2040 2071 8081 3471 1998 2131 2477 2589 1012 2002 2106 2008 1010 1998 2010 3616 2921 7510 1012 2021 2025 2000 4737 1010 15333 2497 2056 2004 2057 23946 2000 7114 1010 2477 2097 2735 102\n"
          ],
          "name": "stderr"
        },
        {
          "output_type": "stream",
          "text": [
            "INFO:tensorflow:input_mask: 1 1 1 1 1 1 1 1 1 1 1 1 1 1 1 1 1 1 1 1 1 1 1 1 1 1 1 1 1 1 1 1 1 1 1 1 1 1 1 1 1 1 1 1 1 1 1 1 1 1 1 1 1 1 1 1 1 1 1 1 1 1 1 1 1 1 1 1 1 1 1 1 1 1 1 1 1 1 1 1 1 1 1 1 1 1 1 1 1 1 1 1 1 1 1 1 1 1 1 1 1 1 1 1 1 1 1 1 1 1 1 1 1 1 1 1 1 1 1 1 1 1 1 1 1 1 1 1\n"
          ],
          "name": "stdout"
        },
        {
          "output_type": "stream",
          "text": [
            "INFO:tensorflow:input_mask: 1 1 1 1 1 1 1 1 1 1 1 1 1 1 1 1 1 1 1 1 1 1 1 1 1 1 1 1 1 1 1 1 1 1 1 1 1 1 1 1 1 1 1 1 1 1 1 1 1 1 1 1 1 1 1 1 1 1 1 1 1 1 1 1 1 1 1 1 1 1 1 1 1 1 1 1 1 1 1 1 1 1 1 1 1 1 1 1 1 1 1 1 1 1 1 1 1 1 1 1 1 1 1 1 1 1 1 1 1 1 1 1 1 1 1 1 1 1 1 1 1 1 1 1 1 1 1 1\n"
          ],
          "name": "stderr"
        },
        {
          "output_type": "stream",
          "text": [
            "INFO:tensorflow:segment_ids: 0 0 0 0 0 0 0 0 0 0 0 0 0 0 0 0 0 0 0 0 0 0 0 0 0 0 0 0 0 0 0 0 0 0 0 0 0 0 0 0 0 0 0 0 0 0 0 0 0 0 0 0 0 0 0 0 0 0 0 0 0 0 0 0 0 0 0 0 0 0 0 0 0 0 0 0 0 0 0 0 0 0 0 0 0 0 0 0 0 0 0 0 0 0 0 0 0 0 0 0 0 0 0 0 0 0 0 0 0 0 0 0 0 0 0 0 0 0 0 0 0 0 0 0 0 0 0 0\n"
          ],
          "name": "stdout"
        },
        {
          "output_type": "stream",
          "text": [
            "INFO:tensorflow:segment_ids: 0 0 0 0 0 0 0 0 0 0 0 0 0 0 0 0 0 0 0 0 0 0 0 0 0 0 0 0 0 0 0 0 0 0 0 0 0 0 0 0 0 0 0 0 0 0 0 0 0 0 0 0 0 0 0 0 0 0 0 0 0 0 0 0 0 0 0 0 0 0 0 0 0 0 0 0 0 0 0 0 0 0 0 0 0 0 0 0 0 0 0 0 0 0 0 0 0 0 0 0 0 0 0 0 0 0 0 0 0 0 0 0 0 0 0 0 0 0 0 0 0 0 0 0 0 0 0 0\n"
          ],
          "name": "stderr"
        },
        {
          "output_type": "stream",
          "text": [
            "INFO:tensorflow:label: 1 (id = 1)\n"
          ],
          "name": "stdout"
        },
        {
          "output_type": "stream",
          "text": [
            "INFO:tensorflow:label: 1 (id = 1)\n"
          ],
          "name": "stderr"
        },
        {
          "output_type": "stream",
          "text": [
            "INFO:tensorflow:*** Example ***\n"
          ],
          "name": "stdout"
        },
        {
          "output_type": "stream",
          "text": [
            "INFO:tensorflow:*** Example ***\n"
          ],
          "name": "stderr"
        },
        {
          "output_type": "stream",
          "text": [
            "INFO:tensorflow:guid: None\n"
          ],
          "name": "stdout"
        },
        {
          "output_type": "stream",
          "text": [
            "INFO:tensorflow:guid: None\n"
          ],
          "name": "stderr"
        },
        {
          "output_type": "stream",
          "text": [
            "INFO:tensorflow:tokens: [CLS] ash ##uto ##sh attempts suicide at protest rally , rescued while proof ##rea ##ding suicide note ash ##uto ##sh attempts suicide at protest rally , rescued while proof ##rea ##ding suicide note posted on t ##wee ##t ( image via shining ##ind ##ian ##ew ##s . com ) delhi police has foil ##ed a suicide attempt by aa ##m aa ##dm ##i party spokesperson ash ##uto ##sh during a protest rally organized by his party . he was app ##re ##hend ##ed when he and his team were proof ##rea ##ding his suicide note before attempting suicide . he was later sent to 14 days judicial custody where he is currently undergoing a ref ##resh ##er course in grammar and spelling . the incident happened yesterday [SEP]\n"
          ],
          "name": "stdout"
        },
        {
          "output_type": "stream",
          "text": [
            "INFO:tensorflow:tokens: [CLS] ash ##uto ##sh attempts suicide at protest rally , rescued while proof ##rea ##ding suicide note ash ##uto ##sh attempts suicide at protest rally , rescued while proof ##rea ##ding suicide note posted on t ##wee ##t ( image via shining ##ind ##ian ##ew ##s . com ) delhi police has foil ##ed a suicide attempt by aa ##m aa ##dm ##i party spokesperson ash ##uto ##sh during a protest rally organized by his party . he was app ##re ##hend ##ed when he and his team were proof ##rea ##ding his suicide note before attempting suicide . he was later sent to 14 days judicial custody where he is currently undergoing a ref ##resh ##er course in grammar and spelling . the incident happened yesterday [SEP]\n"
          ],
          "name": "stderr"
        },
        {
          "output_type": "stream",
          "text": [
            "INFO:tensorflow:input_ids: 101 6683 16161 4095 4740 5920 2012 6186 8320 1010 10148 2096 6947 16416 4667 5920 3602 6683 16161 4095 4740 5920 2012 6186 8320 1010 10148 2096 6947 16416 4667 5920 3602 6866 2006 1056 28394 2102 1006 3746 3081 9716 22254 2937 7974 2015 1012 4012 1007 6768 2610 2038 17910 2098 1037 5920 3535 2011 9779 2213 9779 22117 2072 2283 15974 6683 16161 4095 2076 1037 6186 8320 4114 2011 2010 2283 1012 2002 2001 10439 2890 22342 2098 2043 2002 1998 2010 2136 2020 6947 16416 4667 2010 5920 3602 2077 7161 5920 1012 2002 2001 2101 2741 2000 2403 2420 8268 9968 2073 2002 2003 2747 14996 1037 25416 21898 2121 2607 1999 8035 1998 11379 1012 1996 5043 3047 7483 102\n"
          ],
          "name": "stdout"
        },
        {
          "output_type": "stream",
          "text": [
            "INFO:tensorflow:input_ids: 101 6683 16161 4095 4740 5920 2012 6186 8320 1010 10148 2096 6947 16416 4667 5920 3602 6683 16161 4095 4740 5920 2012 6186 8320 1010 10148 2096 6947 16416 4667 5920 3602 6866 2006 1056 28394 2102 1006 3746 3081 9716 22254 2937 7974 2015 1012 4012 1007 6768 2610 2038 17910 2098 1037 5920 3535 2011 9779 2213 9779 22117 2072 2283 15974 6683 16161 4095 2076 1037 6186 8320 4114 2011 2010 2283 1012 2002 2001 10439 2890 22342 2098 2043 2002 1998 2010 2136 2020 6947 16416 4667 2010 5920 3602 2077 7161 5920 1012 2002 2001 2101 2741 2000 2403 2420 8268 9968 2073 2002 2003 2747 14996 1037 25416 21898 2121 2607 1999 8035 1998 11379 1012 1996 5043 3047 7483 102\n"
          ],
          "name": "stderr"
        },
        {
          "output_type": "stream",
          "text": [
            "INFO:tensorflow:input_mask: 1 1 1 1 1 1 1 1 1 1 1 1 1 1 1 1 1 1 1 1 1 1 1 1 1 1 1 1 1 1 1 1 1 1 1 1 1 1 1 1 1 1 1 1 1 1 1 1 1 1 1 1 1 1 1 1 1 1 1 1 1 1 1 1 1 1 1 1 1 1 1 1 1 1 1 1 1 1 1 1 1 1 1 1 1 1 1 1 1 1 1 1 1 1 1 1 1 1 1 1 1 1 1 1 1 1 1 1 1 1 1 1 1 1 1 1 1 1 1 1 1 1 1 1 1 1 1 1\n"
          ],
          "name": "stdout"
        },
        {
          "output_type": "stream",
          "text": [
            "INFO:tensorflow:input_mask: 1 1 1 1 1 1 1 1 1 1 1 1 1 1 1 1 1 1 1 1 1 1 1 1 1 1 1 1 1 1 1 1 1 1 1 1 1 1 1 1 1 1 1 1 1 1 1 1 1 1 1 1 1 1 1 1 1 1 1 1 1 1 1 1 1 1 1 1 1 1 1 1 1 1 1 1 1 1 1 1 1 1 1 1 1 1 1 1 1 1 1 1 1 1 1 1 1 1 1 1 1 1 1 1 1 1 1 1 1 1 1 1 1 1 1 1 1 1 1 1 1 1 1 1 1 1 1 1\n"
          ],
          "name": "stderr"
        },
        {
          "output_type": "stream",
          "text": [
            "INFO:tensorflow:segment_ids: 0 0 0 0 0 0 0 0 0 0 0 0 0 0 0 0 0 0 0 0 0 0 0 0 0 0 0 0 0 0 0 0 0 0 0 0 0 0 0 0 0 0 0 0 0 0 0 0 0 0 0 0 0 0 0 0 0 0 0 0 0 0 0 0 0 0 0 0 0 0 0 0 0 0 0 0 0 0 0 0 0 0 0 0 0 0 0 0 0 0 0 0 0 0 0 0 0 0 0 0 0 0 0 0 0 0 0 0 0 0 0 0 0 0 0 0 0 0 0 0 0 0 0 0 0 0 0 0\n"
          ],
          "name": "stdout"
        },
        {
          "output_type": "stream",
          "text": [
            "INFO:tensorflow:segment_ids: 0 0 0 0 0 0 0 0 0 0 0 0 0 0 0 0 0 0 0 0 0 0 0 0 0 0 0 0 0 0 0 0 0 0 0 0 0 0 0 0 0 0 0 0 0 0 0 0 0 0 0 0 0 0 0 0 0 0 0 0 0 0 0 0 0 0 0 0 0 0 0 0 0 0 0 0 0 0 0 0 0 0 0 0 0 0 0 0 0 0 0 0 0 0 0 0 0 0 0 0 0 0 0 0 0 0 0 0 0 0 0 0 0 0 0 0 0 0 0 0 0 0 0 0 0 0 0 0\n"
          ],
          "name": "stderr"
        },
        {
          "output_type": "stream",
          "text": [
            "INFO:tensorflow:label: 0 (id = 0)\n"
          ],
          "name": "stdout"
        },
        {
          "output_type": "stream",
          "text": [
            "INFO:tensorflow:label: 0 (id = 0)\n"
          ],
          "name": "stderr"
        },
        {
          "output_type": "stream",
          "text": [
            "INFO:tensorflow:*** Example ***\n"
          ],
          "name": "stdout"
        },
        {
          "output_type": "stream",
          "text": [
            "INFO:tensorflow:*** Example ***\n"
          ],
          "name": "stderr"
        },
        {
          "output_type": "stream",
          "text": [
            "INFO:tensorflow:guid: None\n"
          ],
          "name": "stdout"
        },
        {
          "output_type": "stream",
          "text": [
            "INFO:tensorflow:guid: None\n"
          ],
          "name": "stderr"
        },
        {
          "output_type": "stream",
          "text": [
            "INFO:tensorflow:tokens: [CLS] buzz ##fe ##ed : leaked colin powell emails rip ' racist ' trump as ' national disgrace ' former secretary of state and retired four - star gen . colin powell , who served under three republican presidents , called donald trump \" a national disgrace \" and an \" international par ##iah \" in a personal email , buzz ##fe ##ed news reported . according to the outlet , the june 17 email to emily miller , a journalist who was once powell ' s aide , took steel ##y aim at the go ##p nominee , saying he \" is in the process of destroying himself , no need for dem ##s to attack him \" – and at speaker of the house paul [SEP]\n"
          ],
          "name": "stdout"
        },
        {
          "output_type": "stream",
          "text": [
            "INFO:tensorflow:tokens: [CLS] buzz ##fe ##ed : leaked colin powell emails rip ' racist ' trump as ' national disgrace ' former secretary of state and retired four - star gen . colin powell , who served under three republican presidents , called donald trump \" a national disgrace \" and an \" international par ##iah \" in a personal email , buzz ##fe ##ed news reported . according to the outlet , the june 17 email to emily miller , a journalist who was once powell ' s aide , took steel ##y aim at the go ##p nominee , saying he \" is in the process of destroying himself , no need for dem ##s to attack him \" – and at speaker of the house paul [SEP]\n"
          ],
          "name": "stderr"
        },
        {
          "output_type": "stream",
          "text": [
            "INFO:tensorflow:input_ids: 101 12610 7959 2098 1024 15748 6972 8997 22028 10973 1005 16939 1005 8398 2004 1005 2120 29591 1005 2280 3187 1997 2110 1998 3394 2176 1011 2732 8991 1012 6972 8997 1010 2040 2366 2104 2093 3951 11274 1010 2170 6221 8398 1000 1037 2120 29591 1000 1998 2019 1000 2248 11968 12215 1000 1999 1037 3167 10373 1010 12610 7959 2098 2739 2988 1012 2429 2000 1996 13307 1010 1996 2238 2459 10373 2000 6253 4679 1010 1037 4988 2040 2001 2320 8997 1005 1055 14895 1010 2165 3886 2100 6614 2012 1996 2175 2361 9773 1010 3038 2002 1000 2003 1999 1996 2832 1997 9846 2370 1010 2053 2342 2005 17183 2015 2000 2886 2032 1000 1516 1998 2012 5882 1997 1996 2160 2703 102\n"
          ],
          "name": "stdout"
        },
        {
          "output_type": "stream",
          "text": [
            "INFO:tensorflow:input_ids: 101 12610 7959 2098 1024 15748 6972 8997 22028 10973 1005 16939 1005 8398 2004 1005 2120 29591 1005 2280 3187 1997 2110 1998 3394 2176 1011 2732 8991 1012 6972 8997 1010 2040 2366 2104 2093 3951 11274 1010 2170 6221 8398 1000 1037 2120 29591 1000 1998 2019 1000 2248 11968 12215 1000 1999 1037 3167 10373 1010 12610 7959 2098 2739 2988 1012 2429 2000 1996 13307 1010 1996 2238 2459 10373 2000 6253 4679 1010 1037 4988 2040 2001 2320 8997 1005 1055 14895 1010 2165 3886 2100 6614 2012 1996 2175 2361 9773 1010 3038 2002 1000 2003 1999 1996 2832 1997 9846 2370 1010 2053 2342 2005 17183 2015 2000 2886 2032 1000 1516 1998 2012 5882 1997 1996 2160 2703 102\n"
          ],
          "name": "stderr"
        },
        {
          "output_type": "stream",
          "text": [
            "INFO:tensorflow:input_mask: 1 1 1 1 1 1 1 1 1 1 1 1 1 1 1 1 1 1 1 1 1 1 1 1 1 1 1 1 1 1 1 1 1 1 1 1 1 1 1 1 1 1 1 1 1 1 1 1 1 1 1 1 1 1 1 1 1 1 1 1 1 1 1 1 1 1 1 1 1 1 1 1 1 1 1 1 1 1 1 1 1 1 1 1 1 1 1 1 1 1 1 1 1 1 1 1 1 1 1 1 1 1 1 1 1 1 1 1 1 1 1 1 1 1 1 1 1 1 1 1 1 1 1 1 1 1 1 1\n"
          ],
          "name": "stdout"
        },
        {
          "output_type": "stream",
          "text": [
            "INFO:tensorflow:input_mask: 1 1 1 1 1 1 1 1 1 1 1 1 1 1 1 1 1 1 1 1 1 1 1 1 1 1 1 1 1 1 1 1 1 1 1 1 1 1 1 1 1 1 1 1 1 1 1 1 1 1 1 1 1 1 1 1 1 1 1 1 1 1 1 1 1 1 1 1 1 1 1 1 1 1 1 1 1 1 1 1 1 1 1 1 1 1 1 1 1 1 1 1 1 1 1 1 1 1 1 1 1 1 1 1 1 1 1 1 1 1 1 1 1 1 1 1 1 1 1 1 1 1 1 1 1 1 1 1\n"
          ],
          "name": "stderr"
        },
        {
          "output_type": "stream",
          "text": [
            "INFO:tensorflow:segment_ids: 0 0 0 0 0 0 0 0 0 0 0 0 0 0 0 0 0 0 0 0 0 0 0 0 0 0 0 0 0 0 0 0 0 0 0 0 0 0 0 0 0 0 0 0 0 0 0 0 0 0 0 0 0 0 0 0 0 0 0 0 0 0 0 0 0 0 0 0 0 0 0 0 0 0 0 0 0 0 0 0 0 0 0 0 0 0 0 0 0 0 0 0 0 0 0 0 0 0 0 0 0 0 0 0 0 0 0 0 0 0 0 0 0 0 0 0 0 0 0 0 0 0 0 0 0 0 0 0\n"
          ],
          "name": "stdout"
        },
        {
          "output_type": "stream",
          "text": [
            "INFO:tensorflow:segment_ids: 0 0 0 0 0 0 0 0 0 0 0 0 0 0 0 0 0 0 0 0 0 0 0 0 0 0 0 0 0 0 0 0 0 0 0 0 0 0 0 0 0 0 0 0 0 0 0 0 0 0 0 0 0 0 0 0 0 0 0 0 0 0 0 0 0 0 0 0 0 0 0 0 0 0 0 0 0 0 0 0 0 0 0 0 0 0 0 0 0 0 0 0 0 0 0 0 0 0 0 0 0 0 0 0 0 0 0 0 0 0 0 0 0 0 0 0 0 0 0 0 0 0 0 0 0 0 0 0\n"
          ],
          "name": "stderr"
        },
        {
          "output_type": "stream",
          "text": [
            "INFO:tensorflow:label: 1 (id = 1)\n"
          ],
          "name": "stdout"
        },
        {
          "output_type": "stream",
          "text": [
            "INFO:tensorflow:label: 1 (id = 1)\n"
          ],
          "name": "stderr"
        },
        {
          "output_type": "stream",
          "text": [
            "INFO:tensorflow:*** Example ***\n"
          ],
          "name": "stdout"
        },
        {
          "output_type": "stream",
          "text": [
            "INFO:tensorflow:*** Example ***\n"
          ],
          "name": "stderr"
        },
        {
          "output_type": "stream",
          "text": [
            "INFO:tensorflow:guid: None\n"
          ],
          "name": "stdout"
        },
        {
          "output_type": "stream",
          "text": [
            "INFO:tensorflow:guid: None\n"
          ],
          "name": "stderr"
        },
        {
          "output_type": "stream",
          "text": [
            "INFO:tensorflow:tokens: [CLS] ps ##vita japan news : moe moe world war 3 + chaos child love chu chu + mu ##so ##u stars can ##t wait for mu ##so ##u star hopefully run well in portable . cause i wanna it for the vita . [SEP]\n"
          ],
          "name": "stdout"
        },
        {
          "output_type": "stream",
          "text": [
            "INFO:tensorflow:tokens: [CLS] ps ##vita japan news : moe moe world war 3 + chaos child love chu chu + mu ##so ##u stars can ##t wait for mu ##so ##u star hopefully run well in portable . cause i wanna it for the vita . [SEP]\n"
          ],
          "name": "stderr"
        },
        {
          "output_type": "stream",
          "text": [
            "INFO:tensorflow:input_ids: 101 8827 28403 2900 2739 1024 22078 22078 2088 2162 1017 1009 8488 2775 2293 14684 14684 1009 14163 6499 2226 3340 2064 2102 3524 2005 14163 6499 2226 2732 11504 2448 2092 1999 12109 1012 3426 1045 10587 2009 2005 1996 19300 1012 102 0 0 0 0 0 0 0 0 0 0 0 0 0 0 0 0 0 0 0 0 0 0 0 0 0 0 0 0 0 0 0 0 0 0 0 0 0 0 0 0 0 0 0 0 0 0 0 0 0 0 0 0 0 0 0 0 0 0 0 0 0 0 0 0 0 0 0 0 0 0 0 0 0 0 0 0 0 0 0 0 0 0 0\n"
          ],
          "name": "stdout"
        },
        {
          "output_type": "stream",
          "text": [
            "INFO:tensorflow:input_ids: 101 8827 28403 2900 2739 1024 22078 22078 2088 2162 1017 1009 8488 2775 2293 14684 14684 1009 14163 6499 2226 3340 2064 2102 3524 2005 14163 6499 2226 2732 11504 2448 2092 1999 12109 1012 3426 1045 10587 2009 2005 1996 19300 1012 102 0 0 0 0 0 0 0 0 0 0 0 0 0 0 0 0 0 0 0 0 0 0 0 0 0 0 0 0 0 0 0 0 0 0 0 0 0 0 0 0 0 0 0 0 0 0 0 0 0 0 0 0 0 0 0 0 0 0 0 0 0 0 0 0 0 0 0 0 0 0 0 0 0 0 0 0 0 0 0 0 0 0 0\n"
          ],
          "name": "stderr"
        },
        {
          "output_type": "stream",
          "text": [
            "INFO:tensorflow:input_mask: 1 1 1 1 1 1 1 1 1 1 1 1 1 1 1 1 1 1 1 1 1 1 1 1 1 1 1 1 1 1 1 1 1 1 1 1 1 1 1 1 1 1 1 1 1 0 0 0 0 0 0 0 0 0 0 0 0 0 0 0 0 0 0 0 0 0 0 0 0 0 0 0 0 0 0 0 0 0 0 0 0 0 0 0 0 0 0 0 0 0 0 0 0 0 0 0 0 0 0 0 0 0 0 0 0 0 0 0 0 0 0 0 0 0 0 0 0 0 0 0 0 0 0 0 0 0 0 0\n"
          ],
          "name": "stdout"
        },
        {
          "output_type": "stream",
          "text": [
            "INFO:tensorflow:input_mask: 1 1 1 1 1 1 1 1 1 1 1 1 1 1 1 1 1 1 1 1 1 1 1 1 1 1 1 1 1 1 1 1 1 1 1 1 1 1 1 1 1 1 1 1 1 0 0 0 0 0 0 0 0 0 0 0 0 0 0 0 0 0 0 0 0 0 0 0 0 0 0 0 0 0 0 0 0 0 0 0 0 0 0 0 0 0 0 0 0 0 0 0 0 0 0 0 0 0 0 0 0 0 0 0 0 0 0 0 0 0 0 0 0 0 0 0 0 0 0 0 0 0 0 0 0 0 0 0\n"
          ],
          "name": "stderr"
        },
        {
          "output_type": "stream",
          "text": [
            "INFO:tensorflow:segment_ids: 0 0 0 0 0 0 0 0 0 0 0 0 0 0 0 0 0 0 0 0 0 0 0 0 0 0 0 0 0 0 0 0 0 0 0 0 0 0 0 0 0 0 0 0 0 0 0 0 0 0 0 0 0 0 0 0 0 0 0 0 0 0 0 0 0 0 0 0 0 0 0 0 0 0 0 0 0 0 0 0 0 0 0 0 0 0 0 0 0 0 0 0 0 0 0 0 0 0 0 0 0 0 0 0 0 0 0 0 0 0 0 0 0 0 0 0 0 0 0 0 0 0 0 0 0 0 0 0\n"
          ],
          "name": "stdout"
        },
        {
          "output_type": "stream",
          "text": [
            "INFO:tensorflow:segment_ids: 0 0 0 0 0 0 0 0 0 0 0 0 0 0 0 0 0 0 0 0 0 0 0 0 0 0 0 0 0 0 0 0 0 0 0 0 0 0 0 0 0 0 0 0 0 0 0 0 0 0 0 0 0 0 0 0 0 0 0 0 0 0 0 0 0 0 0 0 0 0 0 0 0 0 0 0 0 0 0 0 0 0 0 0 0 0 0 0 0 0 0 0 0 0 0 0 0 0 0 0 0 0 0 0 0 0 0 0 0 0 0 0 0 0 0 0 0 0 0 0 0 0 0 0 0 0 0 0\n"
          ],
          "name": "stderr"
        },
        {
          "output_type": "stream",
          "text": [
            "INFO:tensorflow:label: 0 (id = 0)\n"
          ],
          "name": "stdout"
        },
        {
          "output_type": "stream",
          "text": [
            "INFO:tensorflow:label: 0 (id = 0)\n"
          ],
          "name": "stderr"
        },
        {
          "output_type": "stream",
          "text": [
            "INFO:tensorflow:*** Example ***\n"
          ],
          "name": "stdout"
        },
        {
          "output_type": "stream",
          "text": [
            "INFO:tensorflow:*** Example ***\n"
          ],
          "name": "stderr"
        },
        {
          "output_type": "stream",
          "text": [
            "INFO:tensorflow:guid: None\n"
          ],
          "name": "stdout"
        },
        {
          "output_type": "stream",
          "text": [
            "INFO:tensorflow:guid: None\n"
          ],
          "name": "stderr"
        },
        {
          "output_type": "stream",
          "text": [
            "INFO:tensorflow:tokens: [CLS] white house to host counter ##ter ##ror ##ism summit feb . 18 in the way of recent attacks abroad , the white house will host a summit on counter ##ing violent ex ##tre ##mism feb . 18 that will highlight how local committees in united states have worked to curb ex ##tre ##mism before violence takes place . the meeting aims to show how to prevent attacks by those prone to ex ##tre ##mism \" in the united states and abroad to commit acts of violence , efforts made even more imperative in light of recent , tragic attacks in ottawa , sydney , and paris , \" according to a statement released by the white house press secretary . officials from boston , los angeles [SEP]\n"
          ],
          "name": "stdout"
        },
        {
          "output_type": "stream",
          "text": [
            "INFO:tensorflow:tokens: [CLS] white house to host counter ##ter ##ror ##ism summit feb . 18 in the way of recent attacks abroad , the white house will host a summit on counter ##ing violent ex ##tre ##mism feb . 18 that will highlight how local committees in united states have worked to curb ex ##tre ##mism before violence takes place . the meeting aims to show how to prevent attacks by those prone to ex ##tre ##mism \" in the united states and abroad to commit acts of violence , efforts made even more imperative in light of recent , tragic attacks in ottawa , sydney , and paris , \" according to a statement released by the white house press secretary . officials from boston , los angeles [SEP]\n"
          ],
          "name": "stderr"
        },
        {
          "output_type": "stream",
          "text": [
            "INFO:tensorflow:input_ids: 101 2317 2160 2000 3677 4675 3334 29165 2964 6465 13114 1012 2324 1999 1996 2126 1997 3522 4491 6917 1010 1996 2317 2160 2097 3677 1037 6465 2006 4675 2075 6355 4654 7913 26725 13114 1012 2324 2008 2097 12944 2129 2334 9528 1999 2142 2163 2031 2499 2000 13730 4654 7913 26725 2077 4808 3138 2173 1012 1996 3116 8704 2000 2265 2129 2000 4652 4491 2011 2216 13047 2000 4654 7913 26725 1000 1999 1996 2142 2163 1998 6917 2000 10797 4490 1997 4808 1010 4073 2081 2130 2062 23934 1999 2422 1997 3522 1010 13800 4491 1999 8166 1010 3994 1010 1998 3000 1010 1000 2429 2000 1037 4861 2207 2011 1996 2317 2160 2811 3187 1012 4584 2013 3731 1010 3050 3349 102\n"
          ],
          "name": "stdout"
        },
        {
          "output_type": "stream",
          "text": [
            "INFO:tensorflow:input_ids: 101 2317 2160 2000 3677 4675 3334 29165 2964 6465 13114 1012 2324 1999 1996 2126 1997 3522 4491 6917 1010 1996 2317 2160 2097 3677 1037 6465 2006 4675 2075 6355 4654 7913 26725 13114 1012 2324 2008 2097 12944 2129 2334 9528 1999 2142 2163 2031 2499 2000 13730 4654 7913 26725 2077 4808 3138 2173 1012 1996 3116 8704 2000 2265 2129 2000 4652 4491 2011 2216 13047 2000 4654 7913 26725 1000 1999 1996 2142 2163 1998 6917 2000 10797 4490 1997 4808 1010 4073 2081 2130 2062 23934 1999 2422 1997 3522 1010 13800 4491 1999 8166 1010 3994 1010 1998 3000 1010 1000 2429 2000 1037 4861 2207 2011 1996 2317 2160 2811 3187 1012 4584 2013 3731 1010 3050 3349 102\n"
          ],
          "name": "stderr"
        },
        {
          "output_type": "stream",
          "text": [
            "INFO:tensorflow:input_mask: 1 1 1 1 1 1 1 1 1 1 1 1 1 1 1 1 1 1 1 1 1 1 1 1 1 1 1 1 1 1 1 1 1 1 1 1 1 1 1 1 1 1 1 1 1 1 1 1 1 1 1 1 1 1 1 1 1 1 1 1 1 1 1 1 1 1 1 1 1 1 1 1 1 1 1 1 1 1 1 1 1 1 1 1 1 1 1 1 1 1 1 1 1 1 1 1 1 1 1 1 1 1 1 1 1 1 1 1 1 1 1 1 1 1 1 1 1 1 1 1 1 1 1 1 1 1 1 1\n"
          ],
          "name": "stdout"
        },
        {
          "output_type": "stream",
          "text": [
            "INFO:tensorflow:input_mask: 1 1 1 1 1 1 1 1 1 1 1 1 1 1 1 1 1 1 1 1 1 1 1 1 1 1 1 1 1 1 1 1 1 1 1 1 1 1 1 1 1 1 1 1 1 1 1 1 1 1 1 1 1 1 1 1 1 1 1 1 1 1 1 1 1 1 1 1 1 1 1 1 1 1 1 1 1 1 1 1 1 1 1 1 1 1 1 1 1 1 1 1 1 1 1 1 1 1 1 1 1 1 1 1 1 1 1 1 1 1 1 1 1 1 1 1 1 1 1 1 1 1 1 1 1 1 1 1\n"
          ],
          "name": "stderr"
        },
        {
          "output_type": "stream",
          "text": [
            "INFO:tensorflow:segment_ids: 0 0 0 0 0 0 0 0 0 0 0 0 0 0 0 0 0 0 0 0 0 0 0 0 0 0 0 0 0 0 0 0 0 0 0 0 0 0 0 0 0 0 0 0 0 0 0 0 0 0 0 0 0 0 0 0 0 0 0 0 0 0 0 0 0 0 0 0 0 0 0 0 0 0 0 0 0 0 0 0 0 0 0 0 0 0 0 0 0 0 0 0 0 0 0 0 0 0 0 0 0 0 0 0 0 0 0 0 0 0 0 0 0 0 0 0 0 0 0 0 0 0 0 0 0 0 0 0\n"
          ],
          "name": "stdout"
        },
        {
          "output_type": "stream",
          "text": [
            "INFO:tensorflow:segment_ids: 0 0 0 0 0 0 0 0 0 0 0 0 0 0 0 0 0 0 0 0 0 0 0 0 0 0 0 0 0 0 0 0 0 0 0 0 0 0 0 0 0 0 0 0 0 0 0 0 0 0 0 0 0 0 0 0 0 0 0 0 0 0 0 0 0 0 0 0 0 0 0 0 0 0 0 0 0 0 0 0 0 0 0 0 0 0 0 0 0 0 0 0 0 0 0 0 0 0 0 0 0 0 0 0 0 0 0 0 0 0 0 0 0 0 0 0 0 0 0 0 0 0 0 0 0 0 0 0\n"
          ],
          "name": "stderr"
        },
        {
          "output_type": "stream",
          "text": [
            "INFO:tensorflow:label: 1 (id = 1)\n"
          ],
          "name": "stdout"
        },
        {
          "output_type": "stream",
          "text": [
            "INFO:tensorflow:label: 1 (id = 1)\n"
          ],
          "name": "stderr"
        },
        {
          "output_type": "stream",
          "text": [
            "INFO:tensorflow:Writing example 0 of 950\n"
          ],
          "name": "stdout"
        },
        {
          "output_type": "stream",
          "text": [
            "INFO:tensorflow:Writing example 0 of 950\n"
          ],
          "name": "stderr"
        },
        {
          "output_type": "stream",
          "text": [
            "INFO:tensorflow:*** Example ***\n"
          ],
          "name": "stdout"
        },
        {
          "output_type": "stream",
          "text": [
            "INFO:tensorflow:*** Example ***\n"
          ],
          "name": "stderr"
        },
        {
          "output_type": "stream",
          "text": [
            "INFO:tensorflow:guid: None\n"
          ],
          "name": "stdout"
        },
        {
          "output_type": "stream",
          "text": [
            "INFO:tensorflow:guid: None\n"
          ],
          "name": "stderr"
        },
        {
          "output_type": "stream",
          "text": [
            "INFO:tensorflow:tokens: [CLS] iran ’ s za ##ri ##f to hold talks with russia ’ s la ##vr ##ov on syria in moscow politics iranian foreign minister mohammad java ##d za ##ri ##f ( photo by ap ) iranian foreign minister mohammad java ##d za ##ri ##f will pay an official one - day visit to russia for talks on the syrian crisis . iranian foreign ministry spokesman ba ##hra ##m q ##asse ##mi said on wednesday that the top diplomat is due in moscow on friday . he said that za ##ri ##f is scheduled to attend a tri ##lateral meeting with his russian counterpart , sergei la ##vr ##ov , and syrian foreign minister wal ##id al - mu ##alle ##m on regional developments , including the [SEP]\n"
          ],
          "name": "stdout"
        },
        {
          "output_type": "stream",
          "text": [
            "INFO:tensorflow:tokens: [CLS] iran ’ s za ##ri ##f to hold talks with russia ’ s la ##vr ##ov on syria in moscow politics iranian foreign minister mohammad java ##d za ##ri ##f ( photo by ap ) iranian foreign minister mohammad java ##d za ##ri ##f will pay an official one - day visit to russia for talks on the syrian crisis . iranian foreign ministry spokesman ba ##hra ##m q ##asse ##mi said on wednesday that the top diplomat is due in moscow on friday . he said that za ##ri ##f is scheduled to attend a tri ##lateral meeting with his russian counterpart , sergei la ##vr ##ov , and syrian foreign minister wal ##id al - mu ##alle ##m on regional developments , including the [SEP]\n"
          ],
          "name": "stderr"
        },
        {
          "output_type": "stream",
          "text": [
            "INFO:tensorflow:input_ids: 101 4238 1521 1055 23564 3089 2546 2000 2907 7566 2007 3607 1521 1055 2474 19716 4492 2006 7795 1999 4924 4331 7726 3097 2704 12050 9262 2094 23564 3089 2546 1006 6302 2011 9706 1007 7726 3097 2704 12050 9262 2094 23564 3089 2546 2097 3477 2019 2880 2028 1011 2154 3942 2000 3607 2005 7566 2006 1996 9042 5325 1012 7726 3097 3757 14056 8670 13492 2213 1053 27241 4328 2056 2006 9317 2008 1996 2327 11125 2003 2349 1999 4924 2006 5958 1012 2002 2056 2008 23564 3089 2546 2003 5115 2000 5463 1037 13012 28277 3116 2007 2010 2845 13637 1010 14543 2474 19716 4492 1010 1998 9042 3097 2704 24547 3593 2632 1011 14163 24164 2213 2006 3164 8973 1010 2164 1996 102\n"
          ],
          "name": "stdout"
        },
        {
          "output_type": "stream",
          "text": [
            "INFO:tensorflow:input_ids: 101 4238 1521 1055 23564 3089 2546 2000 2907 7566 2007 3607 1521 1055 2474 19716 4492 2006 7795 1999 4924 4331 7726 3097 2704 12050 9262 2094 23564 3089 2546 1006 6302 2011 9706 1007 7726 3097 2704 12050 9262 2094 23564 3089 2546 2097 3477 2019 2880 2028 1011 2154 3942 2000 3607 2005 7566 2006 1996 9042 5325 1012 7726 3097 3757 14056 8670 13492 2213 1053 27241 4328 2056 2006 9317 2008 1996 2327 11125 2003 2349 1999 4924 2006 5958 1012 2002 2056 2008 23564 3089 2546 2003 5115 2000 5463 1037 13012 28277 3116 2007 2010 2845 13637 1010 14543 2474 19716 4492 1010 1998 9042 3097 2704 24547 3593 2632 1011 14163 24164 2213 2006 3164 8973 1010 2164 1996 102\n"
          ],
          "name": "stderr"
        },
        {
          "output_type": "stream",
          "text": [
            "INFO:tensorflow:input_mask: 1 1 1 1 1 1 1 1 1 1 1 1 1 1 1 1 1 1 1 1 1 1 1 1 1 1 1 1 1 1 1 1 1 1 1 1 1 1 1 1 1 1 1 1 1 1 1 1 1 1 1 1 1 1 1 1 1 1 1 1 1 1 1 1 1 1 1 1 1 1 1 1 1 1 1 1 1 1 1 1 1 1 1 1 1 1 1 1 1 1 1 1 1 1 1 1 1 1 1 1 1 1 1 1 1 1 1 1 1 1 1 1 1 1 1 1 1 1 1 1 1 1 1 1 1 1 1 1\n"
          ],
          "name": "stdout"
        },
        {
          "output_type": "stream",
          "text": [
            "INFO:tensorflow:input_mask: 1 1 1 1 1 1 1 1 1 1 1 1 1 1 1 1 1 1 1 1 1 1 1 1 1 1 1 1 1 1 1 1 1 1 1 1 1 1 1 1 1 1 1 1 1 1 1 1 1 1 1 1 1 1 1 1 1 1 1 1 1 1 1 1 1 1 1 1 1 1 1 1 1 1 1 1 1 1 1 1 1 1 1 1 1 1 1 1 1 1 1 1 1 1 1 1 1 1 1 1 1 1 1 1 1 1 1 1 1 1 1 1 1 1 1 1 1 1 1 1 1 1 1 1 1 1 1 1\n"
          ],
          "name": "stderr"
        },
        {
          "output_type": "stream",
          "text": [
            "INFO:tensorflow:segment_ids: 0 0 0 0 0 0 0 0 0 0 0 0 0 0 0 0 0 0 0 0 0 0 0 0 0 0 0 0 0 0 0 0 0 0 0 0 0 0 0 0 0 0 0 0 0 0 0 0 0 0 0 0 0 0 0 0 0 0 0 0 0 0 0 0 0 0 0 0 0 0 0 0 0 0 0 0 0 0 0 0 0 0 0 0 0 0 0 0 0 0 0 0 0 0 0 0 0 0 0 0 0 0 0 0 0 0 0 0 0 0 0 0 0 0 0 0 0 0 0 0 0 0 0 0 0 0 0 0\n"
          ],
          "name": "stdout"
        },
        {
          "output_type": "stream",
          "text": [
            "INFO:tensorflow:segment_ids: 0 0 0 0 0 0 0 0 0 0 0 0 0 0 0 0 0 0 0 0 0 0 0 0 0 0 0 0 0 0 0 0 0 0 0 0 0 0 0 0 0 0 0 0 0 0 0 0 0 0 0 0 0 0 0 0 0 0 0 0 0 0 0 0 0 0 0 0 0 0 0 0 0 0 0 0 0 0 0 0 0 0 0 0 0 0 0 0 0 0 0 0 0 0 0 0 0 0 0 0 0 0 0 0 0 0 0 0 0 0 0 0 0 0 0 0 0 0 0 0 0 0 0 0 0 0 0 0\n"
          ],
          "name": "stderr"
        },
        {
          "output_type": "stream",
          "text": [
            "INFO:tensorflow:label: 0 (id = 0)\n"
          ],
          "name": "stdout"
        },
        {
          "output_type": "stream",
          "text": [
            "INFO:tensorflow:label: 0 (id = 0)\n"
          ],
          "name": "stderr"
        },
        {
          "output_type": "stream",
          "text": [
            "INFO:tensorflow:*** Example ***\n"
          ],
          "name": "stdout"
        },
        {
          "output_type": "stream",
          "text": [
            "INFO:tensorflow:*** Example ***\n"
          ],
          "name": "stderr"
        },
        {
          "output_type": "stream",
          "text": [
            "INFO:tensorflow:guid: None\n"
          ],
          "name": "stdout"
        },
        {
          "output_type": "stream",
          "text": [
            "INFO:tensorflow:guid: None\n"
          ],
          "name": "stderr"
        },
        {
          "output_type": "stream",
          "text": [
            "INFO:tensorflow:tokens: [CLS] clinton ‘ not concerned ’ about new flap over classified emails hillary clinton sought to minimize new disclosure ##s that top secret government information passed through the private email server she used when she was secretary of state , dismissing the controversy as an “ inter - agency dispute ” that pale ##s next to the larger issues on the minds of voters . in an interview with nbc news on saturday morning , two days before the iowa caucus ##es , mrs . clinton said , “ it ’ s the same story that ’ s been going on for months now . and i just don ’ t think most people are as concerned about that as they are about what we ’ re [SEP]\n"
          ],
          "name": "stdout"
        },
        {
          "output_type": "stream",
          "text": [
            "INFO:tensorflow:tokens: [CLS] clinton ‘ not concerned ’ about new flap over classified emails hillary clinton sought to minimize new disclosure ##s that top secret government information passed through the private email server she used when she was secretary of state , dismissing the controversy as an “ inter - agency dispute ” that pale ##s next to the larger issues on the minds of voters . in an interview with nbc news on saturday morning , two days before the iowa caucus ##es , mrs . clinton said , “ it ’ s the same story that ’ s been going on for months now . and i just don ’ t think most people are as concerned about that as they are about what we ’ re [SEP]\n"
          ],
          "name": "stderr"
        },
        {
          "output_type": "stream",
          "text": [
            "INFO:tensorflow:input_ids: 101 7207 1520 2025 4986 1521 2055 2047 20916 2058 6219 22028 18520 7207 4912 2000 18478 2047 19380 2015 2008 2327 3595 2231 2592 2979 2083 1996 2797 10373 8241 2016 2109 2043 2016 2001 3187 1997 2110 1010 28913 1996 6704 2004 2019 1523 6970 1011 4034 7593 1524 2008 5122 2015 2279 2000 1996 3469 3314 2006 1996 9273 1997 7206 1012 1999 2019 4357 2007 6788 2739 2006 5095 2851 1010 2048 2420 2077 1996 5947 13965 2229 1010 3680 1012 7207 2056 1010 1523 2009 1521 1055 1996 2168 2466 2008 1521 1055 2042 2183 2006 2005 2706 2085 1012 1998 1045 2074 2123 1521 1056 2228 2087 2111 2024 2004 4986 2055 2008 2004 2027 2024 2055 2054 2057 1521 2128 102\n"
          ],
          "name": "stdout"
        },
        {
          "output_type": "stream",
          "text": [
            "INFO:tensorflow:input_ids: 101 7207 1520 2025 4986 1521 2055 2047 20916 2058 6219 22028 18520 7207 4912 2000 18478 2047 19380 2015 2008 2327 3595 2231 2592 2979 2083 1996 2797 10373 8241 2016 2109 2043 2016 2001 3187 1997 2110 1010 28913 1996 6704 2004 2019 1523 6970 1011 4034 7593 1524 2008 5122 2015 2279 2000 1996 3469 3314 2006 1996 9273 1997 7206 1012 1999 2019 4357 2007 6788 2739 2006 5095 2851 1010 2048 2420 2077 1996 5947 13965 2229 1010 3680 1012 7207 2056 1010 1523 2009 1521 1055 1996 2168 2466 2008 1521 1055 2042 2183 2006 2005 2706 2085 1012 1998 1045 2074 2123 1521 1056 2228 2087 2111 2024 2004 4986 2055 2008 2004 2027 2024 2055 2054 2057 1521 2128 102\n"
          ],
          "name": "stderr"
        },
        {
          "output_type": "stream",
          "text": [
            "INFO:tensorflow:input_mask: 1 1 1 1 1 1 1 1 1 1 1 1 1 1 1 1 1 1 1 1 1 1 1 1 1 1 1 1 1 1 1 1 1 1 1 1 1 1 1 1 1 1 1 1 1 1 1 1 1 1 1 1 1 1 1 1 1 1 1 1 1 1 1 1 1 1 1 1 1 1 1 1 1 1 1 1 1 1 1 1 1 1 1 1 1 1 1 1 1 1 1 1 1 1 1 1 1 1 1 1 1 1 1 1 1 1 1 1 1 1 1 1 1 1 1 1 1 1 1 1 1 1 1 1 1 1 1 1\n"
          ],
          "name": "stdout"
        },
        {
          "output_type": "stream",
          "text": [
            "INFO:tensorflow:input_mask: 1 1 1 1 1 1 1 1 1 1 1 1 1 1 1 1 1 1 1 1 1 1 1 1 1 1 1 1 1 1 1 1 1 1 1 1 1 1 1 1 1 1 1 1 1 1 1 1 1 1 1 1 1 1 1 1 1 1 1 1 1 1 1 1 1 1 1 1 1 1 1 1 1 1 1 1 1 1 1 1 1 1 1 1 1 1 1 1 1 1 1 1 1 1 1 1 1 1 1 1 1 1 1 1 1 1 1 1 1 1 1 1 1 1 1 1 1 1 1 1 1 1 1 1 1 1 1 1\n"
          ],
          "name": "stderr"
        },
        {
          "output_type": "stream",
          "text": [
            "INFO:tensorflow:segment_ids: 0 0 0 0 0 0 0 0 0 0 0 0 0 0 0 0 0 0 0 0 0 0 0 0 0 0 0 0 0 0 0 0 0 0 0 0 0 0 0 0 0 0 0 0 0 0 0 0 0 0 0 0 0 0 0 0 0 0 0 0 0 0 0 0 0 0 0 0 0 0 0 0 0 0 0 0 0 0 0 0 0 0 0 0 0 0 0 0 0 0 0 0 0 0 0 0 0 0 0 0 0 0 0 0 0 0 0 0 0 0 0 0 0 0 0 0 0 0 0 0 0 0 0 0 0 0 0 0\n"
          ],
          "name": "stdout"
        },
        {
          "output_type": "stream",
          "text": [
            "INFO:tensorflow:segment_ids: 0 0 0 0 0 0 0 0 0 0 0 0 0 0 0 0 0 0 0 0 0 0 0 0 0 0 0 0 0 0 0 0 0 0 0 0 0 0 0 0 0 0 0 0 0 0 0 0 0 0 0 0 0 0 0 0 0 0 0 0 0 0 0 0 0 0 0 0 0 0 0 0 0 0 0 0 0 0 0 0 0 0 0 0 0 0 0 0 0 0 0 0 0 0 0 0 0 0 0 0 0 0 0 0 0 0 0 0 0 0 0 0 0 0 0 0 0 0 0 0 0 0 0 0 0 0 0 0\n"
          ],
          "name": "stderr"
        },
        {
          "output_type": "stream",
          "text": [
            "INFO:tensorflow:label: 1 (id = 1)\n"
          ],
          "name": "stdout"
        },
        {
          "output_type": "stream",
          "text": [
            "INFO:tensorflow:label: 1 (id = 1)\n"
          ],
          "name": "stderr"
        },
        {
          "output_type": "stream",
          "text": [
            "INFO:tensorflow:*** Example ***\n"
          ],
          "name": "stdout"
        },
        {
          "output_type": "stream",
          "text": [
            "INFO:tensorflow:*** Example ***\n"
          ],
          "name": "stderr"
        },
        {
          "output_type": "stream",
          "text": [
            "INFO:tensorflow:guid: None\n"
          ],
          "name": "stdout"
        },
        {
          "output_type": "stream",
          "text": [
            "INFO:tensorflow:guid: None\n"
          ],
          "name": "stderr"
        },
        {
          "output_type": "stream",
          "text": [
            "INFO:tensorflow:tokens: [CLS] obama ' s un ambassador : cuba is right about our human rights obama ' s un ambassador : cuba is right about our human rights october 29 , 2016 daniel greenfield you may remember ambassador samantha power from the time she proposed invading israel . since then she ' s gone on to a glorious career of representing the castro regime at the un . or is it the obama regime . it naturally gets confusing when the us ambassador to the un sides with the enemy against her own country . \" for more than 50 years , the united states had a policy aimed at iso ##lating the government of cuba . for roughly half of those years , un member states have [SEP]\n"
          ],
          "name": "stdout"
        },
        {
          "output_type": "stream",
          "text": [
            "INFO:tensorflow:tokens: [CLS] obama ' s un ambassador : cuba is right about our human rights obama ' s un ambassador : cuba is right about our human rights october 29 , 2016 daniel greenfield you may remember ambassador samantha power from the time she proposed invading israel . since then she ' s gone on to a glorious career of representing the castro regime at the un . or is it the obama regime . it naturally gets confusing when the us ambassador to the un sides with the enemy against her own country . \" for more than 50 years , the united states had a policy aimed at iso ##lating the government of cuba . for roughly half of those years , un member states have [SEP]\n"
          ],
          "name": "stderr"
        },
        {
          "output_type": "stream",
          "text": [
            "INFO:tensorflow:input_ids: 101 8112 1005 1055 4895 6059 1024 7394 2003 2157 2055 2256 2529 2916 8112 1005 1055 4895 6059 1024 7394 2003 2157 2055 2256 2529 2916 2255 2756 1010 2355 3817 26713 2017 2089 3342 6059 11415 2373 2013 1996 2051 2016 3818 17657 3956 1012 2144 2059 2016 1005 1055 2908 2006 2000 1037 14013 2476 1997 5052 1996 11794 6939 2012 1996 4895 1012 2030 2003 2009 1996 8112 6939 1012 2009 8100 4152 16801 2043 1996 2149 6059 2000 1996 4895 3903 2007 1996 4099 2114 2014 2219 2406 1012 1000 2005 2062 2084 2753 2086 1010 1996 2142 2163 2018 1037 3343 6461 2012 11163 22248 1996 2231 1997 7394 1012 2005 5560 2431 1997 2216 2086 1010 4895 2266 2163 2031 102\n"
          ],
          "name": "stdout"
        },
        {
          "output_type": "stream",
          "text": [
            "INFO:tensorflow:input_ids: 101 8112 1005 1055 4895 6059 1024 7394 2003 2157 2055 2256 2529 2916 8112 1005 1055 4895 6059 1024 7394 2003 2157 2055 2256 2529 2916 2255 2756 1010 2355 3817 26713 2017 2089 3342 6059 11415 2373 2013 1996 2051 2016 3818 17657 3956 1012 2144 2059 2016 1005 1055 2908 2006 2000 1037 14013 2476 1997 5052 1996 11794 6939 2012 1996 4895 1012 2030 2003 2009 1996 8112 6939 1012 2009 8100 4152 16801 2043 1996 2149 6059 2000 1996 4895 3903 2007 1996 4099 2114 2014 2219 2406 1012 1000 2005 2062 2084 2753 2086 1010 1996 2142 2163 2018 1037 3343 6461 2012 11163 22248 1996 2231 1997 7394 1012 2005 5560 2431 1997 2216 2086 1010 4895 2266 2163 2031 102\n"
          ],
          "name": "stderr"
        },
        {
          "output_type": "stream",
          "text": [
            "INFO:tensorflow:input_mask: 1 1 1 1 1 1 1 1 1 1 1 1 1 1 1 1 1 1 1 1 1 1 1 1 1 1 1 1 1 1 1 1 1 1 1 1 1 1 1 1 1 1 1 1 1 1 1 1 1 1 1 1 1 1 1 1 1 1 1 1 1 1 1 1 1 1 1 1 1 1 1 1 1 1 1 1 1 1 1 1 1 1 1 1 1 1 1 1 1 1 1 1 1 1 1 1 1 1 1 1 1 1 1 1 1 1 1 1 1 1 1 1 1 1 1 1 1 1 1 1 1 1 1 1 1 1 1 1\n"
          ],
          "name": "stdout"
        },
        {
          "output_type": "stream",
          "text": [
            "INFO:tensorflow:input_mask: 1 1 1 1 1 1 1 1 1 1 1 1 1 1 1 1 1 1 1 1 1 1 1 1 1 1 1 1 1 1 1 1 1 1 1 1 1 1 1 1 1 1 1 1 1 1 1 1 1 1 1 1 1 1 1 1 1 1 1 1 1 1 1 1 1 1 1 1 1 1 1 1 1 1 1 1 1 1 1 1 1 1 1 1 1 1 1 1 1 1 1 1 1 1 1 1 1 1 1 1 1 1 1 1 1 1 1 1 1 1 1 1 1 1 1 1 1 1 1 1 1 1 1 1 1 1 1 1\n"
          ],
          "name": "stderr"
        },
        {
          "output_type": "stream",
          "text": [
            "INFO:tensorflow:segment_ids: 0 0 0 0 0 0 0 0 0 0 0 0 0 0 0 0 0 0 0 0 0 0 0 0 0 0 0 0 0 0 0 0 0 0 0 0 0 0 0 0 0 0 0 0 0 0 0 0 0 0 0 0 0 0 0 0 0 0 0 0 0 0 0 0 0 0 0 0 0 0 0 0 0 0 0 0 0 0 0 0 0 0 0 0 0 0 0 0 0 0 0 0 0 0 0 0 0 0 0 0 0 0 0 0 0 0 0 0 0 0 0 0 0 0 0 0 0 0 0 0 0 0 0 0 0 0 0 0\n"
          ],
          "name": "stdout"
        },
        {
          "output_type": "stream",
          "text": [
            "INFO:tensorflow:segment_ids: 0 0 0 0 0 0 0 0 0 0 0 0 0 0 0 0 0 0 0 0 0 0 0 0 0 0 0 0 0 0 0 0 0 0 0 0 0 0 0 0 0 0 0 0 0 0 0 0 0 0 0 0 0 0 0 0 0 0 0 0 0 0 0 0 0 0 0 0 0 0 0 0 0 0 0 0 0 0 0 0 0 0 0 0 0 0 0 0 0 0 0 0 0 0 0 0 0 0 0 0 0 0 0 0 0 0 0 0 0 0 0 0 0 0 0 0 0 0 0 0 0 0 0 0 0 0 0 0\n"
          ],
          "name": "stderr"
        },
        {
          "output_type": "stream",
          "text": [
            "INFO:tensorflow:label: 0 (id = 0)\n"
          ],
          "name": "stdout"
        },
        {
          "output_type": "stream",
          "text": [
            "INFO:tensorflow:label: 0 (id = 0)\n"
          ],
          "name": "stderr"
        },
        {
          "output_type": "stream",
          "text": [
            "INFO:tensorflow:*** Example ***\n"
          ],
          "name": "stdout"
        },
        {
          "output_type": "stream",
          "text": [
            "INFO:tensorflow:*** Example ***\n"
          ],
          "name": "stderr"
        },
        {
          "output_type": "stream",
          "text": [
            "INFO:tensorflow:guid: None\n"
          ],
          "name": "stdout"
        },
        {
          "output_type": "stream",
          "text": [
            "INFO:tensorflow:guid: None\n"
          ],
          "name": "stderr"
        },
        {
          "output_type": "stream",
          "text": [
            "INFO:tensorflow:tokens: [CLS] state department ok ' d most bill clinton speech requests within days state department officials under secretary of state hillary rod ##ham clinton moved quickly when aide ##s to bill clinton asked them in march 2010 to approve plans for the former president to address clients of a multinational british bank , barclay ##s . within four days , the department ' s ethics office signed off on the request - - as it did for hundreds of others from the former president during his wife ' s four - year tenure leading the agency . its standard response , fired off in a short memo : \" we have no objection . \" that decision remained unchanged even after the justice department announced just months [SEP]\n"
          ],
          "name": "stdout"
        },
        {
          "output_type": "stream",
          "text": [
            "INFO:tensorflow:tokens: [CLS] state department ok ' d most bill clinton speech requests within days state department officials under secretary of state hillary rod ##ham clinton moved quickly when aide ##s to bill clinton asked them in march 2010 to approve plans for the former president to address clients of a multinational british bank , barclay ##s . within four days , the department ' s ethics office signed off on the request - - as it did for hundreds of others from the former president during his wife ' s four - year tenure leading the agency . its standard response , fired off in a short memo : \" we have no objection . \" that decision remained unchanged even after the justice department announced just months [SEP]\n"
          ],
          "name": "stderr"
        },
        {
          "output_type": "stream",
          "text": [
            "INFO:tensorflow:input_ids: 101 2110 2533 7929 1005 1040 2087 3021 7207 4613 11186 2306 2420 2110 2533 4584 2104 3187 1997 2110 18520 8473 3511 7207 2333 2855 2043 14895 2015 2000 3021 7207 2356 2068 1999 2233 2230 2000 14300 3488 2005 1996 2280 2343 2000 4769 7846 1997 1037 20584 2329 2924 1010 23724 2015 1012 2306 2176 2420 1010 1996 2533 1005 1055 9615 2436 2772 2125 2006 1996 5227 1011 1011 2004 2009 2106 2005 5606 1997 2500 2013 1996 2280 2343 2076 2010 2564 1005 1055 2176 1011 2095 7470 2877 1996 4034 1012 2049 3115 3433 1010 5045 2125 1999 1037 2460 24443 1024 1000 2057 2031 2053 22224 1012 1000 2008 3247 2815 15704 2130 2044 1996 3425 2533 2623 2074 2706 102\n"
          ],
          "name": "stdout"
        },
        {
          "output_type": "stream",
          "text": [
            "INFO:tensorflow:input_ids: 101 2110 2533 7929 1005 1040 2087 3021 7207 4613 11186 2306 2420 2110 2533 4584 2104 3187 1997 2110 18520 8473 3511 7207 2333 2855 2043 14895 2015 2000 3021 7207 2356 2068 1999 2233 2230 2000 14300 3488 2005 1996 2280 2343 2000 4769 7846 1997 1037 20584 2329 2924 1010 23724 2015 1012 2306 2176 2420 1010 1996 2533 1005 1055 9615 2436 2772 2125 2006 1996 5227 1011 1011 2004 2009 2106 2005 5606 1997 2500 2013 1996 2280 2343 2076 2010 2564 1005 1055 2176 1011 2095 7470 2877 1996 4034 1012 2049 3115 3433 1010 5045 2125 1999 1037 2460 24443 1024 1000 2057 2031 2053 22224 1012 1000 2008 3247 2815 15704 2130 2044 1996 3425 2533 2623 2074 2706 102\n"
          ],
          "name": "stderr"
        },
        {
          "output_type": "stream",
          "text": [
            "INFO:tensorflow:input_mask: 1 1 1 1 1 1 1 1 1 1 1 1 1 1 1 1 1 1 1 1 1 1 1 1 1 1 1 1 1 1 1 1 1 1 1 1 1 1 1 1 1 1 1 1 1 1 1 1 1 1 1 1 1 1 1 1 1 1 1 1 1 1 1 1 1 1 1 1 1 1 1 1 1 1 1 1 1 1 1 1 1 1 1 1 1 1 1 1 1 1 1 1 1 1 1 1 1 1 1 1 1 1 1 1 1 1 1 1 1 1 1 1 1 1 1 1 1 1 1 1 1 1 1 1 1 1 1 1\n"
          ],
          "name": "stdout"
        },
        {
          "output_type": "stream",
          "text": [
            "INFO:tensorflow:input_mask: 1 1 1 1 1 1 1 1 1 1 1 1 1 1 1 1 1 1 1 1 1 1 1 1 1 1 1 1 1 1 1 1 1 1 1 1 1 1 1 1 1 1 1 1 1 1 1 1 1 1 1 1 1 1 1 1 1 1 1 1 1 1 1 1 1 1 1 1 1 1 1 1 1 1 1 1 1 1 1 1 1 1 1 1 1 1 1 1 1 1 1 1 1 1 1 1 1 1 1 1 1 1 1 1 1 1 1 1 1 1 1 1 1 1 1 1 1 1 1 1 1 1 1 1 1 1 1 1\n"
          ],
          "name": "stderr"
        },
        {
          "output_type": "stream",
          "text": [
            "INFO:tensorflow:segment_ids: 0 0 0 0 0 0 0 0 0 0 0 0 0 0 0 0 0 0 0 0 0 0 0 0 0 0 0 0 0 0 0 0 0 0 0 0 0 0 0 0 0 0 0 0 0 0 0 0 0 0 0 0 0 0 0 0 0 0 0 0 0 0 0 0 0 0 0 0 0 0 0 0 0 0 0 0 0 0 0 0 0 0 0 0 0 0 0 0 0 0 0 0 0 0 0 0 0 0 0 0 0 0 0 0 0 0 0 0 0 0 0 0 0 0 0 0 0 0 0 0 0 0 0 0 0 0 0 0\n"
          ],
          "name": "stdout"
        },
        {
          "output_type": "stream",
          "text": [
            "INFO:tensorflow:segment_ids: 0 0 0 0 0 0 0 0 0 0 0 0 0 0 0 0 0 0 0 0 0 0 0 0 0 0 0 0 0 0 0 0 0 0 0 0 0 0 0 0 0 0 0 0 0 0 0 0 0 0 0 0 0 0 0 0 0 0 0 0 0 0 0 0 0 0 0 0 0 0 0 0 0 0 0 0 0 0 0 0 0 0 0 0 0 0 0 0 0 0 0 0 0 0 0 0 0 0 0 0 0 0 0 0 0 0 0 0 0 0 0 0 0 0 0 0 0 0 0 0 0 0 0 0 0 0 0 0\n"
          ],
          "name": "stderr"
        },
        {
          "output_type": "stream",
          "text": [
            "INFO:tensorflow:label: 1 (id = 1)\n"
          ],
          "name": "stdout"
        },
        {
          "output_type": "stream",
          "text": [
            "INFO:tensorflow:label: 1 (id = 1)\n"
          ],
          "name": "stderr"
        },
        {
          "output_type": "stream",
          "text": [
            "INFO:tensorflow:*** Example ***\n"
          ],
          "name": "stdout"
        },
        {
          "output_type": "stream",
          "text": [
            "INFO:tensorflow:*** Example ***\n"
          ],
          "name": "stderr"
        },
        {
          "output_type": "stream",
          "text": [
            "INFO:tensorflow:guid: None\n"
          ],
          "name": "stdout"
        },
        {
          "output_type": "stream",
          "text": [
            "INFO:tensorflow:guid: None\n"
          ],
          "name": "stderr"
        },
        {
          "output_type": "stream",
          "text": [
            "INFO:tensorflow:tokens: [CLS] the republicans ’ november fantasy : a glance at the go ##p ’ s swing state strategy ought to delight democrats everywhere it ’ s generally understood that presidential elections are decided in the so - called swing states . everything reduces to turnout . which is why the ground game is so important : you can ’ t get people to the polls without a sophisticated voter targeting operation , and thousands of staff ##ers and volunteers on the ground doing the dirty work . to the extent that that ’ s true , republicans are in trouble . a new pol ##itic ##o report confirms the go ##p is way behind in all the states that matter . because their nominee has no interest [SEP]\n"
          ],
          "name": "stdout"
        },
        {
          "output_type": "stream",
          "text": [
            "INFO:tensorflow:tokens: [CLS] the republicans ’ november fantasy : a glance at the go ##p ’ s swing state strategy ought to delight democrats everywhere it ’ s generally understood that presidential elections are decided in the so - called swing states . everything reduces to turnout . which is why the ground game is so important : you can ’ t get people to the polls without a sophisticated voter targeting operation , and thousands of staff ##ers and volunteers on the ground doing the dirty work . to the extent that that ’ s true , republicans are in trouble . a new pol ##itic ##o report confirms the go ##p is way behind in all the states that matter . because their nominee has no interest [SEP]\n"
          ],
          "name": "stderr"
        },
        {
          "output_type": "stream",
          "text": [
            "INFO:tensorflow:input_ids: 101 1996 10643 1521 2281 5913 1024 1037 6054 2012 1996 2175 2361 1521 1055 7370 2110 5656 11276 2000 12208 8037 7249 2009 1521 1055 3227 5319 2008 4883 3864 2024 2787 1999 1996 2061 1011 2170 7370 2163 1012 2673 13416 2000 15512 1012 2029 2003 2339 1996 2598 2208 2003 2061 2590 1024 2017 2064 1521 1056 2131 2111 2000 1996 14592 2302 1037 12138 14303 14126 3169 1010 1998 5190 1997 3095 2545 1998 7314 2006 1996 2598 2725 1996 6530 2147 1012 2000 1996 6698 2008 2008 1521 1055 2995 1010 10643 2024 1999 4390 1012 1037 2047 14955 18291 2080 3189 23283 1996 2175 2361 2003 2126 2369 1999 2035 1996 2163 2008 3043 1012 2138 2037 9773 2038 2053 3037 102\n"
          ],
          "name": "stdout"
        },
        {
          "output_type": "stream",
          "text": [
            "INFO:tensorflow:input_ids: 101 1996 10643 1521 2281 5913 1024 1037 6054 2012 1996 2175 2361 1521 1055 7370 2110 5656 11276 2000 12208 8037 7249 2009 1521 1055 3227 5319 2008 4883 3864 2024 2787 1999 1996 2061 1011 2170 7370 2163 1012 2673 13416 2000 15512 1012 2029 2003 2339 1996 2598 2208 2003 2061 2590 1024 2017 2064 1521 1056 2131 2111 2000 1996 14592 2302 1037 12138 14303 14126 3169 1010 1998 5190 1997 3095 2545 1998 7314 2006 1996 2598 2725 1996 6530 2147 1012 2000 1996 6698 2008 2008 1521 1055 2995 1010 10643 2024 1999 4390 1012 1037 2047 14955 18291 2080 3189 23283 1996 2175 2361 2003 2126 2369 1999 2035 1996 2163 2008 3043 1012 2138 2037 9773 2038 2053 3037 102\n"
          ],
          "name": "stderr"
        },
        {
          "output_type": "stream",
          "text": [
            "INFO:tensorflow:input_mask: 1 1 1 1 1 1 1 1 1 1 1 1 1 1 1 1 1 1 1 1 1 1 1 1 1 1 1 1 1 1 1 1 1 1 1 1 1 1 1 1 1 1 1 1 1 1 1 1 1 1 1 1 1 1 1 1 1 1 1 1 1 1 1 1 1 1 1 1 1 1 1 1 1 1 1 1 1 1 1 1 1 1 1 1 1 1 1 1 1 1 1 1 1 1 1 1 1 1 1 1 1 1 1 1 1 1 1 1 1 1 1 1 1 1 1 1 1 1 1 1 1 1 1 1 1 1 1 1\n"
          ],
          "name": "stdout"
        },
        {
          "output_type": "stream",
          "text": [
            "INFO:tensorflow:input_mask: 1 1 1 1 1 1 1 1 1 1 1 1 1 1 1 1 1 1 1 1 1 1 1 1 1 1 1 1 1 1 1 1 1 1 1 1 1 1 1 1 1 1 1 1 1 1 1 1 1 1 1 1 1 1 1 1 1 1 1 1 1 1 1 1 1 1 1 1 1 1 1 1 1 1 1 1 1 1 1 1 1 1 1 1 1 1 1 1 1 1 1 1 1 1 1 1 1 1 1 1 1 1 1 1 1 1 1 1 1 1 1 1 1 1 1 1 1 1 1 1 1 1 1 1 1 1 1 1\n"
          ],
          "name": "stderr"
        },
        {
          "output_type": "stream",
          "text": [
            "INFO:tensorflow:segment_ids: 0 0 0 0 0 0 0 0 0 0 0 0 0 0 0 0 0 0 0 0 0 0 0 0 0 0 0 0 0 0 0 0 0 0 0 0 0 0 0 0 0 0 0 0 0 0 0 0 0 0 0 0 0 0 0 0 0 0 0 0 0 0 0 0 0 0 0 0 0 0 0 0 0 0 0 0 0 0 0 0 0 0 0 0 0 0 0 0 0 0 0 0 0 0 0 0 0 0 0 0 0 0 0 0 0 0 0 0 0 0 0 0 0 0 0 0 0 0 0 0 0 0 0 0 0 0 0 0\n"
          ],
          "name": "stdout"
        },
        {
          "output_type": "stream",
          "text": [
            "INFO:tensorflow:segment_ids: 0 0 0 0 0 0 0 0 0 0 0 0 0 0 0 0 0 0 0 0 0 0 0 0 0 0 0 0 0 0 0 0 0 0 0 0 0 0 0 0 0 0 0 0 0 0 0 0 0 0 0 0 0 0 0 0 0 0 0 0 0 0 0 0 0 0 0 0 0 0 0 0 0 0 0 0 0 0 0 0 0 0 0 0 0 0 0 0 0 0 0 0 0 0 0 0 0 0 0 0 0 0 0 0 0 0 0 0 0 0 0 0 0 0 0 0 0 0 0 0 0 0 0 0 0 0 0 0\n"
          ],
          "name": "stderr"
        },
        {
          "output_type": "stream",
          "text": [
            "INFO:tensorflow:label: 1 (id = 1)\n"
          ],
          "name": "stdout"
        },
        {
          "output_type": "stream",
          "text": [
            "INFO:tensorflow:label: 1 (id = 1)\n"
          ],
          "name": "stderr"
        }
      ]
    },
    {
      "cell_type": "markdown",
      "metadata": {
        "id": "ccp5trMwRtmr"
      },
      "source": [
        "#Creating a model\n",
        "\n",
        "Now that we've prepared our data, let's focus on building a model. `create_model` does just this below. First, it loads the BERT tf hub module again (this time to extract the computation graph). Next, it creates a single new layer that will be trained to adapt BERT to our classification task (i.e. classifying whether an article was real or fake). This strategy of using a mostly trained model is called [fine-tuning](http://wiki.fast.ai/index.php/Fine_tuning)."
      ]
    },
    {
      "cell_type": "code",
      "metadata": {
        "id": "6o2a5ZIvRcJq"
      },
      "source": [
        "def create_model(is_predicting, input_ids, input_mask, segment_ids, labels,\n",
        "                 num_labels):\n",
        "  \"\"\"Creates a classification model.\"\"\"\n",
        "\n",
        "  bert_module = hub.Module(\n",
        "      BERT_MODEL_HUB,\n",
        "      trainable=True)\n",
        "  bert_inputs = dict(\n",
        "      input_ids=input_ids,\n",
        "      input_mask=input_mask,\n",
        "      segment_ids=segment_ids)\n",
        "  bert_outputs = bert_module(\n",
        "      inputs=bert_inputs,\n",
        "      signature=\"tokens\",\n",
        "      as_dict=True)\n",
        "\n",
        "  # Use \"pooled_output\" for classification tasks on an entire sentence.\n",
        "  # Use \"sequence_outputs\" for token-level output.\n",
        "  output_layer = bert_outputs[\"pooled_output\"]\n",
        "\n",
        "  hidden_size = output_layer.shape[-1].value\n",
        "\n",
        "  # Create our own layer to tune for politeness data.\n",
        "  output_weights = tf.get_variable(\n",
        "      \"output_weights\", [num_labels, hidden_size],\n",
        "      initializer=tf.truncated_normal_initializer(stddev=0.02))\n",
        "\n",
        "  output_bias = tf.get_variable(\n",
        "      \"output_bias\", [num_labels], initializer=tf.zeros_initializer())\n",
        "\n",
        "  with tf.variable_scope(\"loss\"):\n",
        "\n",
        "    # Dropout helps prevent overfitting\n",
        "    output_layer = tf.nn.dropout(output_layer, keep_prob=0.9)\n",
        "\n",
        "    logits = tf.matmul(output_layer, output_weights, transpose_b=True)\n",
        "    logits = tf.nn.bias_add(logits, output_bias)\n",
        "    log_probs = tf.nn.log_softmax(logits, axis=-1)\n",
        "\n",
        "    # Convert labels into one-hot encoding\n",
        "    one_hot_labels = tf.one_hot(labels, depth=num_labels, dtype=tf.float32)\n",
        "\n",
        "    predicted_labels = tf.squeeze(tf.argmax(log_probs, axis=-1, output_type=tf.int32))\n",
        "    # If we're predicting, we want predicted labels and the probabiltiies.\n",
        "    if is_predicting:\n",
        "      return (predicted_labels, log_probs)\n",
        "\n",
        "    # If we're train/eval, compute loss between predicted and actual label\n",
        "    per_example_loss = -tf.reduce_sum(one_hot_labels * log_probs, axis=-1)\n",
        "    loss = tf.reduce_mean(per_example_loss)\n",
        "    return (loss, predicted_labels, log_probs)\n"
      ],
      "execution_count": null,
      "outputs": []
    },
    {
      "cell_type": "markdown",
      "metadata": {
        "id": "qpE0ZIDOCQzE"
      },
      "source": [
        "Next we'll wrap our model function in a `model_fn_builder` function that adapts our model to work for training, evaluation, and prediction."
      ]
    },
    {
      "cell_type": "code",
      "metadata": {
        "id": "FnH-AnOQ9KKW"
      },
      "source": [
        "# model_fn_builder actually creates our model function\n",
        "# using the passed parameters for num_labels, learning_rate, etc.\n",
        "def model_fn_builder(num_labels, learning_rate, num_train_steps,\n",
        "                     num_warmup_steps):\n",
        "  \"\"\"Returns `model_fn` closure for TPUEstimator.\"\"\"\n",
        "  def model_fn(features, labels, mode, params):  # pylint: disable=unused-argument\n",
        "    \"\"\"The `model_fn` for TPUEstimator.\"\"\"\n",
        "\n",
        "    input_ids = features[\"input_ids\"]\n",
        "    input_mask = features[\"input_mask\"]\n",
        "    segment_ids = features[\"segment_ids\"]\n",
        "    label_ids = features[\"label_ids\"]\n",
        "\n",
        "    is_predicting = (mode == tf.estimator.ModeKeys.PREDICT)\n",
        "    \n",
        "    # TRAIN and EVAL\n",
        "    if not is_predicting:\n",
        "\n",
        "      (loss, predicted_labels, log_probs) = create_model(\n",
        "        is_predicting, input_ids, input_mask, segment_ids, label_ids, num_labels)\n",
        "\n",
        "      train_op = bert.optimization.create_optimizer(\n",
        "          loss, learning_rate, num_train_steps, num_warmup_steps, use_tpu=False)\n",
        "\n",
        "      # Calculate evaluation metrics. \n",
        "      def metric_fn(label_ids, predicted_labels):\n",
        "        accuracy = tf.metrics.accuracy(label_ids, predicted_labels)\n",
        "        f1_score = tf.contrib.metrics.f1_score(\n",
        "            label_ids,\n",
        "            predicted_labels)\n",
        "        auc = tf.metrics.auc(\n",
        "            label_ids,\n",
        "            predicted_labels)\n",
        "        recall = tf.metrics.recall(\n",
        "            label_ids,\n",
        "            predicted_labels)\n",
        "        precision = tf.metrics.precision(\n",
        "            label_ids,\n",
        "            predicted_labels) \n",
        "        true_pos = tf.metrics.true_positives(\n",
        "            label_ids,\n",
        "            predicted_labels)\n",
        "        true_neg = tf.metrics.true_negatives(\n",
        "            label_ids,\n",
        "            predicted_labels)   \n",
        "        false_pos = tf.metrics.false_positives(\n",
        "            label_ids,\n",
        "            predicted_labels)  \n",
        "        false_neg = tf.metrics.false_negatives(\n",
        "            label_ids,\n",
        "            predicted_labels)\n",
        "        return {\n",
        "            \"eval_accuracy\": accuracy,\n",
        "            \"f1_score\": f1_score,\n",
        "            \"auc\": auc,\n",
        "            \"precision\": precision,\n",
        "            \"recall\": recall,\n",
        "            \"true_positives\": true_pos,\n",
        "            \"true_negatives\": true_neg,\n",
        "            \"false_positives\": false_pos,\n",
        "            \"false_negatives\": false_neg\n",
        "        }\n",
        "\n",
        "      eval_metrics = metric_fn(label_ids, predicted_labels)\n",
        "\n",
        "      if mode == tf.estimator.ModeKeys.TRAIN:\n",
        "        return tf.estimator.EstimatorSpec(mode=mode,\n",
        "          loss=loss,\n",
        "          train_op=train_op)\n",
        "      else:\n",
        "          return tf.estimator.EstimatorSpec(mode=mode,\n",
        "            loss=loss,\n",
        "            eval_metric_ops=eval_metrics)\n",
        "    else:\n",
        "      (predicted_labels, log_probs) = create_model(\n",
        "        is_predicting, input_ids, input_mask, segment_ids, label_ids, num_labels)\n",
        "\n",
        "      predictions = {\n",
        "          'probabilities': log_probs,\n",
        "          'labels': predicted_labels\n",
        "      }\n",
        "      return tf.estimator.EstimatorSpec(mode, predictions=predictions)\n",
        "\n",
        "  # Return the actual model function in the closure\n",
        "  return model_fn\n"
      ],
      "execution_count": null,
      "outputs": []
    },
    {
      "cell_type": "code",
      "metadata": {
        "id": "OjwJ4bTeWXD8"
      },
      "source": [
        "# Compute train and warmup steps from batch size\n",
        "# These hyperparameters are copied from this colab notebook (https://colab.sandbox.google.com/github/tensorflow/tpu/blob/master/tools/colab/bert_finetuning_with_cloud_tpus.ipynb)\n",
        "BATCH_SIZE = 32\n",
        "LEARNING_RATE = 2e-5\n",
        "NUM_TRAIN_EPOCHS = 12.0\n",
        "# Warmup is a period of time where hte learning rate \n",
        "# is small and gradually increases--usually helps training.\n",
        "WARMUP_PROPORTION = 0.1\n",
        "# Model configs\n",
        "SAVE_CHECKPOINTS_STEPS = 500\n",
        "SAVE_SUMMARY_STEPS = 100"
      ],
      "execution_count": null,
      "outputs": []
    },
    {
      "cell_type": "code",
      "metadata": {
        "id": "emHf9GhfWBZ_"
      },
      "source": [
        "# Compute # train and warmup steps from batch size\n",
        "num_train_steps = int(len(train_features) / BATCH_SIZE * NUM_TRAIN_EPOCHS)\n",
        "num_warmup_steps = int(num_train_steps * WARMUP_PROPORTION)"
      ],
      "execution_count": null,
      "outputs": []
    },
    {
      "cell_type": "code",
      "metadata": {
        "id": "oEJldMr3WYZa"
      },
      "source": [
        "# Specify outpit directory and number of checkpoint steps to save\n",
        "run_config = tf.estimator.RunConfig(\n",
        "    model_dir=OUTPUT_DIR,\n",
        "    save_summary_steps=SAVE_SUMMARY_STEPS,\n",
        "    save_checkpoints_steps=SAVE_CHECKPOINTS_STEPS)"
      ],
      "execution_count": null,
      "outputs": []
    },
    {
      "cell_type": "code",
      "metadata": {
        "colab": {
          "base_uri": "https://localhost:8080/"
        },
        "id": "q_WebpS1X97v",
        "outputId": "8a63c6b6-7ec2-4d72-b52d-8ddd69d060c5"
      },
      "source": [
        "model_fn = model_fn_builder(\n",
        "  num_labels=len(label_list),\n",
        "  learning_rate=LEARNING_RATE,\n",
        "  num_train_steps=num_train_steps,\n",
        "  num_warmup_steps=num_warmup_steps)\n",
        "\n",
        "estimator = tf.estimator.Estimator(\n",
        "  model_fn=model_fn,\n",
        "  config=run_config,\n",
        "  params={\"batch_size\": BATCH_SIZE})\n"
      ],
      "execution_count": null,
      "outputs": [
        {
          "output_type": "stream",
          "text": [
            "INFO:tensorflow:Using config: {'_model_dir': 'gs://bert_model1/model', '_tf_random_seed': None, '_save_summary_steps': 100, '_save_checkpoints_steps': 500, '_save_checkpoints_secs': None, '_session_config': allow_soft_placement: true\n",
            "graph_options {\n",
            "  rewrite_options {\n",
            "    meta_optimizer_iterations: ONE\n",
            "  }\n",
            "}\n",
            ", '_keep_checkpoint_max': 5, '_keep_checkpoint_every_n_hours': 10000, '_log_step_count_steps': 100, '_train_distribute': None, '_device_fn': None, '_protocol': None, '_eval_distribute': None, '_experimental_distribute': None, '_experimental_max_worker_delay_secs': None, '_session_creation_timeout_secs': 7200, '_service': None, '_cluster_spec': <tensorflow.python.training.server_lib.ClusterSpec object at 0x7fc630120f60>, '_task_type': 'worker', '_task_id': 0, '_global_id_in_cluster': 0, '_master': '', '_evaluation_master': '', '_is_chief': True, '_num_ps_replicas': 0, '_num_worker_replicas': 1}\n"
          ],
          "name": "stdout"
        },
        {
          "output_type": "stream",
          "text": [
            "INFO:tensorflow:Using config: {'_model_dir': 'gs://bert_model1/model', '_tf_random_seed': None, '_save_summary_steps': 100, '_save_checkpoints_steps': 500, '_save_checkpoints_secs': None, '_session_config': allow_soft_placement: true\n",
            "graph_options {\n",
            "  rewrite_options {\n",
            "    meta_optimizer_iterations: ONE\n",
            "  }\n",
            "}\n",
            ", '_keep_checkpoint_max': 5, '_keep_checkpoint_every_n_hours': 10000, '_log_step_count_steps': 100, '_train_distribute': None, '_device_fn': None, '_protocol': None, '_eval_distribute': None, '_experimental_distribute': None, '_experimental_max_worker_delay_secs': None, '_session_creation_timeout_secs': 7200, '_service': None, '_cluster_spec': <tensorflow.python.training.server_lib.ClusterSpec object at 0x7fc630120f60>, '_task_type': 'worker', '_task_id': 0, '_global_id_in_cluster': 0, '_master': '', '_evaluation_master': '', '_is_chief': True, '_num_ps_replicas': 0, '_num_worker_replicas': 1}\n"
          ],
          "name": "stderr"
        }
      ]
    },
    {
      "cell_type": "markdown",
      "metadata": {
        "id": "NOO3RfG1DYLo"
      },
      "source": [
        "Next we create an input builder function that takes our training feature set (`train_features`) and produces a generator. This is a pretty standard design pattern for working with Tensorflow [Estimators](https://www.tensorflow.org/guide/estimators)."
      ]
    },
    {
      "cell_type": "code",
      "metadata": {
        "id": "1Pv2bAlOX_-K"
      },
      "source": [
        "# Create an input function for training. drop_remainder = True for using TPUs.\n",
        "train_input_fn = bert.run_classifier.input_fn_builder(\n",
        "    features=train_features,\n",
        "    seq_length=MAX_SEQ_LENGTH,\n",
        "    is_training=True,\n",
        "    drop_remainder=False)"
      ],
      "execution_count": null,
      "outputs": []
    },
    {
      "cell_type": "code",
      "metadata": {
        "colab": {
          "base_uri": "https://localhost:8080/"
        },
        "id": "FC-973H8rClx",
        "outputId": "19914b5f-162a-4683-e2a0-67049bf9d5dc"
      },
      "source": [
        "print(train_features)"
      ],
      "execution_count": null,
      "outputs": [
        {
          "output_type": "stream",
          "text": [
            "[<bert.run_classifier.InputFeatures object at 0x7fc63026f9b0>, <bert.run_classifier.InputFeatures object at 0x7fc63e219d68>, <bert.run_classifier.InputFeatures object at 0x7fc63022e160>, <bert.run_classifier.InputFeatures object at 0x7fc63022e780>, <bert.run_classifier.InputFeatures object at 0x7fc63e247f28>, <bert.run_classifier.InputFeatures object at 0x7fc63022eeb8>, <bert.run_classifier.InputFeatures object at 0x7fc63e247048>, <bert.run_classifier.InputFeatures object at 0x7fc63021f048>, <bert.run_classifier.InputFeatures object at 0x7fc63021f080>, <bert.run_classifier.InputFeatures object at 0x7fc63022f5f8>, <bert.run_classifier.InputFeatures object at 0x7fc63022f3c8>, <bert.run_classifier.InputFeatures object at 0x7fc63d1c3ba8>, <bert.run_classifier.InputFeatures object at 0x7fc63e219dd8>, <bert.run_classifier.InputFeatures object at 0x7fc63022f390>, <bert.run_classifier.InputFeatures object at 0x7fc63022f278>, <bert.run_classifier.InputFeatures object at 0x7fc63d4f84e0>, <bert.run_classifier.InputFeatures object at 0x7fc63022f0f0>, <bert.run_classifier.InputFeatures object at 0x7fc63022f320>, <bert.run_classifier.InputFeatures object at 0x7fc63022f240>, <bert.run_classifier.InputFeatures object at 0x7fc63022f400>, <bert.run_classifier.InputFeatures object at 0x7fc63022f080>, <bert.run_classifier.InputFeatures object at 0x7fc63022fac8>, <bert.run_classifier.InputFeatures object at 0x7fc6301f3a58>, <bert.run_classifier.InputFeatures object at 0x7fc6301f3e48>, <bert.run_classifier.InputFeatures object at 0x7fc63022fb00>, <bert.run_classifier.InputFeatures object at 0x7fc63022fa20>, <bert.run_classifier.InputFeatures object at 0x7fc63022fa58>, <bert.run_classifier.InputFeatures object at 0x7fc63022f710>, <bert.run_classifier.InputFeatures object at 0x7fc63022f588>, <bert.run_classifier.InputFeatures object at 0x7fc63022fb38>, <bert.run_classifier.InputFeatures object at 0x7fc63d4dd828>, <bert.run_classifier.InputFeatures object at 0x7fc63d4dd7f0>, <bert.run_classifier.InputFeatures object at 0x7fc63d4ddc50>, <bert.run_classifier.InputFeatures object at 0x7fc63d4dd048>, <bert.run_classifier.InputFeatures object at 0x7fc63d4dd0b8>, <bert.run_classifier.InputFeatures object at 0x7fc63d4dd0f0>, <bert.run_classifier.InputFeatures object at 0x7fc63d4dd128>, <bert.run_classifier.InputFeatures object at 0x7fc63d4dd198>, <bert.run_classifier.InputFeatures object at 0x7fc63d4dd2b0>, <bert.run_classifier.InputFeatures object at 0x7fc63d4dd320>, <bert.run_classifier.InputFeatures object at 0x7fc63022eac8>, <bert.run_classifier.InputFeatures object at 0x7fc63022f5c0>, <bert.run_classifier.InputFeatures object at 0x7fc63022f4e0>, <bert.run_classifier.InputFeatures object at 0x7fc63022f978>, <bert.run_classifier.InputFeatures object at 0x7fc63022f940>, <bert.run_classifier.InputFeatures object at 0x7fc63022fa90>, <bert.run_classifier.InputFeatures object at 0x7fc63022f6a0>, <bert.run_classifier.InputFeatures object at 0x7fc63022f9b0>, <bert.run_classifier.InputFeatures object at 0x7fc63022ffd0>, <bert.run_classifier.InputFeatures object at 0x7fc6301f3f98>, <bert.run_classifier.InputFeatures object at 0x7fc6301f3da0>, <bert.run_classifier.InputFeatures object at 0x7fc6301f31d0>, <bert.run_classifier.InputFeatures object at 0x7fc63022fc88>, <bert.run_classifier.InputFeatures object at 0x7fc63022f358>, <bert.run_classifier.InputFeatures object at 0x7fc63022fcc0>, <bert.run_classifier.InputFeatures object at 0x7fc63021fd30>, <bert.run_classifier.InputFeatures object at 0x7fc63021fc50>, <bert.run_classifier.InputFeatures object at 0x7fc63021f828>, <bert.run_classifier.InputFeatures object at 0x7fc63022f0b8>, <bert.run_classifier.InputFeatures object at 0x7fc63022f048>, <bert.run_classifier.InputFeatures object at 0x7fc63022f470>, <bert.run_classifier.InputFeatures object at 0x7fc63022fdd8>, <bert.run_classifier.InputFeatures object at 0x7fc63022f128>, <bert.run_classifier.InputFeatures object at 0x7fc6301f39b0>, <bert.run_classifier.InputFeatures object at 0x7fc6301f3908>, <bert.run_classifier.InputFeatures object at 0x7fc6301f3780>, <bert.run_classifier.InputFeatures object at 0x7fc6301f3978>, <bert.run_classifier.InputFeatures object at 0x7fc63021fb38>, <bert.run_classifier.InputFeatures object at 0x7fc63021ffd0>, <bert.run_classifier.InputFeatures object at 0x7fc63021f9b0>, <bert.run_classifier.InputFeatures object at 0x7fc63021fe48>, <bert.run_classifier.InputFeatures object at 0x7fc63022ea90>, <bert.run_classifier.InputFeatures object at 0x7fc63022ea20>, <bert.run_classifier.InputFeatures object at 0x7fc63022ef28>, <bert.run_classifier.InputFeatures object at 0x7fc63022e7f0>, <bert.run_classifier.InputFeatures object at 0x7fc6301f34e0>, <bert.run_classifier.InputFeatures object at 0x7fc6301f3d68>, <bert.run_classifier.InputFeatures object at 0x7fc6301f3be0>, <bert.run_classifier.InputFeatures object at 0x7fc6301f3208>, <bert.run_classifier.InputFeatures object at 0x7fc63022f748>, <bert.run_classifier.InputFeatures object at 0x7fc63022fe10>, <bert.run_classifier.InputFeatures object at 0x7fc63022f630>, <bert.run_classifier.InputFeatures object at 0x7fc63022f668>, <bert.run_classifier.InputFeatures object at 0x7fc63022fc50>, <bert.run_classifier.InputFeatures object at 0x7fc63022f518>, <bert.run_classifier.InputFeatures object at 0x7fc63022f550>, <bert.run_classifier.InputFeatures object at 0x7fc63022ecc0>, <bert.run_classifier.InputFeatures object at 0x7fc63022ea58>, <bert.run_classifier.InputFeatures object at 0x7fc63022edd8>, <bert.run_classifier.InputFeatures object at 0x7fc63022e1d0>, <bert.run_classifier.InputFeatures object at 0x7fc63022eb00>, <bert.run_classifier.InputFeatures object at 0x7fc63022eef0>, <bert.run_classifier.InputFeatures object at 0x7fc63022ee10>, <bert.run_classifier.InputFeatures object at 0x7fc6301f3198>, <bert.run_classifier.InputFeatures object at 0x7fc6301f3438>, <bert.run_classifier.InputFeatures object at 0x7fc6301f38d0>, <bert.run_classifier.InputFeatures object at 0x7fc6301f39e8>, <bert.run_classifier.InputFeatures object at 0x7fc6301f3a20>, <bert.run_classifier.InputFeatures object at 0x7fc63022ec88>, <bert.run_classifier.InputFeatures object at 0x7fc63022eda0>, <bert.run_classifier.InputFeatures object at 0x7fc63022e3c8>, <bert.run_classifier.InputFeatures object at 0x7fc63022ed68>, <bert.run_classifier.InputFeatures object at 0x7fc63022fbe0>, <bert.run_classifier.InputFeatures object at 0x7fc63022ebe0>, <bert.run_classifier.InputFeatures object at 0x7fc63022eb38>, <bert.run_classifier.InputFeatures object at 0x7fc63d4dd5c0>, <bert.run_classifier.InputFeatures object at 0x7fc63022fd30>, <bert.run_classifier.InputFeatures object at 0x7fc63022e0f0>, <bert.run_classifier.InputFeatures object at 0x7fc63022ed30>, <bert.run_classifier.InputFeatures object at 0x7fc63022e9b0>, <bert.run_classifier.InputFeatures object at 0x7fc63022e710>, <bert.run_classifier.InputFeatures object at 0x7fc63022e9e8>, <bert.run_classifier.InputFeatures object at 0x7fc63022e128>, <bert.run_classifier.InputFeatures object at 0x7fc63022ff98>, <bert.run_classifier.InputFeatures object at 0x7fc63022fe48>, <bert.run_classifier.InputFeatures object at 0x7fc63022ef98>, <bert.run_classifier.InputFeatures object at 0x7fc63021f438>, <bert.run_classifier.InputFeatures object at 0x7fc63022e5c0>, <bert.run_classifier.InputFeatures object at 0x7fc63022e860>, <bert.run_classifier.InputFeatures object at 0x7fc63021f4e0>, <bert.run_classifier.InputFeatures object at 0x7fc63021f5f8>, <bert.run_classifier.InputFeatures object at 0x7fc63021fd68>, <bert.run_classifier.InputFeatures object at 0x7fc63021f588>, <bert.run_classifier.InputFeatures object at 0x7fc63021fa90>, <bert.run_classifier.InputFeatures object at 0x7fc63021f6a0>, <bert.run_classifier.InputFeatures object at 0x7fc63021f9e8>, <bert.run_classifier.InputFeatures object at 0x7fc63021f668>, <bert.run_classifier.InputFeatures object at 0x7fc63022efd0>, <bert.run_classifier.InputFeatures object at 0x7fc63022ff28>, <bert.run_classifier.InputFeatures object at 0x7fc63021f198>, <bert.run_classifier.InputFeatures object at 0x7fc63021f240>, <bert.run_classifier.InputFeatures object at 0x7fc63021f3c8>, <bert.run_classifier.InputFeatures object at 0x7fc63021ff98>, <bert.run_classifier.InputFeatures object at 0x7fc6301f3710>, <bert.run_classifier.InputFeatures object at 0x7fc63022feb8>, <bert.run_classifier.InputFeatures object at 0x7fc63022fe80>, <bert.run_classifier.InputFeatures object at 0x7fc63022f2e8>, <bert.run_classifier.InputFeatures object at 0x7fc63d4ddfd0>, <bert.run_classifier.InputFeatures object at 0x7fc63d4ddd30>, <bert.run_classifier.InputFeatures object at 0x7fc63d4dd8d0>, <bert.run_classifier.InputFeatures object at 0x7fc63d4dd278>, <bert.run_classifier.InputFeatures object at 0x7fc63d4dd748>, <bert.run_classifier.InputFeatures object at 0x7fc63022e438>, <bert.run_classifier.InputFeatures object at 0x7fc63022e630>, <bert.run_classifier.InputFeatures object at 0x7fc63022e6a0>, <bert.run_classifier.InputFeatures object at 0x7fc63021f780>, <bert.run_classifier.InputFeatures object at 0x7fc63022e898>, <bert.run_classifier.InputFeatures object at 0x7fc63022e518>, <bert.run_classifier.InputFeatures object at 0x7fc63022e668>, <bert.run_classifier.InputFeatures object at 0x7fc63022e048>, <bert.run_classifier.InputFeatures object at 0x7fc63022ee80>, <bert.run_classifier.InputFeatures object at 0x7fc63021f0b8>, <bert.run_classifier.InputFeatures object at 0x7fc63022ecf8>, <bert.run_classifier.InputFeatures object at 0x7fc63021f1d0>, <bert.run_classifier.InputFeatures object at 0x7fc63022ee48>, <bert.run_classifier.InputFeatures object at 0x7fc63022e5f8>, <bert.run_classifier.InputFeatures object at 0x7fc63021f518>, <bert.run_classifier.InputFeatures object at 0x7fc63d4ddcc0>, <bert.run_classifier.InputFeatures object at 0x7fc63d4dd9e8>, <bert.run_classifier.InputFeatures object at 0x7fc63d4ddf98>, <bert.run_classifier.InputFeatures object at 0x7fc63d4ddf60>, <bert.run_classifier.InputFeatures object at 0x7fc63d4dd710>, <bert.run_classifier.InputFeatures object at 0x7fc63d4ddcf8>, <bert.run_classifier.InputFeatures object at 0x7fc63d4ddc88>, <bert.run_classifier.InputFeatures object at 0x7fc63d4dd630>, <bert.run_classifier.InputFeatures object at 0x7fc63d4dde80>, <bert.run_classifier.InputFeatures object at 0x7fc63d4dda90>, <bert.run_classifier.InputFeatures object at 0x7fc63d4ddef0>, <bert.run_classifier.InputFeatures object at 0x7fc63d4ddbe0>, <bert.run_classifier.InputFeatures object at 0x7fc63d4ddac8>, <bert.run_classifier.InputFeatures object at 0x7fc63d4dd160>, <bert.run_classifier.InputFeatures object at 0x7fc63d4dd438>, <bert.run_classifier.InputFeatures object at 0x7fc63d4dd3c8>, <bert.run_classifier.InputFeatures object at 0x7fc63d4ddba8>, <bert.run_classifier.InputFeatures object at 0x7fc63d4ddb38>, <bert.run_classifier.InputFeatures object at 0x7fc63d4dd2e8>, <bert.run_classifier.InputFeatures object at 0x7fc63d4dde48>, <bert.run_classifier.InputFeatures object at 0x7fc63021fda0>, <bert.run_classifier.InputFeatures object at 0x7fc63d4dd470>, <bert.run_classifier.InputFeatures object at 0x7fc63d4dd400>, <bert.run_classifier.InputFeatures object at 0x7fc63d4dd518>, <bert.run_classifier.InputFeatures object at 0x7fc63d4dd9b0>, <bert.run_classifier.InputFeatures object at 0x7fc63d4dda58>, <bert.run_classifier.InputFeatures object at 0x7fc63d4dd6a0>, <bert.run_classifier.InputFeatures object at 0x7fc63d4ddf28>, <bert.run_classifier.InputFeatures object at 0x7fc63d4dd908>, <bert.run_classifier.InputFeatures object at 0x7fc630221ac8>, <bert.run_classifier.InputFeatures object at 0x7fc6302216d8>, <bert.run_classifier.InputFeatures object at 0x7fc630221b00>, <bert.run_classifier.InputFeatures object at 0x7fc63022fba8>, <bert.run_classifier.InputFeatures object at 0x7fc63022f860>, <bert.run_classifier.InputFeatures object at 0x7fc63022f8d0>, <bert.run_classifier.InputFeatures object at 0x7fc63022fb70>, <bert.run_classifier.InputFeatures object at 0x7fc63022f908>, <bert.run_classifier.InputFeatures object at 0x7fc63022f780>, <bert.run_classifier.InputFeatures object at 0x7fc6301f3ac8>, <bert.run_classifier.InputFeatures object at 0x7fc6301f36a0>, <bert.run_classifier.InputFeatures object at 0x7fc6301f3630>, <bert.run_classifier.InputFeatures object at 0x7fc6301f3128>, <bert.run_classifier.InputFeatures object at 0x7fc6301f3dd8>, <bert.run_classifier.InputFeatures object at 0x7fc63021f320>, <bert.run_classifier.InputFeatures object at 0x7fc6301f3f60>, <bert.run_classifier.InputFeatures object at 0x7fc6301f3240>, <bert.run_classifier.InputFeatures object at 0x7fc6301f35c0>, <bert.run_classifier.InputFeatures object at 0x7fc6301f3e80>, <bert.run_classifier.InputFeatures object at 0x7fc6301f3eb8>, <bert.run_classifier.InputFeatures object at 0x7fc63021fba8>, <bert.run_classifier.InputFeatures object at 0x7fc63021fb70>, <bert.run_classifier.InputFeatures object at 0x7fc63021fcf8>, <bert.run_classifier.InputFeatures object at 0x7fc63021f278>, <bert.run_classifier.InputFeatures object at 0x7fc63021feb8>, <bert.run_classifier.InputFeatures object at 0x7fc63021fc88>, <bert.run_classifier.InputFeatures object at 0x7fc63021fe10>, <bert.run_classifier.InputFeatures object at 0x7fc63021f390>, <bert.run_classifier.InputFeatures object at 0x7fc63021f400>, <bert.run_classifier.InputFeatures object at 0x7fc63021f898>, <bert.run_classifier.InputFeatures object at 0x7fc63021f748>, <bert.run_classifier.InputFeatures object at 0x7fc63022fcf8>, <bert.run_classifier.InputFeatures object at 0x7fc63021f2e8>, <bert.run_classifier.InputFeatures object at 0x7fc63022fd68>, <bert.run_classifier.InputFeatures object at 0x7fc63021f978>, <bert.run_classifier.InputFeatures object at 0x7fc63021fe80>, <bert.run_classifier.InputFeatures object at 0x7fc6302270b8>, <bert.run_classifier.InputFeatures object at 0x7fc6302270f0>, <bert.run_classifier.InputFeatures object at 0x7fc63022ff60>, <bert.run_classifier.InputFeatures object at 0x7fc63022fc18>, <bert.run_classifier.InputFeatures object at 0x7fc63021fef0>, <bert.run_classifier.InputFeatures object at 0x7fc630227908>, <bert.run_classifier.InputFeatures object at 0x7fc63022f9e8>, <bert.run_classifier.InputFeatures object at 0x7fc63022f198>, <bert.run_classifier.InputFeatures object at 0x7fc63022f2b0>, <bert.run_classifier.InputFeatures object at 0x7fc63022f438>, <bert.run_classifier.InputFeatures object at 0x7fc6302210b8>, <bert.run_classifier.InputFeatures object at 0x7fc63022f6d8>, <bert.run_classifier.InputFeatures object at 0x7fc630227ba8>, <bert.run_classifier.InputFeatures object at 0x7fc63022fda0>, <bert.run_classifier.InputFeatures object at 0x7fc63d4dd5f8>, <bert.run_classifier.InputFeatures object at 0x7fc63022fef0>, <bert.run_classifier.InputFeatures object at 0x7fc63022f4a8>, <bert.run_classifier.InputFeatures object at 0x7fc63d4ddda0>, <bert.run_classifier.InputFeatures object at 0x7fc63d4dd898>, <bert.run_classifier.InputFeatures object at 0x7fc63d4dd860>, <bert.run_classifier.InputFeatures object at 0x7fc63d4dd978>, <bert.run_classifier.InputFeatures object at 0x7fc63d4dd668>, <bert.run_classifier.InputFeatures object at 0x7fc63d4dd6d8>, <bert.run_classifier.InputFeatures object at 0x7fc63d4dd550>, <bert.run_classifier.InputFeatures object at 0x7fc630221b70>, <bert.run_classifier.InputFeatures object at 0x7fc630221ef0>, <bert.run_classifier.InputFeatures object at 0x7fc630221048>, <bert.run_classifier.InputFeatures object at 0x7fc630227390>, <bert.run_classifier.InputFeatures object at 0x7fc6302274a8>, <bert.run_classifier.InputFeatures object at 0x7fc630227e48>, <bert.run_classifier.InputFeatures object at 0x7fc630227e80>, <bert.run_classifier.InputFeatures object at 0x7fc630227fd0>, <bert.run_classifier.InputFeatures object at 0x7fc630227f28>, <bert.run_classifier.InputFeatures object at 0x7fc6302271d0>, <bert.run_classifier.InputFeatures object at 0x7fc63021f160>, <bert.run_classifier.InputFeatures object at 0x7fc63021f4a8>, <bert.run_classifier.InputFeatures object at 0x7fc63021fcc0>, <bert.run_classifier.InputFeatures object at 0x7fc63021fb00>, <bert.run_classifier.InputFeatures object at 0x7fc63021ff60>, <bert.run_classifier.InputFeatures object at 0x7fc63021fdd8>, <bert.run_classifier.InputFeatures object at 0x7fc63021f2b0>, <bert.run_classifier.InputFeatures object at 0x7fc63021f0f0>, <bert.run_classifier.InputFeatures object at 0x7fc63021fac8>, <bert.run_classifier.InputFeatures object at 0x7fc63021f550>, <bert.run_classifier.InputFeatures object at 0x7fc63d4dd7b8>, <bert.run_classifier.InputFeatures object at 0x7fc630221e80>, <bert.run_classifier.InputFeatures object at 0x7fc630221d30>, <bert.run_classifier.InputFeatures object at 0x7fc630221780>, <bert.run_classifier.InputFeatures object at 0x7fc63d4dd390>, <bert.run_classifier.InputFeatures object at 0x7fc6301f3550>, <bert.run_classifier.InputFeatures object at 0x7fc63d4dd780>, <bert.run_classifier.InputFeatures object at 0x7fc63d4dddd8>, <bert.run_classifier.InputFeatures object at 0x7fc63d4dd208>, <bert.run_classifier.InputFeatures object at 0x7fc63d4dd1d0>, <bert.run_classifier.InputFeatures object at 0x7fc63d4dda20>, <bert.run_classifier.InputFeatures object at 0x7fc630227128>, <bert.run_classifier.InputFeatures object at 0x7fc630227ef0>, <bert.run_classifier.InputFeatures object at 0x7fc630227588>, <bert.run_classifier.InputFeatures object at 0x7fc6302273c8>, <bert.run_classifier.InputFeatures object at 0x7fc630227f60>, <bert.run_classifier.InputFeatures object at 0x7fc630227d68>, <bert.run_classifier.InputFeatures object at 0x7fc6301f3470>, <bert.run_classifier.InputFeatures object at 0x7fc6302275c0>, <bert.run_classifier.InputFeatures object at 0x7fc630227048>, <bert.run_classifier.InputFeatures object at 0x7fc63021ff28>, <bert.run_classifier.InputFeatures object at 0x7fc63021fa58>, <bert.run_classifier.InputFeatures object at 0x7fc6302211d0>, <bert.run_classifier.InputFeatures object at 0x7fc63021f7b8>, <bert.run_classifier.InputFeatures object at 0x7fc630221cc0>, <bert.run_classifier.InputFeatures object at 0x7fc630221eb8>, <bert.run_classifier.InputFeatures object at 0x7fc630221cf8>, <bert.run_classifier.InputFeatures object at 0x7fc630221898>, <bert.run_classifier.InputFeatures object at 0x7fc630221278>, <bert.run_classifier.InputFeatures object at 0x7fc6302219b0>, <bert.run_classifier.InputFeatures object at 0x7fc630221a20>, <bert.run_classifier.InputFeatures object at 0x7fc630221d68>, <bert.run_classifier.InputFeatures object at 0x7fc630215a90>, <bert.run_classifier.InputFeatures object at 0x7fc630215198>, <bert.run_classifier.InputFeatures object at 0x7fc630215128>, <bert.run_classifier.InputFeatures object at 0x7fc630215160>, <bert.run_classifier.InputFeatures object at 0x7fc63d4dd4e0>, <bert.run_classifier.InputFeatures object at 0x7fc63d4dd240>, <bert.run_classifier.InputFeatures object at 0x7fc63d4dd080>, <bert.run_classifier.InputFeatures object at 0x7fc6301f35f8>, <bert.run_classifier.InputFeatures object at 0x7fc6301f3400>, <bert.run_classifier.InputFeatures object at 0x7fc630227780>, <bert.run_classifier.InputFeatures object at 0x7fc630227898>, <bert.run_classifier.InputFeatures object at 0x7fc630227c50>, <bert.run_classifier.InputFeatures object at 0x7fc630221940>, <bert.run_classifier.InputFeatures object at 0x7fc630221390>, <bert.run_classifier.InputFeatures object at 0x7fc630221518>, <bert.run_classifier.InputFeatures object at 0x7fc6302213c8>, <bert.run_classifier.InputFeatures object at 0x7fc6302212b0>, <bert.run_classifier.InputFeatures object at 0x7fc6302215c0>, <bert.run_classifier.InputFeatures object at 0x7fc630221080>, <bert.run_classifier.InputFeatures object at 0x7fc630221a58>, <bert.run_classifier.InputFeatures object at 0x7fc630221470>, <bert.run_classifier.InputFeatures object at 0x7fc6302230b8>, <bert.run_classifier.InputFeatures object at 0x7fc630215978>, <bert.run_classifier.InputFeatures object at 0x7fc630215ba8>, <bert.run_classifier.InputFeatures object at 0x7fc630215a20>, <bert.run_classifier.InputFeatures object at 0x7fc6301f3518>, <bert.run_classifier.InputFeatures object at 0x7fc6301f32b0>, <bert.run_classifier.InputFeatures object at 0x7fc6301f3ef0>, <bert.run_classifier.InputFeatures object at 0x7fc6301f3c18>, <bert.run_classifier.InputFeatures object at 0x7fc6301f3278>, <bert.run_classifier.InputFeatures object at 0x7fc6302278d0>, <bert.run_classifier.InputFeatures object at 0x7fc6301f3fd0>, <bert.run_classifier.InputFeatures object at 0x7fc6301f36d8>, <bert.run_classifier.InputFeatures object at 0x7fc63d4ddd68>, <bert.run_classifier.InputFeatures object at 0x7fc63021f358>, <bert.run_classifier.InputFeatures object at 0x7fc630215a58>, <bert.run_classifier.InputFeatures object at 0x7fc6302154e0>, <bert.run_classifier.InputFeatures object at 0x7fc630215898>, <bert.run_classifier.InputFeatures object at 0x7fc630215da0>, <bert.run_classifier.InputFeatures object at 0x7fc630215828>, <bert.run_classifier.InputFeatures object at 0x7fc630215400>, <bert.run_classifier.InputFeatures object at 0x7fc6302157f0>, <bert.run_classifier.InputFeatures object at 0x7fc6301f3668>, <bert.run_classifier.InputFeatures object at 0x7fc6302279b0>, <bert.run_classifier.InputFeatures object at 0x7fc630227518>, <bert.run_classifier.InputFeatures object at 0x7fc6302276d8>, <bert.run_classifier.InputFeatures object at 0x7fc630227358>, <bert.run_classifier.InputFeatures object at 0x7fc630227be0>, <bert.run_classifier.InputFeatures object at 0x7fc630221438>, <bert.run_classifier.InputFeatures object at 0x7fc630221be0>, <bert.run_classifier.InputFeatures object at 0x7fc630221c18>, <bert.run_classifier.InputFeatures object at 0x7fc6302150f0>, <bert.run_classifier.InputFeatures object at 0x7fc6302156a0>, <bert.run_classifier.InputFeatures object at 0x7fc630215b70>, <bert.run_classifier.InputFeatures object at 0x7fc630227860>, <bert.run_classifier.InputFeatures object at 0x7fc6301f32e8>, <bert.run_classifier.InputFeatures object at 0x7fc6301f3c88>, <bert.run_classifier.InputFeatures object at 0x7fc6301f3898>, <bert.run_classifier.InputFeatures object at 0x7fc63d4dd588>, <bert.run_classifier.InputFeatures object at 0x7fc63021fc18>, <bert.run_classifier.InputFeatures object at 0x7fc63d4dd4a8>, <bert.run_classifier.InputFeatures object at 0x7fc63d4ddb00>, <bert.run_classifier.InputFeatures object at 0x7fc63d4dd358>, <bert.run_classifier.InputFeatures object at 0x7fc63021fbe0>, <bert.run_classifier.InputFeatures object at 0x7fc63d4dd940>, <bert.run_classifier.InputFeatures object at 0x7fc63d4ddb70>, <bert.run_classifier.InputFeatures object at 0x7fc6301f3320>, <bert.run_classifier.InputFeatures object at 0x7fc63021f630>, <bert.run_classifier.InputFeatures object at 0x7fc63021f208>, <bert.run_classifier.InputFeatures object at 0x7fc63021f128>, <bert.run_classifier.InputFeatures object at 0x7fc63d4ddc18>, <bert.run_classifier.InputFeatures object at 0x7fc63d4ddeb8>, <bert.run_classifier.InputFeatures object at 0x7fc6302231d0>, <bert.run_classifier.InputFeatures object at 0x7fc63d4dde10>, <bert.run_classifier.InputFeatures object at 0x7fc6301f3e10>, <bert.run_classifier.InputFeatures object at 0x7fc6301f3a90>, <bert.run_classifier.InputFeatures object at 0x7fc6302279e8>, <bert.run_classifier.InputFeatures object at 0x7fc6301f3828>, <bert.run_classifier.InputFeatures object at 0x7fc6301f3940>, <bert.run_classifier.InputFeatures object at 0x7fc630227cc0>, <bert.run_classifier.InputFeatures object at 0x7fc630227cf8>, <bert.run_classifier.InputFeatures object at 0x7fc630227ac8>, <bert.run_classifier.InputFeatures object at 0x7fc630221630>, <bert.run_classifier.InputFeatures object at 0x7fc6302217b8>, <bert.run_classifier.InputFeatures object at 0x7fc6301f3860>, <bert.run_classifier.InputFeatures object at 0x7fc6301f3c50>, <bert.run_classifier.InputFeatures object at 0x7fc6301f3b70>, <bert.run_classifier.InputFeatures object at 0x7fc630221358>, <bert.run_classifier.InputFeatures object at 0x7fc630223978>, <bert.run_classifier.InputFeatures object at 0x7fc6302235f8>, <bert.run_classifier.InputFeatures object at 0x7fc630223668>, <bert.run_classifier.InputFeatures object at 0x7fc630223198>, <bert.run_classifier.InputFeatures object at 0x7fc630231780>, <bert.run_classifier.InputFeatures object at 0x7fc630231a20>, <bert.run_classifier.InputFeatures object at 0x7fc6302214e0>, <bert.run_classifier.InputFeatures object at 0x7fc6302275f8>, <bert.run_classifier.InputFeatures object at 0x7fc630227828>, <bert.run_classifier.InputFeatures object at 0x7fc630227978>, <bert.run_classifier.InputFeatures object at 0x7fc630227b38>, <bert.run_classifier.InputFeatures object at 0x7fc630227080>, <bert.run_classifier.InputFeatures object at 0x7fc630227a90>, <bert.run_classifier.InputFeatures object at 0x7fc630227a58>, <bert.run_classifier.InputFeatures object at 0x7fc630227550>, <bert.run_classifier.InputFeatures object at 0x7fc630227160>, <bert.run_classifier.InputFeatures object at 0x7fc630227630>, <bert.run_classifier.InputFeatures object at 0x7fc6302235c0>, <bert.run_classifier.InputFeatures object at 0x7fc630223550>, <bert.run_classifier.InputFeatures object at 0x7fc630223390>, <bert.run_classifier.InputFeatures object at 0x7fc6301f37b8>, <bert.run_classifier.InputFeatures object at 0x7fc6301f3588>, <bert.run_classifier.InputFeatures object at 0x7fc6301f3748>, <bert.run_classifier.InputFeatures object at 0x7fc6301f3b00>, <bert.run_classifier.InputFeatures object at 0x7fc6301f34a8>, <bert.run_classifier.InputFeatures object at 0x7fc6301f3cf8>, <bert.run_classifier.InputFeatures object at 0x7fc6301f3cc0>, <bert.run_classifier.InputFeatures object at 0x7fc6301f3f28>, <bert.run_classifier.InputFeatures object at 0x7fc6301f3390>, <bert.run_classifier.InputFeatures object at 0x7fc6301f37f0>, <bert.run_classifier.InputFeatures object at 0x7fc6301f33c8>, <bert.run_classifier.InputFeatures object at 0x7fc6301f3ba8>, <bert.run_classifier.InputFeatures object at 0x7fc630221c50>, <bert.run_classifier.InputFeatures object at 0x7fc630223908>, <bert.run_classifier.InputFeatures object at 0x7fc6301f3358>, <bert.run_classifier.InputFeatures object at 0x7fc6302212e8>, <bert.run_classifier.InputFeatures object at 0x7fc630223860>, <bert.run_classifier.InputFeatures object at 0x7fc630223128>, <bert.run_classifier.InputFeatures object at 0x7fc630223518>, <bert.run_classifier.InputFeatures object at 0x7fc6301f3d30>, <bert.run_classifier.InputFeatures object at 0x7fc6301f3b38>, <bert.run_classifier.InputFeatures object at 0x7fc6302236d8>, <bert.run_classifier.InputFeatures object at 0x7fc630223080>, <bert.run_classifier.InputFeatures object at 0x7fc630223320>, <bert.run_classifier.InputFeatures object at 0x7fc630223588>, <bert.run_classifier.InputFeatures object at 0x7fc630223c50>, <bert.run_classifier.InputFeatures object at 0x7fc630231128>, <bert.run_classifier.InputFeatures object at 0x7fc630231048>, <bert.run_classifier.InputFeatures object at 0x7fc6302319e8>, <bert.run_classifier.InputFeatures object at 0x7fc630231710>, <bert.run_classifier.InputFeatures object at 0x7fc6302314e0>, <bert.run_classifier.InputFeatures object at 0x7fc630231588>, <bert.run_classifier.InputFeatures object at 0x7fc630231630>, <bert.run_classifier.InputFeatures object at 0x7fc6302272b0>, <bert.run_classifier.InputFeatures object at 0x7fc630227748>, <bert.run_classifier.InputFeatures object at 0x7fc630227240>, <bert.run_classifier.InputFeatures object at 0x7fc630227320>, <bert.run_classifier.InputFeatures object at 0x7fc630227da0>, <bert.run_classifier.InputFeatures object at 0x7fc630227dd8>, <bert.run_classifier.InputFeatures object at 0x7fc6302276a0>, <bert.run_classifier.InputFeatures object at 0x7fc630227400>, <bert.run_classifier.InputFeatures object at 0x7fc630227e10>, <bert.run_classifier.InputFeatures object at 0x7fc630227278>, <bert.run_classifier.InputFeatures object at 0x7fc630227c18>, <bert.run_classifier.InputFeatures object at 0x7fc630227710>, <bert.run_classifier.InputFeatures object at 0x7fc630227f98>, <bert.run_classifier.InputFeatures object at 0x7fc6302277b8>, <bert.run_classifier.InputFeatures object at 0x7fc630227b00>, <bert.run_classifier.InputFeatures object at 0x7fc630221dd8>, <bert.run_classifier.InputFeatures object at 0x7fc630227b70>, <bert.run_classifier.InputFeatures object at 0x7fc630227a20>, <bert.run_classifier.InputFeatures object at 0x7fc630221198>, <bert.run_classifier.InputFeatures object at 0x7fc630227208>, <bert.run_classifier.InputFeatures object at 0x7fc630227668>, <bert.run_classifier.InputFeatures object at 0x7fc6302239e8>, <bert.run_classifier.InputFeatures object at 0x7fc630223ac8>, <bert.run_classifier.InputFeatures object at 0x7fc6302317b8>, <bert.run_classifier.InputFeatures object at 0x7fc630231518>, <bert.run_classifier.InputFeatures object at 0x7fc630215390>, <bert.run_classifier.InputFeatures object at 0x7fc6302158d0>, <bert.run_classifier.InputFeatures object at 0x7fc630221e48>, <bert.run_classifier.InputFeatures object at 0x7fc630227438>, <bert.run_classifier.InputFeatures object at 0x7fc6302274e0>, <bert.run_classifier.InputFeatures object at 0x7fc6302272e8>, <bert.run_classifier.InputFeatures object at 0x7fc630227940>, <bert.run_classifier.InputFeatures object at 0x7fc630227198>, <bert.run_classifier.InputFeatures object at 0x7fc6302277f0>, <bert.run_classifier.InputFeatures object at 0x7fc630227d30>, <bert.run_classifier.InputFeatures object at 0x7fc630231cc0>, <bert.run_classifier.InputFeatures object at 0x7fc6302234a8>, <bert.run_classifier.InputFeatures object at 0x7fc6302210f0>, <bert.run_classifier.InputFeatures object at 0x7fc6302157b8>, <bert.run_classifier.InputFeatures object at 0x7fc6302155c0>, <bert.run_classifier.InputFeatures object at 0x7fc630215d30>, <bert.run_classifier.InputFeatures object at 0x7fc630215f28>, <bert.run_classifier.InputFeatures object at 0x7fc630215668>, <bert.run_classifier.InputFeatures object at 0x7fc630215f98>, <bert.run_classifier.InputFeatures object at 0x7fc630231e10>, <bert.run_classifier.InputFeatures object at 0x7fc630215c50>, <bert.run_classifier.InputFeatures object at 0x7fc6302152e8>, <bert.run_classifier.InputFeatures object at 0x7fc630215e80>, <bert.run_classifier.InputFeatures object at 0x7fc630215860>, <bert.run_classifier.InputFeatures object at 0x7fc6302159e8>, <bert.run_classifier.InputFeatures object at 0x7fc630215ac8>, <bert.run_classifier.InputFeatures object at 0x7fc630231f28>, <bert.run_classifier.InputFeatures object at 0x7fc630215240>, <bert.run_classifier.InputFeatures object at 0x7fc630215b38>, <bert.run_classifier.InputFeatures object at 0x7fc630215588>, <bert.run_classifier.InputFeatures object at 0x7fc630231b00>, <bert.run_classifier.InputFeatures object at 0x7fc630223e80>, <bert.run_classifier.InputFeatures object at 0x7fc630223a90>, <bert.run_classifier.InputFeatures object at 0x7fc630223898>, <bert.run_classifier.InputFeatures object at 0x7fc630221400>, <bert.run_classifier.InputFeatures object at 0x7fc630221320>, <bert.run_classifier.InputFeatures object at 0x7fc6302214a8>, <bert.run_classifier.InputFeatures object at 0x7fc630221f98>, <bert.run_classifier.InputFeatures object at 0x7fc630221da0>, <bert.run_classifier.InputFeatures object at 0x7fc630221748>, <bert.run_classifier.InputFeatures object at 0x7fc630231da0>, <bert.run_classifier.InputFeatures object at 0x7fc630231898>, <bert.run_classifier.InputFeatures object at 0x7fc630221588>, <bert.run_classifier.InputFeatures object at 0x7fc630221f60>, <bert.run_classifier.InputFeatures object at 0x7fc630221fd0>, <bert.run_classifier.InputFeatures object at 0x7fc6302315c0>, <bert.run_classifier.InputFeatures object at 0x7fc630221e10>, <bert.run_classifier.InputFeatures object at 0x7fc630231828>, <bert.run_classifier.InputFeatures object at 0x7fc630231dd8>, <bert.run_classifier.InputFeatures object at 0x7fc630231908>, <bert.run_classifier.InputFeatures object at 0x7fc630231a90>, <bert.run_classifier.InputFeatures object at 0x7fc630231ac8>, <bert.run_classifier.InputFeatures object at 0x7fc630231ba8>, <bert.run_classifier.InputFeatures object at 0x7fc630223940>, <bert.run_classifier.InputFeatures object at 0x7fc630223710>, <bert.run_classifier.InputFeatures object at 0x7fc630223ef0>, <bert.run_classifier.InputFeatures object at 0x7fc630223c88>, <bert.run_classifier.InputFeatures object at 0x7fc6302239b0>, <bert.run_classifier.InputFeatures object at 0x7fc630223dd8>, <bert.run_classifier.InputFeatures object at 0x7fc630223630>, <bert.run_classifier.InputFeatures object at 0x7fc630223cc0>, <bert.run_classifier.InputFeatures object at 0x7fc630221828>, <bert.run_classifier.InputFeatures object at 0x7fc630231400>, <bert.run_classifier.InputFeatures object at 0x7fc630227470>, <bert.run_classifier.InputFeatures object at 0x7fc630227c88>, <bert.run_classifier.InputFeatures object at 0x7fc630227eb8>, <bert.run_classifier.InputFeatures object at 0x7fc630221128>, <bert.run_classifier.InputFeatures object at 0x7fc630231470>, <bert.run_classifier.InputFeatures object at 0x7fc630221908>, <bert.run_classifier.InputFeatures object at 0x7fc630231f60>, <bert.run_classifier.InputFeatures object at 0x7fc630231c88>, <bert.run_classifier.InputFeatures object at 0x7fc630231fd0>, <bert.run_classifier.InputFeatures object at 0x7fc630231c18>, <bert.run_classifier.InputFeatures object at 0x7fc6302312e8>, <bert.run_classifier.InputFeatures object at 0x7fc6302311d0>, <bert.run_classifier.InputFeatures object at 0x7fc630231160>, <bert.run_classifier.InputFeatures object at 0x7fc630215e10>, <bert.run_classifier.InputFeatures object at 0x7fc630215748>, <bert.run_classifier.InputFeatures object at 0x7fc6302190f0>, <bert.run_classifier.InputFeatures object at 0x7fc630231b70>, <bert.run_classifier.InputFeatures object at 0x7fc630231f98>, <bert.run_classifier.InputFeatures object at 0x7fc630231e80>, <bert.run_classifier.InputFeatures object at 0x7fc630231198>, <bert.run_classifier.InputFeatures object at 0x7fc6302192b0>, <bert.run_classifier.InputFeatures object at 0x7fc6302192e8>, <bert.run_classifier.InputFeatures object at 0x7fc6302193c8>, <bert.run_classifier.InputFeatures object at 0x7fc630219390>, <bert.run_classifier.InputFeatures object at 0x7fc630219358>, <bert.run_classifier.InputFeatures object at 0x7fc630221550>, <bert.run_classifier.InputFeatures object at 0x7fc6302215f8>, <bert.run_classifier.InputFeatures object at 0x7fc630221c88>, <bert.run_classifier.InputFeatures object at 0x7fc630215278>, <bert.run_classifier.InputFeatures object at 0x7fc6302313c8>, <bert.run_classifier.InputFeatures object at 0x7fc6302318d0>, <bert.run_classifier.InputFeatures object at 0x7fc6302154a8>, <bert.run_classifier.InputFeatures object at 0x7fc6302153c8>, <bert.run_classifier.InputFeatures object at 0x7fc630215080>, <bert.run_classifier.InputFeatures object at 0x7fc630223cf8>, <bert.run_classifier.InputFeatures object at 0x7fc630231c50>, <bert.run_classifier.InputFeatures object at 0x7fc630231d68>, <bert.run_classifier.InputFeatures object at 0x7fc630231ef0>, <bert.run_classifier.InputFeatures object at 0x7fc630231cf8>, <bert.run_classifier.InputFeatures object at 0x7fc630215dd8>, <bert.run_classifier.InputFeatures object at 0x7fc630215940>, <bert.run_classifier.InputFeatures object at 0x7fc630215ef0>, <bert.run_classifier.InputFeatures object at 0x7fc630215438>, <bert.run_classifier.InputFeatures object at 0x7fc630215208>, <bert.run_classifier.InputFeatures object at 0x7fc6302197b8>, <bert.run_classifier.InputFeatures object at 0x7fc630219908>, <bert.run_classifier.InputFeatures object at 0x7fc6302198d0>, <bert.run_classifier.InputFeatures object at 0x7fc630223eb8>, <bert.run_classifier.InputFeatures object at 0x7fc630215710>, <bert.run_classifier.InputFeatures object at 0x7fc630215320>, <bert.run_classifier.InputFeatures object at 0x7fc630223438>, <bert.run_classifier.InputFeatures object at 0x7fc630215358>, <bert.run_classifier.InputFeatures object at 0x7fc6302159b0>, <bert.run_classifier.InputFeatures object at 0x7fc6302152b0>, <bert.run_classifier.InputFeatures object at 0x7fc6302151d0>, <bert.run_classifier.InputFeatures object at 0x7fc630215cc0>, <bert.run_classifier.InputFeatures object at 0x7fc630215780>, <bert.run_classifier.InputFeatures object at 0x7fc630215d68>, <bert.run_classifier.InputFeatures object at 0x7fc6302150b8>, <bert.run_classifier.InputFeatures object at 0x7fc6302156d8>, <bert.run_classifier.InputFeatures object at 0x7fc630215518>, <bert.run_classifier.InputFeatures object at 0x7fc6302155f8>, <bert.run_classifier.InputFeatures object at 0x7fc630215e48>, <bert.run_classifier.InputFeatures object at 0x7fc630219128>, <bert.run_classifier.InputFeatures object at 0x7fc6302190b8>, <bert.run_classifier.InputFeatures object at 0x7fc630219080>, <bert.run_classifier.InputFeatures object at 0x7fc6302196a0>, <bert.run_classifier.InputFeatures object at 0x7fc630219048>, <bert.run_classifier.InputFeatures object at 0x7fc6302195c0>, <bert.run_classifier.InputFeatures object at 0x7fc630219208>, <bert.run_classifier.InputFeatures object at 0x7fc630223f98>, <bert.run_classifier.InputFeatures object at 0x7fc630221160>, <bert.run_classifier.InputFeatures object at 0x7fc630215be0>, <bert.run_classifier.InputFeatures object at 0x7fc630215c18>, <bert.run_classifier.InputFeatures object at 0x7fc6302237f0>, <bert.run_classifier.InputFeatures object at 0x7fc630223e48>, <bert.run_classifier.InputFeatures object at 0x7fc630223fd0>, <bert.run_classifier.InputFeatures object at 0x7fc630223d68>, <bert.run_classifier.InputFeatures object at 0x7fc6302236a0>, <bert.run_classifier.InputFeatures object at 0x7fc630221668>, <bert.run_classifier.InputFeatures object at 0x7fc630221a90>, <bert.run_classifier.InputFeatures object at 0x7fc630221f28>, <bert.run_classifier.InputFeatures object at 0x7fc630221ba8>, <bert.run_classifier.InputFeatures object at 0x7fc630221208>, <bert.run_classifier.InputFeatures object at 0x7fc630215908>, <bert.run_classifier.InputFeatures object at 0x7fc630215550>, <bert.run_classifier.InputFeatures object at 0x7fc630215630>, <bert.run_classifier.InputFeatures object at 0x7fc630219a20>, <bert.run_classifier.InputFeatures object at 0x7fc630215048>, <bert.run_classifier.InputFeatures object at 0x7fc630221710>, <bert.run_classifier.InputFeatures object at 0x7fc630223c18>, <bert.run_classifier.InputFeatures object at 0x7fc630221240>, <bert.run_classifier.InputFeatures object at 0x7fc6302216a0>, <bert.run_classifier.InputFeatures object at 0x7fc6302217f0>, <bert.run_classifier.InputFeatures object at 0x7fc630215eb8>, <bert.run_classifier.InputFeatures object at 0x7fc630221b38>, <bert.run_classifier.InputFeatures object at 0x7fc630215fd0>, <bert.run_classifier.InputFeatures object at 0x7fc6302218d0>, <bert.run_classifier.InputFeatures object at 0x7fc630215470>, <bert.run_classifier.InputFeatures object at 0x7fc630219d68>, <bert.run_classifier.InputFeatures object at 0x7fc630231208>, <bert.run_classifier.InputFeatures object at 0x7fc630231748>, <bert.run_classifier.InputFeatures object at 0x7fc6302317f0>, <bert.run_classifier.InputFeatures object at 0x7fc630231390>, <bert.run_classifier.InputFeatures object at 0x7fc630231240>, <bert.run_classifier.InputFeatures object at 0x7fc630231668>, <bert.run_classifier.InputFeatures object at 0x7fc6302310b8>, <bert.run_classifier.InputFeatures object at 0x7fc63021d048>, <bert.run_classifier.InputFeatures object at 0x7fc630231940>, <bert.run_classifier.InputFeatures object at 0x7fc6302316a0>, <bert.run_classifier.InputFeatures object at 0x7fc630231320>, <bert.run_classifier.InputFeatures object at 0x7fc630215cf8>, <bert.run_classifier.InputFeatures object at 0x7fc630223a20>, <bert.run_classifier.InputFeatures object at 0x7fc630223f60>, <bert.run_classifier.InputFeatures object at 0x7fc630231a58>, <bert.run_classifier.InputFeatures object at 0x7fc630219518>, <bert.run_classifier.InputFeatures object at 0x7fc630215f60>, <bert.run_classifier.InputFeatures object at 0x7fc630215c88>, <bert.run_classifier.InputFeatures object at 0x7fc630215b00>, <bert.run_classifier.InputFeatures object at 0x7fc630231978>, <bert.run_classifier.InputFeatures object at 0x7fc6302319b0>, <bert.run_classifier.InputFeatures object at 0x7fc630231be0>, <bert.run_classifier.InputFeatures object at 0x7fc6302219e8>, <bert.run_classifier.InputFeatures object at 0x7fc630221978>, <bert.run_classifier.InputFeatures object at 0x7fc630221860>, <bert.run_classifier.InputFeatures object at 0x7fc6302230f0>, <bert.run_classifier.InputFeatures object at 0x7fc630223278>, <bert.run_classifier.InputFeatures object at 0x7fc630223be0>, <bert.run_classifier.InputFeatures object at 0x7fc630223208>, <bert.run_classifier.InputFeatures object at 0x7fc63021d320>, <bert.run_classifier.InputFeatures object at 0x7fc63021d0f0>, <bert.run_classifier.InputFeatures object at 0x7fc630223b70>, <bert.run_classifier.InputFeatures object at 0x7fc630223ba8>, <bert.run_classifier.InputFeatures object at 0x7fc6302232e8>, <bert.run_classifier.InputFeatures object at 0x7fc6302316d8>, <bert.run_classifier.InputFeatures object at 0x7fc630219e10>, <bert.run_classifier.InputFeatures object at 0x7fc630231358>, <bert.run_classifier.InputFeatures object at 0x7fc630223a58>, <bert.run_classifier.InputFeatures object at 0x7fc630219f60>, <bert.run_classifier.InputFeatures object at 0x7fc630219f98>, <bert.run_classifier.InputFeatures object at 0x7fc630219400>, <bert.run_classifier.InputFeatures object at 0x7fc6302194a8>, <bert.run_classifier.InputFeatures object at 0x7fc630223048>, <bert.run_classifier.InputFeatures object at 0x7fc630219e48>, <bert.run_classifier.InputFeatures object at 0x7fc630223d30>, <bert.run_classifier.InputFeatures object at 0x7fc630223400>, <bert.run_classifier.InputFeatures object at 0x7fc630231d30>, <bert.run_classifier.InputFeatures object at 0x7fc630231b38>, <bert.run_classifier.InputFeatures object at 0x7fc6302312b0>, <bert.run_classifier.InputFeatures object at 0x7fc6302310f0>, <bert.run_classifier.InputFeatures object at 0x7fc6302237b8>, <bert.run_classifier.InputFeatures object at 0x7fc630223b00>, <bert.run_classifier.InputFeatures object at 0x7fc6302315f8>, <bert.run_classifier.InputFeatures object at 0x7fc630231e48>, <bert.run_classifier.InputFeatures object at 0x7fc630219668>, <bert.run_classifier.InputFeatures object at 0x7fc6302314a8>, <bert.run_classifier.InputFeatures object at 0x7fc630231438>, <bert.run_classifier.InputFeatures object at 0x7fc630219c18>, <bert.run_classifier.InputFeatures object at 0x7fc6301e9ef0>, <bert.run_classifier.InputFeatures object at 0x7fc630231278>, <bert.run_classifier.InputFeatures object at 0x7fc630231080>, <bert.run_classifier.InputFeatures object at 0x7fc630231eb8>, <bert.run_classifier.InputFeatures object at 0x7fc630219b00>, <bert.run_classifier.InputFeatures object at 0x7fc630231550>, <bert.run_classifier.InputFeatures object at 0x7fc630231860>, <bert.run_classifier.InputFeatures object at 0x7fc63021d128>, <bert.run_classifier.InputFeatures object at 0x7fc630219a90>, <bert.run_classifier.InputFeatures object at 0x7fc630219a58>, <bert.run_classifier.InputFeatures object at 0x7fc63021d9b0>, <bert.run_classifier.InputFeatures object at 0x7fc6301bf400>, <bert.run_classifier.InputFeatures object at 0x7fc6301bf4a8>, <bert.run_classifier.InputFeatures object at 0x7fc6301bf4e0>, <bert.run_classifier.InputFeatures object at 0x7fc6301bf470>, <bert.run_classifier.InputFeatures object at 0x7fc6301bf160>, <bert.run_classifier.InputFeatures object at 0x7fc6301bf320>, <bert.run_classifier.InputFeatures object at 0x7fc630223828>, <bert.run_classifier.InputFeatures object at 0x7fc630223f28>, <bert.run_classifier.InputFeatures object at 0x7fc6301e9908>, <bert.run_classifier.InputFeatures object at 0x7fc6301e9940>, <bert.run_classifier.InputFeatures object at 0x7fc63021ddd8>, <bert.run_classifier.InputFeatures object at 0x7fc63021deb8>, <bert.run_classifier.InputFeatures object at 0x7fc63021def0>, <bert.run_classifier.InputFeatures object at 0x7fc6301bf198>, <bert.run_classifier.InputFeatures object at 0x7fc63021da58>, <bert.run_classifier.InputFeatures object at 0x7fc630223358>, <bert.run_classifier.InputFeatures object at 0x7fc630223b38>, <bert.run_classifier.InputFeatures object at 0x7fc6302233c8>, <bert.run_classifier.InputFeatures object at 0x7fc6301e9860>, <bert.run_classifier.InputFeatures object at 0x7fc6301e97f0>, <bert.run_classifier.InputFeatures object at 0x7fc6301bfdd8>, <bert.run_classifier.InputFeatures object at 0x7fc6301bfcc0>, <bert.run_classifier.InputFeatures object at 0x7fc6301bf828>, <bert.run_classifier.InputFeatures object at 0x7fc6301bfb38>, <bert.run_classifier.InputFeatures object at 0x7fc6301c1320>, <bert.run_classifier.InputFeatures object at 0x7fc63021dac8>, <bert.run_classifier.InputFeatures object at 0x7fc63021da20>, <bert.run_classifier.InputFeatures object at 0x7fc63021dbe0>, <bert.run_classifier.InputFeatures object at 0x7fc63021d6a0>, <bert.run_classifier.InputFeatures object at 0x7fc6301bf7f0>, <bert.run_classifier.InputFeatures object at 0x7fc63021df98>, <bert.run_classifier.InputFeatures object at 0x7fc6301bf908>, <bert.run_classifier.InputFeatures object at 0x7fc6301bf5c0>, <bert.run_classifier.InputFeatures object at 0x7fc6301bf780>, <bert.run_classifier.InputFeatures object at 0x7fc6301bf978>, <bert.run_classifier.InputFeatures object at 0x7fc630223e10>, <bert.run_classifier.InputFeatures object at 0x7fc630223da0>, <bert.run_classifier.InputFeatures object at 0x7fc6301bfe48>, <bert.run_classifier.InputFeatures object at 0x7fc6302197f0>, <bert.run_classifier.InputFeatures object at 0x7fc6301e9710>, <bert.run_classifier.InputFeatures object at 0x7fc6301e9a20>, <bert.run_classifier.InputFeatures object at 0x7fc6301e9ac8>, <bert.run_classifier.InputFeatures object at 0x7fc6301e9438>, <bert.run_classifier.InputFeatures object at 0x7fc6301e9128>, <bert.run_classifier.InputFeatures object at 0x7fc6301e96d8>, <bert.run_classifier.InputFeatures object at 0x7fc63021dd68>, <bert.run_classifier.InputFeatures object at 0x7fc630223160>, <bert.run_classifier.InputFeatures object at 0x7fc630223780>, <bert.run_classifier.InputFeatures object at 0x7fc6302232b0>, <bert.run_classifier.InputFeatures object at 0x7fc630223470>, <bert.run_classifier.InputFeatures object at 0x7fc6302238d0>, <bert.run_classifier.InputFeatures object at 0x7fc6301c1d68>, <bert.run_classifier.InputFeatures object at 0x7fc6301c18d0>, <bert.run_classifier.InputFeatures object at 0x7fc6301c1780>, <bert.run_classifier.InputFeatures object at 0x7fc6301c1c50>, <bert.run_classifier.InputFeatures object at 0x7fc6301c1748>, <bert.run_classifier.InputFeatures object at 0x7fc6301c1cc0>, <bert.run_classifier.InputFeatures object at 0x7fc6301c1c18>, <bert.run_classifier.InputFeatures object at 0x7fc6301c1ba8>, <bert.run_classifier.InputFeatures object at 0x7fc6301c1828>, <bert.run_classifier.InputFeatures object at 0x7fc63021d710>, <bert.run_classifier.InputFeatures object at 0x7fc63021dcc0>, <bert.run_classifier.InputFeatures object at 0x7fc63021d2e8>, <bert.run_classifier.InputFeatures object at 0x7fc63021d4a8>, <bert.run_classifier.InputFeatures object at 0x7fc63021d1d0>, <bert.run_classifier.InputFeatures object at 0x7fc63021d8d0>, <bert.run_classifier.InputFeatures object at 0x7fc6302196d8>, <bert.run_classifier.InputFeatures object at 0x7fc630219240>, <bert.run_classifier.InputFeatures object at 0x7fc6302234e0>, <bert.run_classifier.InputFeatures object at 0x7fc6301c1630>, <bert.run_classifier.InputFeatures object at 0x7fc630223240>, <bert.run_classifier.InputFeatures object at 0x7fc6301c14e0>, <bert.run_classifier.InputFeatures object at 0x7fc6301c1978>, <bert.run_classifier.InputFeatures object at 0x7fc6301c1b00>, <bert.run_classifier.InputFeatures object at 0x7fc6301c12b0>, <bert.run_classifier.InputFeatures object at 0x7fc6301c1b70>, <bert.run_classifier.InputFeatures object at 0x7fc6301c1908>, <bert.run_classifier.InputFeatures object at 0x7fc6301c17f0>, <bert.run_classifier.InputFeatures object at 0x7fc6301c19e8>, <bert.run_classifier.InputFeatures object at 0x7fc6301c1a58>, <bert.run_classifier.InputFeatures object at 0x7fc6301c1048>, <bert.run_classifier.InputFeatures object at 0x7fc6301c1240>, <bert.run_classifier.InputFeatures object at 0x7fc6301c1e80>, <bert.run_classifier.InputFeatures object at 0x7fc6301c1160>, <bert.run_classifier.InputFeatures object at 0x7fc6301c1ef0>, <bert.run_classifier.InputFeatures object at 0x7fc6301c1eb8>, <bert.run_classifier.InputFeatures object at 0x7fc6301c1438>, <bert.run_classifier.InputFeatures object at 0x7fc6301c12e8>, <bert.run_classifier.InputFeatures object at 0x7fc6301c10b8>, <bert.run_classifier.InputFeatures object at 0x7fc6301bf2b0>, <bert.run_classifier.InputFeatures object at 0x7fc6301bf898>, <bert.run_classifier.InputFeatures object at 0x7fc6301c1080>, <bert.run_classifier.InputFeatures object at 0x7fc6301bfc18>, <bert.run_classifier.InputFeatures object at 0x7fc63021d748>, <bert.run_classifier.InputFeatures object at 0x7fc6301bffd0>, <bert.run_classifier.InputFeatures object at 0x7fc6301bf390>, <bert.run_classifier.InputFeatures object at 0x7fc63021d518>, <bert.run_classifier.InputFeatures object at 0x7fc6301bf240>, <bert.run_classifier.InputFeatures object at 0x7fc63021d3c8>, <bert.run_classifier.InputFeatures object at 0x7fc6301c1470>, <bert.run_classifier.InputFeatures object at 0x7fc630223748>, <bert.run_classifier.InputFeatures object at 0x7fc630219978>, <bert.run_classifier.InputFeatures object at 0x7fc630219eb8>, <bert.run_classifier.InputFeatures object at 0x7fc630219898>, <bert.run_classifier.InputFeatures object at 0x7fc6301e9978>, <bert.run_classifier.InputFeatures object at 0x7fc630219550>, <bert.run_classifier.InputFeatures object at 0x7fc630219940>, <bert.run_classifier.InputFeatures object at 0x7fc630219710>, <bert.run_classifier.InputFeatures object at 0x7fc630219438>, <bert.run_classifier.InputFeatures object at 0x7fc630219588>, <bert.run_classifier.InputFeatures object at 0x7fc6302199e8>, <bert.run_classifier.InputFeatures object at 0x7fc6301c1400>, <bert.run_classifier.InputFeatures object at 0x7fc6301c1a90>, <bert.run_classifier.InputFeatures object at 0x7fc6301c16a0>, <bert.run_classifier.InputFeatures object at 0x7fc6301c1198>, <bert.run_classifier.InputFeatures object at 0x7fc6301c1860>, <bert.run_classifier.InputFeatures object at 0x7fc6301c1a20>, <bert.run_classifier.InputFeatures object at 0x7fc630219cf8>, <bert.run_classifier.InputFeatures object at 0x7fc6301bfd68>, <bert.run_classifier.InputFeatures object at 0x7fc6301bf3c8>, <bert.run_classifier.InputFeatures object at 0x7fc6301bfa58>, <bert.run_classifier.InputFeatures object at 0x7fc6301bf048>, <bert.run_classifier.InputFeatures object at 0x7fc6301bfba8>, <bert.run_classifier.InputFeatures object at 0x7fc6301c17b8>, <bert.run_classifier.InputFeatures object at 0x7fc63021dcf8>, <bert.run_classifier.InputFeatures object at 0x7fc63021d390>, <bert.run_classifier.InputFeatures object at 0x7fc6301e94a8>, <bert.run_classifier.InputFeatures object at 0x7fc6301e95c0>, <bert.run_classifier.InputFeatures object at 0x7fc63021d080>, <bert.run_classifier.InputFeatures object at 0x7fc63021d208>, <bert.run_classifier.InputFeatures object at 0x7fc63021d940>, <bert.run_classifier.InputFeatures object at 0x7fc63021d908>, <bert.run_classifier.InputFeatures object at 0x7fc63021d2b0>, <bert.run_classifier.InputFeatures object at 0x7fc63021d550>, <bert.run_classifier.InputFeatures object at 0x7fc63021d898>, <bert.run_classifier.InputFeatures object at 0x7fc63021d5f8>, <bert.run_classifier.InputFeatures object at 0x7fc63021d780>, <bert.run_classifier.InputFeatures object at 0x7fc63021d588>, <bert.run_classifier.InputFeatures object at 0x7fc630219c50>, <bert.run_classifier.InputFeatures object at 0x7fc63021d630>, <bert.run_classifier.InputFeatures object at 0x7fc6301b5f98>, <bert.run_classifier.InputFeatures object at 0x7fc6301b50b8>, <bert.run_classifier.InputFeatures object at 0x7fc6301b5860>, <bert.run_classifier.InputFeatures object at 0x7fc6301b50f0>, <bert.run_classifier.InputFeatures object at 0x7fc6301b5208>, <bert.run_classifier.InputFeatures object at 0x7fc6301b5128>, <bert.run_classifier.InputFeatures object at 0x7fc6301b5240>, <bert.run_classifier.InputFeatures object at 0x7fc6301b57b8>, <bert.run_classifier.InputFeatures object at 0x7fc6301b5160>, <bert.run_classifier.InputFeatures object at 0x7fc6301b5390>, <bert.run_classifier.InputFeatures object at 0x7fc6301b5080>, <bert.run_classifier.InputFeatures object at 0x7fc6301e9eb8>, <bert.run_classifier.InputFeatures object at 0x7fc6301e9f60>, <bert.run_classifier.InputFeatures object at 0x7fc6301e9048>, <bert.run_classifier.InputFeatures object at 0x7fc6301bfbe0>, <bert.run_classifier.InputFeatures object at 0x7fc630219d30>, <bert.run_classifier.InputFeatures object at 0x7fc630219fd0>, <bert.run_classifier.InputFeatures object at 0x7fc6301b5ef0>, <bert.run_classifier.InputFeatures object at 0x7fc6301b5278>, <bert.run_classifier.InputFeatures object at 0x7fc6301b5320>, <bert.run_classifier.InputFeatures object at 0x7fc6301e74e0>, <bert.run_classifier.InputFeatures object at 0x7fc630219780>, <bert.run_classifier.InputFeatures object at 0x7fc630219ba8>, <bert.run_classifier.InputFeatures object at 0x7fc6302199b0>, <bert.run_classifier.InputFeatures object at 0x7fc630219b70>, <bert.run_classifier.InputFeatures object at 0x7fc630219f28>, <bert.run_classifier.InputFeatures object at 0x7fc63021d668>, <bert.run_classifier.InputFeatures object at 0x7fc63021dfd0>, <bert.run_classifier.InputFeatures object at 0x7fc630219630>, <bert.run_classifier.InputFeatures object at 0x7fc630219ef0>, <bert.run_classifier.InputFeatures object at 0x7fc6301e9208>, <bert.run_classifier.InputFeatures object at 0x7fc6301e9e80>, <bert.run_classifier.InputFeatures object at 0x7fc6301e9198>, <bert.run_classifier.InputFeatures object at 0x7fc630219278>, <bert.run_classifier.InputFeatures object at 0x7fc630219470>, <bert.run_classifier.InputFeatures object at 0x7fc6301e9ba8>, <bert.run_classifier.InputFeatures object at 0x7fc6301e9320>, <bert.run_classifier.InputFeatures object at 0x7fc6301bfc50>, <bert.run_classifier.InputFeatures object at 0x7fc6301bfd30>, <bert.run_classifier.InputFeatures object at 0x7fc6301bf9b0>, <bert.run_classifier.InputFeatures object at 0x7fc630219e80>, <bert.run_classifier.InputFeatures object at 0x7fc6301b55c0>, <bert.run_classifier.InputFeatures object at 0x7fc630219320>, <bert.run_classifier.InputFeatures object at 0x7fc630219da0>, <bert.run_classifier.InputFeatures object at 0x7fc630219860>, <bert.run_classifier.InputFeatures object at 0x7fc630219c88>, <bert.run_classifier.InputFeatures object at 0x7fc630219828>, <bert.run_classifier.InputFeatures object at 0x7fc630219ac8>, <bert.run_classifier.InputFeatures object at 0x7fc6301e7cc0>, <bert.run_classifier.InputFeatures object at 0x7fc6302194e0>, <bert.run_classifier.InputFeatures object at 0x7fc630219dd8>, <bert.run_classifier.InputFeatures object at 0x7fc630219748>, <bert.run_classifier.InputFeatures object at 0x7fc6301b5828>, <bert.run_classifier.InputFeatures object at 0x7fc630219160>, <bert.run_classifier.InputFeatures object at 0x7fc6301e9e48>, <bert.run_classifier.InputFeatures object at 0x7fc6301e90f0>, <bert.run_classifier.InputFeatures object at 0x7fc630219be0>, <bert.run_classifier.InputFeatures object at 0x7fc6302191d0>, <bert.run_classifier.InputFeatures object at 0x7fc6301b57f0>, <bert.run_classifier.InputFeatures object at 0x7fc63021d860>, <bert.run_classifier.InputFeatures object at 0x7fc63021de10>, <bert.run_classifier.InputFeatures object at 0x7fc6301c1518>, <bert.run_classifier.InputFeatures object at 0x7fc6301c16d8>, <bert.run_classifier.InputFeatures object at 0x7fc6301c19b0>, <bert.run_classifier.InputFeatures object at 0x7fc6301c1128>, <bert.run_classifier.InputFeatures object at 0x7fc6301c1668>, <bert.run_classifier.InputFeatures object at 0x7fc6301c14a8>, <bert.run_classifier.InputFeatures object at 0x7fc6301e9588>, <bert.run_classifier.InputFeatures object at 0x7fc6301e9d30>, <bert.run_classifier.InputFeatures object at 0x7fc6301e9b70>, <bert.run_classifier.InputFeatures object at 0x7fc6301e9f98>, <bert.run_classifier.InputFeatures object at 0x7fc6301e9780>, <bert.run_classifier.InputFeatures object at 0x7fc6301e92b0>, <bert.run_classifier.InputFeatures object at 0x7fc6301e9dd8>, <bert.run_classifier.InputFeatures object at 0x7fc6301e9b38>, <bert.run_classifier.InputFeatures object at 0x7fc6301e90b8>, <bert.run_classifier.InputFeatures object at 0x7fc6301c1710>, <bert.run_classifier.InputFeatures object at 0x7fc6301bf278>, <bert.run_classifier.InputFeatures object at 0x7fc6301bf2e8>, <bert.run_classifier.InputFeatures object at 0x7fc6301e7f28>, <bert.run_classifier.InputFeatures object at 0x7fc6301e70f0>, <bert.run_classifier.InputFeatures object at 0x7fc6301bfef0>, <bert.run_classifier.InputFeatures object at 0x7fc6301bfe10>, <bert.run_classifier.InputFeatures object at 0x7fc63021d828>, <bert.run_classifier.InputFeatures object at 0x7fc63021d470>, <bert.run_classifier.InputFeatures object at 0x7fc63021d278>, <bert.run_classifier.InputFeatures object at 0x7fc63021dc88>, <bert.run_classifier.InputFeatures object at 0x7fc63021dd30>, <bert.run_classifier.InputFeatures object at 0x7fc6301e94e0>, <bert.run_classifier.InputFeatures object at 0x7fc6301bf7b8>, <bert.run_classifier.InputFeatures object at 0x7fc6301bf940>, <bert.run_classifier.InputFeatures object at 0x7fc6301bff28>, <bert.run_classifier.InputFeatures object at 0x7fc6301bf080>, <bert.run_classifier.InputFeatures object at 0x7fc6301bf5f8>, <bert.run_classifier.InputFeatures object at 0x7fc6301bff98>, <bert.run_classifier.InputFeatures object at 0x7fc630219b38>, <bert.run_classifier.InputFeatures object at 0x7fc630219cc0>, <bert.run_classifier.InputFeatures object at 0x7fc630219198>, <bert.run_classifier.InputFeatures object at 0x7fc6302195f8>, <bert.run_classifier.InputFeatures object at 0x7fc6301bf9e8>, <bert.run_classifier.InputFeatures object at 0x7fc6301bfa20>, <bert.run_classifier.InputFeatures object at 0x7fc6301bf1d0>, <bert.run_classifier.InputFeatures object at 0x7fc6301b5da0>, <bert.run_classifier.InputFeatures object at 0x7fc6301e7470>, <bert.run_classifier.InputFeatures object at 0x7fc6301e7668>, <bert.run_classifier.InputFeatures object at 0x7fc6301e7f60>, <bert.run_classifier.InputFeatures object at 0x7fc63021dda0>, <bert.run_classifier.InputFeatures object at 0x7fc63021df28>, <bert.run_classifier.InputFeatures object at 0x7fc6301bfda0>, <bert.run_classifier.InputFeatures object at 0x7fc63021d0b8>, <bert.run_classifier.InputFeatures object at 0x7fc6301e9d68>, <bert.run_classifier.InputFeatures object at 0x7fc6301c1390>, <bert.run_classifier.InputFeatures object at 0x7fc6301b52e8>, <bert.run_classifier.InputFeatures object at 0x7fc6301b5748>, <bert.run_classifier.InputFeatures object at 0x7fc6301b5550>, <bert.run_classifier.InputFeatures object at 0x7fc63021d438>, <bert.run_classifier.InputFeatures object at 0x7fc6301c1e10>, <bert.run_classifier.InputFeatures object at 0x7fc63021de48>, <bert.run_classifier.InputFeatures object at 0x7fc63021d7f0>, <bert.run_classifier.InputFeatures object at 0x7fc6301c11d0>, <bert.run_classifier.InputFeatures object at 0x7fc6301bfa90>, <bert.run_classifier.InputFeatures object at 0x7fc6301bf438>, <bert.run_classifier.InputFeatures object at 0x7fc6301bfac8>, <bert.run_classifier.InputFeatures object at 0x7fc6301bf550>, <bert.run_classifier.InputFeatures object at 0x7fc6301bf518>, <bert.run_classifier.InputFeatures object at 0x7fc63021d4e0>, <bert.run_classifier.InputFeatures object at 0x7fc6301e9cc0>, <bert.run_classifier.InputFeatures object at 0x7fc6301e9080>, <bert.run_classifier.InputFeatures object at 0x7fc6301e9898>, <bert.run_classifier.InputFeatures object at 0x7fc6301b5358>, <bert.run_classifier.InputFeatures object at 0x7fc6301e9a90>, <bert.run_classifier.InputFeatures object at 0x7fc6301e9278>, <bert.run_classifier.InputFeatures object at 0x7fc6301e9630>, <bert.run_classifier.InputFeatures object at 0x7fc6301e9fd0>, <bert.run_classifier.InputFeatures object at 0x7fc6301e9518>, <bert.run_classifier.InputFeatures object at 0x7fc6301e9390>, <bert.run_classifier.InputFeatures object at 0x7fc6301e9668>, <bert.run_classifier.InputFeatures object at 0x7fc6301b54e0>, <bert.run_classifier.InputFeatures object at 0x7fc6301b5b00>, <bert.run_classifier.InputFeatures object at 0x7fc6301b5978>, <bert.run_classifier.InputFeatures object at 0x7fc6301b5048>, <bert.run_classifier.InputFeatures object at 0x7fc6301b5a20>, <bert.run_classifier.InputFeatures object at 0x7fc6301e7128>, <bert.run_classifier.InputFeatures object at 0x7fc6301e7d68>, <bert.run_classifier.InputFeatures object at 0x7fc6301e7518>, <bert.run_classifier.InputFeatures object at 0x7fc6301e7390>, <bert.run_classifier.InputFeatures object at 0x7fc6301e9748>, <bert.run_classifier.InputFeatures object at 0x7fc6301e99e8>, <bert.run_classifier.InputFeatures object at 0x7fc6301c1ac8>, <bert.run_classifier.InputFeatures object at 0x7fc6301e9828>, <bert.run_classifier.InputFeatures object at 0x7fc6301e9f28>, <bert.run_classifier.InputFeatures object at 0x7fc6301e9e10>, <bert.run_classifier.InputFeatures object at 0x7fc6301c1da0>, <bert.run_classifier.InputFeatures object at 0x7fc6301c1e48>, <bert.run_classifier.InputFeatures object at 0x7fc6301bf208>, <bert.run_classifier.InputFeatures object at 0x7fc6301bff60>, <bert.run_classifier.InputFeatures object at 0x7fc6301bfcf8>, <bert.run_classifier.InputFeatures object at 0x7fc6301bf6d8>, <bert.run_classifier.InputFeatures object at 0x7fc6301e7208>, <bert.run_classifier.InputFeatures object at 0x7fc6301e96a0>, <bert.run_classifier.InputFeatures object at 0x7fc6301e9400>, <bert.run_classifier.InputFeatures object at 0x7fc6301e9b00>, <bert.run_classifier.InputFeatures object at 0x7fc6301e91d0>, <bert.run_classifier.InputFeatures object at 0x7fc6301e9c18>, <bert.run_classifier.InputFeatures object at 0x7fc6301e98d0>, <bert.run_classifier.InputFeatures object at 0x7fc6301e93c8>, <bert.run_classifier.InputFeatures object at 0x7fc6301e9da0>, <bert.run_classifier.InputFeatures object at 0x7fc6301e9240>, <bert.run_classifier.InputFeatures object at 0x7fc6301e74a8>, <bert.run_classifier.InputFeatures object at 0x7fc6301e7160>, <bert.run_classifier.InputFeatures object at 0x7fc6301e7860>, <bert.run_classifier.InputFeatures object at 0x7fc6301e7c50>, <bert.run_classifier.InputFeatures object at 0x7fc6301e7438>, <bert.run_classifier.InputFeatures object at 0x7fc6301e73c8>, <bert.run_classifier.InputFeatures object at 0x7fc6301e7c88>, <bert.run_classifier.InputFeatures object at 0x7fc6301e7898>, <bert.run_classifier.InputFeatures object at 0x7fc6301e7f98>, <bert.run_classifier.InputFeatures object at 0x7fc6301e7dd8>, <bert.run_classifier.InputFeatures object at 0x7fc6301e7a58>, <bert.run_classifier.InputFeatures object at 0x7fc6301e7b00>, <bert.run_classifier.InputFeatures object at 0x7fc6301bfeb8>, <bert.run_classifier.InputFeatures object at 0x7fc6301bfb00>, <bert.run_classifier.InputFeatures object at 0x7fc6301bf0b8>, <bert.run_classifier.InputFeatures object at 0x7fc6301bfb70>, <bert.run_classifier.InputFeatures object at 0x7fc6301bf0f0>, <bert.run_classifier.InputFeatures object at 0x7fc63021d160>, <bert.run_classifier.InputFeatures object at 0x7fc6301c1d30>, <bert.run_classifier.InputFeatures object at 0x7fc6301e9cf8>, <bert.run_classifier.InputFeatures object at 0x7fc63021dba8>, <bert.run_classifier.InputFeatures object at 0x7fc63021db70>, <bert.run_classifier.InputFeatures object at 0x7fc6301b52b0>, <bert.run_classifier.InputFeatures object at 0x7fc6301c13c8>, <bert.run_classifier.InputFeatures object at 0x7fc6301c1dd8>, <bert.run_classifier.InputFeatures object at 0x7fc6301c1be0>, <bert.run_classifier.InputFeatures object at 0x7fc6301bf748>, <bert.run_classifier.InputFeatures object at 0x7fc6301bfe80>, <bert.run_classifier.InputFeatures object at 0x7fc6301bf6a0>, <bert.run_classifier.InputFeatures object at 0x7fc63021dc18>, <bert.run_classifier.InputFeatures object at 0x7fc6301bf358>, <bert.run_classifier.InputFeatures object at 0x7fc6301bf860>, <bert.run_classifier.InputFeatures object at 0x7fc6301bf668>, <bert.run_classifier.InputFeatures object at 0x7fc6301bfc88>, <bert.run_classifier.InputFeatures object at 0x7fc6301bf128>, <bert.run_classifier.InputFeatures object at 0x7fc6301bf630>, <bert.run_classifier.InputFeatures object at 0x7fc6301bf588>, <bert.run_classifier.InputFeatures object at 0x7fc6301bf8d0>, <bert.run_classifier.InputFeatures object at 0x7fc6301bf710>, <bert.run_classifier.InputFeatures object at 0x7fc63021d400>, <bert.run_classifier.InputFeatures object at 0x7fc63021d7b8>, <bert.run_classifier.InputFeatures object at 0x7fc6301e7b38>, <bert.run_classifier.InputFeatures object at 0x7fc6301c1c88>, <bert.run_classifier.InputFeatures object at 0x7fc6301c10f0>, <bert.run_classifier.InputFeatures object at 0x7fc6301c1208>, <bert.run_classifier.InputFeatures object at 0x7fc6301b5780>, <bert.run_classifier.InputFeatures object at 0x7fc6301c1940>, <bert.run_classifier.InputFeatures object at 0x7fc6301b5cf8>, <bert.run_classifier.InputFeatures object at 0x7fc6301c1358>, <bert.run_classifier.InputFeatures object at 0x7fc6301e9470>, <bert.run_classifier.InputFeatures object at 0x7fc6301c1898>, <bert.run_classifier.InputFeatures object at 0x7fc6301c15c0>, <bert.run_classifier.InputFeatures object at 0x7fc6301b5b38>, <bert.run_classifier.InputFeatures object at 0x7fc6301c1278>, <bert.run_classifier.InputFeatures object at 0x7fc6301b5198>, <bert.run_classifier.InputFeatures object at 0x7fc6301c1f98>, <bert.run_classifier.InputFeatures object at 0x7fc6301b5e48>, <bert.run_classifier.InputFeatures object at 0x7fc6301b56a0>, <bert.run_classifier.InputFeatures object at 0x7fc6301b56d8>, <bert.run_classifier.InputFeatures object at 0x7fc6301e9160>, <bert.run_classifier.InputFeatures object at 0x7fc6301e99b0>, <bert.run_classifier.InputFeatures object at 0x7fc6301e95f8>, <bert.run_classifier.InputFeatures object at 0x7fc6301e97b8>, <bert.run_classifier.InputFeatures object at 0x7fc6301c1f28>, <bert.run_classifier.InputFeatures object at 0x7fc6301e75f8>, <bert.run_classifier.InputFeatures object at 0x7fc6301e70b8>, <bert.run_classifier.InputFeatures object at 0x7fc6301e7710>, <bert.run_classifier.InputFeatures object at 0x7fc6301e7978>, <bert.run_classifier.InputFeatures object at 0x7fc6301e7a20>, <bert.run_classifier.InputFeatures object at 0x7fc6301e71d0>, <bert.run_classifier.InputFeatures object at 0x7fc6301e79b0>, <bert.run_classifier.InputFeatures object at 0x7fc6301e7da0>, <bert.run_classifier.InputFeatures object at 0x7fc6301e78d0>, <bert.run_classifier.InputFeatures object at 0x7fc63021d5c0>, <bert.run_classifier.InputFeatures object at 0x7fc6301c1fd0>, <bert.run_classifier.InputFeatures object at 0x7fc6301c1588>, <bert.run_classifier.InputFeatures object at 0x7fc6301e7780>, <bert.run_classifier.InputFeatures object at 0x7fc6301c15f8>, <bert.run_classifier.InputFeatures object at 0x7fc6301d44e0>, <bert.run_classifier.InputFeatures object at 0x7fc6301c1b38>, <bert.run_classifier.InputFeatures object at 0x7fc6301c1cf8>, <bert.run_classifier.InputFeatures object at 0x7fc6301c1f60>, <bert.run_classifier.InputFeatures object at 0x7fc6301c1550>, <bert.run_classifier.InputFeatures object at 0x7fc6301b5438>, <bert.run_classifier.InputFeatures object at 0x7fc6301e77b8>, <bert.run_classifier.InputFeatures object at 0x7fc6301e7630>, <bert.run_classifier.InputFeatures object at 0x7fc6301e9be0>, <bert.run_classifier.InputFeatures object at 0x7fc6301e9c50>, <bert.run_classifier.InputFeatures object at 0x7fc6301d4e48>, <bert.run_classifier.InputFeatures object at 0x7fc6301e7a90>, <bert.run_classifier.InputFeatures object at 0x7fc6301e7ba8>, <bert.run_classifier.InputFeatures object at 0x7fc6301e7e48>, <bert.run_classifier.InputFeatures object at 0x7fc6301e7c18>, <bert.run_classifier.InputFeatures object at 0x7fc6301e7ac8>, <bert.run_classifier.InputFeatures object at 0x7fc6301e7b70>, <bert.run_classifier.InputFeatures object at 0x7fc63021d240>, <bert.run_classifier.InputFeatures object at 0x7fc6301efb38>, <bert.run_classifier.InputFeatures object at 0x7fc6301ef198>, <bert.run_classifier.InputFeatures object at 0x7fc6301ef550>, <bert.run_classifier.InputFeatures object at 0x7fc6301ef0b8>, <bert.run_classifier.InputFeatures object at 0x7fc6301ef080>, <bert.run_classifier.InputFeatures object at 0x7fc6301d42e8>, <bert.run_classifier.InputFeatures object at 0x7fc6301e9c88>, <bert.run_classifier.InputFeatures object at 0x7fc6301ef208>, <bert.run_classifier.InputFeatures object at 0x7fc63021dc50>, <bert.run_classifier.InputFeatures object at 0x7fc63021d198>, <bert.run_classifier.InputFeatures object at 0x7fc6301e7048>, <bert.run_classifier.InputFeatures object at 0x7fc6301e9550>, <bert.run_classifier.InputFeatures object at 0x7fc6301e9358>, <bert.run_classifier.InputFeatures object at 0x7fc6301e9a58>, <bert.run_classifier.InputFeatures object at 0x7fc6301e92e8>, <bert.run_classifier.InputFeatures object at 0x7fc6301e7e10>, <bert.run_classifier.InputFeatures object at 0x7fc6301e7080>, <bert.run_classifier.InputFeatures object at 0x7fc6301e7828>, <bert.run_classifier.InputFeatures object at 0x7fc6301b5f60>, <bert.run_classifier.InputFeatures object at 0x7fc6301b5eb8>, <bert.run_classifier.InputFeatures object at 0x7fc6301ef278>, <bert.run_classifier.InputFeatures object at 0x7fc6301ef908>, <bert.run_classifier.InputFeatures object at 0x7fc6301ef2b0>, <bert.run_classifier.InputFeatures object at 0x7fc6301ef6a0>, <bert.run_classifier.InputFeatures object at 0x7fc6301e79e8>, <bert.run_classifier.InputFeatures object at 0x7fc6301e7240>, <bert.run_classifier.InputFeatures object at 0x7fc6301e7ef0>, <bert.run_classifier.InputFeatures object at 0x7fc6301e77f0>, <bert.run_classifier.InputFeatures object at 0x7fc6301b5588>, <bert.run_classifier.InputFeatures object at 0x7fc6301b54a8>, <bert.run_classifier.InputFeatures object at 0x7fc6301b5ac8>, <bert.run_classifier.InputFeatures object at 0x7fc6301e7e80>, <bert.run_classifier.InputFeatures object at 0x7fc6301e7748>, <bert.run_classifier.InputFeatures object at 0x7fc6301e7320>, <bert.run_classifier.InputFeatures object at 0x7fc63021df60>, <bert.run_classifier.InputFeatures object at 0x7fc6301e7eb8>, <bert.run_classifier.InputFeatures object at 0x7fc63021da90>, <bert.run_classifier.InputFeatures object at 0x7fc63021db00>, <bert.run_classifier.InputFeatures object at 0x7fc63021de80>, <bert.run_classifier.InputFeatures object at 0x7fc6301d4c18>, <bert.run_classifier.InputFeatures object at 0x7fc6301b5400>, <bert.run_classifier.InputFeatures object at 0x7fc6301b5fd0>, <bert.run_classifier.InputFeatures object at 0x7fc6301b5c18>, <bert.run_classifier.InputFeatures object at 0x7fc6301b5d68>, <bert.run_classifier.InputFeatures object at 0x7fc63021db38>, <bert.run_classifier.InputFeatures object at 0x7fc63021d358>, <bert.run_classifier.InputFeatures object at 0x7fc63021d9e8>, <bert.run_classifier.InputFeatures object at 0x7fc63021d978>, <bert.run_classifier.InputFeatures object at 0x7fc63021d6d8>, <bert.run_classifier.InputFeatures object at 0x7fc6301e7550>, <bert.run_classifier.InputFeatures object at 0x7fc6301e75c0>, <bert.run_classifier.InputFeatures object at 0x7fc6301e7278>, <bert.run_classifier.InputFeatures object at 0x7fc6301e7d30>, <bert.run_classifier.InputFeatures object at 0x7fc6301b5710>, <bert.run_classifier.InputFeatures object at 0x7fc6301b5a90>, <bert.run_classifier.InputFeatures object at 0x7fc6301b5cc0>, <bert.run_classifier.InputFeatures object at 0x7fc6301b5c50>, <bert.run_classifier.InputFeatures object at 0x7fc6301b51d0>, <bert.run_classifier.InputFeatures object at 0x7fc6301b53c8>, <bert.run_classifier.InputFeatures object at 0x7fc6301b5470>, <bert.run_classifier.InputFeatures object at 0x7fc6301b5e10>, <bert.run_classifier.InputFeatures object at 0x7fc6301b58d0>, <bert.run_classifier.InputFeatures object at 0x7fc6301b59e8>, <bert.run_classifier.InputFeatures object at 0x7fc6301b5ba8>, <bert.run_classifier.InputFeatures object at 0x7fc6301b5c88>, <bert.run_classifier.InputFeatures object at 0x7fc6301ef9b0>, <bert.run_classifier.InputFeatures object at 0x7fc6301ef5c0>, <bert.run_classifier.InputFeatures object at 0x7fc6301ef358>, <bert.run_classifier.InputFeatures object at 0x7fc6301ef3c8>, <bert.run_classifier.InputFeatures object at 0x7fc6301ef8d0>, <bert.run_classifier.InputFeatures object at 0x7fc6301efbe0>, <bert.run_classifier.InputFeatures object at 0x7fc6301ef898>, <bert.run_classifier.InputFeatures object at 0x7fc6301efa90>, <bert.run_classifier.InputFeatures object at 0x7fc6301efc50>, <bert.run_classifier.InputFeatures object at 0x7fc6301ef7f0>, <bert.run_classifier.InputFeatures object at 0x7fc6301ef940>, <bert.run_classifier.InputFeatures object at 0x7fc6301b5940>, <bert.run_classifier.InputFeatures object at 0x7fc6301ef160>, <bert.run_classifier.InputFeatures object at 0x7fc6301ef7b8>, <bert.run_classifier.InputFeatures object at 0x7fc6301ef630>, <bert.run_classifier.InputFeatures object at 0x7fc6301ef470>, <bert.run_classifier.InputFeatures object at 0x7fc6301efc88>, <bert.run_classifier.InputFeatures object at 0x7fc6301d4518>, <bert.run_classifier.InputFeatures object at 0x7fc6301d40f0>, <bert.run_classifier.InputFeatures object at 0x7fc6301d4710>, <bert.run_classifier.InputFeatures object at 0x7fc6301d4160>, <bert.run_classifier.InputFeatures object at 0x7fc6301d4e80>, <bert.run_classifier.InputFeatures object at 0x7fc6301d41d0>, <bert.run_classifier.InputFeatures object at 0x7fc6301d4278>, <bert.run_classifier.InputFeatures object at 0x7fc6301d48d0>, <bert.run_classifier.InputFeatures object at 0x7fc6301d4f98>, <bert.run_classifier.InputFeatures object at 0x7fc6301d46a0>, <bert.run_classifier.InputFeatures object at 0x7fc6301c6128>, <bert.run_classifier.InputFeatures object at 0x7fc6301c65f8>, <bert.run_classifier.InputFeatures object at 0x7fc6301c60b8>, <bert.run_classifier.InputFeatures object at 0x7fc6301c60f0>, <bert.run_classifier.InputFeatures object at 0x7fc6301c6198>, <bert.run_classifier.InputFeatures object at 0x7fc6301c61d0>, <bert.run_classifier.InputFeatures object at 0x7fc6301c6048>, <bert.run_classifier.InputFeatures object at 0x7fc6301c6828>, <bert.run_classifier.InputFeatures object at 0x7fc6301c6710>, <bert.run_classifier.InputFeatures object at 0x7fc6301e7cf8>, <bert.run_classifier.InputFeatures object at 0x7fc6301ef390>, <bert.run_classifier.InputFeatures object at 0x7fc6301efe48>, <bert.run_classifier.InputFeatures object at 0x7fc6301c66a0>, <bert.run_classifier.InputFeatures object at 0x7fc6301efdd8>, <bert.run_classifier.InputFeatures object at 0x7fc6301ef4a8>, <bert.run_classifier.InputFeatures object at 0x7fc6301ef438>, <bert.run_classifier.InputFeatures object at 0x7fc6301efa58>, <bert.run_classifier.InputFeatures object at 0x7fc6301efcc0>, <bert.run_classifier.InputFeatures object at 0x7fc6301ef5f8>, <bert.run_classifier.InputFeatures object at 0x7fc6301ef9e8>, <bert.run_classifier.InputFeatures object at 0x7fc6301d4b70>, <bert.run_classifier.InputFeatures object at 0x7fc6301efc18>, <bert.run_classifier.InputFeatures object at 0x7fc6301ef048>, <bert.run_classifier.InputFeatures object at 0x7fc6301ef240>, <bert.run_classifier.InputFeatures object at 0x7fc6301ef748>, <bert.run_classifier.InputFeatures object at 0x7fc6301efa20>, <bert.run_classifier.InputFeatures object at 0x7fc6301ef668>, <bert.run_classifier.InputFeatures object at 0x7fc6301efac8>, <bert.run_classifier.InputFeatures object at 0x7fc6301b5630>, <bert.run_classifier.InputFeatures object at 0x7fc6301b5be0>, <bert.run_classifier.InputFeatures object at 0x7fc6301b5f28>, <bert.run_classifier.InputFeatures object at 0x7fc6301b5dd8>, <bert.run_classifier.InputFeatures object at 0x7fc6301e72e8>, <bert.run_classifier.InputFeatures object at 0x7fc6301b5518>, <bert.run_classifier.InputFeatures object at 0x7fc6301b5e80>, <bert.run_classifier.InputFeatures object at 0x7fc6301d47f0>, <bert.run_classifier.InputFeatures object at 0x7fc6301ef128>, <bert.run_classifier.InputFeatures object at 0x7fc6301e7198>, <bert.run_classifier.InputFeatures object at 0x7fc6301e7be0>, <bert.run_classifier.InputFeatures object at 0x7fc6301e7fd0>, <bert.run_classifier.InputFeatures object at 0x7fc6301e7588>, <bert.run_classifier.InputFeatures object at 0x7fc6301e76a0>, <bert.run_classifier.InputFeatures object at 0x7fc6301e72b0>, <bert.run_classifier.InputFeatures object at 0x7fc6301e7358>, <bert.run_classifier.InputFeatures object at 0x7fc6301ef588>, <bert.run_classifier.InputFeatures object at 0x7fc6301e76d8>, <bert.run_classifier.InputFeatures object at 0x7fc6301e7940>, <bert.run_classifier.InputFeatures object at 0x7fc6301e7908>, <bert.run_classifier.InputFeatures object at 0x7fc6301e7400>, <bert.run_classifier.InputFeatures object at 0x7fc6301d49b0>, <bert.run_classifier.InputFeatures object at 0x7fc6301d4588>, <bert.run_classifier.InputFeatures object at 0x7fc6301d4080>, <bert.run_classifier.InputFeatures object at 0x7fc6301d3278>, <bert.run_classifier.InputFeatures object at 0x7fc6301d31d0>, <bert.run_classifier.InputFeatures object at 0x7fc6301d35c0>, <bert.run_classifier.InputFeatures object at 0x7fc6301d3320>, <bert.run_classifier.InputFeatures object at 0x7fc6301d30f0>, <bert.run_classifier.InputFeatures object at 0x7fc6301d3048>, <bert.run_classifier.InputFeatures object at 0x7fc6301effd0>, <bert.run_classifier.InputFeatures object at 0x7fc6301ef710>, <bert.run_classifier.InputFeatures object at 0x7fc6301efba8>, <bert.run_classifier.InputFeatures object at 0x7fc6301ef828>, <bert.run_classifier.InputFeatures object at 0x7fc6301b5b70>, <bert.run_classifier.InputFeatures object at 0x7fc6301b5898>, <bert.run_classifier.InputFeatures object at 0x7fc6301c6be0>, <bert.run_classifier.InputFeatures object at 0x7fc6301b5668>, <bert.run_classifier.InputFeatures object at 0x7fc6301b5a58>, <bert.run_classifier.InputFeatures object at 0x7fc6301c6518>, <bert.run_classifier.InputFeatures object at 0x7fc6301c6f28>, <bert.run_classifier.InputFeatures object at 0x7fc6301d3c50>, <bert.run_classifier.InputFeatures object at 0x7fc6301c63c8>, <bert.run_classifier.InputFeatures object at 0x7fc6301c6a58>, <bert.run_classifier.InputFeatures object at 0x7fc6301b59b0>, <bert.run_classifier.InputFeatures object at 0x7fc6301b5d30>, <bert.run_classifier.InputFeatures object at 0x7fc6301b55f8>, <bert.run_classifier.InputFeatures object at 0x7fc6301ef860>, <bert.run_classifier.InputFeatures object at 0x7fc6301d3208>, <bert.run_classifier.InputFeatures object at 0x7fc6301b5908>, <bert.run_classifier.InputFeatures object at 0x7fc6301d36d8>, <bert.run_classifier.InputFeatures object at 0x7fc6301d36a0>, <bert.run_classifier.InputFeatures object at 0x7fc6301d3a20>, <bert.run_classifier.InputFeatures object at 0x7fc6301eff28>, <bert.run_classifier.InputFeatures object at 0x7fc6301d4240>, <bert.run_classifier.InputFeatures object at 0x7fc6301eff98>, <bert.run_classifier.InputFeatures object at 0x7fc6301efeb8>, <bert.run_classifier.InputFeatures object at 0x7fc6301efcf8>, <bert.run_classifier.InputFeatures object at 0x7fc6301efda0>, <bert.run_classifier.InputFeatures object at 0x7fc6301ef4e0>, <bert.run_classifier.InputFeatures object at 0x7fc6301c6fd0>, <bert.run_classifier.InputFeatures object at 0x7fc6301c62b0>, <bert.run_classifier.InputFeatures object at 0x7fc6301c6a90>, <bert.run_classifier.InputFeatures object at 0x7fc6301c6e10>, <bert.run_classifier.InputFeatures object at 0x7fc6301c6470>, <bert.run_classifier.InputFeatures object at 0x7fc6301efe80>, <bert.run_classifier.InputFeatures object at 0x7fc6301efd30>, <bert.run_classifier.InputFeatures object at 0x7fc6301d4630>, <bert.run_classifier.InputFeatures object at 0x7fc6301d4e10>, <bert.run_classifier.InputFeatures object at 0x7fc6301ef6d8>, <bert.run_classifier.InputFeatures object at 0x7fc6301efb70>, <bert.run_classifier.InputFeatures object at 0x7fc6301d4898>, <bert.run_classifier.InputFeatures object at 0x7fc6301d4eb8>, <bert.run_classifier.InputFeatures object at 0x7fc6301d4be0>, <bert.run_classifier.InputFeatures object at 0x7fc6301d4390>, <bert.run_classifier.InputFeatures object at 0x7fc6301c6908>, <bert.run_classifier.InputFeatures object at 0x7fc6301d4978>, <bert.run_classifier.InputFeatures object at 0x7fc6301c6748>, <bert.run_classifier.InputFeatures object at 0x7fc6301c6d68>, <bert.run_classifier.InputFeatures object at 0x7fc6301c6f98>, <bert.run_classifier.InputFeatures object at 0x7fc6301c6978>, <bert.run_classifier.InputFeatures object at 0x7fc6301c6668>, <bert.run_classifier.InputFeatures object at 0x7fc6301c6b70>, <bert.run_classifier.InputFeatures object at 0x7fc6301d49e8>, <bert.run_classifier.InputFeatures object at 0x7fc6301d4dd8>, <bert.run_classifier.InputFeatures object at 0x7fc6301d4128>, <bert.run_classifier.InputFeatures object at 0x7fc6301d45f8>, <bert.run_classifier.InputFeatures object at 0x7fc6301d4860>, <bert.run_classifier.InputFeatures object at 0x7fc6301d4208>, <bert.run_classifier.InputFeatures object at 0x7fc6301d4358>, <bert.run_classifier.InputFeatures object at 0x7fc6301d4ac8>, <bert.run_classifier.InputFeatures object at 0x7fc6301d3668>, <bert.run_classifier.InputFeatures object at 0x7fc6301d30b8>, <bert.run_classifier.InputFeatures object at 0x7fc6301ef320>, <bert.run_classifier.InputFeatures object at 0x7fc6301c68d0>, <bert.run_classifier.InputFeatures object at 0x7fc6301ef1d0>, <bert.run_classifier.InputFeatures object at 0x7fc6301ef518>, <bert.run_classifier.InputFeatures object at 0x7fc6301ef2e8>, <bert.run_classifier.InputFeatures object at 0x7fc6301c6630>, <bert.run_classifier.InputFeatures object at 0x7fc6301c6160>, <bert.run_classifier.InputFeatures object at 0x7fc6301c6208>, <bert.run_classifier.InputFeatures object at 0x7fc6301c6390>, <bert.run_classifier.InputFeatures object at 0x7fc6301c67f0>, <bert.run_classifier.InputFeatures object at 0x7fc6301c6940>, <bert.run_classifier.InputFeatures object at 0x7fc6301c5f60>, <bert.run_classifier.InputFeatures object at 0x7fc6301c50b8>, <bert.run_classifier.InputFeatures object at 0x7fc6301d3e10>, <bert.run_classifier.InputFeatures object at 0x7fc6301d3630>, <bert.run_classifier.InputFeatures object at 0x7fc6301d3550>, <bert.run_classifier.InputFeatures object at 0x7fc6301d3358>, <bert.run_classifier.InputFeatures object at 0x7fc6301d3940>, <bert.run_classifier.InputFeatures object at 0x7fc6301d3898>, <bert.run_classifier.InputFeatures object at 0x7fc6301d3ba8>, <bert.run_classifier.InputFeatures object at 0x7fc6301d3a58>, <bert.run_classifier.InputFeatures object at 0x7fc6301d3a90>, <bert.run_classifier.InputFeatures object at 0x7fc6301d3860>, <bert.run_classifier.InputFeatures object at 0x7fc6301d34e0>, <bert.run_classifier.InputFeatures object at 0x7fc6301c52b0>, <bert.run_classifier.InputFeatures object at 0x7fc6301d4828>, <bert.run_classifier.InputFeatures object at 0x7fc6301c6da0>, <bert.run_classifier.InputFeatures object at 0x7fc6301c53c8>, <bert.run_classifier.InputFeatures object at 0x7fc6301c5160>, <bert.run_classifier.InputFeatures object at 0x7fc6301d4748>, <bert.run_classifier.InputFeatures object at 0x7fc6301d4cf8>, <bert.run_classifier.InputFeatures object at 0x7fc6301d4908>, <bert.run_classifier.InputFeatures object at 0x7fc6301d4438>, <bert.run_classifier.InputFeatures object at 0x7fc6301d4198>, <bert.run_classifier.InputFeatures object at 0x7fc6301ef0f0>, <bert.run_classifier.InputFeatures object at 0x7fc6301c5a58>, <bert.run_classifier.InputFeatures object at 0x7fc6301c50f0>, <bert.run_classifier.InputFeatures object at 0x7fc6301c56d8>, <bert.run_classifier.InputFeatures object at 0x7fc6301c5940>, <bert.run_classifier.InputFeatures object at 0x7fc6301d4940>, <bert.run_classifier.InputFeatures object at 0x7fc6301d46d8>, <bert.run_classifier.InputFeatures object at 0x7fc6301d47b8>, <bert.run_classifier.InputFeatures object at 0x7fc6301ef978>, <bert.run_classifier.InputFeatures object at 0x7fc6301efe10>, <bert.run_classifier.InputFeatures object at 0x7fc6301ef400>, <bert.run_classifier.InputFeatures object at 0x7fc6301eff60>, <bert.run_classifier.InputFeatures object at 0x7fc6301ef780>, <bert.run_classifier.InputFeatures object at 0x7fc6301d40b8>, <bert.run_classifier.InputFeatures object at 0x7fc6301d4ef0>, <bert.run_classifier.InputFeatures object at 0x7fc6301d4cc0>, <bert.run_classifier.InputFeatures object at 0x7fc6301d3e48>, <bert.run_classifier.InputFeatures object at 0x7fc6301d3978>, <bert.run_classifier.InputFeatures object at 0x7fc6301d38d0>, <bert.run_classifier.InputFeatures object at 0x7fc6301efb00>, <bert.run_classifier.InputFeatures object at 0x7fc6301efd68>, <bert.run_classifier.InputFeatures object at 0x7fc6301efef0>, <bert.run_classifier.InputFeatures object at 0x7fc6301c6c88>, <bert.run_classifier.InputFeatures object at 0x7fc6301c6860>, <bert.run_classifier.InputFeatures object at 0x7fc6301c6358>, <bert.run_classifier.InputFeatures object at 0x7fc6301d4f28>, <bert.run_classifier.InputFeatures object at 0x7fc6301c5ac8>, <bert.run_classifier.InputFeatures object at 0x7fc6301c5080>, <bert.run_classifier.InputFeatures object at 0x7fc6301c5cc0>, <bert.run_classifier.InputFeatures object at 0x7fc6301d4b00>, <bert.run_classifier.InputFeatures object at 0x7fc6301d4550>, <bert.run_classifier.InputFeatures object at 0x7fc6301c6588>, <bert.run_classifier.InputFeatures object at 0x7fc6301d3518>, <bert.run_classifier.InputFeatures object at 0x7fc6301d3160>, <bert.run_classifier.InputFeatures object at 0x7fc6301d3390>, <bert.run_classifier.InputFeatures object at 0x7fc6301d3080>, <bert.run_classifier.InputFeatures object at 0x7fc6301d3d30>, <bert.run_classifier.InputFeatures object at 0x7fc6301d32b0>, <bert.run_classifier.InputFeatures object at 0x7fc6301d3780>, <bert.run_classifier.InputFeatures object at 0x7fc6301d4470>, <bert.run_classifier.InputFeatures object at 0x7fc6301d4c88>, <bert.run_classifier.InputFeatures object at 0x7fc6301d4048>, <bert.run_classifier.InputFeatures object at 0x7fc6301d4d30>, <bert.run_classifier.InputFeatures object at 0x7fc6301d44a8>, <bert.run_classifier.InputFeatures object at 0x7fc6301d3128>, <bert.run_classifier.InputFeatures object at 0x7fc6301d3400>, <bert.run_classifier.InputFeatures object at 0x7fc6301d3f60>, <bert.run_classifier.InputFeatures object at 0x7fc6301d3240>, <bert.run_classifier.InputFeatures object at 0x7fc6301d4400>, <bert.run_classifier.InputFeatures object at 0x7fc6301d4780>, <bert.run_classifier.InputFeatures object at 0x7fc6301d4a90>, <bert.run_classifier.InputFeatures object at 0x7fc6301d4fd0>, <bert.run_classifier.InputFeatures object at 0x7fc6301d4d68>, <bert.run_classifier.InputFeatures object at 0x7fc6301c5a20>, <bert.run_classifier.InputFeatures object at 0x7fc6301d4ba8>, <bert.run_classifier.InputFeatures object at 0x7fc6301c5898>, <bert.run_classifier.InputFeatures object at 0x7fc6301d43c8>, <bert.run_classifier.InputFeatures object at 0x7fc6301d4668>, <bert.run_classifier.InputFeatures object at 0x7fc6301d4da0>, <bert.run_classifier.InputFeatures object at 0x7fc6301d4f60>, <bert.run_classifier.InputFeatures object at 0x7fc6301d4b38>, <bert.run_classifier.InputFeatures object at 0x7fc6301d4a58>, <bert.run_classifier.InputFeatures object at 0x7fc6301d4a20>, <bert.run_classifier.InputFeatures object at 0x7fc6301d45c0>, <bert.run_classifier.InputFeatures object at 0x7fc6301c6438>, <bert.run_classifier.InputFeatures object at 0x7fc6301c5908>, <bert.run_classifier.InputFeatures object at 0x7fc6301c6c18>, <bert.run_classifier.InputFeatures object at 0x7fc6301c69e8>, <bert.run_classifier.InputFeatures object at 0x7fc6301c5dd8>, <bert.run_classifier.InputFeatures object at 0x7fc6301c5438>, <bert.run_classifier.InputFeatures object at 0x7fc6301c56a0>, <bert.run_classifier.InputFeatures object at 0x7fc6301c5ba8>, <bert.run_classifier.InputFeatures object at 0x7fc6301c5fd0>, <bert.run_classifier.InputFeatures object at 0x7fc6301d42b0>, <bert.run_classifier.InputFeatures object at 0x7fc6301d4320>, <bert.run_classifier.InputFeatures object at 0x7fc6301d4c50>, <bert.run_classifier.InputFeatures object at 0x7fc6301c5518>, <bert.run_classifier.InputFeatures object at 0x7fc6301d3b00>, <bert.run_classifier.InputFeatures object at 0x7fc6301d3ac8>, <bert.run_classifier.InputFeatures object at 0x7fc6301d39b0>, <bert.run_classifier.InputFeatures object at 0x7fc6301d37f0>, <bert.run_classifier.InputFeatures object at 0x7fc6301c6320>, <bert.run_classifier.InputFeatures object at 0x7fc6301d3f98>, <bert.run_classifier.InputFeatures object at 0x7fc6301d32e8>, <bert.run_classifier.InputFeatures object at 0x7fc6301d3c88>, <bert.run_classifier.InputFeatures object at 0x7fc6301d3588>, <bert.run_classifier.InputFeatures object at 0x7fc6301d3ef0>, <bert.run_classifier.InputFeatures object at 0x7fc6301c64a8>, <bert.run_classifier.InputFeatures object at 0x7fc6301c6a20>, <bert.run_classifier.InputFeatures object at 0x7fc6301d3b38>, <bert.run_classifier.InputFeatures object at 0x7fc6301c6898>, <bert.run_classifier.InputFeatures object at 0x7fc6301cc7f0>, <bert.run_classifier.InputFeatures object at 0x7fc6301cc390>, <bert.run_classifier.InputFeatures object at 0x7fc6301cc358>, <bert.run_classifier.InputFeatures object at 0x7fc6301c59e8>, <bert.run_classifier.InputFeatures object at 0x7fc6301d3da0>, <bert.run_classifier.InputFeatures object at 0x7fc6301d3d68>, <bert.run_classifier.InputFeatures object at 0x7fc6301d3cf8>, <bert.run_classifier.InputFeatures object at 0x7fc6301d3dd8>, <bert.run_classifier.InputFeatures object at 0x7fc6301cc6a0>, <bert.run_classifier.InputFeatures object at 0x7fc6301ccf60>, <bert.run_classifier.InputFeatures object at 0x7fc6301ccf28>, <bert.run_classifier.InputFeatures object at 0x7fc6301c57f0>, <bert.run_classifier.InputFeatures object at 0x7fc6301e6eb8>, <bert.run_classifier.InputFeatures object at 0x7fc6301e6358>, <bert.run_classifier.InputFeatures object at 0x7fc6301e61d0>, <bert.run_classifier.InputFeatures object at 0x7fc6301e60f0>, <bert.run_classifier.InputFeatures object at 0x7fc6301e6048>, <bert.run_classifier.InputFeatures object at 0x7fc6301c5358>, <bert.run_classifier.InputFeatures object at 0x7fc6301c55c0>, <bert.run_classifier.InputFeatures object at 0x7fc6301c5240>, <bert.run_classifier.InputFeatures object at 0x7fc6301e6a20>, <bert.run_classifier.InputFeatures object at 0x7fc6301e60b8>, <bert.run_classifier.InputFeatures object at 0x7fc6301e6a90>, <bert.run_classifier.InputFeatures object at 0x7fc6301e6710>, <bert.run_classifier.InputFeatures object at 0x7fc6301e6198>, <bert.run_classifier.InputFeatures object at 0x7fc6301e6208>, <bert.run_classifier.InputFeatures object at 0x7fc6301c5b70>, <bert.run_classifier.InputFeatures object at 0x7fc6301ec5f8>, <bert.run_classifier.InputFeatures object at 0x7fc6301ec160>, <bert.run_classifier.InputFeatures object at 0x7fc6301ec0b8>, <bert.run_classifier.InputFeatures object at 0x7fc6301ece48>, <bert.run_classifier.InputFeatures object at 0x7fc6301ec400>, <bert.run_classifier.InputFeatures object at 0x7fc6301c5320>, <bert.run_classifier.InputFeatures object at 0x7fc6301c54a8>, <bert.run_classifier.InputFeatures object at 0x7fc6301e6da0>, <bert.run_classifier.InputFeatures object at 0x7fc6301e6c50>, <bert.run_classifier.InputFeatures object at 0x7fc6301e6080>, <bert.run_classifier.InputFeatures object at 0x7fc6301c6d30>, <bert.run_classifier.InputFeatures object at 0x7fc6301c6278>, <bert.run_classifier.InputFeatures object at 0x7fc6301c6ba8>, <bert.run_classifier.InputFeatures object at 0x7fc6301e6278>, <bert.run_classifier.InputFeatures object at 0x7fc6301c6080>, <bert.run_classifier.InputFeatures object at 0x7fc6301c6ac8>, <bert.run_classifier.InputFeatures object at 0x7fc6301c6dd8>, <bert.run_classifier.InputFeatures object at 0x7fc6301c6e48>, <bert.run_classifier.InputFeatures object at 0x7fc6301c6c50>, <bert.run_classifier.InputFeatures object at 0x7fc6301c66d8>, <bert.run_classifier.InputFeatures object at 0x7fc6301c6400>, <bert.run_classifier.InputFeatures object at 0x7fc6301c6240>, <bert.run_classifier.InputFeatures object at 0x7fc6301c6b38>, <bert.run_classifier.InputFeatures object at 0x7fc6301c62e8>, <bert.run_classifier.InputFeatures object at 0x7fc6301e64a8>, <bert.run_classifier.InputFeatures object at 0x7fc6301e6e80>, <bert.run_classifier.InputFeatures object at 0x7fc6301e6588>, <bert.run_classifier.InputFeatures object at 0x7fc6301e67b8>, <bert.run_classifier.InputFeatures object at 0x7fc6301e6390>, <bert.run_classifier.InputFeatures object at 0x7fc6301e62b0>, <bert.run_classifier.InputFeatures object at 0x7fc6301e6438>, <bert.run_classifier.InputFeatures object at 0x7fc6301c6780>, <bert.run_classifier.InputFeatures object at 0x7fc6301c6e80>, <bert.run_classifier.InputFeatures object at 0x7fc6301c67b8>, <bert.run_classifier.InputFeatures object at 0x7fc6301d3f28>, <bert.run_classifier.InputFeatures object at 0x7fc6301c6cf8>, <bert.run_classifier.InputFeatures object at 0x7fc6301c6cc0>, <bert.run_classifier.InputFeatures object at 0x7fc6301c64e0>, <bert.run_classifier.InputFeatures object at 0x7fc6301c65c0>, <bert.run_classifier.InputFeatures object at 0x7fc6301c6f60>, <bert.run_classifier.InputFeatures object at 0x7fc6301e62e8>, <bert.run_classifier.InputFeatures object at 0x7fc6301c5860>, <bert.run_classifier.InputFeatures object at 0x7fc6301c6b00>, <bert.run_classifier.InputFeatures object at 0x7fc6301d3710>, <bert.run_classifier.InputFeatures object at 0x7fc6301c5e80>, <bert.run_classifier.InputFeatures object at 0x7fc6301ec5c0>, <bert.run_classifier.InputFeatures object at 0x7fc6301ecc18>, <bert.run_classifier.InputFeatures object at 0x7fc6301e6d68>, <bert.run_classifier.InputFeatures object at 0x7fc6301d3e80>, <bert.run_classifier.InputFeatures object at 0x7fc6301d3470>, <bert.run_classifier.InputFeatures object at 0x7fc6301d33c8>, <bert.run_classifier.InputFeatures object at 0x7fc6301d39e8>, <bert.run_classifier.InputFeatures object at 0x7fc6301d34a8>, <bert.run_classifier.InputFeatures object at 0x7fc6301d3b70>, <bert.run_classifier.InputFeatures object at 0x7fc6301d3c18>, <bert.run_classifier.InputFeatures object at 0x7fc6301d3eb8>, <bert.run_classifier.InputFeatures object at 0x7fc6301c5e10>, <bert.run_classifier.InputFeatures object at 0x7fc6301c5978>, <bert.run_classifier.InputFeatures object at 0x7fc6301c5588>, <bert.run_classifier.InputFeatures object at 0x7fc6301c5198>, <bert.run_classifier.InputFeatures object at 0x7fc6301c54e0>, <bert.run_classifier.InputFeatures object at 0x7fc6301cccc0>, <bert.run_classifier.InputFeatures object at 0x7fc6301ccda0>, <bert.run_classifier.InputFeatures object at 0x7fc6301ccd30>, <bert.run_classifier.InputFeatures object at 0x7fc6301ccfd0>, <bert.run_classifier.InputFeatures object at 0x7fc6301cc2b0>, <bert.run_classifier.InputFeatures object at 0x7fc6301ccc88>, <bert.run_classifier.InputFeatures object at 0x7fc6301c69b0>, <bert.run_classifier.InputFeatures object at 0x7fc6301c6eb8>, <bert.run_classifier.InputFeatures object at 0x7fc6301c6ef0>, <bert.run_classifier.InputFeatures object at 0x7fc6301c6550>, <bert.run_classifier.InputFeatures object at 0x7fc6301e6748>, <bert.run_classifier.InputFeatures object at 0x7fc6301d3828>, <bert.run_classifier.InputFeatures object at 0x7fc6301e6550>, <bert.run_classifier.InputFeatures object at 0x7fc6301e6b38>, <bert.run_classifier.InputFeatures object at 0x7fc6301e6630>, <bert.run_classifier.InputFeatures object at 0x7fc6301e6e10>, <bert.run_classifier.InputFeatures object at 0x7fc6301e6f60>, <bert.run_classifier.InputFeatures object at 0x7fc6301e6b00>, <bert.run_classifier.InputFeatures object at 0x7fc6301e6978>, <bert.run_classifier.InputFeatures object at 0x7fc6301e65c0>, <bert.run_classifier.InputFeatures object at 0x7fc6301e66d8>, <bert.run_classifier.InputFeatures object at 0x7fc6301e6dd8>, <bert.run_classifier.InputFeatures object at 0x7fc6301cc048>, <bert.run_classifier.InputFeatures object at 0x7fc6301ccb38>, <bert.run_classifier.InputFeatures object at 0x7fc6301cc2e8>, <bert.run_classifier.InputFeatures object at 0x7fc6301ecb38>, <bert.run_classifier.InputFeatures object at 0x7fc6301ec3c8>, <bert.run_classifier.InputFeatures object at 0x7fc6301e6400>, <bert.run_classifier.InputFeatures object at 0x7fc6301e6240>, <bert.run_classifier.InputFeatures object at 0x7fc6301e6320>, <bert.run_classifier.InputFeatures object at 0x7fc6301e69e8>, <bert.run_classifier.InputFeatures object at 0x7fc6301e6ef0>, <bert.run_classifier.InputFeatures object at 0x7fc6301e6160>, <bert.run_classifier.InputFeatures object at 0x7fc6301e65f8>, <bert.run_classifier.InputFeatures object at 0x7fc6301e6470>, <bert.run_classifier.InputFeatures object at 0x7fc6301cc400>, <bert.run_classifier.InputFeatures object at 0x7fc6301ccac8>, <bert.run_classifier.InputFeatures object at 0x7fc6301ccba8>, <bert.run_classifier.InputFeatures object at 0x7fc6301ec908>, <bert.run_classifier.InputFeatures object at 0x7fc6301ec240>, <bert.run_classifier.InputFeatures object at 0x7fc6301ecd30>, <bert.run_classifier.InputFeatures object at 0x7fc6301d3748>, <bert.run_classifier.InputFeatures object at 0x7fc6301e63c8>, <bert.run_classifier.InputFeatures object at 0x7fc6301e64e0>, <bert.run_classifier.InputFeatures object at 0x7fc6301e6a58>, <bert.run_classifier.InputFeatures object at 0x7fc6301e67f0>, <bert.run_classifier.InputFeatures object at 0x7fc6301d3908>, <bert.run_classifier.InputFeatures object at 0x7fc6301d37b8>, <bert.run_classifier.InputFeatures object at 0x7fc6301d3cc0>, <bert.run_classifier.InputFeatures object at 0x7fc6301e6c18>, <bert.run_classifier.InputFeatures object at 0x7fc6301e68d0>, <bert.run_classifier.InputFeatures object at 0x7fc6301e6128>, <bert.run_classifier.InputFeatures object at 0x7fc6301e6940>, <bert.run_classifier.InputFeatures object at 0x7fc6301e6828>, <bert.run_classifier.InputFeatures object at 0x7fc6301e6668>, <bert.run_classifier.InputFeatures object at 0x7fc6301e6908>, <bert.run_classifier.InputFeatures object at 0x7fc6301cc4e0>, <bert.run_classifier.InputFeatures object at 0x7fc6301d3be0>, <bert.run_classifier.InputFeatures object at 0x7fc6301d35f8>, <bert.run_classifier.InputFeatures object at 0x7fc6301e6518>, <bert.run_classifier.InputFeatures object at 0x7fc6301e6e48>, <bert.run_classifier.InputFeatures object at 0x7fc6301d3fd0>, <bert.run_classifier.InputFeatures object at 0x7fc6301d3438>, <bert.run_classifier.InputFeatures object at 0x7fc6301d3198>, <bert.run_classifier.InputFeatures object at 0x7fc6301e6f98>, <bert.run_classifier.InputFeatures object at 0x7fc6301e6c88>, <bert.run_classifier.InputFeatures object at 0x7fc6301e6860>, <bert.run_classifier.InputFeatures object at 0x7fc6301e6ba8>, <bert.run_classifier.InputFeatures object at 0x7fc6301e6898>, <bert.run_classifier.InputFeatures object at 0x7fc6301ec7b8>, <bert.run_classifier.InputFeatures object at 0x7fc6301ec128>, <bert.run_classifier.InputFeatures object at 0x7fc6301ec080>, <bert.run_classifier.InputFeatures object at 0x7fc6301e6be0>, <bert.run_classifier.InputFeatures object at 0x7fc6301c5b00>, <bert.run_classifier.InputFeatures object at 0x7fc6301e66a0>, <bert.run_classifier.InputFeatures object at 0x7fc6301e6780>, <bert.run_classifier.InputFeatures object at 0x7fc6301e6d30>, <bert.run_classifier.InputFeatures object at 0x7fc6301c5278>, <bert.run_classifier.InputFeatures object at 0x7fc6301e6ac8>, <bert.run_classifier.InputFeatures object at 0x7fc6301e6f28>, <bert.run_classifier.InputFeatures object at 0x7fc6301e6fd0>, <bert.run_classifier.InputFeatures object at 0x7fc6301e69b0>, <bert.run_classifier.InputFeatures object at 0x7fc6301e6b70>, <bert.run_classifier.InputFeatures object at 0x7fc6301e6cf8>, <bert.run_classifier.InputFeatures object at 0x7fc6301ec320>, <bert.run_classifier.InputFeatures object at 0x7fc6301e6cc0>, <bert.run_classifier.InputFeatures object at 0x7fc6301ec198>, <bert.run_classifier.InputFeatures object at 0x7fc6301ec780>, <bert.run_classifier.InputFeatures object at 0x7fc6301ec390>, <bert.run_classifier.InputFeatures object at 0x7fc6301c5828>, <bert.run_classifier.InputFeatures object at 0x7fc6301c5048>, <bert.run_classifier.InputFeatures object at 0x7fc6301ece10>, <bert.run_classifier.InputFeatures object at 0x7fc6301ec7f0>, <bert.run_classifier.InputFeatures object at 0x7fc6301e0fd0>, <bert.run_classifier.InputFeatures object at 0x7fc6301e0080>, <bert.run_classifier.InputFeatures object at 0x7fc6301e00b8>, <bert.run_classifier.InputFeatures object at 0x7fc6301e03c8>, <bert.run_classifier.InputFeatures object at 0x7fc6301e0048>, <bert.run_classifier.InputFeatures object at 0x7fc6301e0198>, <bert.run_classifier.InputFeatures object at 0x7fc6301e05f8>, <bert.run_classifier.InputFeatures object at 0x7fc6301e04e0>, <bert.run_classifier.InputFeatures object at 0x7fc6301e0160>, <bert.run_classifier.InputFeatures object at 0x7fc6301e0208>, <bert.run_classifier.InputFeatures object at 0x7fc6301e00f0>, <bert.run_classifier.InputFeatures object at 0x7fc6301e01d0>, <bert.run_classifier.InputFeatures object at 0x7fc6301e06d8>, <bert.run_classifier.InputFeatures object at 0x7fc6301cd390>, <bert.run_classifier.InputFeatures object at 0x7fc6301ecba8>, <bert.run_classifier.InputFeatures object at 0x7fc6300a8be0>, <bert.run_classifier.InputFeatures object at 0x7fc6300a8940>, <bert.run_classifier.InputFeatures object at 0x7fc6301cc908>, <bert.run_classifier.InputFeatures object at 0x7fc6300a8438>, <bert.run_classifier.InputFeatures object at 0x7fc6300a8e10>, <bert.run_classifier.InputFeatures object at 0x7fc6301c5780>, <bert.run_classifier.InputFeatures object at 0x7fc6301c5630>, <bert.run_classifier.InputFeatures object at 0x7fc6301c5748>, <bert.run_classifier.InputFeatures object at 0x7fc6301c5550>, <bert.run_classifier.InputFeatures object at 0x7fc6301c59b0>, <bert.run_classifier.InputFeatures object at 0x7fc6301e05c0>, <bert.run_classifier.InputFeatures object at 0x7fc6301e07f0>, <bert.run_classifier.InputFeatures object at 0x7fc6301e0b00>, <bert.run_classifier.InputFeatures object at 0x7fc6300a81d0>, <bert.run_classifier.InputFeatures object at 0x7fc6300a8d68>, <bert.run_classifier.InputFeatures object at 0x7fc6300a85c0>, <bert.run_classifier.InputFeatures object at 0x7fc6300a8630>, <bert.run_classifier.InputFeatures object at 0x7fc6301ec4e0>, <bert.run_classifier.InputFeatures object at 0x7fc6301ec748>, <bert.run_classifier.InputFeatures object at 0x7fc6301ec828>, <bert.run_classifier.InputFeatures object at 0x7fc6301ec668>, <bert.run_classifier.InputFeatures object at 0x7fc6301cdf60>, <bert.run_classifier.InputFeatures object at 0x7fc6301cdf98>, <bert.run_classifier.InputFeatures object at 0x7fc6301ec4a8>, <bert.run_classifier.InputFeatures object at 0x7fc6301ec978>, <bert.run_classifier.InputFeatures object at 0x7fc6301ec2b0>, <bert.run_classifier.InputFeatures object at 0x7fc6301ecf98>, <bert.run_classifier.InputFeatures object at 0x7fc6301ec6a0>, <bert.run_classifier.InputFeatures object at 0x7fc6301eca20>, <bert.run_classifier.InputFeatures object at 0x7fc6301ecc88>, <bert.run_classifier.InputFeatures object at 0x7fc6301c55f8>, <bert.run_classifier.InputFeatures object at 0x7fc6301c5128>, <bert.run_classifier.InputFeatures object at 0x7fc6301cc9e8>, <bert.run_classifier.InputFeatures object at 0x7fc6301c5da0>, <bert.run_classifier.InputFeatures object at 0x7fc6301c5ef0>, <bert.run_classifier.InputFeatures object at 0x7fc6301c5668>, <bert.run_classifier.InputFeatures object at 0x7fc6301c5208>, <bert.run_classifier.InputFeatures object at 0x7fc6301c5c88>, <bert.run_classifier.InputFeatures object at 0x7fc6301c5cf8>, <bert.run_classifier.InputFeatures object at 0x7fc6301c5d30>, <bert.run_classifier.InputFeatures object at 0x7fc6301c5f98>, <bert.run_classifier.InputFeatures object at 0x7fc6301c5710>, <bert.run_classifier.InputFeatures object at 0x7fc6301c5c50>, <bert.run_classifier.InputFeatures object at 0x7fc6301c5be0>, <bert.run_classifier.InputFeatures object at 0x7fc6300a8a58>, <bert.run_classifier.InputFeatures object at 0x7fc6300a8dd8>, <bert.run_classifier.InputFeatures object at 0x7fc6301e0ef0>, <bert.run_classifier.InputFeatures object at 0x7fc6301eccf8>, <bert.run_classifier.InputFeatures object at 0x7fc6300a8588>, <bert.run_classifier.InputFeatures object at 0x7fc6301ecc50>, <bert.run_classifier.InputFeatures object at 0x7fc6301ec0f0>, <bert.run_classifier.InputFeatures object at 0x7fc6301eca58>, <bert.run_classifier.InputFeatures object at 0x7fc6301ec6d8>, <bert.run_classifier.InputFeatures object at 0x7fc6301ec470>, <bert.run_classifier.InputFeatures object at 0x7fc6301e0710>, <bert.run_classifier.InputFeatures object at 0x7fc6301e0780>, <bert.run_classifier.InputFeatures object at 0x7fc6301e0b70>, <bert.run_classifier.InputFeatures object at 0x7fc6301e0c88>, <bert.run_classifier.InputFeatures object at 0x7fc6301cd3c8>, <bert.run_classifier.InputFeatures object at 0x7fc6301cd6d8>, <bert.run_classifier.InputFeatures object at 0x7fc6301cd470>, <bert.run_classifier.InputFeatures object at 0x7fc6301cd2b0>, <bert.run_classifier.InputFeatures object at 0x7fc6301cd630>, <bert.run_classifier.InputFeatures object at 0x7fc6301cd588>, <bert.run_classifier.InputFeatures object at 0x7fc6301cd080>, <bert.run_classifier.InputFeatures object at 0x7fc6301cd550>, <bert.run_classifier.InputFeatures object at 0x7fc6301cd518>, <bert.run_classifier.InputFeatures object at 0x7fc6300a8470>, <bert.run_classifier.InputFeatures object at 0x7fc6300a8748>, <bert.run_classifier.InputFeatures object at 0x7fc6300a8978>, <bert.run_classifier.InputFeatures object at 0x7fc6300a8358>, <bert.run_classifier.InputFeatures object at 0x7fc6300a8828>, <bert.run_classifier.InputFeatures object at 0x7fc6301e0240>, <bert.run_classifier.InputFeatures object at 0x7fc6301e0940>, <bert.run_classifier.InputFeatures object at 0x7fc6301e0cf8>, <bert.run_classifier.InputFeatures object at 0x7fc6301e0e80>, <bert.run_classifier.InputFeatures object at 0x7fc6301e0978>, <bert.run_classifier.InputFeatures object at 0x7fc6301e0c50>, <bert.run_classifier.InputFeatures object at 0x7fc6301e0ba8>, <bert.run_classifier.InputFeatures object at 0x7fc6301e0d30>, <bert.run_classifier.InputFeatures object at 0x7fc6301ecdd8>, <bert.run_classifier.InputFeatures object at 0x7fc6301ec710>, <bert.run_classifier.InputFeatures object at 0x7fc6301ec860>, <bert.run_classifier.InputFeatures object at 0x7fc6301ec9b0>, <bert.run_classifier.InputFeatures object at 0x7fc6301ec438>, <bert.run_classifier.InputFeatures object at 0x7fc6301ec358>, <bert.run_classifier.InputFeatures object at 0x7fc6301cc4a8>, <bert.run_classifier.InputFeatures object at 0x7fc6301cce10>, <bert.run_classifier.InputFeatures object at 0x7fc6301cc1d0>, <bert.run_classifier.InputFeatures object at 0x7fc6301cc748>, <bert.run_classifier.InputFeatures object at 0x7fc6301cc550>, <bert.run_classifier.InputFeatures object at 0x7fc6301ec1d0>, <bert.run_classifier.InputFeatures object at 0x7fc6301ecb00>, <bert.run_classifier.InputFeatures object at 0x7fc6301ec898>, <bert.run_classifier.InputFeatures object at 0x7fc6301ec2e8>, <bert.run_classifier.InputFeatures object at 0x7fc6301cdc18>, <bert.run_classifier.InputFeatures object at 0x7fc6301cdac8>, <bert.run_classifier.InputFeatures object at 0x7fc6301cd898>, <bert.run_classifier.InputFeatures object at 0x7fc6301cdd68>, <bert.run_classifier.InputFeatures object at 0x7fc6301cda20>, <bert.run_classifier.InputFeatures object at 0x7fc6301cd860>, <bert.run_classifier.InputFeatures object at 0x7fc6301cd8d0>, <bert.run_classifier.InputFeatures object at 0x7fc6301cd7f0>, <bert.run_classifier.InputFeatures object at 0x7fc6301c5d68>, <bert.run_classifier.InputFeatures object at 0x7fc6301c5400>, <bert.run_classifier.InputFeatures object at 0x7fc6301c5e48>, <bert.run_classifier.InputFeatures object at 0x7fc6301cd908>, <bert.run_classifier.InputFeatures object at 0x7fc6301cc438>, <bert.run_classifier.InputFeatures object at 0x7fc6301cde10>, <bert.run_classifier.InputFeatures object at 0x7fc6301cd208>, <bert.run_classifier.InputFeatures object at 0x7fc6300a8f98>, <bert.run_classifier.InputFeatures object at 0x7fc6300a8c18>, <bert.run_classifier.InputFeatures object at 0x7fc6300a8c50>, <bert.run_classifier.InputFeatures object at 0x7fc6301e0f28>, <bert.run_classifier.InputFeatures object at 0x7fc6301e0cc0>, <bert.run_classifier.InputFeatures object at 0x7fc6301e0da0>, <bert.run_classifier.InputFeatures object at 0x7fc6301c5a90>, <bert.run_classifier.InputFeatures object at 0x7fc6301c51d0>, <bert.run_classifier.InputFeatures object at 0x7fc6301ece80>, <bert.run_classifier.InputFeatures object at 0x7fc6301ecd68>, <bert.run_classifier.InputFeatures object at 0x7fc6301ecac8>, <bert.run_classifier.InputFeatures object at 0x7fc6301c5c18>, <bert.run_classifier.InputFeatures object at 0x7fc6301e0320>, <bert.run_classifier.InputFeatures object at 0x7fc6301c58d0>, <bert.run_classifier.InputFeatures object at 0x7fc6301c5470>, <bert.run_classifier.InputFeatures object at 0x7fc6301ecda0>, <bert.run_classifier.InputFeatures object at 0x7fc6301ec518>, <bert.run_classifier.InputFeatures object at 0x7fc6300a87f0>, <bert.run_classifier.InputFeatures object at 0x7fc6301cdd30>, <bert.run_classifier.InputFeatures object at 0x7fc6301ec8d0>, <bert.run_classifier.InputFeatures object at 0x7fc6301c5390>, <bert.run_classifier.InputFeatures object at 0x7fc6301ec630>, <bert.run_classifier.InputFeatures object at 0x7fc6301ecf60>, <bert.run_classifier.InputFeatures object at 0x7fc6301eceb8>, <bert.run_classifier.InputFeatures object at 0x7fc6301c57b8>, <bert.run_classifier.InputFeatures object at 0x7fc6300a89e8>, <bert.run_classifier.InputFeatures object at 0x7fc6301c5b38>, <bert.run_classifier.InputFeatures object at 0x7fc6301c52e8>, <bert.run_classifier.InputFeatures object at 0x7fc6301ec278>, <bert.run_classifier.InputFeatures object at 0x7fc6301c5f28>, <bert.run_classifier.InputFeatures object at 0x7fc6301eca90>, <bert.run_classifier.InputFeatures object at 0x7fc6301eccc0>, <bert.run_classifier.InputFeatures object at 0x7fc6301c5eb8>, <bert.run_classifier.InputFeatures object at 0x7fc6301ec208>, <bert.run_classifier.InputFeatures object at 0x7fc6301ecb70>, <bert.run_classifier.InputFeatures object at 0x7fc6301ccf98>, <bert.run_classifier.InputFeatures object at 0x7fc6301cc7b8>, <bert.run_classifier.InputFeatures object at 0x7fc6301cc320>, <bert.run_classifier.InputFeatures object at 0x7fc6301cc8d0>, <bert.run_classifier.InputFeatures object at 0x7fc6301cc0f0>, <bert.run_classifier.InputFeatures object at 0x7fc6301cc5c0>, <bert.run_classifier.InputFeatures object at 0x7fc6301cceb8>, <bert.run_classifier.InputFeatures object at 0x7fc6301cc198>, <bert.run_classifier.InputFeatures object at 0x7fc6301cc128>, <bert.run_classifier.InputFeatures object at 0x7fc6301cc828>, <bert.run_classifier.InputFeatures object at 0x7fc6301cc240>, <bert.run_classifier.InputFeatures object at 0x7fc6301ccbe0>, <bert.run_classifier.InputFeatures object at 0x7fc6301cc208>, <bert.run_classifier.InputFeatures object at 0x7fc6301ccb00>, <bert.run_classifier.InputFeatures object at 0x7fc6301cc630>, <bert.run_classifier.InputFeatures object at 0x7fc6301cc080>, <bert.run_classifier.InputFeatures object at 0x7fc6301e0d68>, <bert.run_classifier.InputFeatures object at 0x7fc6301cc278>, <bert.run_classifier.InputFeatures object at 0x7fc6301cc518>, <bert.run_classifier.InputFeatures object at 0x7fc6301ccef0>, <bert.run_classifier.InputFeatures object at 0x7fc6301cc860>, <bert.run_classifier.InputFeatures object at 0x7fc6301cc3c8>, <bert.run_classifier.InputFeatures object at 0x7fc6301cca58>, <bert.run_classifier.InputFeatures object at 0x7fc6301e02e8>, <bert.run_classifier.InputFeatures object at 0x7fc6301e0898>, <bert.run_classifier.InputFeatures object at 0x7fc6301ecf28>, <bert.run_classifier.InputFeatures object at 0x7fc6301ec550>, <bert.run_classifier.InputFeatures object at 0x7fc6301e0390>, <bert.run_classifier.InputFeatures object at 0x7fc6301e0128>, <bert.run_classifier.InputFeatures object at 0x7fc6301e0a20>, <bert.run_classifier.InputFeatures object at 0x7fc6301ec940>, <bert.run_classifier.InputFeatures object at 0x7fc6301cc6d8>, <bert.run_classifier.InputFeatures object at 0x7fc6301cc780>, <bert.run_classifier.InputFeatures object at 0x7fc6301ccb70>, <bert.run_classifier.InputFeatures object at 0x7fc6301ecfd0>, <bert.run_classifier.InputFeatures object at 0x7fc6301cc710>, <bert.run_classifier.InputFeatures object at 0x7fc6301cc5f8>, <bert.run_classifier.InputFeatures object at 0x7fc6301ccdd8>, <bert.run_classifier.InputFeatures object at 0x7fc6301cc898>, <bert.run_classifier.InputFeatures object at 0x7fc6301cc978>, <bert.run_classifier.InputFeatures object at 0x7fc6301cc0b8>, <bert.run_classifier.InputFeatures object at 0x7fc6301cc588>, <bert.run_classifier.InputFeatures object at 0x7fc6301cc470>, <bert.run_classifier.InputFeatures object at 0x7fc6301ecbe0>, <bert.run_classifier.InputFeatures object at 0x7fc6301ec588>, <bert.run_classifier.InputFeatures object at 0x7fc6301ec9e8>, <bert.run_classifier.InputFeatures object at 0x7fc6301ecef0>, <bert.run_classifier.InputFeatures object at 0x7fc6301ec048>, <bert.run_classifier.InputFeatures object at 0x7fc630082860>, <bert.run_classifier.InputFeatures object at 0x7fc630082080>, <bert.run_classifier.InputFeatures object at 0x7fc6301cce48>, <bert.run_classifier.InputFeatures object at 0x7fc6301cca90>, <bert.run_classifier.InputFeatures object at 0x7fc630082160>, <bert.run_classifier.InputFeatures object at 0x7fc6301cc9b0>, <bert.run_classifier.InputFeatures object at 0x7fc6301ccc50>, <bert.run_classifier.InputFeatures object at 0x7fc6301cccf8>, <bert.run_classifier.InputFeatures object at 0x7fc6301cc668>, <bert.run_classifier.InputFeatures object at 0x7fc6301ccd68>, <bert.run_classifier.InputFeatures object at 0x7fc6300824a8>, <bert.run_classifier.InputFeatures object at 0x7fc6301cc160>, <bert.run_classifier.InputFeatures object at 0x7fc6301cce80>, <bert.run_classifier.InputFeatures object at 0x7fc6301cc940>, <bert.run_classifier.InputFeatures object at 0x7fc6301cca20>, <bert.run_classifier.InputFeatures object at 0x7fc6300827b8>, <bert.run_classifier.InputFeatures object at 0x7fc6301ccc18>, <bert.run_classifier.InputFeatures object at 0x7fc6300a8048>, <bert.run_classifier.InputFeatures object at 0x7fc63007b0b8>, <bert.run_classifier.InputFeatures object at 0x7fc630082b70>, <bert.run_classifier.InputFeatures object at 0x7fc630082fd0>, <bert.run_classifier.InputFeatures object at 0x7fc6300a8f60>, <bert.run_classifier.InputFeatures object at 0x7fc6300a8ba8>, <bert.run_classifier.InputFeatures object at 0x7fc6300a8e80>, <bert.run_classifier.InputFeatures object at 0x7fc6300a8ef0>, <bert.run_classifier.InputFeatures object at 0x7fc630082630>, <bert.run_classifier.InputFeatures object at 0x7fc6300827f0>, <bert.run_classifier.InputFeatures object at 0x7fc6300822e8>, <bert.run_classifier.InputFeatures object at 0x7fc63007b048>, <bert.run_classifier.InputFeatures object at 0x7fc630082f60>, <bert.run_classifier.InputFeatures object at 0x7fc630082400>, <bert.run_classifier.InputFeatures object at 0x7fc630082550>, <bert.run_classifier.InputFeatures object at 0x7fc630082518>, <bert.run_classifier.InputFeatures object at 0x7fc630082588>, <bert.run_classifier.InputFeatures object at 0x7fc630082940>, <bert.run_classifier.InputFeatures object at 0x7fc630082438>, <bert.run_classifier.InputFeatures object at 0x7fc6301e0be0>, <bert.run_classifier.InputFeatures object at 0x7fc6301cd780>, <bert.run_classifier.InputFeatures object at 0x7fc6301cd5c0>, <bert.run_classifier.InputFeatures object at 0x7fc6301cd4e0>, <bert.run_classifier.InputFeatures object at 0x7fc6301cd1d0>, <bert.run_classifier.InputFeatures object at 0x7fc6301e0748>, <bert.run_classifier.InputFeatures object at 0x7fc6301e0b38>, <bert.run_classifier.InputFeatures object at 0x7fc6301e0588>, <bert.run_classifier.InputFeatures object at 0x7fc6301e0668>, <bert.run_classifier.InputFeatures object at 0x7fc6301cd438>, <bert.run_classifier.InputFeatures object at 0x7fc6301e0dd8>, <bert.run_classifier.InputFeatures object at 0x7fc6301e09b0>, <bert.run_classifier.InputFeatures object at 0x7fc6301e0550>, <bert.run_classifier.InputFeatures object at 0x7fc6301e0f98>, <bert.run_classifier.InputFeatures object at 0x7fc6301e0470>, <bert.run_classifier.InputFeatures object at 0x7fc6301e0e48>, <bert.run_classifier.InputFeatures object at 0x7fc6301e0278>, <bert.run_classifier.InputFeatures object at 0x7fc6301e0a90>, <bert.run_classifier.InputFeatures object at 0x7fc630082048>, <bert.run_classifier.InputFeatures object at 0x7fc630082a58>, <bert.run_classifier.InputFeatures object at 0x7fc630082cf8>, <bert.run_classifier.InputFeatures object at 0x7fc6300a8860>, <bert.run_classifier.InputFeatures object at 0x7fc6300a8b70>, <bert.run_classifier.InputFeatures object at 0x7fc6300a8128>, <bert.run_classifier.InputFeatures object at 0x7fc63007b6a0>, <bert.run_classifier.InputFeatures object at 0x7fc630082cc0>, <bert.run_classifier.InputFeatures object at 0x7fc6300829b0>, <bert.run_classifier.InputFeatures object at 0x7fc630082c18>, <bert.run_classifier.InputFeatures object at 0x7fc630082b00>, <bert.run_classifier.InputFeatures object at 0x7fc630082ac8>, <bert.run_classifier.InputFeatures object at 0x7fc6301e0908>, <bert.run_classifier.InputFeatures object at 0x7fc6301e0630>, <bert.run_classifier.InputFeatures object at 0x7fc6301e08d0>, <bert.run_classifier.InputFeatures object at 0x7fc6301e0860>, <bert.run_classifier.InputFeatures object at 0x7fc6301e0518>, <bert.run_classifier.InputFeatures object at 0x7fc6300826a0>, <bert.run_classifier.InputFeatures object at 0x7fc630082d30>, <bert.run_classifier.InputFeatures object at 0x7fc630082470>, <bert.run_classifier.InputFeatures object at 0x7fc6300822b0>, <bert.run_classifier.InputFeatures object at 0x7fc630082d68>, <bert.run_classifier.InputFeatures object at 0x7fc63007b550>, <bert.run_classifier.InputFeatures object at 0x7fc63007b4e0>, <bert.run_classifier.InputFeatures object at 0x7fc6300a8a20>, <bert.run_classifier.InputFeatures object at 0x7fc6300a8780>, <bert.run_classifier.InputFeatures object at 0x7fc6300a86d8>, <bert.run_classifier.InputFeatures object at 0x7fc6300a87b8>, <bert.run_classifier.InputFeatures object at 0x7fc6300a8da0>, <bert.run_classifier.InputFeatures object at 0x7fc6300a82b0>, <bert.run_classifier.InputFeatures object at 0x7fc6300a8198>, <bert.run_classifier.InputFeatures object at 0x7fc6300a8d30>, <bert.run_classifier.InputFeatures object at 0x7fc6300a8390>, <bert.run_classifier.InputFeatures object at 0x7fc6301e0f60>, <bert.run_classifier.InputFeatures object at 0x7fc6301e0438>, <bert.run_classifier.InputFeatures object at 0x7fc630082da0>, <bert.run_classifier.InputFeatures object at 0x7fc6301e0eb8>, <bert.run_classifier.InputFeatures object at 0x7fc630082358>, <bert.run_classifier.InputFeatures object at 0x7fc6300828d0>, <bert.run_classifier.InputFeatures object at 0x7fc630082710>, <bert.run_classifier.InputFeatures object at 0x7fc6300a8ac8>, <bert.run_classifier.InputFeatures object at 0x7fc630082390>, <bert.run_classifier.InputFeatures object at 0x7fc630082828>, <bert.run_classifier.InputFeatures object at 0x7fc630082be0>, <bert.run_classifier.InputFeatures object at 0x7fc6300a8518>, <bert.run_classifier.InputFeatures object at 0x7fc6301cdfd0>, <bert.run_classifier.InputFeatures object at 0x7fc6301cde48>, <bert.run_classifier.InputFeatures object at 0x7fc6301cdda0>, <bert.run_classifier.InputFeatures object at 0x7fc6301cda58>, <bert.run_classifier.InputFeatures object at 0x7fc6301e0ac8>, <bert.run_classifier.InputFeatures object at 0x7fc6301e0828>, <bert.run_classifier.InputFeatures object at 0x7fc6301e0358>, <bert.run_classifier.InputFeatures object at 0x7fc6301e02b0>, <bert.run_classifier.InputFeatures object at 0x7fc6301e06a0>, <bert.run_classifier.InputFeatures object at 0x7fc6301e09e8>, <bert.run_classifier.InputFeatures object at 0x7fc6301e0c18>, <bert.run_classifier.InputFeatures object at 0x7fc6301e0e10>, <bert.run_classifier.InputFeatures object at 0x7fc6301cdbe0>, <bert.run_classifier.InputFeatures object at 0x7fc6301cd0b8>, <bert.run_classifier.InputFeatures object at 0x7fc63007b0f0>, <bert.run_classifier.InputFeatures object at 0x7fc630082128>, <bert.run_classifier.InputFeatures object at 0x7fc6301e04a8>, <bert.run_classifier.InputFeatures object at 0x7fc6301e07b8>, <bert.run_classifier.InputFeatures object at 0x7fc630082198>, <bert.run_classifier.InputFeatures object at 0x7fc630082c88>, <bert.run_classifier.InputFeatures object at 0x7fc6300829e8>, <bert.run_classifier.InputFeatures object at 0x7fc6301e0a58>, <bert.run_classifier.InputFeatures object at 0x7fc6301e0400>, <bert.run_classifier.InputFeatures object at 0x7fc6300a8b00>, <bert.run_classifier.InputFeatures object at 0x7fc6300a8400>, <bert.run_classifier.InputFeatures object at 0x7fc6300a8908>, <bert.run_classifier.InputFeatures object at 0x7fc630082978>, <bert.run_classifier.InputFeatures object at 0x7fc630082a90>, <bert.run_classifier.InputFeatures object at 0x7fc630082668>, <bert.run_classifier.InputFeatures object at 0x7fc6300825f8>, <bert.run_classifier.InputFeatures object at 0x7fc6301cd2e8>, <bert.run_classifier.InputFeatures object at 0x7fc6301cd9e8>, <bert.run_classifier.InputFeatures object at 0x7fc6301cd978>, <bert.run_classifier.InputFeatures object at 0x7fc6301cdba8>, <bert.run_classifier.InputFeatures object at 0x7fc6301cd198>, <bert.run_classifier.InputFeatures object at 0x7fc6301cdc50>, <bert.run_classifier.InputFeatures object at 0x7fc6300a8cf8>, <bert.run_classifier.InputFeatures object at 0x7fc6301cdcc0>, <bert.run_classifier.InputFeatures object at 0x7fc6301cd400>, <bert.run_classifier.InputFeatures object at 0x7fc6301cd668>, <bert.run_classifier.InputFeatures object at 0x7fc630099f98>, <bert.run_classifier.InputFeatures object at 0x7fc6300999e8>, <bert.run_classifier.InputFeatures object at 0x7fc6300a8160>, <bert.run_classifier.InputFeatures object at 0x7fc630082eb8>, <bert.run_classifier.InputFeatures object at 0x7fc6300826d8>, <bert.run_classifier.InputFeatures object at 0x7fc630082a20>, <bert.run_classifier.InputFeatures object at 0x7fc6300821d0>, <bert.run_classifier.InputFeatures object at 0x7fc6300825c0>, <bert.run_classifier.InputFeatures object at 0x7fc6300824e0>, <bert.run_classifier.InputFeatures object at 0x7fc630082898>, <bert.run_classifier.InputFeatures object at 0x7fc63007bd30>, <bert.run_classifier.InputFeatures object at 0x7fc630099e80>, <bert.run_classifier.InputFeatures object at 0x7fc630099eb8>, <bert.run_classifier.InputFeatures object at 0x7fc6300a8cc0>, <bert.run_classifier.InputFeatures object at 0x7fc6300a8208>, <bert.run_classifier.InputFeatures object at 0x7fc6300a8f28>, <bert.run_classifier.InputFeatures object at 0x7fc6300a84a8>, <bert.run_classifier.InputFeatures object at 0x7fc6300a8b38>, <bert.run_classifier.InputFeatures object at 0x7fc6300a8898>, <bert.run_classifier.InputFeatures object at 0x7fc6300a8080>, <bert.run_classifier.InputFeatures object at 0x7fc630082e48>, <bert.run_classifier.InputFeatures object at 0x7fc6300a8710>, <bert.run_classifier.InputFeatures object at 0x7fc6300a8eb8>, <bert.run_classifier.InputFeatures object at 0x7fc6300a80b8>, <bert.run_classifier.InputFeatures object at 0x7fc6300a8e48>, <bert.run_classifier.InputFeatures object at 0x7fc6300a89b0>, <bert.run_classifier.InputFeatures object at 0x7fc6300a8550>, <bert.run_classifier.InputFeatures object at 0x7fc6300a86a0>, <bert.run_classifier.InputFeatures object at 0x7fc6300992b0>, <bert.run_classifier.InputFeatures object at 0x7fc630082ef0>, <bert.run_classifier.InputFeatures object at 0x7fc630082f28>, <bert.run_classifier.InputFeatures object at 0x7fc6300820b8>, <bert.run_classifier.InputFeatures object at 0x7fc6300820f0>, <bert.run_classifier.InputFeatures object at 0x7fc630082e80>, <bert.run_classifier.InputFeatures object at 0x7fc630082748>, <bert.run_classifier.InputFeatures object at 0x7fc6301cd5f8>, <bert.run_classifier.InputFeatures object at 0x7fc630082e10>, <bert.run_classifier.InputFeatures object at 0x7fc630082f98>, <bert.run_classifier.InputFeatures object at 0x7fc630082208>, <bert.run_classifier.InputFeatures object at 0x7fc630082908>, <bert.run_classifier.InputFeatures object at 0x7fc630082c50>, <bert.run_classifier.InputFeatures object at 0x7fc6301cdb00>, <bert.run_classifier.InputFeatures object at 0x7fc6301cd0f0>, <bert.run_classifier.InputFeatures object at 0x7fc6300a8a90>, <bert.run_classifier.InputFeatures object at 0x7fc6300a8fd0>, <bert.run_classifier.InputFeatures object at 0x7fc6300a8668>, <bert.run_classifier.InputFeatures object at 0x7fc6300a85f8>, <bert.run_classifier.InputFeatures object at 0x7fc6300a8240>, <bert.run_classifier.InputFeatures object at 0x7fc63007b080>, <bert.run_classifier.InputFeatures object at 0x7fc63007ba20>, <bert.run_classifier.InputFeatures object at 0x7fc63007bb00>, <bert.run_classifier.InputFeatures object at 0x7fc63007b7b8>, <bert.run_classifier.InputFeatures object at 0x7fc63007b8d0>, <bert.run_classifier.InputFeatures object at 0x7fc63007b828>, <bert.run_classifier.InputFeatures object at 0x7fc63007b4a8>, <bert.run_classifier.InputFeatures object at 0x7fc630082dd8>, <bert.run_classifier.InputFeatures object at 0x7fc63007b518>, <bert.run_classifier.InputFeatures object at 0x7fc63007b208>, <bert.run_classifier.InputFeatures object at 0x7fc630082ba8>, <bert.run_classifier.InputFeatures object at 0x7fc630082b38>, <bert.run_classifier.InputFeatures object at 0x7fc630082780>, <bert.run_classifier.InputFeatures object at 0x7fc630082278>, <bert.run_classifier.InputFeatures object at 0x7fc630082320>, <bert.run_classifier.InputFeatures object at 0x7fc6300823c8>, <bert.run_classifier.InputFeatures object at 0x7fc630082240>, <bert.run_classifier.InputFeatures object at 0x7fc630099ba8>, <bert.run_classifier.InputFeatures object at 0x7fc630099780>, <bert.run_classifier.InputFeatures object at 0x7fc630099358>, <bert.run_classifier.InputFeatures object at 0x7fc63007bbe0>, <bert.run_classifier.InputFeatures object at 0x7fc63007b470>, <bert.run_classifier.InputFeatures object at 0x7fc63007b240>, <bert.run_classifier.InputFeatures object at 0x7fc63007b2e8>, <bert.run_classifier.InputFeatures object at 0x7fc63007b358>, <bert.run_classifier.InputFeatures object at 0x7fc63007b5c0>, <bert.run_classifier.InputFeatures object at 0x7fc63007b198>, <bert.run_classifier.InputFeatures object at 0x7fc63007b278>, <bert.run_classifier.InputFeatures object at 0x7fc63007b978>, <bert.run_classifier.InputFeatures object at 0x7fc6300a88d0>, <bert.run_classifier.InputFeatures object at 0x7fc6300a82e8>, <bert.run_classifier.InputFeatures object at 0x7fc63007b400>, <bert.run_classifier.InputFeatures object at 0x7fc6300a83c8>, <bert.run_classifier.InputFeatures object at 0x7fc6300990f0>, <bert.run_classifier.InputFeatures object at 0x7fc63007b588>, <bert.run_classifier.InputFeatures object at 0x7fc63007b5f8>, <bert.run_classifier.InputFeatures object at 0x7fc63007b668>, <bert.run_classifier.InputFeatures object at 0x7fc63007bba8>, <bert.run_classifier.InputFeatures object at 0x7fc63007b1d0>, <bert.run_classifier.InputFeatures object at 0x7fc63007bcf8>, <bert.run_classifier.InputFeatures object at 0x7fc63007bcc0>, <bert.run_classifier.InputFeatures object at 0x7fc63007b3c8>, <bert.run_classifier.InputFeatures object at 0x7fc63007bc18>, <bert.run_classifier.InputFeatures object at 0x7fc63007b780>, <bert.run_classifier.InputFeatures object at 0x7fc63007bda0>, <bert.run_classifier.InputFeatures object at 0x7fc6301cdb38>, <bert.run_classifier.InputFeatures object at 0x7fc63007b390>, <bert.run_classifier.InputFeatures object at 0x7fc63007bd68>, <bert.run_classifier.InputFeatures object at 0x7fc63007bb38>, <bert.run_classifier.InputFeatures object at 0x7fc6300a84e0>, <bert.run_classifier.InputFeatures object at 0x7fc6301cd748>, <bert.run_classifier.InputFeatures object at 0x7fc6301cd358>, <bert.run_classifier.InputFeatures object at 0x7fc6301cd4a8>, <bert.run_classifier.InputFeatures object at 0x7fc63007b6d8>, <bert.run_classifier.InputFeatures object at 0x7fc6300a8278>, <bert.run_classifier.InputFeatures object at 0x7fc6300a8c88>, <bert.run_classifier.InputFeatures object at 0x7fc6300a8320>, <bert.run_classifier.InputFeatures object at 0x7fc6300a80f0>, <bert.run_classifier.InputFeatures object at 0x7fc63007b940>, <bert.run_classifier.InputFeatures object at 0x7fc6300acc50>, <bert.run_classifier.InputFeatures object at 0x7fc6300ac748>, <bert.run_classifier.InputFeatures object at 0x7fc6300ac208>, <bert.run_classifier.InputFeatures object at 0x7fc6300ac0b8>, <bert.run_classifier.InputFeatures object at 0x7fc6300ac668>, <bert.run_classifier.InputFeatures object at 0x7fc63007bb70>, <bert.run_classifier.InputFeatures object at 0x7fc6300ac390>, <bert.run_classifier.InputFeatures object at 0x7fc6300ac2e8>, <bert.run_classifier.InputFeatures object at 0x7fc630099668>, <bert.run_classifier.InputFeatures object at 0x7fc630099048>, <bert.run_classifier.InputFeatures object at 0x7fc6300991d0>, <bert.run_classifier.InputFeatures object at 0x7fc63007be48>, <bert.run_classifier.InputFeatures object at 0x7fc630099ac8>, <bert.run_classifier.InputFeatures object at 0x7fc63007beb8>, <bert.run_classifier.InputFeatures object at 0x7fc63007b160>, <bert.run_classifier.InputFeatures object at 0x7fc63007b128>, <bert.run_classifier.InputFeatures object at 0x7fc63007bc88>, <bert.run_classifier.InputFeatures object at 0x7fc63007b320>, <bert.run_classifier.InputFeatures object at 0x7fc63007b860>, <bert.run_classifier.InputFeatures object at 0x7fc63007bef0>, <bert.run_classifier.InputFeatures object at 0x7fc63007bf60>, <bert.run_classifier.InputFeatures object at 0x7fc63007b9b0>, <bert.run_classifier.InputFeatures object at 0x7fc6300ac240>, <bert.run_classifier.InputFeatures object at 0x7fc63007bac8>, <bert.run_classifier.InputFeatures object at 0x7fc63007b748>, <bert.run_classifier.InputFeatures object at 0x7fc6301cd278>, <bert.run_classifier.InputFeatures object at 0x7fc6301cddd8>, <bert.run_classifier.InputFeatures object at 0x7fc6301cd940>, <bert.run_classifier.InputFeatures object at 0x7fc6301cdeb8>, <bert.run_classifier.InputFeatures object at 0x7fc6301cdb70>, <bert.run_classifier.InputFeatures object at 0x7fc63007b7f0>, <bert.run_classifier.InputFeatures object at 0x7fc6301cda90>, <bert.run_classifier.InputFeatures object at 0x7fc6301cd160>, <bert.run_classifier.InputFeatures object at 0x7fc6301cd128>, <bert.run_classifier.InputFeatures object at 0x7fc63007be10>, <bert.run_classifier.InputFeatures object at 0x7fc6300ac128>, <bert.run_classifier.InputFeatures object at 0x7fc6301cd7b8>, <bert.run_classifier.InputFeatures object at 0x7fc6301cd828>, <bert.run_classifier.InputFeatures object at 0x7fc6301cdcf8>, <bert.run_classifier.InputFeatures object at 0x7fc6301cdef0>, <bert.run_classifier.InputFeatures object at 0x7fc6301cd710>, <bert.run_classifier.InputFeatures object at 0x7fc6301cd240>, <bert.run_classifier.InputFeatures object at 0x7fc6301cdc88>, <bert.run_classifier.InputFeatures object at 0x7fc6301cd6a0>, <bert.run_classifier.InputFeatures object at 0x7fc6301cd048>, <bert.run_classifier.InputFeatures object at 0x7fc630099e48>, <bert.run_classifier.InputFeatures object at 0x7fc6300acac8>, <bert.run_classifier.InputFeatures object at 0x7fc6300ac278>, <bert.run_classifier.InputFeatures object at 0x7fc6300ac320>, <bert.run_classifier.InputFeatures object at 0x7fc6300ac5f8>, <bert.run_classifier.InputFeatures object at 0x7fc6300ac6a0>, <bert.run_classifier.InputFeatures object at 0x7fc6300acbe0>, <bert.run_classifier.InputFeatures object at 0x7fc6300ac630>, <bert.run_classifier.InputFeatures object at 0x7fc6300ac550>, <bert.run_classifier.InputFeatures object at 0x7fc6300ac7f0>, <bert.run_classifier.InputFeatures object at 0x7fc63007bdd8>, <bert.run_classifier.InputFeatures object at 0x7fc63007b9e8>, <bert.run_classifier.InputFeatures object at 0x7fc6300ac908>, <bert.run_classifier.InputFeatures object at 0x7fc63007be80>, <bert.run_classifier.InputFeatures object at 0x7fc630099898>, <bert.run_classifier.InputFeatures object at 0x7fc63007b438>, <bert.run_classifier.InputFeatures object at 0x7fc63007b908>, <bert.run_classifier.InputFeatures object at 0x7fc63007b710>, <bert.run_classifier.InputFeatures object at 0x7fc63007bc50>, <bert.run_classifier.InputFeatures object at 0x7fc63007ba58>, <bert.run_classifier.InputFeatures object at 0x7fc63007bf28>, <bert.run_classifier.InputFeatures object at 0x7fc63007b2b0>, <bert.run_classifier.InputFeatures object at 0x7fc63007ba90>, <bert.run_classifier.InputFeatures object at 0x7fc6300ac860>, <bert.run_classifier.InputFeatures object at 0x7fc63007bf98>, <bert.run_classifier.InputFeatures object at 0x7fc63007b630>, <bert.run_classifier.InputFeatures object at 0x7fc63007b898>, <bert.run_classifier.InputFeatures object at 0x7fc63007bfd0>, <bert.run_classifier.InputFeatures object at 0x7fc630099390>, <bert.run_classifier.InputFeatures object at 0x7fc6300996d8>, <bert.run_classifier.InputFeatures object at 0x7fc6300999b0>, <bert.run_classifier.InputFeatures object at 0x7fc6300b20b8>, <bert.run_classifier.InputFeatures object at 0x7fc630099710>, <bert.run_classifier.InputFeatures object at 0x7fc630099630>, <bert.run_classifier.InputFeatures object at 0x7fc630099a20>, <bert.run_classifier.InputFeatures object at 0x7fc6300b2208>, <bert.run_classifier.InputFeatures object at 0x7fc6300b2198>, <bert.run_classifier.InputFeatures object at 0x7fc6300b21d0>, <bert.run_classifier.InputFeatures object at 0x7fc6300ac5c0>, <bert.run_classifier.InputFeatures object at 0x7fc6301cd9b0>, <bert.run_classifier.InputFeatures object at 0x7fc6300b26d8>, <bert.run_classifier.InputFeatures object at 0x7fc6301cde80>, <bert.run_classifier.InputFeatures object at 0x7fc6301cdf28>, <bert.run_classifier.InputFeatures object at 0x7fc6301cd320>, <bert.run_classifier.InputFeatures object at 0x7fc6300ac7b8>, <bert.run_classifier.InputFeatures object at 0x7fc6300ac1d0>, <bert.run_classifier.InputFeatures object at 0x7fc6300acf60>, <bert.run_classifier.InputFeatures object at 0x7fc6300ac710>, <bert.run_classifier.InputFeatures object at 0x7fc6300ac198>, <bert.run_classifier.InputFeatures object at 0x7fc630099cf8>, <bert.run_classifier.InputFeatures object at 0x7fc6300ac048>, <bert.run_classifier.InputFeatures object at 0x7fc6300ac080>, <bert.run_classifier.InputFeatures object at 0x7fc6300accf8>, <bert.run_classifier.InputFeatures object at 0x7fc6300ace80>, <bert.run_classifier.InputFeatures object at 0x7fc6300acb38>, <bert.run_classifier.InputFeatures object at 0x7fc6300acba8>, <bert.run_classifier.InputFeatures object at 0x7fc6300a60b8>, <bert.run_classifier.InputFeatures object at 0x7fc6300a6160>, <bert.run_classifier.InputFeatures object at 0x7fc6300a60f0>, <bert.run_classifier.InputFeatures object at 0x7fc6300a6080>, <bert.run_classifier.InputFeatures object at 0x7fc6300a6128>, <bert.run_classifier.InputFeatures object at 0x7fc6300a6048>, <bert.run_classifier.InputFeatures object at 0x7fc630099978>, <bert.run_classifier.InputFeatures object at 0x7fc6300a6908>, <bert.run_classifier.InputFeatures object at 0x7fc6300a69b0>, <bert.run_classifier.InputFeatures object at 0x7fc6300a6240>, <bert.run_classifier.InputFeatures object at 0x7fc6300b2d68>, <bert.run_classifier.InputFeatures object at 0x7fc6300b2438>, <bert.run_classifier.InputFeatures object at 0x7fc6300b2518>, <bert.run_classifier.InputFeatures object at 0x7fc6300a6710>, <bert.run_classifier.InputFeatures object at 0x7fc6300a6978>, <bert.run_classifier.InputFeatures object at 0x7fc6300a67b8>, <bert.run_classifier.InputFeatures object at 0x7fc6300a6a20>, <bert.run_classifier.InputFeatures object at 0x7fc6300a6898>, <bert.run_classifier.InputFeatures object at 0x7fc6300a6c50>, <bert.run_classifier.InputFeatures object at 0x7fc6300a6ba8>, <bert.run_classifier.InputFeatures object at 0x7fc6300a6dd8>, <bert.run_classifier.InputFeatures object at 0x7fc6300a6f98>, <bert.run_classifier.InputFeatures object at 0x7fc6300a6d30>, <bert.run_classifier.InputFeatures object at 0x7fc6300a6fd0>, <bert.run_classifier.InputFeatures object at 0x7fc6300a6c18>, <bert.run_classifier.InputFeatures object at 0x7fc6300a6c88>, <bert.run_classifier.InputFeatures object at 0x7fc6300aec88>, <bert.run_classifier.InputFeatures object at 0x7fc6300ae5f8>, <bert.run_classifier.InputFeatures object at 0x7fc6300b2080>, <bert.run_classifier.InputFeatures object at 0x7fc6300b22e8>, <bert.run_classifier.InputFeatures object at 0x7fc6300b24a8>, <bert.run_classifier.InputFeatures object at 0x7fc6300b2390>, <bert.run_classifier.InputFeatures object at 0x7fc6300b2320>, <bert.run_classifier.InputFeatures object at 0x7fc6300b2278>, <bert.run_classifier.InputFeatures object at 0x7fc6300a6198>, <bert.run_classifier.InputFeatures object at 0x7fc6300b23c8>, <bert.run_classifier.InputFeatures object at 0x7fc6300b2400>, <bert.run_classifier.InputFeatures object at 0x7fc6300b27f0>, <bert.run_classifier.InputFeatures object at 0x7fc6300a6da0>, <bert.run_classifier.InputFeatures object at 0x7fc6300a6e48>, <bert.run_classifier.InputFeatures object at 0x7fc6300a6eb8>, <bert.run_classifier.InputFeatures object at 0x7fc6300acd68>, <bert.run_classifier.InputFeatures object at 0x7fc6300aceb8>, <bert.run_classifier.InputFeatures object at 0x7fc630099940>, <bert.run_classifier.InputFeatures object at 0x7fc630099cc0>, <bert.run_classifier.InputFeatures object at 0x7fc6300b2c18>, <bert.run_classifier.InputFeatures object at 0x7fc6300aecf8>, <bert.run_classifier.InputFeatures object at 0x7fc6300ae160>, <bert.run_classifier.InputFeatures object at 0x7fc6300ae748>, <bert.run_classifier.InputFeatures object at 0x7fc6300ac978>, <bert.run_classifier.InputFeatures object at 0x7fc6300ac518>, <bert.run_classifier.InputFeatures object at 0x7fc6300ac588>, <bert.run_classifier.InputFeatures object at 0x7fc6300acf28>, <bert.run_classifier.InputFeatures object at 0x7fc6300accc0>, <bert.run_classifier.InputFeatures object at 0x7fc6300ac2b0>, <bert.run_classifier.InputFeatures object at 0x7fc6300ac940>, <bert.run_classifier.InputFeatures object at 0x7fc6300b2f28>, <bert.run_classifier.InputFeatures object at 0x7fc6300ace48>, <bert.run_classifier.InputFeatures object at 0x7fc630099da0>, <bert.run_classifier.InputFeatures object at 0x7fc6300996a0>, <bert.run_classifier.InputFeatures object at 0x7fc630099ef0>, <bert.run_classifier.InputFeatures object at 0x7fc6300a64e0>, <bert.run_classifier.InputFeatures object at 0x7fc6300ac438>, <bert.run_classifier.InputFeatures object at 0x7fc6300ac4e0>, <bert.run_classifier.InputFeatures object at 0x7fc6300a6e80>, <bert.run_classifier.InputFeatures object at 0x7fc6300acda0>, <bert.run_classifier.InputFeatures object at 0x7fc6300acef0>, <bert.run_classifier.InputFeatures object at 0x7fc6300b27b8>, <bert.run_classifier.InputFeatures object at 0x7fc6300acf98>, <bert.run_classifier.InputFeatures object at 0x7fc6300ac9b0>, <bert.run_classifier.InputFeatures object at 0x7fc6300acd30>, <bert.run_classifier.InputFeatures object at 0x7fc6300ac400>, <bert.run_classifier.InputFeatures object at 0x7fc6300acb00>, <bert.run_classifier.InputFeatures object at 0x7fc6300ac0f0>, <bert.run_classifier.InputFeatures object at 0x7fc6300b2c50>, <bert.run_classifier.InputFeatures object at 0x7fc6300b2cf8>, <bert.run_classifier.InputFeatures object at 0x7fc6300b25c0>, <bert.run_classifier.InputFeatures object at 0x7fc6300b2a20>, <bert.run_classifier.InputFeatures object at 0x7fc6300b2828>, <bert.run_classifier.InputFeatures object at 0x7fc6300b20f0>, <bert.run_classifier.InputFeatures object at 0x7fc6300ac358>, <bert.run_classifier.InputFeatures object at 0x7fc6300ae2b0>, <bert.run_classifier.InputFeatures object at 0x7fc6300ac3c8>, <bert.run_classifier.InputFeatures object at 0x7fc6300ac6d8>, <bert.run_classifier.InputFeatures object at 0x7fc6300acfd0>, <bert.run_classifier.InputFeatures object at 0x7fc6300acc88>, <bert.run_classifier.InputFeatures object at 0x7fc6300ac470>, <bert.run_classifier.InputFeatures object at 0x7fc6300ace10>, <bert.run_classifier.InputFeatures object at 0x7fc6300ac898>, <bert.run_classifier.InputFeatures object at 0x7fc6300acdd8>, <bert.run_classifier.InputFeatures object at 0x7fc6300aca20>, <bert.run_classifier.InputFeatures object at 0x7fc6300ac4a8>, <bert.run_classifier.InputFeatures object at 0x7fc6300ac160>, <bert.run_classifier.InputFeatures object at 0x7fc630099240>, <bert.run_classifier.InputFeatures object at 0x7fc630099550>, <bert.run_classifier.InputFeatures object at 0x7fc630099b00>, <bert.run_classifier.InputFeatures object at 0x7fc6300aca58>, <bert.run_classifier.InputFeatures object at 0x7fc6300ae710>, <bert.run_classifier.InputFeatures object at 0x7fc630086fd0>, <bert.run_classifier.InputFeatures object at 0x7fc6300b2128>, <bert.run_classifier.InputFeatures object at 0x7fc6300b2dd8>, <bert.run_classifier.InputFeatures object at 0x7fc6300aedd8>, <bert.run_classifier.InputFeatures object at 0x7fc6300ae630>, <bert.run_classifier.InputFeatures object at 0x7fc6300ac8d0>, <bert.run_classifier.InputFeatures object at 0x7fc6300a6b00>, <bert.run_classifier.InputFeatures object at 0x7fc6300a6be0>, <bert.run_classifier.InputFeatures object at 0x7fc6300a63c8>, <bert.run_classifier.InputFeatures object at 0x7fc6300ae860>, <bert.run_classifier.InputFeatures object at 0x7fc6300aeb38>, <bert.run_classifier.InputFeatures object at 0x7fc6300ae4e0>, <bert.run_classifier.InputFeatures object at 0x7fc630086e10>, <bert.run_classifier.InputFeatures object at 0x7fc630099a58>, <bert.run_classifier.InputFeatures object at 0x7fc6300a6ef0>, <bert.run_classifier.InputFeatures object at 0x7fc6300990b8>, <bert.run_classifier.InputFeatures object at 0x7fc6300a6748>, <bert.run_classifier.InputFeatures object at 0x7fc6300861d0>, <bert.run_classifier.InputFeatures object at 0x7fc630086e80>, <bert.run_classifier.InputFeatures object at 0x7fc630086f60>, <bert.run_classifier.InputFeatures object at 0x7fc630086160>, <bert.run_classifier.InputFeatures object at 0x7fc6300ae940>, <bert.run_classifier.InputFeatures object at 0x7fc6300ae6d8>, <bert.run_classifier.InputFeatures object at 0x7fc6300aeeb8>, <bert.run_classifier.InputFeatures object at 0x7fc6300aef28>, <bert.run_classifier.InputFeatures object at 0x7fc6300ae128>, <bert.run_classifier.InputFeatures object at 0x7fc6300aea58>, <bert.run_classifier.InputFeatures object at 0x7fc6300acb70>, <bert.run_classifier.InputFeatures object at 0x7fc6300ac828>, <bert.run_classifier.InputFeatures object at 0x7fc6300ac9e8>, <bert.run_classifier.InputFeatures object at 0x7fc6300ae588>, <bert.run_classifier.InputFeatures object at 0x7fc6300ae978>, <bert.run_classifier.InputFeatures object at 0x7fc6300aeda0>, <bert.run_classifier.InputFeatures object at 0x7fc6300ae780>, <bert.run_classifier.InputFeatures object at 0x7fc6300aefd0>, <bert.run_classifier.InputFeatures object at 0x7fc6300ae198>, <bert.run_classifier.InputFeatures object at 0x7fc6300ae828>, <bert.run_classifier.InputFeatures object at 0x7fc6300ae550>, <bert.run_classifier.InputFeatures object at 0x7fc6300aee80>, <bert.run_classifier.InputFeatures object at 0x7fc6300aee10>, <bert.run_classifier.InputFeatures object at 0x7fc630088a58>, <bert.run_classifier.InputFeatures object at 0x7fc6300880b8>, <bert.run_classifier.InputFeatures object at 0x7fc630088d30>, <bert.run_classifier.InputFeatures object at 0x7fc6300a66a0>, <bert.run_classifier.InputFeatures object at 0x7fc6300a66d8>, <bert.run_classifier.InputFeatures object at 0x7fc6300a6320>, <bert.run_classifier.InputFeatures object at 0x7fc6300a6a58>, <bert.run_classifier.InputFeatures object at 0x7fc6300a6630>, <bert.run_classifier.InputFeatures object at 0x7fc6300a65f8>, <bert.run_classifier.InputFeatures object at 0x7fc630099dd8>, <bert.run_classifier.InputFeatures object at 0x7fc6300a6860>, <bert.run_classifier.InputFeatures object at 0x7fc6300a61d0>, <bert.run_classifier.InputFeatures object at 0x7fc6300a6cc0>, <bert.run_classifier.InputFeatures object at 0x7fc6300a6ac8>, <bert.run_classifier.InputFeatures object at 0x7fc6300b2550>, <bert.run_classifier.InputFeatures object at 0x7fc630099a90>, <bert.run_classifier.InputFeatures object at 0x7fc630099588>, <bert.run_classifier.InputFeatures object at 0x7fc630099278>, <bert.run_classifier.InputFeatures object at 0x7fc630099198>, <bert.run_classifier.InputFeatures object at 0x7fc630099748>, <bert.run_classifier.InputFeatures object at 0x7fc6300997b8>, <bert.run_classifier.InputFeatures object at 0x7fc630099128>, <bert.run_classifier.InputFeatures object at 0x7fc6300998d0>, <bert.run_classifier.InputFeatures object at 0x7fc630099208>, <bert.run_classifier.InputFeatures object at 0x7fc630099b70>, <bert.run_classifier.InputFeatures object at 0x7fc630099518>, <bert.run_classifier.InputFeatures object at 0x7fc630099f28>, <bert.run_classifier.InputFeatures object at 0x7fc630099c88>, <bert.run_classifier.InputFeatures object at 0x7fc630099c50>, <bert.run_classifier.InputFeatures object at 0x7fc630099438>, <bert.run_classifier.InputFeatures object at 0x7fc630099828>, <bert.run_classifier.InputFeatures object at 0x7fc6300994e0>, <bert.run_classifier.InputFeatures object at 0x7fc630099b38>, <bert.run_classifier.InputFeatures object at 0x7fc6300995f8>, <bert.run_classifier.InputFeatures object at 0x7fc630099e10>, <bert.run_classifier.InputFeatures object at 0x7fc630099fd0>, <bert.run_classifier.InputFeatures object at 0x7fc630099be0>, <bert.run_classifier.InputFeatures object at 0x7fc630099860>, <bert.run_classifier.InputFeatures object at 0x7fc630099080>, <bert.run_classifier.InputFeatures object at 0x7fc630099d30>, <bert.run_classifier.InputFeatures object at 0x7fc630099320>, <bert.run_classifier.InputFeatures object at 0x7fc6300994a8>, <bert.run_classifier.InputFeatures object at 0x7fc630099c18>, <bert.run_classifier.InputFeatures object at 0x7fc630099400>, <bert.run_classifier.InputFeatures object at 0x7fc6300992e8>, <bert.run_classifier.InputFeatures object at 0x7fc6300995c0>, <bert.run_classifier.InputFeatures object at 0x7fc630099160>, <bert.run_classifier.InputFeatures object at 0x7fc630099908>, <bert.run_classifier.InputFeatures object at 0x7fc6300b2eb8>, <bert.run_classifier.InputFeatures object at 0x7fc630099470>, <bert.run_classifier.InputFeatures object at 0x7fc6300997f0>, <bert.run_classifier.InputFeatures object at 0x7fc6300b2240>, <bert.run_classifier.InputFeatures object at 0x7fc630099f60>, <bert.run_classifier.InputFeatures object at 0x7fc6300993c8>, <bert.run_classifier.InputFeatures object at 0x7fc630088a90>, <bert.run_classifier.InputFeatures object at 0x7fc6300b2a90>, <bert.run_classifier.InputFeatures object at 0x7fc630099d68>, <bert.run_classifier.InputFeatures object at 0x7fc6300b2940>, <bert.run_classifier.InputFeatures object at 0x7fc6300b22b0>, <bert.run_classifier.InputFeatures object at 0x7fc6300b2fd0>, <bert.run_classifier.InputFeatures object at 0x7fc6300ae9b0>, <bert.run_classifier.InputFeatures object at 0x7fc6300a6518>, <bert.run_classifier.InputFeatures object at 0x7fc6300a6cf8>, <bert.run_classifier.InputFeatures object at 0x7fc6300a65c0>, <bert.run_classifier.InputFeatures object at 0x7fc6300a6358>, <bert.run_classifier.InputFeatures object at 0x7fc6300a6668>, <bert.run_classifier.InputFeatures object at 0x7fc6300a6470>, <bert.run_classifier.InputFeatures object at 0x7fc6300a6588>, <bert.run_classifier.InputFeatures object at 0x7fc6300a6208>, <bert.run_classifier.InputFeatures object at 0x7fc630086780>, <bert.run_classifier.InputFeatures object at 0x7fc630086668>, <bert.run_classifier.InputFeatures object at 0x7fc630086d30>, <bert.run_classifier.InputFeatures object at 0x7fc630086080>, <bert.run_classifier.InputFeatures object at 0x7fc630086be0>, <bert.run_classifier.InputFeatures object at 0x7fc6300b2b70>, <bert.run_classifier.InputFeatures object at 0x7fc6300b2630>, <bert.run_classifier.InputFeatures object at 0x7fc630086908>, <bert.run_classifier.InputFeatures object at 0x7fc6300a6b70>, <bert.run_classifier.InputFeatures object at 0x7fc6300a6b38>, <bert.run_classifier.InputFeatures object at 0x7fc6300a6780>, <bert.run_classifier.InputFeatures object at 0x7fc6300aca90>, <bert.run_classifier.InputFeatures object at 0x7fc6300a62b0>, <bert.run_classifier.InputFeatures object at 0x7fc6300a6940>, <bert.run_classifier.InputFeatures object at 0x7fc6300a6f60>, <bert.run_classifier.InputFeatures object at 0x7fc6300ac780>, <bert.run_classifier.InputFeatures object at 0x7fc6300acc18>, <bert.run_classifier.InputFeatures object at 0x7fc6300b2358>, <bert.run_classifier.InputFeatures object at 0x7fc6300b2b00>, <bert.run_classifier.InputFeatures object at 0x7fc6300b2be0>, <bert.run_classifier.InputFeatures object at 0x7fc630086400>, <bert.run_classifier.InputFeatures object at 0x7fc6300b2470>, <bert.run_classifier.InputFeatures object at 0x7fc6300ae1d0>, <bert.run_classifier.InputFeatures object at 0x7fc6300a6e10>, <bert.run_classifier.InputFeatures object at 0x7fc6300a62e8>, <bert.run_classifier.InputFeatures object at 0x7fc6300a6438>, <bert.run_classifier.InputFeatures object at 0x7fc6300a64a8>, <bert.run_classifier.InputFeatures object at 0x7fc6300aeba8>, <bert.run_classifier.InputFeatures object at 0x7fc6300ae898>, <bert.run_classifier.InputFeatures object at 0x7fc6300aeb70>, <bert.run_classifier.InputFeatures object at 0x7fc6300ae080>, <bert.run_classifier.InputFeatures object at 0x7fc6300ae6a0>, <bert.run_classifier.InputFeatures object at 0x7fc630086550>, <bert.run_classifier.InputFeatures object at 0x7fc6300a68d0>, <bert.run_classifier.InputFeatures object at 0x7fc6300a6400>, <bert.run_classifier.InputFeatures object at 0x7fc6300ae0f0>, <bert.run_classifier.InputFeatures object at 0x7fc6300a6d68>, <bert.run_classifier.InputFeatures object at 0x7fc6300a6278>, <bert.run_classifier.InputFeatures object at 0x7fc6300a6a90>, <bert.run_classifier.InputFeatures object at 0x7fc6300a69e8>, <bert.run_classifier.InputFeatures object at 0x7fc6300a6390>, <bert.run_classifier.InputFeatures object at 0x7fc6300a6f28>, <bert.run_classifier.InputFeatures object at 0x7fc6300ae8d0>, <bert.run_classifier.InputFeatures object at 0x7fc6300a6828>, <bert.run_classifier.InputFeatures object at 0x7fc6300b2d30>, <bert.run_classifier.InputFeatures object at 0x7fc6300b2898>, <bert.run_classifier.InputFeatures object at 0x7fc6300ae668>, <bert.run_classifier.InputFeatures object at 0x7fc6300a67f0>, <bert.run_classifier.InputFeatures object at 0x7fc6300aecc0>, <bert.run_classifier.InputFeatures object at 0x7fc6300ae9e8>, <bert.run_classifier.InputFeatures object at 0x7fc6300a6550>, <bert.run_classifier.InputFeatures object at 0x7fc630086eb8>, <bert.run_classifier.InputFeatures object at 0x7fc6300ae320>, <bert.run_classifier.InputFeatures object at 0x7fc6300ae2e8>, <bert.run_classifier.InputFeatures object at 0x7fc6300ae3c8>, <bert.run_classifier.InputFeatures object at 0x7fc6300ae7b8>, <bert.run_classifier.InputFeatures object at 0x7fc6300aebe0>, <bert.run_classifier.InputFeatures object at 0x7fc6300ae278>, <bert.run_classifier.InputFeatures object at 0x7fc6300ae0b8>, <bert.run_classifier.InputFeatures object at 0x7fc630088080>, <bert.run_classifier.InputFeatures object at 0x7fc6300aeef0>, <bert.run_classifier.InputFeatures object at 0x7fc630088278>, <bert.run_classifier.InputFeatures object at 0x7fc630088f98>, <bert.run_classifier.InputFeatures object at 0x7fc6300aec18>, <bert.run_classifier.InputFeatures object at 0x7fc6300aeb00>, <bert.run_classifier.InputFeatures object at 0x7fc6300ae358>, <bert.run_classifier.InputFeatures object at 0x7fc6300ae048>, <bert.run_classifier.InputFeatures object at 0x7fc630086748>, <bert.run_classifier.InputFeatures object at 0x7fc630086cc0>, <bert.run_classifier.InputFeatures object at 0x7fc630086a20>, <bert.run_classifier.InputFeatures object at 0x7fc6300867b8>, <bert.run_classifier.InputFeatures object at 0x7fc630086a58>, <bert.run_classifier.InputFeatures object at 0x7fc630088ba8>, <bert.run_classifier.InputFeatures object at 0x7fc6300aef98>, <bert.run_classifier.InputFeatures object at 0x7fc6300ae908>, <bert.run_classifier.InputFeatures object at 0x7fc6300869e8>, <bert.run_classifier.InputFeatures object at 0x7fc630086f98>, <bert.run_classifier.InputFeatures object at 0x7fc6300865c0>, <bert.run_classifier.InputFeatures object at 0x7fc6300ae5c0>, <bert.run_classifier.InputFeatures object at 0x7fc6300aed30>, <bert.run_classifier.InputFeatures object at 0x7fc6300ae400>, <bert.run_classifier.InputFeatures object at 0x7fc6300b2a58>, <bert.run_classifier.InputFeatures object at 0x7fc6300b2c88>, <bert.run_classifier.InputFeatures object at 0x7fc6300b2860>, <bert.run_classifier.InputFeatures object at 0x7fc6300b2668>, <bert.run_classifier.InputFeatures object at 0x7fc630086d68>, <bert.run_classifier.InputFeatures object at 0x7fc6300866a0>, <bert.run_classifier.InputFeatures object at 0x7fc630086198>, <bert.run_classifier.InputFeatures object at 0x7fc6300b2da0>, <bert.run_classifier.InputFeatures object at 0x7fc630088d68>, <bert.run_classifier.InputFeatures object at 0x7fc6300aed68>, <bert.run_classifier.InputFeatures object at 0x7fc6300ae7f0>, <bert.run_classifier.InputFeatures object at 0x7fc6300ae208>, <bert.run_classifier.InputFeatures object at 0x7fc6300885c0>, <bert.run_classifier.InputFeatures object at 0x7fc6300882b0>, <bert.run_classifier.InputFeatures object at 0x7fc6300889b0>, <bert.run_classifier.InputFeatures object at 0x7fc6300883c8>, <bert.run_classifier.InputFeatures object at 0x7fc630086518>, <bert.run_classifier.InputFeatures object at 0x7fc6300865f8>, <bert.run_classifier.InputFeatures object at 0x7fc630086860>, <bert.run_classifier.InputFeatures object at 0x7fc630086828>, <bert.run_classifier.InputFeatures object at 0x7fc630088978>, <bert.run_classifier.InputFeatures object at 0x7fc630088240>, <bert.run_classifier.InputFeatures object at 0x7fc630086940>, <bert.run_classifier.InputFeatures object at 0x7fc630086978>, <bert.run_classifier.InputFeatures object at 0x7fc630086b00>, <bert.run_classifier.InputFeatures object at 0x7fc630086ba8>, <bert.run_classifier.InputFeatures object at 0x7fc6300868d0>, <bert.run_classifier.InputFeatures object at 0x7fc630086048>, <bert.run_classifier.InputFeatures object at 0x7fc630086438>, <bert.run_classifier.InputFeatures object at 0x7fc6300aeac8>, <bert.run_classifier.InputFeatures object at 0x7fc6300b24e0>, <bert.run_classifier.InputFeatures object at 0x7fc6300b2048>, <bert.run_classifier.InputFeatures object at 0x7fc6300b2e10>, <bert.run_classifier.InputFeatures object at 0x7fc6300b2cc0>, <bert.run_classifier.InputFeatures object at 0x7fc6300b2b38>, <bert.run_classifier.InputFeatures object at 0x7fc6300b2e80>, <bert.run_classifier.InputFeatures object at 0x7fc6300b28d0>, <bert.run_classifier.InputFeatures object at 0x7fc6300889e8>, <bert.run_classifier.InputFeatures object at 0x7fc6300b2f60>, <bert.run_classifier.InputFeatures object at 0x7fc6300b2710>, <bert.run_classifier.InputFeatures object at 0x7fc630088e10>, <bert.run_classifier.InputFeatures object at 0x7fc6300ae518>, <bert.run_classifier.InputFeatures object at 0x7fc6300ae438>, <bert.run_classifier.InputFeatures object at 0x7fc6300ae390>, <bert.run_classifier.InputFeatures object at 0x7fc6300ae240>, <bert.run_classifier.InputFeatures object at 0x7fc6300b2588>, <bert.run_classifier.InputFeatures object at 0x7fc6300aec50>, <bert.run_classifier.InputFeatures object at 0x7fc630086470>, <bert.run_classifier.InputFeatures object at 0x7fc6300ae4a8>, <bert.run_classifier.InputFeatures object at 0x7fc6300b2ef0>, <bert.run_classifier.InputFeatures object at 0x7fc6300aee48>, <bert.run_classifier.InputFeatures object at 0x7fc630086128>, <bert.run_classifier.InputFeatures object at 0x7fc6300ae470>, <bert.run_classifier.InputFeatures object at 0x7fc6300b2ac8>, <bert.run_classifier.InputFeatures object at 0x7fc6300aea90>, <bert.run_classifier.InputFeatures object at 0x7fc5e0136240>, <bert.run_classifier.InputFeatures object at 0x7fc6300aef60>, <bert.run_classifier.InputFeatures object at 0x7fc6300aea20>, <bert.run_classifier.InputFeatures object at 0x7fc5e01360b8>, <bert.run_classifier.InputFeatures object at 0x7fc6300b2908>, <bert.run_classifier.InputFeatures object at 0x7fc6300b2e48>, <bert.run_classifier.InputFeatures object at 0x7fc6300b2ba8>, <bert.run_classifier.InputFeatures object at 0x7fc630088128>, <bert.run_classifier.InputFeatures object at 0x7fc630086710>, <bert.run_classifier.InputFeatures object at 0x7fc630088cf8>, <bert.run_classifier.InputFeatures object at 0x7fc630086dd8>, <bert.run_classifier.InputFeatures object at 0x7fc630086390>, <bert.run_classifier.InputFeatures object at 0x7fc5e01482b0>, <bert.run_classifier.InputFeatures object at 0x7fc5e0148128>, <bert.run_classifier.InputFeatures object at 0x7fc5e0148198>, <bert.run_classifier.InputFeatures object at 0x7fc5e0148668>, <bert.run_classifier.InputFeatures object at 0x7fc5e0148390>, <bert.run_classifier.InputFeatures object at 0x7fc5e0148080>, <bert.run_classifier.InputFeatures object at 0x7fc5e01480f0>, <bert.run_classifier.InputFeatures object at 0x7fc630088e48>, <bert.run_classifier.InputFeatures object at 0x7fc5e01365f8>, <bert.run_classifier.InputFeatures object at 0x7fc5e01360f0>, <bert.run_classifier.InputFeatures object at 0x7fc5e0136048>, <bert.run_classifier.InputFeatures object at 0x7fc5e0136ba8>, <bert.run_classifier.InputFeatures object at 0x7fc5e0136da0>, <bert.run_classifier.InputFeatures object at 0x7fc5e0148a20>, <bert.run_classifier.InputFeatures object at 0x7fc5e01480b8>, <bert.run_classifier.InputFeatures object at 0x7fc5e0148320>, <bert.run_classifier.InputFeatures object at 0x7fc5e01365c0>, <bert.run_classifier.InputFeatures object at 0x7fc5e01364e0>, <bert.run_classifier.InputFeatures object at 0x7fc5e0136748>, <bert.run_classifier.InputFeatures object at 0x7fc5e01366d8>, <bert.run_classifier.InputFeatures object at 0x7fc5e0136898>, <bert.run_classifier.InputFeatures object at 0x7fc5e01366a0>, <bert.run_classifier.InputFeatures object at 0x7fc5e01367b8>, <bert.run_classifier.InputFeatures object at 0x7fc5e0136630>, <bert.run_classifier.InputFeatures object at 0x7fc6300886a0>, <bert.run_classifier.InputFeatures object at 0x7fc5e0148240>, <bert.run_classifier.InputFeatures object at 0x7fc5e0148278>, <bert.run_classifier.InputFeatures object at 0x7fc5e0148160>, <bert.run_classifier.InputFeatures object at 0x7fc5e0148470>, <bert.run_classifier.InputFeatures object at 0x7fc5e01481d0>, <bert.run_classifier.InputFeatures object at 0x7fc5e0148438>, <bert.run_classifier.InputFeatures object at 0x7fc5e01486a0>, <bert.run_classifier.InputFeatures object at 0x7fc5e0148208>, <bert.run_classifier.InputFeatures object at 0x7fc5e01482e8>, <bert.run_classifier.InputFeatures object at 0x7fc5e01483c8>, <bert.run_classifier.InputFeatures object at 0x7fc5e0148588>, <bert.run_classifier.InputFeatures object at 0x7fc5e0148400>, <bert.run_classifier.InputFeatures object at 0x7fc5e0148748>, <bert.run_classifier.InputFeatures object at 0x7fc5e01485c0>, <bert.run_classifier.InputFeatures object at 0x7fc5e0148550>, <bert.run_classifier.InputFeatures object at 0x7fc5e01485f8>, <bert.run_classifier.InputFeatures object at 0x7fc5e01486d8>, <bert.run_classifier.InputFeatures object at 0x7fc6300b2160>, <bert.run_classifier.InputFeatures object at 0x7fc6300b29e8>, <bert.run_classifier.InputFeatures object at 0x7fc6300b26a0>, <bert.run_classifier.InputFeatures object at 0x7fc6300b2f98>, <bert.run_classifier.InputFeatures object at 0x7fc6300b2780>, <bert.run_classifier.InputFeatures object at 0x7fc6300b2748>, <bert.run_classifier.InputFeatures object at 0x7fc5e0136940>, <bert.run_classifier.InputFeatures object at 0x7fc6300b25f8>, <bert.run_classifier.InputFeatures object at 0x7fc6300860b8>, <bert.run_classifier.InputFeatures object at 0x7fc6300b29b0>, <bert.run_classifier.InputFeatures object at 0x7fc5e0136a58>, <bert.run_classifier.InputFeatures object at 0x7fc6300b2978>, <bert.run_classifier.InputFeatures object at 0x7fc5e0148780>, <bert.run_classifier.InputFeatures object at 0x7fc5e0148fd0>, <bert.run_classifier.InputFeatures object at 0x7fc5e0136a90>, <bert.run_classifier.InputFeatures object at 0x7fc5e0136cc0>, <bert.run_classifier.InputFeatures object at 0x7fc5e0136eb8>, <bert.run_classifier.InputFeatures object at 0x7fc630088fd0>, <bert.run_classifier.InputFeatures object at 0x7fc630088c88>, <bert.run_classifier.InputFeatures object at 0x7fc630088b70>, <bert.run_classifier.InputFeatures object at 0x7fc630088198>, <bert.run_classifier.InputFeatures object at 0x7fc630088320>, <bert.run_classifier.InputFeatures object at 0x7fc630088550>, <bert.run_classifier.InputFeatures object at 0x7fc630088860>, <bert.run_classifier.InputFeatures object at 0x7fc6300862b0>, <bert.run_classifier.InputFeatures object at 0x7fc630086c50>, <bert.run_classifier.InputFeatures object at 0x7fc5e0136400>, <bert.run_classifier.InputFeatures object at 0x7fc5e0153c88>, <bert.run_classifier.InputFeatures object at 0x7fc5e0153198>, <bert.run_classifier.InputFeatures object at 0x7fc5e0136198>, <bert.run_classifier.InputFeatures object at 0x7fc5e0136c88>, <bert.run_classifier.InputFeatures object at 0x7fc5e0136860>, <bert.run_classifier.InputFeatures object at 0x7fc630086320>, <bert.run_classifier.InputFeatures object at 0x7fc5e0153208>, <bert.run_classifier.InputFeatures object at 0x7fc5e01535c0>, <bert.run_classifier.InputFeatures object at 0x7fc5e0153d30>, <bert.run_classifier.InputFeatures object at 0x7fc5e01537f0>, <bert.run_classifier.InputFeatures object at 0x7fc5e0153748>, <bert.run_classifier.InputFeatures object at 0x7fc5e0153ac8>, <bert.run_classifier.InputFeatures object at 0x7fc5e0148f98>, <bert.run_classifier.InputFeatures object at 0x7fc5e0148f60>, <bert.run_classifier.InputFeatures object at 0x7fc5e01488d0>, <bert.run_classifier.InputFeatures object at 0x7fc5e0136dd8>, <bert.run_classifier.InputFeatures object at 0x7fc630086240>, <bert.run_classifier.InputFeatures object at 0x7fc630086b38>, <bert.run_classifier.InputFeatures object at 0x7fc5e0153470>, <bert.run_classifier.InputFeatures object at 0x7fc5e0153320>, <bert.run_classifier.InputFeatures object at 0x7fc5e0153128>, <bert.run_classifier.InputFeatures object at 0x7fc630088588>, <bert.run_classifier.InputFeatures object at 0x7fc6300881d0>, <bert.run_classifier.InputFeatures object at 0x7fc630088208>, <bert.run_classifier.InputFeatures object at 0x7fc5e0136160>, <bert.run_classifier.InputFeatures object at 0x7fc5e0136f60>, <bert.run_classifier.InputFeatures object at 0x7fc630088cc0>, <bert.run_classifier.InputFeatures object at 0x7fc6300882e8>, <bert.run_classifier.InputFeatures object at 0x7fc5e0136470>, <bert.run_classifier.InputFeatures object at 0x7fc630088710>, <bert.run_classifier.InputFeatures object at 0x7fc630086898>, <bert.run_classifier.InputFeatures object at 0x7fc5e01487f0>, <bert.run_classifier.InputFeatures object at 0x7fc6300863c8>, <bert.run_classifier.InputFeatures object at 0x7fc630086278>, <bert.run_classifier.InputFeatures object at 0x7fc5e0148d30>, <bert.run_classifier.InputFeatures object at 0x7fc5e0148b70>, <bert.run_classifier.InputFeatures object at 0x7fc5e0148cf8>, <bert.run_classifier.InputFeatures object at 0x7fc5e0148978>, <bert.run_classifier.InputFeatures object at 0x7fc5e0148898>, <bert.run_classifier.InputFeatures object at 0x7fc5e0148d68>, <bert.run_classifier.InputFeatures object at 0x7fc5e0148518>, <bert.run_classifier.InputFeatures object at 0x7fc5e0148ef0>, <bert.run_classifier.InputFeatures object at 0x7fc630088160>, <bert.run_classifier.InputFeatures object at 0x7fc6300887f0>, <bert.run_classifier.InputFeatures object at 0x7fc630088c18>, <bert.run_classifier.InputFeatures object at 0x7fc630088518>, <bert.run_classifier.InputFeatures object at 0x7fc630088eb8>, <bert.run_classifier.InputFeatures object at 0x7fc630088898>, <bert.run_classifier.InputFeatures object at 0x7fc630088b00>, <bert.run_classifier.InputFeatures object at 0x7fc6300880f0>, <bert.run_classifier.InputFeatures object at 0x7fc630088f60>, <bert.run_classifier.InputFeatures object at 0x7fc630086630>, <bert.run_classifier.InputFeatures object at 0x7fc630088400>, <bert.run_classifier.InputFeatures object at 0x7fc630088da0>, <bert.run_classifier.InputFeatures object at 0x7fc630088048>, <bert.run_classifier.InputFeatures object at 0x7fc630088748>, <bert.run_classifier.InputFeatures object at 0x7fc630088e80>, <bert.run_classifier.InputFeatures object at 0x7fc630088470>, <bert.run_classifier.InputFeatures object at 0x7fc5e016cfd0>, <bert.run_classifier.InputFeatures object at 0x7fc5e016c208>, <bert.run_classifier.InputFeatures object at 0x7fc5e016c1d0>, <bert.run_classifier.InputFeatures object at 0x7fc5e0153908>, <bert.run_classifier.InputFeatures object at 0x7fc5e01537b8>, <bert.run_classifier.InputFeatures object at 0x7fc5e0153828>, <bert.run_classifier.InputFeatures object at 0x7fc5e0153be0>, <bert.run_classifier.InputFeatures object at 0x7fc5e016c390>, <bert.run_classifier.InputFeatures object at 0x7fc5e016c128>, <bert.run_classifier.InputFeatures object at 0x7fc5e016c0f0>, <bert.run_classifier.InputFeatures object at 0x7fc5e0148e80>, <bert.run_classifier.InputFeatures object at 0x7fc5e0148ac8>, <bert.run_classifier.InputFeatures object at 0x7fc5e0148da0>, <bert.run_classifier.InputFeatures object at 0x7fc5e0148e10>, <bert.run_classifier.InputFeatures object at 0x7fc5e0148ba8>, <bert.run_classifier.InputFeatures object at 0x7fc5e0148b00>, <bert.run_classifier.InputFeatures object at 0x7fc5e0148f28>, <bert.run_classifier.InputFeatures object at 0x7fc5e01489b0>, <bert.run_classifier.InputFeatures object at 0x7fc5e0148048>, <bert.run_classifier.InputFeatures object at 0x7fc5e0148710>, <bert.run_classifier.InputFeatures object at 0x7fc5e0148cc0>, <bert.run_classifier.InputFeatures object at 0x7fc5e01484e0>, <bert.run_classifier.InputFeatures object at 0x7fc5e0148358>, <bert.run_classifier.InputFeatures object at 0x7fc5e0148c88>, <bert.run_classifier.InputFeatures object at 0x7fc630086f28>, <bert.run_classifier.InputFeatures object at 0x7fc630086ac8>, <bert.run_classifier.InputFeatures object at 0x7fc630086588>, <bert.run_classifier.InputFeatures object at 0x7fc630086b70>, <bert.run_classifier.InputFeatures object at 0x7fc630086208>, <bert.run_classifier.InputFeatures object at 0x7fc6300884a8>, <bert.run_classifier.InputFeatures object at 0x7fc630086ef0>, <bert.run_classifier.InputFeatures object at 0x7fc630086358>, <bert.run_classifier.InputFeatures object at 0x7fc630086c18>, <bert.run_classifier.InputFeatures object at 0x7fc630086cf8>, <bert.run_classifier.InputFeatures object at 0x7fc6300864a8>, <bert.run_classifier.InputFeatures object at 0x7fc630088668>, <bert.run_classifier.InputFeatures object at 0x7fc630088ac8>, <bert.run_classifier.InputFeatures object at 0x7fc630088b38>, <bert.run_classifier.InputFeatures object at 0x7fc630088be0>, <bert.run_classifier.InputFeatures object at 0x7fc630088c50>, <bert.run_classifier.InputFeatures object at 0x7fc5e01530f0>, <bert.run_classifier.InputFeatures object at 0x7fc6300869b0>, <bert.run_classifier.InputFeatures object at 0x7fc5e0136978>, <bert.run_classifier.InputFeatures object at 0x7fc5e0136be0>, <bert.run_classifier.InputFeatures object at 0x7fc5e0136cf8>, <bert.run_classifier.InputFeatures object at 0x7fc5e0148dd8>, <bert.run_classifier.InputFeatures object at 0x7fc5e01487b8>, <bert.run_classifier.InputFeatures object at 0x7fc5e0148860>, <bert.run_classifier.InputFeatures object at 0x7fc5e01484a8>, <bert.run_classifier.InputFeatures object at 0x7fc5e016ca58>, <bert.run_classifier.InputFeatures object at 0x7fc5e0148b38>, <bert.run_classifier.InputFeatures object at 0x7fc5e0148be0>, <bert.run_classifier.InputFeatures object at 0x7fc5e0148c50>, <bert.run_classifier.InputFeatures object at 0x7fc5e0148eb8>, <bert.run_classifier.InputFeatures object at 0x7fc5e0148a90>, <bert.run_classifier.InputFeatures object at 0x7fc5e0148630>, <bert.run_classifier.InputFeatures object at 0x7fc630086c88>, <bert.run_classifier.InputFeatures object at 0x7fc6300860f0>, <bert.run_classifier.InputFeatures object at 0x7fc5e0136c50>, <bert.run_classifier.InputFeatures object at 0x7fc5e0148828>, <bert.run_classifier.InputFeatures object at 0x7fc5e0136518>, <bert.run_classifier.InputFeatures object at 0x7fc5e01367f0>, <bert.run_classifier.InputFeatures object at 0x7fc5e0148908>, <bert.run_classifier.InputFeatures object at 0x7fc630088a20>, <bert.run_classifier.InputFeatures object at 0x7fc5e01362e8>, <bert.run_classifier.InputFeatures object at 0x7fc5e0136828>, <bert.run_classifier.InputFeatures object at 0x7fc5e0136b00>, <bert.run_classifier.InputFeatures object at 0x7fc5e0153b70>, <bert.run_classifier.InputFeatures object at 0x7fc630088dd8>, <bert.run_classifier.InputFeatures object at 0x7fc5e01646d8>, <bert.run_classifier.InputFeatures object at 0x7fc630088438>, <bert.run_classifier.InputFeatures object at 0x7fc630088828>, <bert.run_classifier.InputFeatures object at 0x7fc630088908>, <bert.run_classifier.InputFeatures object at 0x7fc630088ef0>, <bert.run_classifier.InputFeatures object at 0x7fc630088780>, <bert.run_classifier.InputFeatures object at 0x7fc630088f28>, <bert.run_classifier.InputFeatures object at 0x7fc6300888d0>, <bert.run_classifier.InputFeatures object at 0x7fc630088630>, <bert.run_classifier.InputFeatures object at 0x7fc6300886d8>, <bert.run_classifier.InputFeatures object at 0x7fc6300884e0>, <bert.run_classifier.InputFeatures object at 0x7fc630088358>, <bert.run_classifier.InputFeatures object at 0x7fc630088390>, <bert.run_classifier.InputFeatures object at 0x7fc5e01645f8>, <bert.run_classifier.InputFeatures object at 0x7fc5e0164c18>, <bert.run_classifier.InputFeatures object at 0x7fc5e01369e8>, <bert.run_classifier.InputFeatures object at 0x7fc5e0136ef0>, <bert.run_classifier.InputFeatures object at 0x7fc5e0136908>, <bert.run_classifier.InputFeatures object at 0x7fc5e0136ac8>, <bert.run_classifier.InputFeatures object at 0x7fc5e01364a8>, <bert.run_classifier.InputFeatures object at 0x7fc5e01363c8>, <bert.run_classifier.InputFeatures object at 0x7fc5e0136fd0>, <bert.run_classifier.InputFeatures object at 0x7fc6300885f8>, <bert.run_classifier.InputFeatures object at 0x7fc5e0136278>, <bert.run_classifier.InputFeatures object at 0x7fc5e0136438>, <bert.run_classifier.InputFeatures object at 0x7fc5e016cb38>, <bert.run_classifier.InputFeatures object at 0x7fc5e016c8d0>, <bert.run_classifier.InputFeatures object at 0x7fc5e016c4e0>, <bert.run_classifier.InputFeatures object at 0x7fc5e016cdd8>, <bert.run_classifier.InputFeatures object at 0x7fc5e016cc18>, <bert.run_classifier.InputFeatures object at 0x7fc5e016c780>, <bert.run_classifier.InputFeatures object at 0x7fc5e016c3c8>, <bert.run_classifier.InputFeatures object at 0x7fc5e016c518>, <bert.run_classifier.InputFeatures object at 0x7fc5e016cf60>, <bert.run_classifier.InputFeatures object at 0x7fc5e016c9e8>, <bert.run_classifier.InputFeatures object at 0x7fc5e016cef0>, <bert.run_classifier.InputFeatures object at 0x7fc5e016ceb8>, <bert.run_classifier.InputFeatures object at 0x7fc630086e48>, <bert.run_classifier.InputFeatures object at 0x7fc5e0148c18>, <bert.run_classifier.InputFeatures object at 0x7fc5e0164eb8>, <bert.run_classifier.InputFeatures object at 0x7fc630086a90>, <bert.run_classifier.InputFeatures object at 0x7fc6300887b8>, <bert.run_classifier.InputFeatures object at 0x7fc5e0153f60>, <bert.run_classifier.InputFeatures object at 0x7fc5e01413c8>, <bert.run_classifier.InputFeatures object at 0x7fc5e016c160>, <bert.run_classifier.InputFeatures object at 0x7fc630088940>, <bert.run_classifier.InputFeatures object at 0x7fc5e016c048>, <bert.run_classifier.InputFeatures object at 0x7fc5e016cc50>, <bert.run_classifier.InputFeatures object at 0x7fc5e016ccc0>, <bert.run_classifier.InputFeatures object at 0x7fc5e0148a58>, <bert.run_classifier.InputFeatures object at 0x7fc5e0148e48>, <bert.run_classifier.InputFeatures object at 0x7fc5e01489e8>, <bert.run_classifier.InputFeatures object at 0x7fc5e0148940>, <bert.run_classifier.InputFeatures object at 0x7fc6300866d8>, <bert.run_classifier.InputFeatures object at 0x7fc5e016cb70>, <bert.run_classifier.InputFeatures object at 0x7fc5e0164278>, <bert.run_classifier.InputFeatures object at 0x7fc6300867f0>, <bert.run_classifier.InputFeatures object at 0x7fc5e0136e48>, <bert.run_classifier.InputFeatures object at 0x7fc5e0136d30>, <bert.run_classifier.InputFeatures object at 0x7fc5e0136d68>, <bert.run_classifier.InputFeatures object at 0x7fc5e01369b0>, <bert.run_classifier.InputFeatures object at 0x7fc5e0136b38>, <bert.run_classifier.InputFeatures object at 0x7fc5e0136f28>, <bert.run_classifier.InputFeatures object at 0x7fc6300862e8>, <bert.run_classifier.InputFeatures object at 0x7fc5e016ccf8>, <bert.run_classifier.InputFeatures object at 0x7fc6300864e0>, <bert.run_classifier.InputFeatures object at 0x7fc630086da0>, <bert.run_classifier.InputFeatures object at 0x7fc5e016c400>, <bert.run_classifier.InputFeatures object at 0x7fc5e016ce48>, <bert.run_classifier.InputFeatures object at 0x7fc5e016c4a8>, <bert.run_classifier.InputFeatures object at 0x7fc5e016c5f8>, <bert.run_classifier.InputFeatures object at 0x7fc5e0153550>, <bert.run_classifier.InputFeatures object at 0x7fc5e0153630>, <bert.run_classifier.InputFeatures object at 0x7fc5e0153278>, <bert.run_classifier.InputFeatures object at 0x7fc5e01535f8>, <bert.run_classifier.InputFeatures object at 0x7fc5e0153b00>, <bert.run_classifier.InputFeatures object at 0x7fc5e0164080>, <bert.run_classifier.InputFeatures object at 0x7fc5e0164780>, <bert.run_classifier.InputFeatures object at 0x7fc5e0164dd8>, <bert.run_classifier.InputFeatures object at 0x7fc5e0164668>, <bert.run_classifier.InputFeatures object at 0x7fc5e0164128>, <bert.run_classifier.InputFeatures object at 0x7fc5e0136e10>, <bert.run_classifier.InputFeatures object at 0x7fc5e0136c18>, <bert.run_classifier.InputFeatures object at 0x7fc5e0136080>, <bert.run_classifier.InputFeatures object at 0x7fc5e0136a20>, <bert.run_classifier.InputFeatures object at 0x7fc5e0136e80>, <bert.run_classifier.InputFeatures object at 0x7fc5e016ce80>, <bert.run_classifier.InputFeatures object at 0x7fc5e016cc88>, <bert.run_classifier.InputFeatures object at 0x7fc5e016c470>, <bert.run_classifier.InputFeatures object at 0x7fc5e0141fd0>, <bert.run_classifier.InputFeatures object at 0x7fc5e0141f60>, <bert.run_classifier.InputFeatures object at 0x7fc5e0153438>, <bert.run_classifier.InputFeatures object at 0x7fc5e0136710>, <bert.run_classifier.InputFeatures object at 0x7fc5e0136f98>, <bert.run_classifier.InputFeatures object at 0x7fc5e0136668>, <bert.run_classifier.InputFeatures object at 0x7fc5e0153f28>, <bert.run_classifier.InputFeatures object at 0x7fc5e01538d0>, <bert.run_classifier.InputFeatures object at 0x7fc5e0141160>, <bert.run_classifier.InputFeatures object at 0x7fc5e0136550>, <bert.run_classifier.InputFeatures object at 0x7fc5e0141a20>, <bert.run_classifier.InputFeatures object at 0x7fc5e0153dd8>, <bert.run_classifier.InputFeatures object at 0x7fc5e0153240>, <bert.run_classifier.InputFeatures object at 0x7fc5e01539e8>, <bert.run_classifier.InputFeatures object at 0x7fc5e0153860>, <bert.run_classifier.InputFeatures object at 0x7fc5e01532b0>, <bert.run_classifier.InputFeatures object at 0x7fc5e016c320>, <bert.run_classifier.InputFeatures object at 0x7fc5e0153da0>, <bert.run_classifier.InputFeatures object at 0x7fc5e0153cf8>, <bert.run_classifier.InputFeatures object at 0x7fc5e0153518>, <bert.run_classifier.InputFeatures object at 0x7fc5e01531d0>, <bert.run_classifier.InputFeatures object at 0x7fc5e01539b0>, <bert.run_classifier.InputFeatures object at 0x7fc5e0153c18>, <bert.run_classifier.InputFeatures object at 0x7fc5e0153a58>, <bert.run_classifier.InputFeatures object at 0x7fc5e01534e0>, <bert.run_classifier.InputFeatures object at 0x7fc5e0153710>, <bert.run_classifier.InputFeatures object at 0x7fc5e01536d8>, <bert.run_classifier.InputFeatures object at 0x7fc5e0153e48>, <bert.run_classifier.InputFeatures object at 0x7fc5e0153668>, <bert.run_classifier.InputFeatures object at 0x7fc5e01530b8>, <bert.run_classifier.InputFeatures object at 0x7fc5e01536a0>, <bert.run_classifier.InputFeatures object at 0x7fc5e01415f8>, <bert.run_classifier.InputFeatures object at 0x7fc5e0164f60>, <bert.run_classifier.InputFeatures object at 0x7fc5e01361d0>, <bert.run_classifier.InputFeatures object at 0x7fc5e01368d0>, <bert.run_classifier.InputFeatures object at 0x7fc5e0136588>, <bert.run_classifier.InputFeatures object at 0x7fc5e0136b70>, <bert.run_classifier.InputFeatures object at 0x7fc5e0136208>, <bert.run_classifier.InputFeatures object at 0x7fc5e0164438>, <bert.run_classifier.InputFeatures object at 0x7fc5e0164d68>, <bert.run_classifier.InputFeatures object at 0x7fc5e0164cc0>, <bert.run_classifier.InputFeatures object at 0x7fc5e0164f98>, <bert.run_classifier.InputFeatures object at 0x7fc5e0164048>, <bert.run_classifier.InputFeatures object at 0x7fc5e016c6d8>, <bert.run_classifier.InputFeatures object at 0x7fc5e016c588>, <bert.run_classifier.InputFeatures object at 0x7fc5e016c940>, <bert.run_classifier.InputFeatures object at 0x7fc5e016c5c0>, <bert.run_classifier.InputFeatures object at 0x7fc5e016ce10>, <bert.run_classifier.InputFeatures object at 0x7fc5e0136390>, <bert.run_classifier.InputFeatures object at 0x7fc5e016c7f0>, <bert.run_classifier.InputFeatures object at 0x7fc5e016cbe0>, <bert.run_classifier.InputFeatures object at 0x7fc5e016c080>, <bert.run_classifier.InputFeatures object at 0x7fc5e016c6a0>, <bert.run_classifier.InputFeatures object at 0x7fc5e016c9b0>, <bert.run_classifier.InputFeatures object at 0x7fc5e0164550>, <bert.run_classifier.InputFeatures object at 0x7fc5e016c978>, <bert.run_classifier.InputFeatures object at 0x7fc5e0153a20>, <bert.run_classifier.InputFeatures object at 0x7fc5e0153898>, <bert.run_classifier.InputFeatures object at 0x7fc5e0164f28>, <bert.run_classifier.InputFeatures object at 0x7fc5e0153eb8>, <bert.run_classifier.InputFeatures object at 0x7fc5e0153160>, <bert.run_classifier.InputFeatures object at 0x7fc5e016c198>, <bert.run_classifier.InputFeatures object at 0x7fc5e016c748>, <bert.run_classifier.InputFeatures object at 0x7fc5e016c0b8>, <bert.run_classifier.InputFeatures object at 0x7fc5e0153400>, <bert.run_classifier.InputFeatures object at 0x7fc5e0164320>, <bert.run_classifier.InputFeatures object at 0x7fc5e0153e80>, <bert.run_classifier.InputFeatures object at 0x7fc5e0164c88>, <bert.run_classifier.InputFeatures object at 0x7fc5e0164da0>, <bert.run_classifier.InputFeatures object at 0x7fc5e0164ef0>, <bert.run_classifier.InputFeatures object at 0x7fc5e01641d0>, <bert.run_classifier.InputFeatures object at 0x7fc5e0164160>, <bert.run_classifier.InputFeatures object at 0x7fc5e0164e80>, <bert.run_classifier.InputFeatures object at 0x7fc5e0164e48>, <bert.run_classifier.InputFeatures object at 0x7fc5e0164940>, <bert.run_classifier.InputFeatures object at 0x7fc5e0164b70>, <bert.run_classifier.InputFeatures object at 0x7fc5e01647b8>, <bert.run_classifier.InputFeatures object at 0x7fc5e01644e0>, <bert.run_classifier.InputFeatures object at 0x7fc5e01648d0>, <bert.run_classifier.InputFeatures object at 0x7fc5e0136780>, <bert.run_classifier.InputFeatures object at 0x7fc5e0136128>, <bert.run_classifier.InputFeatures object at 0x7fc5e01362b0>, <bert.run_classifier.InputFeatures object at 0x7fc5e0141908>, <bert.run_classifier.InputFeatures object at 0x7fc5e0153fd0>, <bert.run_classifier.InputFeatures object at 0x7fc5e0153ef0>, <bert.run_classifier.InputFeatures object at 0x7fc5e0164a20>, <bert.run_classifier.InputFeatures object at 0x7fc5e0164630>, <bert.run_classifier.InputFeatures object at 0x7fc5e01640b8>, <bert.run_classifier.InputFeatures object at 0x7fc5e0164898>, <bert.run_classifier.InputFeatures object at 0x7fc5e01645c0>, <bert.run_classifier.InputFeatures object at 0x7fc5e0171f28>, <bert.run_classifier.InputFeatures object at 0x7fc5e0171400>, <bert.run_classifier.InputFeatures object at 0x7fc5e01713c8>, <bert.run_classifier.InputFeatures object at 0x7fc5e0171eb8>, <bert.run_classifier.InputFeatures object at 0x7fc5e01417b8>, <bert.run_classifier.InputFeatures object at 0x7fc5e01533c8>, <bert.run_classifier.InputFeatures object at 0x7fc5e0153d68>, <bert.run_classifier.InputFeatures object at 0x7fc5e0153cc0>, <bert.run_classifier.InputFeatures object at 0x7fc5e0153048>, <bert.run_classifier.InputFeatures object at 0x7fc5e0168908>, <bert.run_classifier.InputFeatures object at 0x7fc5e0168390>, <bert.run_classifier.InputFeatures object at 0x7fc5e0168160>, <bert.run_classifier.InputFeatures object at 0x7fc5e0168278>, <bert.run_classifier.InputFeatures object at 0x7fc5e0164240>, <bert.run_classifier.InputFeatures object at 0x7fc5e0164828>, <bert.run_classifier.InputFeatures object at 0x7fc5e0164e10>, <bert.run_classifier.InputFeatures object at 0x7fc5e0164710>, <bert.run_classifier.InputFeatures object at 0x7fc5e0164ba8>, <bert.run_classifier.InputFeatures object at 0x7fc5e0164be0>, <bert.run_classifier.InputFeatures object at 0x7fc5e01419b0>, <bert.run_classifier.InputFeatures object at 0x7fc5e01640f0>, <bert.run_classifier.InputFeatures object at 0x7fc5e0141748>, <bert.run_classifier.InputFeatures object at 0x7fc5e01416a0>, <bert.run_classifier.InputFeatures object at 0x7fc5e0153ba8>, <bert.run_classifier.InputFeatures object at 0x7fc5e0153b38>, <bert.run_classifier.InputFeatures object at 0x7fc5e0153f98>, <bert.run_classifier.InputFeatures object at 0x7fc5e0153c50>, <bert.run_classifier.InputFeatures object at 0x7fc5e0171668>, <bert.run_classifier.InputFeatures object at 0x7fc5e0153780>, <bert.run_classifier.InputFeatures object at 0x7fc5e0153588>, <bert.run_classifier.InputFeatures object at 0x7fc5e01532e8>, <bert.run_classifier.InputFeatures object at 0x7fc5e0153390>, <bert.run_classifier.InputFeatures object at 0x7fc5e0136358>, <bert.run_classifier.InputFeatures object at 0x7fc5e0136320>, <bert.run_classifier.InputFeatures object at 0x7fc5e0153080>, <bert.run_classifier.InputFeatures object at 0x7fc5e01649e8>, <bert.run_classifier.InputFeatures object at 0x7fc5e01683c8>, <bert.run_classifier.InputFeatures object at 0x7fc5e0168400>, <bert.run_classifier.InputFeatures object at 0x7fc5e0164400>, <bert.run_classifier.InputFeatures object at 0x7fc5e0164588>, <bert.run_classifier.InputFeatures object at 0x7fc5e0164358>, <bert.run_classifier.InputFeatures object at 0x7fc5e0164390>, <bert.run_classifier.InputFeatures object at 0x7fc5e01715f8>, <bert.run_classifier.InputFeatures object at 0x7fc5e0171a58>, <bert.run_classifier.InputFeatures object at 0x7fc5e0171940>, <bert.run_classifier.InputFeatures object at 0x7fc5e0171c50>, <bert.run_classifier.InputFeatures object at 0x7fc5e01717b8>, <bert.run_classifier.InputFeatures object at 0x7fc5e01719b0>, <bert.run_classifier.InputFeatures object at 0x7fc5e0171898>, <bert.run_classifier.InputFeatures object at 0x7fc5e0171ac8>, <bert.run_classifier.InputFeatures object at 0x7fc5e0171908>, <bert.run_classifier.InputFeatures object at 0x7fc5e0171ba8>, <bert.run_classifier.InputFeatures object at 0x7fc5e01716a0>, <bert.run_classifier.InputFeatures object at 0x7fc5e01714a8>, <bert.run_classifier.InputFeatures object at 0x7fc5e0145cf8>, <bert.run_classifier.InputFeatures object at 0x7fc5e01450b8>, <bert.run_classifier.InputFeatures object at 0x7fc5e0164a90>, <bert.run_classifier.InputFeatures object at 0x7fc5e0164b38>, <bert.run_classifier.InputFeatures object at 0x7fc5e0153978>, <bert.run_classifier.InputFeatures object at 0x7fc5e016ca90>, <bert.run_classifier.InputFeatures object at 0x7fc5e0153358>, <bert.run_classifier.InputFeatures object at 0x7fc5e0153a90>, <bert.run_classifier.InputFeatures object at 0x7fc5e0153940>, <bert.run_classifier.InputFeatures object at 0x7fc5e0153e10>, <bert.run_classifier.InputFeatures object at 0x7fc5e0164908>, <bert.run_classifier.InputFeatures object at 0x7fc5e0164cf8>, <bert.run_classifier.InputFeatures object at 0x7fc5e0164198>, <bert.run_classifier.InputFeatures object at 0x7fc5e01649b0>, <bert.run_classifier.InputFeatures object at 0x7fc5e01644a8>, <bert.run_classifier.InputFeatures object at 0x7fc5e0168828>, <bert.run_classifier.InputFeatures object at 0x7fc5e01686d8>, <bert.run_classifier.InputFeatures object at 0x7fc5e0168eb8>, <bert.run_classifier.InputFeatures object at 0x7fc5e016c710>, <bert.run_classifier.InputFeatures object at 0x7fc5e016c358>, <bert.run_classifier.InputFeatures object at 0x7fc5e016cac8>, <bert.run_classifier.InputFeatures object at 0x7fc5e016c668>, <bert.run_classifier.InputFeatures object at 0x7fc5e016c828>, <bert.run_classifier.InputFeatures object at 0x7fc5e016c2b0>, <bert.run_classifier.InputFeatures object at 0x7fc5e016cf28>, <bert.run_classifier.InputFeatures object at 0x7fc5e016cf98>, <bert.run_classifier.InputFeatures object at 0x7fc5e016cba8>, <bert.run_classifier.InputFeatures object at 0x7fc5e016c2e8>, <bert.run_classifier.InputFeatures object at 0x7fc5e0164978>, <bert.run_classifier.InputFeatures object at 0x7fc5e016cda0>, <bert.run_classifier.InputFeatures object at 0x7fc5e016c278>, <bert.run_classifier.InputFeatures object at 0x7fc5e016c438>, <bert.run_classifier.InputFeatures object at 0x7fc5e016c7b8>, <bert.run_classifier.InputFeatures object at 0x7fc5e016c630>, <bert.run_classifier.InputFeatures object at 0x7fc5e0141940>, <bert.run_classifier.InputFeatures object at 0x7fc5e0141518>, <bert.run_classifier.InputFeatures object at 0x7fc5e0141a58>, <bert.run_classifier.InputFeatures object at 0x7fc5e015b898>, <bert.run_classifier.InputFeatures object at 0x7fc5e015b048>, <bert.run_classifier.InputFeatures object at 0x7fc5e015b0f0>, <bert.run_classifier.InputFeatures object at 0x7fc5e015b320>, <bert.run_classifier.InputFeatures object at 0x7fc5e015b780>, <bert.run_classifier.InputFeatures object at 0x7fc5e015b080>, <bert.run_classifier.InputFeatures object at 0x7fc5e015b160>, <bert.run_classifier.InputFeatures object at 0x7fc5e0168dd8>, <bert.run_classifier.InputFeatures object at 0x7fc5e015b9b0>, <bert.run_classifier.InputFeatures object at 0x7fc5e01682b0>, <bert.run_classifier.InputFeatures object at 0x7fc5e0168128>, <bert.run_classifier.InputFeatures object at 0x7fc5e0145d30>, <bert.run_classifier.InputFeatures object at 0x7fc5e0145b00>, <bert.run_classifier.InputFeatures object at 0x7fc5e0145cc0>, <bert.run_classifier.InputFeatures object at 0x7fc5e0145ef0>, <bert.run_classifier.InputFeatures object at 0x7fc5e0145f60>, <bert.run_classifier.InputFeatures object at 0x7fc5e0145208>, <bert.run_classifier.InputFeatures object at 0x7fc5e0145dd8>, <bert.run_classifier.InputFeatures object at 0x7fc5e0168710>, <bert.run_classifier.InputFeatures object at 0x7fc5e0168c88>, <bert.run_classifier.InputFeatures object at 0x7fc5e0168e80>, <bert.run_classifier.InputFeatures object at 0x7fc5e0145278>, <bert.run_classifier.InputFeatures object at 0x7fc5e01534a8>, <bert.run_classifier.InputFeatures object at 0x7fc5e0145048>, <bert.run_classifier.InputFeatures object at 0x7fc5e01458d0>, <bert.run_classifier.InputFeatures object at 0x7fc5e0145f98>, <bert.run_classifier.InputFeatures object at 0x7fc5e0145c50>, <bert.run_classifier.InputFeatures object at 0x7fc5e0145198>, <bert.run_classifier.InputFeatures object at 0x7fc5e0145fd0>, <bert.run_classifier.InputFeatures object at 0x7fc5e0145ba8>, <bert.run_classifier.InputFeatures object at 0x7fc5e0145860>, <bert.run_classifier.InputFeatures object at 0x7fc5e0145d68>, <bert.run_classifier.InputFeatures object at 0x7fc5e0145a90>, <bert.run_classifier.InputFeatures object at 0x7fc5e0145e80>, <bert.run_classifier.InputFeatures object at 0x7fc5e0145080>, <bert.run_classifier.InputFeatures object at 0x7fc5e01452e8>, <bert.run_classifier.InputFeatures object at 0x7fc5e0145e10>, <bert.run_classifier.InputFeatures object at 0x7fc5e0145550>, <bert.run_classifier.InputFeatures object at 0x7fc5e015b0b8>, <bert.run_classifier.InputFeatures object at 0x7fc5e015b1d0>, <bert.run_classifier.InputFeatures object at 0x7fc5e0168208>, <bert.run_classifier.InputFeatures object at 0x7fc5e0141208>, <bert.run_classifier.InputFeatures object at 0x7fc5e01410b8>, <bert.run_classifier.InputFeatures object at 0x7fc5e0164c50>, <bert.run_classifier.InputFeatures object at 0x7fc5e016c550>, <bert.run_classifier.InputFeatures object at 0x7fc5e016cb00>, <bert.run_classifier.InputFeatures object at 0x7fc5e016ca20>, <bert.run_classifier.InputFeatures object at 0x7fc5e016c898>, <bert.run_classifier.InputFeatures object at 0x7fc5e016cd68>, <bert.run_classifier.InputFeatures object at 0x7fc5e016c860>, <bert.run_classifier.InputFeatures object at 0x7fc5e016c240>, <bert.run_classifier.InputFeatures object at 0x7fc5e016c908>, <bert.run_classifier.InputFeatures object at 0x7fc5e0168470>, <bert.run_classifier.InputFeatures object at 0x7fc5e0168198>, <bert.run_classifier.InputFeatures object at 0x7fc5e016cd30>, <bert.run_classifier.InputFeatures object at 0x7fc5e0141898>, <bert.run_classifier.InputFeatures object at 0x7fc5e0141358>, <bert.run_classifier.InputFeatures object at 0x7fc5e01411d0>, <bert.run_classifier.InputFeatures object at 0x7fc5e0141278>, <bert.run_classifier.InputFeatures object at 0x7fc5e01675f8>, <bert.run_classifier.InputFeatures object at 0x7fc5e015b518>, <bert.run_classifier.InputFeatures object at 0x7fc5e015b390>, <bert.run_classifier.InputFeatures object at 0x7fc5e015bef0>, <bert.run_classifier.InputFeatures object at 0x7fc5e0167550>, <bert.run_classifier.InputFeatures object at 0x7fc5e0167048>, <bert.run_classifier.InputFeatures object at 0x7fc5e0167080>, <bert.run_classifier.InputFeatures object at 0x7fc5e01670b8>, <bert.run_classifier.InputFeatures object at 0x7fc5e01670f0>, <bert.run_classifier.InputFeatures object at 0x7fc5e0167160>, <bert.run_classifier.InputFeatures object at 0x7fc5e01457b8>, <bert.run_classifier.InputFeatures object at 0x7fc5e0164fd0>, <bert.run_classifier.InputFeatures object at 0x7fc5e0164d30>, <bert.run_classifier.InputFeatures object at 0x7fc5e0145748>, <bert.run_classifier.InputFeatures object at 0x7fc5e0145710>, <bert.run_classifier.InputFeatures object at 0x7fc5e0145e48>, <bert.run_classifier.InputFeatures object at 0x7fc5e01450f0>, <bert.run_classifier.InputFeatures object at 0x7fc5e0141c88>, <bert.run_classifier.InputFeatures object at 0x7fc5e0164ac8>, <bert.run_classifier.InputFeatures object at 0x7fc5e0164a58>, <bert.run_classifier.InputFeatures object at 0x7fc5e01642b0>, <bert.run_classifier.InputFeatures object at 0x7fc5e0164208>, <bert.run_classifier.InputFeatures object at 0x7fc5e01642e8>, <bert.run_classifier.InputFeatures object at 0x7fc5e0171198>, <bert.run_classifier.InputFeatures object at 0x7fc5e0171588>, <bert.run_classifier.InputFeatures object at 0x7fc5e01716d8>, <bert.run_classifier.InputFeatures object at 0x7fc5e0171e80>, <bert.run_classifier.InputFeatures object at 0x7fc5e01412e8>, <bert.run_classifier.InputFeatures object at 0x7fc5e0141860>, <bert.run_classifier.InputFeatures object at 0x7fc5e015bd30>, <bert.run_classifier.InputFeatures object at 0x7fc5e015b7b8>, <bert.run_classifier.InputFeatures object at 0x7fc5e015b588>, <bert.run_classifier.InputFeatures object at 0x7fc5e015b828>, <bert.run_classifier.InputFeatures object at 0x7fc5e01646a0>, <bert.run_classifier.InputFeatures object at 0x7fc5e0171550>, <bert.run_classifier.InputFeatures object at 0x7fc5e0171cc0>, <bert.run_classifier.InputFeatures object at 0x7fc5e0171128>, <bert.run_classifier.InputFeatures object at 0x7fc5e01718d0>, <bert.run_classifier.InputFeatures object at 0x7fc5e0145b70>, <bert.run_classifier.InputFeatures object at 0x7fc5e0145da0>, <bert.run_classifier.InputFeatures object at 0x7fc5e0145400>, <bert.run_classifier.InputFeatures object at 0x7fc5e01455c0>, <bert.run_classifier.InputFeatures object at 0x7fc5e0145b38>, <bert.run_classifier.InputFeatures object at 0x7fc5e0145eb8>, <bert.run_classifier.InputFeatures object at 0x7fc5e0145898>, <bert.run_classifier.InputFeatures object at 0x7fc5e01459e8>, <bert.run_classifier.InputFeatures object at 0x7fc5e0171860>, <bert.run_classifier.InputFeatures object at 0x7fc5e0145828>, <bert.run_classifier.InputFeatures object at 0x7fc5e0171e48>, <bert.run_classifier.InputFeatures object at 0x7fc5e0171be0>, <bert.run_classifier.InputFeatures object at 0x7fc5e0141198>, <bert.run_classifier.InputFeatures object at 0x7fc5e0141c18>, <bert.run_classifier.InputFeatures object at 0x7fc5e0141da0>, <bert.run_classifier.InputFeatures object at 0x7fc5e0141b00>, <bert.run_classifier.InputFeatures object at 0x7fc5e0141d68>, <bert.run_classifier.InputFeatures object at 0x7fc5e015bb70>, <bert.run_classifier.InputFeatures object at 0x7fc5e015be80>, <bert.run_classifier.InputFeatures object at 0x7fc5e015b978>, <bert.run_classifier.InputFeatures object at 0x7fc5e015bf98>, <bert.run_classifier.InputFeatures object at 0x7fc5e015b4a8>, <bert.run_classifier.InputFeatures object at 0x7fc5e015b7f0>, <bert.run_classifier.InputFeatures object at 0x7fc5e015b2b0>, <bert.run_classifier.InputFeatures object at 0x7fc5e0145be0>, <bert.run_classifier.InputFeatures object at 0x7fc5e0145160>, <bert.run_classifier.InputFeatures object at 0x7fc5e0145240>, <bert.run_classifier.InputFeatures object at 0x7fc5e015bcf8>, <bert.run_classifier.InputFeatures object at 0x7fc5e015ba20>, <bert.run_classifier.InputFeatures object at 0x7fc5e01456a0>, <bert.run_classifier.InputFeatures object at 0x7fc5e0145978>, <bert.run_classifier.InputFeatures object at 0x7fc5e0145f28>, <bert.run_classifier.InputFeatures object at 0x7fc5e015bc18>, <bert.run_classifier.InputFeatures object at 0x7fc5e01679b0>, <bert.run_classifier.InputFeatures object at 0x7fc5e0145438>, <bert.run_classifier.InputFeatures object at 0x7fc5e0167eb8>, <bert.run_classifier.InputFeatures object at 0x7fc5e0167908>, <bert.run_classifier.InputFeatures object at 0x7fc5e0145780>, <bert.run_classifier.InputFeatures object at 0x7fc5e01454a8>, <bert.run_classifier.InputFeatures object at 0x7fc5e0145c18>, <bert.run_classifier.InputFeatures object at 0x7fc5e01451d0>, <bert.run_classifier.InputFeatures object at 0x7fc5e01454e0>, <bert.run_classifier.InputFeatures object at 0x7fc5e0145940>, <bert.run_classifier.InputFeatures object at 0x7fc5e0168240>, <bert.run_classifier.InputFeatures object at 0x7fc5e01456d8>, <bert.run_classifier.InputFeatures object at 0x7fc5e0167ac8>, <bert.run_classifier.InputFeatures object at 0x7fc5e0164860>, <bert.run_classifier.InputFeatures object at 0x7fc5e0164518>, <bert.run_classifier.InputFeatures object at 0x7fc5e01643c8>, <bert.run_classifier.InputFeatures object at 0x7fc5e0164470>, <bert.run_classifier.InputFeatures object at 0x7fc5e01647f0>, <bert.run_classifier.InputFeatures object at 0x7fc5e0167a90>, <bert.run_classifier.InputFeatures object at 0x7fc5e01676a0>, <bert.run_classifier.InputFeatures object at 0x7fc5e01689b0>, <bert.run_classifier.InputFeatures object at 0x7fc5e0168748>, <bert.run_classifier.InputFeatures object at 0x7fc5e01684a8>, <bert.run_classifier.InputFeatures object at 0x7fc5e0164b00>, <bert.run_classifier.InputFeatures object at 0x7fc5e0164748>, <bert.run_classifier.InputFeatures object at 0x7fc5e0168c18>, <bert.run_classifier.InputFeatures object at 0x7fc5e0168320>, <bert.run_classifier.InputFeatures object at 0x7fc5e0168f60>, <bert.run_classifier.InputFeatures object at 0x7fc5e0141cf8>, <bert.run_classifier.InputFeatures object at 0x7fc5e01685f8>, <bert.run_classifier.InputFeatures object at 0x7fc5e01689e8>, <bert.run_classifier.InputFeatures object at 0x7fc5e0168c50>, <bert.run_classifier.InputFeatures object at 0x7fc5e0168cc0>, <bert.run_classifier.InputFeatures object at 0x7fc5e01680f0>, <bert.run_classifier.InputFeatures object at 0x7fc5e0168b00>, <bert.run_classifier.InputFeatures object at 0x7fc5e0168b70>, <bert.run_classifier.InputFeatures object at 0x7fc5e0168358>, <bert.run_classifier.InputFeatures object at 0x7fc5e0168be0>, <bert.run_classifier.InputFeatures object at 0x7fc5e0168e10>, <bert.run_classifier.InputFeatures object at 0x7fc5e01410f0>, <bert.run_classifier.InputFeatures object at 0x7fc5e0141b70>, <bert.run_classifier.InputFeatures object at 0x7fc5e01459b0>, <bert.run_classifier.InputFeatures object at 0x7fc5e0145630>, <bert.run_classifier.InputFeatures object at 0x7fc5e0145470>, <bert.run_classifier.InputFeatures object at 0x7fc5e01717f0>, <bert.run_classifier.InputFeatures object at 0x7fc5e01419e8>, <bert.run_classifier.InputFeatures object at 0x7fc5e0141cc0>, <bert.run_classifier.InputFeatures object at 0x7fc5e01416d8>, <bert.run_classifier.InputFeatures object at 0x7fc5e0141588>, <bert.run_classifier.InputFeatures object at 0x7fc5e01418d0>, <bert.run_classifier.InputFeatures object at 0x7fc5e0141e10>, <bert.run_classifier.InputFeatures object at 0x7fc5e0145390>, <bert.run_classifier.InputFeatures object at 0x7fc5e0141f28>, <bert.run_classifier.InputFeatures object at 0x7fc5e0145588>, <bert.run_classifier.InputFeatures object at 0x7fc5e0145c88>, <bert.run_classifier.InputFeatures object at 0x7fc5e01453c8>, <bert.run_classifier.InputFeatures object at 0x7fc5e0145128>, <bert.run_classifier.InputFeatures object at 0x7fc5e0168ef0>, <bert.run_classifier.InputFeatures object at 0x7fc5e0145668>, <bert.run_classifier.InputFeatures object at 0x7fc5e0168a58>, <bert.run_classifier.InputFeatures object at 0x7fc5e0168978>, <bert.run_classifier.InputFeatures object at 0x7fc5e0168fd0>, <bert.run_classifier.InputFeatures object at 0x7fc5e0168ba8>, <bert.run_classifier.InputFeatures object at 0x7fc5e0168a20>, <bert.run_classifier.InputFeatures object at 0x7fc5e0168d68>, <bert.run_classifier.InputFeatures object at 0x7fc5e0168438>, <bert.run_classifier.InputFeatures object at 0x7fc5e0141668>, <bert.run_classifier.InputFeatures object at 0x7fc5e01684e0>, <bert.run_classifier.InputFeatures object at 0x7fc5e0168cf8>, <bert.run_classifier.InputFeatures object at 0x7fc5e0145358>, <bert.run_classifier.InputFeatures object at 0x7fc5e0145320>, <bert.run_classifier.InputFeatures object at 0x7fc5e0168860>, <bert.run_classifier.InputFeatures object at 0x7fc5e0145518>, <bert.run_classifier.InputFeatures object at 0x7fc5e01457f0>, <bert.run_classifier.InputFeatures object at 0x7fc5e0167da0>, <bert.run_classifier.InputFeatures object at 0x7fc5e0171710>, <bert.run_classifier.InputFeatures object at 0x7fc5e0171cf8>, <bert.run_classifier.InputFeatures object at 0x7fc5e0171b70>, <bert.run_classifier.InputFeatures object at 0x7fc5e01672e8>, <bert.run_classifier.InputFeatures object at 0x7fc5e0167a58>, <bert.run_classifier.InputFeatures object at 0x7fc5e0171f98>, <bert.run_classifier.InputFeatures object at 0x7fc5e0171a20>, <bert.run_classifier.InputFeatures object at 0x7fc5e0171390>, <bert.run_classifier.InputFeatures object at 0x7fc5e0141dd8>, <bert.run_classifier.InputFeatures object at 0x7fc630067080>, <bert.run_classifier.InputFeatures object at 0x7fc5e0145ac8>, <bert.run_classifier.InputFeatures object at 0x7fc5e01455f8>, <bert.run_classifier.InputFeatures object at 0x7fc5e01417f0>, <bert.run_classifier.InputFeatures object at 0x7fc5e0141128>, <bert.run_classifier.InputFeatures object at 0x7fc5e0141400>, <bert.run_classifier.InputFeatures object at 0x7fc5e0141438>, <bert.run_classifier.InputFeatures object at 0x7fc5e0141048>, <bert.run_classifier.InputFeatures object at 0x7fc5e0141b38>, <bert.run_classifier.InputFeatures object at 0x7fc5e0141e80>, <bert.run_classifier.InputFeatures object at 0x7fc5e0141710>, <bert.run_classifier.InputFeatures object at 0x7fc5e0141390>, <bert.run_classifier.InputFeatures object at 0x7fc5e0141c50>, <bert.run_classifier.InputFeatures object at 0x7fc5e0141f98>, <bert.run_classifier.InputFeatures object at 0x7fc5e01414e0>, <bert.run_classifier.InputFeatures object at 0x7fc5e0141d30>, <bert.run_classifier.InputFeatures object at 0x7fc5e0171a90>, <bert.run_classifier.InputFeatures object at 0x7fc5e01710b8>, <bert.run_classifier.InputFeatures object at 0x7fc5e01711d0>, <bert.run_classifier.InputFeatures object at 0x7fc5e0171438>, <bert.run_classifier.InputFeatures object at 0x7fc5e01712b0>, <bert.run_classifier.InputFeatures object at 0x7fc5e0171278>, <bert.run_classifier.InputFeatures object at 0x7fc5e01719e8>, <bert.run_classifier.InputFeatures object at 0x7fc5e0171630>, <bert.run_classifier.InputFeatures object at 0x7fc5e0171780>, <bert.run_classifier.InputFeatures object at 0x7fc5e0171080>, <bert.run_classifier.InputFeatures object at 0x7fc5e0171c18>, <bert.run_classifier.InputFeatures object at 0x7fc5e0171518>, <bert.run_classifier.InputFeatures object at 0x7fc5e0145a20>, <bert.run_classifier.InputFeatures object at 0x7fc5e01452b0>, <bert.run_classifier.InputFeatures object at 0x7fc5e0145a58>, <bert.run_classifier.InputFeatures object at 0x7fc5e0145908>, <bert.run_classifier.InputFeatures object at 0x7fc5e0141240>, <bert.run_classifier.InputFeatures object at 0x7fc5e0141630>, <bert.run_classifier.InputFeatures object at 0x7fc5e0141978>, <bert.run_classifier.InputFeatures object at 0x7fc5e0141ac8>, <bert.run_classifier.InputFeatures object at 0x7fc5e0141550>, <bert.run_classifier.InputFeatures object at 0x7fc5e0141eb8>, <bert.run_classifier.InputFeatures object at 0x7fc5e0141ef0>, <bert.run_classifier.InputFeatures object at 0x7fc5e01415c0>, <bert.run_classifier.InputFeatures object at 0x7fc5e0171b00>, <bert.run_classifier.InputFeatures object at 0x7fc5e01712e8>, <bert.run_classifier.InputFeatures object at 0x7fc5e015bba8>, <bert.run_classifier.InputFeatures object at 0x7fc5e0171fd0>, <bert.run_classifier.InputFeatures object at 0x7fc5e015ba90>, <bert.run_classifier.InputFeatures object at 0x7fc5e015b860>, <bert.run_classifier.InputFeatures object at 0x7fc5e015ba58>, <bert.run_classifier.InputFeatures object at 0x7fc5e015b358>, <bert.run_classifier.InputFeatures object at 0x7fc5e0168f98>, <bert.run_classifier.InputFeatures object at 0x7fc5e0168ac8>, <bert.run_classifier.InputFeatures object at 0x7fc5e0168e48>, <bert.run_classifier.InputFeatures object at 0x7fc5e0168940>, <bert.run_classifier.InputFeatures object at 0x7fc5e01680b8>, <bert.run_classifier.InputFeatures object at 0x7fc5e0168518>, <bert.run_classifier.InputFeatures object at 0x7fc5e0171da0>, <bert.run_classifier.InputFeatures object at 0x7fc5e0171470>, <bert.run_classifier.InputFeatures object at 0x7fc630067470>, <bert.run_classifier.InputFeatures object at 0x7fc5e0171240>, <bert.run_classifier.InputFeatures object at 0x7fc5e0171d68>, <bert.run_classifier.InputFeatures object at 0x7fc5e015bf28>, <bert.run_classifier.InputFeatures object at 0x7fc5e015b748>, <bert.run_classifier.InputFeatures object at 0x7fc5e0167f28>, <bert.run_classifier.InputFeatures object at 0x7fc5e01674e0>, <bert.run_classifier.InputFeatures object at 0x7fc5e0167cf8>, <bert.run_classifier.InputFeatures object at 0x7fc5e01679e8>, <bert.run_classifier.InputFeatures object at 0x7fc5e0167748>, <bert.run_classifier.InputFeatures object at 0x7fc5e0167780>, <bert.run_classifier.InputFeatures object at 0x7fc5e01675c0>, <bert.run_classifier.InputFeatures object at 0x7fc5e0167b00>, <bert.run_classifier.InputFeatures object at 0x7fc5e01672b0>, <bert.run_classifier.InputFeatures object at 0x7fc5e01674a8>, <bert.run_classifier.InputFeatures object at 0x7fc5e0167e10>, <bert.run_classifier.InputFeatures object at 0x7fc5e0167240>, <bert.run_classifier.InputFeatures object at 0x7fc5e01715c0>, <bert.run_classifier.InputFeatures object at 0x7fc5e0171dd8>, <bert.run_classifier.InputFeatures object at 0x7fc5e0171f60>, <bert.run_classifier.InputFeatures object at 0x7fc5e0171e10>, <bert.run_classifier.InputFeatures object at 0x7fc5e015b470>, <bert.run_classifier.InputFeatures object at 0x7fc5e0171748>, <bert.run_classifier.InputFeatures object at 0x7fc5e015b6a0>, <bert.run_classifier.InputFeatures object at 0x7fc5e0171978>, <bert.run_classifier.InputFeatures object at 0x7fc5e0171048>, <bert.run_classifier.InputFeatures object at 0x7fc5e0171d30>, <bert.run_classifier.InputFeatures object at 0x7fc5e0171b38>, <bert.run_classifier.InputFeatures object at 0x7fc5e015b9e8>, <bert.run_classifier.InputFeatures object at 0x7fc5e015b400>, <bert.run_classifier.InputFeatures object at 0x7fc5e015b710>, <bert.run_classifier.InputFeatures object at 0x7fc5e015b198>, <bert.run_classifier.InputFeatures object at 0x7fc5e015beb8>, <bert.run_classifier.InputFeatures object at 0x7fc5e015b8d0>, <bert.run_classifier.InputFeatures object at 0x7fc5e015bbe0>, <bert.run_classifier.InputFeatures object at 0x7fc5e0171ef0>, <bert.run_classifier.InputFeatures object at 0x7fc5e0141e48>, <bert.run_classifier.InputFeatures object at 0x7fc5e0171160>, <bert.run_classifier.InputFeatures object at 0x7fc5e01710f0>, <bert.run_classifier.InputFeatures object at 0x7fc5e01714e0>, <bert.run_classifier.InputFeatures object at 0x7fc5e0171320>, <bert.run_classifier.InputFeatures object at 0x7fc5e01682e8>, <bert.run_classifier.InputFeatures object at 0x7fc5e0171208>, <bert.run_classifier.InputFeatures object at 0x7fc5e0171358>, <bert.run_classifier.InputFeatures object at 0x7fc5e0171828>, <bert.run_classifier.InputFeatures object at 0x7fc5e0141828>, <bert.run_classifier.InputFeatures object at 0x7fc5e0171c88>, <bert.run_classifier.InputFeatures object at 0x7fc5e01414a8>, <bert.run_classifier.InputFeatures object at 0x7fc5e0167208>, <bert.run_classifier.InputFeatures object at 0x7fc63005a208>, <bert.run_classifier.InputFeatures object at 0x7fc63005a4a8>, <bert.run_classifier.InputFeatures object at 0x7fc63005a3c8>, <bert.run_classifier.InputFeatures object at 0x7fc5e0168630>, <bert.run_classifier.InputFeatures object at 0x7fc5e01681d0>, <bert.run_classifier.InputFeatures object at 0x7fc5e0168b38>, <bert.run_classifier.InputFeatures object at 0x7fc5e0168898>, <bert.run_classifier.InputFeatures object at 0x7fc5e01687b8>, <bert.run_classifier.InputFeatures object at 0x7fc5e0168668>, <bert.run_classifier.InputFeatures object at 0x7fc63005a080>, <bert.run_classifier.InputFeatures object at 0x7fc5e01686a0>, <bert.run_classifier.InputFeatures object at 0x7fc5e0168f28>, <bert.run_classifier.InputFeatures object at 0x7fc5e01687f0>, <bert.run_classifier.InputFeatures object at 0x7fc5e0168780>, <bert.run_classifier.InputFeatures object at 0x7fc5e0168048>, <bert.run_classifier.InputFeatures object at 0x7fc5e0167588>, <bert.run_classifier.InputFeatures object at 0x7fc5e01678d0>, <bert.run_classifier.InputFeatures object at 0x7fc5e0168080>, <bert.run_classifier.InputFeatures object at 0x7fc5e0168a90>, <bert.run_classifier.InputFeatures object at 0x7fc5e0168da0>, <bert.run_classifier.InputFeatures object at 0x7fc5e01688d0>, <bert.run_classifier.InputFeatures object at 0x7fc5e01685c0>, <bert.run_classifier.InputFeatures object at 0x7fc5e0168588>, <bert.run_classifier.InputFeatures object at 0x7fc5e0168d30>, <bert.run_classifier.InputFeatures object at 0x7fc5e0168550>, <bert.run_classifier.InputFeatures object at 0x7fc5e0141ba8>, <bert.run_classifier.InputFeatures object at 0x7fc5e0141470>, <bert.run_classifier.InputFeatures object at 0x7fc5e0167b38>, <bert.run_classifier.InputFeatures object at 0x7fc5e0167320>, <bert.run_classifier.InputFeatures object at 0x7fc630067438>, <bert.run_classifier.InputFeatures object at 0x7fc5e0167128>, <bert.run_classifier.InputFeatures object at 0x7fc630067208>, <bert.run_classifier.InputFeatures object at 0x7fc630067358>, <bert.run_classifier.InputFeatures object at 0x7fc6300676d8>, <bert.run_classifier.InputFeatures object at 0x7fc6300675f8>, <bert.run_classifier.InputFeatures object at 0x7fc5e01412b0>, <bert.run_classifier.InputFeatures object at 0x7fc5e0141be0>, <bert.run_classifier.InputFeatures object at 0x7fc63005ad30>, <bert.run_classifier.InputFeatures object at 0x7fc5e01673c8>, <bert.run_classifier.InputFeatures object at 0x7fc63005a940>, <bert.run_classifier.InputFeatures object at 0x7fc630067d30>, <bert.run_classifier.InputFeatures object at 0x7fc5e0141320>, <bert.run_classifier.InputFeatures object at 0x7fc5e0141a90>, <bert.run_classifier.InputFeatures object at 0x7fc5e0141780>, <bert.run_classifier.InputFeatures object at 0x7fc63005a240>, <bert.run_classifier.InputFeatures object at 0x7fc63005a5c0>, <bert.run_classifier.InputFeatures object at 0x7fc6300674a8>, <bert.run_classifier.InputFeatures object at 0x7fc630067240>, <bert.run_classifier.InputFeatures object at 0x7fc630067e48>, <bert.run_classifier.InputFeatures object at 0x7fc630067b38>, <bert.run_classifier.InputFeatures object at 0x7fc6300670b8>, <bert.run_classifier.InputFeatures object at 0x7fc5e0167828>, <bert.run_classifier.InputFeatures object at 0x7fc5e0167400>, <bert.run_classifier.InputFeatures object at 0x7fc5e0141080>, <bert.run_classifier.InputFeatures object at 0x7fc5e015be48>, <bert.run_classifier.InputFeatures object at 0x7fc5e015bb38>, <bert.run_classifier.InputFeatures object at 0x7fc5e015bda0>, <bert.run_classifier.InputFeatures object at 0x7fc5e015bc88>, <bert.run_classifier.InputFeatures object at 0x7fc5e0167d68>, <bert.run_classifier.InputFeatures object at 0x7fc5e015b908>, <bert.run_classifier.InputFeatures object at 0x7fc5e015b5c0>, <bert.run_classifier.InputFeatures object at 0x7fc5e015b550>, <bert.run_classifier.InputFeatures object at 0x7fc5e015bd68>, <bert.run_classifier.InputFeatures object at 0x7fc5e015b940>, <bert.run_classifier.InputFeatures object at 0x7fc630067be0>, <bert.run_classifier.InputFeatures object at 0x7fc6300679b0>, <bert.run_classifier.InputFeatures object at 0x7fc630067da0>, <bert.run_classifier.InputFeatures object at 0x7fc63005a550>, <bert.run_classifier.InputFeatures object at 0x7fc63005af60>, <bert.run_classifier.InputFeatures object at 0x7fc63005aba8>, <bert.run_classifier.InputFeatures object at 0x7fc63005ae80>, <bert.run_classifier.InputFeatures object at 0x7fc63005a8d0>, <bert.run_classifier.InputFeatures object at 0x7fc63005aef0>, <bert.run_classifier.InputFeatures object at 0x7fc63005a748>, <bert.run_classifier.InputFeatures object at 0x7fc63005ae10>, <bert.run_classifier.InputFeatures object at 0x7fc63005a898>, <bert.run_classifier.InputFeatures object at 0x7fc63005ad68>, <bert.run_classifier.InputFeatures object at 0x7fc63005a6d8>, <bert.run_classifier.InputFeatures object at 0x7fc63005a6a0>, <bert.run_classifier.InputFeatures object at 0x7fc63005a7f0>, <bert.run_classifier.InputFeatures object at 0x7fc63005afd0>, <bert.run_classifier.InputFeatures object at 0x7fc63005a588>, <bert.run_classifier.InputFeatures object at 0x7fc63005ab70>, <bert.run_classifier.InputFeatures object at 0x7fc63005a630>, <bert.run_classifier.InputFeatures object at 0x7fc63005aa58>, <bert.run_classifier.InputFeatures object at 0x7fc630067128>, <bert.run_classifier.InputFeatures object at 0x7fc630067ba8>, <bert.run_classifier.InputFeatures object at 0x7fc5e0167c50>, <bert.run_classifier.InputFeatures object at 0x7fc5e0167f98>, <bert.run_classifier.InputFeatures object at 0x7fc5e0167518>, <bert.run_classifier.InputFeatures object at 0x7fc63005a668>, <bert.run_classifier.InputFeatures object at 0x7fc63005add8>, <bert.run_classifier.InputFeatures object at 0x7fc63005a710>, <bert.run_classifier.InputFeatures object at 0x7fc63005a828>, <bert.run_classifier.InputFeatures object at 0x7fc5e0167ef0>, <bert.run_classifier.InputFeatures object at 0x7fc5e01677b8>, <bert.run_classifier.InputFeatures object at 0x7fc630067a20>, <bert.run_classifier.InputFeatures object at 0x7fc63005a5f8>, <bert.run_classifier.InputFeatures object at 0x7fc630067c50>, <bert.run_classifier.InputFeatures object at 0x7fc630047e48>, <bert.run_classifier.InputFeatures object at 0x7fc630053da0>, <bert.run_classifier.InputFeatures object at 0x7fc6300530f0>, <bert.run_classifier.InputFeatures object at 0x7fc630053080>, <bert.run_classifier.InputFeatures object at 0x7fc6300530b8>, <bert.run_classifier.InputFeatures object at 0x7fc630053128>, <bert.run_classifier.InputFeatures object at 0x7fc63005af28>, <bert.run_classifier.InputFeatures object at 0x7fc63005a2e8>, <bert.run_classifier.InputFeatures object at 0x7fc630047cf8>, <bert.run_classifier.InputFeatures object at 0x7fc630053278>, <bert.run_classifier.InputFeatures object at 0x7fc63005a1d0>, <bert.run_classifier.InputFeatures object at 0x7fc63005a320>, <bert.run_classifier.InputFeatures object at 0x7fc63005a9e8>, <bert.run_classifier.InputFeatures object at 0x7fc63005abe0>, <bert.run_classifier.InputFeatures object at 0x7fc63005a278>, <bert.run_classifier.InputFeatures object at 0x7fc63005a518>, <bert.run_classifier.InputFeatures object at 0x7fc63005a160>, <bert.run_classifier.InputFeatures object at 0x7fc63005a9b0>, <bert.run_classifier.InputFeatures object at 0x7fc63005a470>, <bert.run_classifier.InputFeatures object at 0x7fc63005a978>, <bert.run_classifier.InputFeatures object at 0x7fc63005a0b8>, <bert.run_classifier.InputFeatures object at 0x7fc5e015b4e0>, <bert.run_classifier.InputFeatures object at 0x7fc63005a438>, <bert.run_classifier.InputFeatures object at 0x7fc63005a860>, <bert.run_classifier.InputFeatures object at 0x7fc5e0167e48>, <bert.run_classifier.InputFeatures object at 0x7fc5e01671d0>, <bert.run_classifier.InputFeatures object at 0x7fc5e01677f0>, <bert.run_classifier.InputFeatures object at 0x7fc630067908>, <bert.run_classifier.InputFeatures object at 0x7fc6300465c0>, <bert.run_classifier.InputFeatures object at 0x7fc6300675c0>, <bert.run_classifier.InputFeatures object at 0x7fc630067160>, <bert.run_classifier.InputFeatures object at 0x7fc630067eb8>, <bert.run_classifier.InputFeatures object at 0x7fc630067fd0>, <bert.run_classifier.InputFeatures object at 0x7fc6300677b8>, <bert.run_classifier.InputFeatures object at 0x7fc630067b70>, <bert.run_classifier.InputFeatures object at 0x7fc630047ba8>, <bert.run_classifier.InputFeatures object at 0x7fc5e01676d8>, <bert.run_classifier.InputFeatures object at 0x7fc5e0167198>, <bert.run_classifier.InputFeatures object at 0x7fc630053048>, <bert.run_classifier.InputFeatures object at 0x7fc630046f98>, <bert.run_classifier.InputFeatures object at 0x7fc6300462e8>, <bert.run_classifier.InputFeatures object at 0x7fc630046278>, <bert.run_classifier.InputFeatures object at 0x7fc6300472e8>, <bert.run_classifier.InputFeatures object at 0x7fc630047d68>, <bert.run_classifier.InputFeatures object at 0x7fc6300470b8>, <bert.run_classifier.InputFeatures object at 0x7fc6300676a0>, <bert.run_classifier.InputFeatures object at 0x7fc630067668>, <bert.run_classifier.InputFeatures object at 0x7fc630067518>, <bert.run_classifier.InputFeatures object at 0x7fc630067390>, <bert.run_classifier.InputFeatures object at 0x7fc5e0167e80>, <bert.run_classifier.InputFeatures object at 0x7fc5e0167940>, <bert.run_classifier.InputFeatures object at 0x7fc630067ef0>, <bert.run_classifier.InputFeatures object at 0x7fc630067588>, <bert.run_classifier.InputFeatures object at 0x7fc630067748>, <bert.run_classifier.InputFeatures object at 0x7fc6300673c8>, <bert.run_classifier.InputFeatures object at 0x7fc6300672b0>, <bert.run_classifier.InputFeatures object at 0x7fc630053518>, <bert.run_classifier.InputFeatures object at 0x7fc630053470>, <bert.run_classifier.InputFeatures object at 0x7fc630053978>, <bert.run_classifier.InputFeatures object at 0x7fc630053cf8>, <bert.run_classifier.InputFeatures object at 0x7fc630053d30>, <bert.run_classifier.InputFeatures object at 0x7fc630067f98>, <bert.run_classifier.InputFeatures object at 0x7fc630067978>, <bert.run_classifier.InputFeatures object at 0x7fc630047208>, <bert.run_classifier.InputFeatures object at 0x7fc63003a160>, <bert.run_classifier.InputFeatures object at 0x7fc5e0167b70>, <bert.run_classifier.InputFeatures object at 0x7fc5e0167668>, <bert.run_classifier.InputFeatures object at 0x7fc5e0167278>, <bert.run_classifier.InputFeatures object at 0x7fc5e0167c18>, <bert.run_classifier.InputFeatures object at 0x7fc5e0167ba8>, <bert.run_classifier.InputFeatures object at 0x7fc5e0167c88>, <bert.run_classifier.InputFeatures object at 0x7fc630053ba8>, <bert.run_classifier.InputFeatures object at 0x7fc630053828>, <bert.run_classifier.InputFeatures object at 0x7fc630053f60>, <bert.run_classifier.InputFeatures object at 0x7fc6300534e0>, <bert.run_classifier.InputFeatures object at 0x7fc6300539e8>, <bert.run_classifier.InputFeatures object at 0x7fc63003a240>, <bert.run_classifier.InputFeatures object at 0x7fc63003a0f0>, <bert.run_classifier.InputFeatures object at 0x7fc63003a128>, <bert.run_classifier.InputFeatures object at 0x7fc630046710>, <bert.run_classifier.InputFeatures object at 0x7fc630067dd8>, <bert.run_classifier.InputFeatures object at 0x7fc6300674e0>, <bert.run_classifier.InputFeatures object at 0x7fc5e0167be0>, <bert.run_classifier.InputFeatures object at 0x7fc5e0167cc0>, <bert.run_classifier.InputFeatures object at 0x7fc5e0167390>, <bert.run_classifier.InputFeatures object at 0x7fc5e0167630>, <bert.run_classifier.InputFeatures object at 0x7fc5e0167a20>, <bert.run_classifier.InputFeatures object at 0x7fc5e0167978>, <bert.run_classifier.InputFeatures object at 0x7fc630047a90>, <bert.run_classifier.InputFeatures object at 0x7fc630047358>, <bert.run_classifier.InputFeatures object at 0x7fc630047780>, <bert.run_classifier.InputFeatures object at 0x7fc6300476a0>, <bert.run_classifier.InputFeatures object at 0x7fc630047908>, <bert.run_classifier.InputFeatures object at 0x7fc630047a58>, <bert.run_classifier.InputFeatures object at 0x7fc5e0167d30>, <bert.run_classifier.InputFeatures object at 0x7fc6300535f8>, <bert.run_classifier.InputFeatures object at 0x7fc630053be0>, <bert.run_classifier.InputFeatures object at 0x7fc630053cc0>, <bert.run_classifier.InputFeatures object at 0x7fc630053630>, <bert.run_classifier.InputFeatures object at 0x7fc6300535c0>, <bert.run_classifier.InputFeatures object at 0x7fc630053358>, <bert.run_classifier.InputFeatures object at 0x7fc5e015b2e8>, <bert.run_classifier.InputFeatures object at 0x7fc5e015b240>, <bert.run_classifier.InputFeatures object at 0x7fc5e015b6d8>, <bert.run_classifier.InputFeatures object at 0x7fc630046630>, <bert.run_classifier.InputFeatures object at 0x7fc5e015b438>, <bert.run_classifier.InputFeatures object at 0x7fc6300471d0>, <bert.run_classifier.InputFeatures object at 0x7fc5e015bac8>, <bert.run_classifier.InputFeatures object at 0x7fc6300463c8>, <bert.run_classifier.InputFeatures object at 0x7fc630046a90>, <bert.run_classifier.InputFeatures object at 0x7fc630046eb8>, <bert.run_classifier.InputFeatures object at 0x7fc630046320>, <bert.run_classifier.InputFeatures object at 0x7fc630046e80>, <bert.run_classifier.InputFeatures object at 0x7fc630046160>, <bert.run_classifier.InputFeatures object at 0x7fc6300469b0>, <bert.run_classifier.InputFeatures object at 0x7fc630046080>, <bert.run_classifier.InputFeatures object at 0x7fc630046240>, <bert.run_classifier.InputFeatures object at 0x7fc630046358>, <bert.run_classifier.InputFeatures object at 0x7fc630046780>, <bert.run_classifier.InputFeatures object at 0x7fc630046048>, <bert.run_classifier.InputFeatures object at 0x7fc6300462b0>, <bert.run_classifier.InputFeatures object at 0x7fc630046cf8>, <bert.run_classifier.InputFeatures object at 0x7fc63005ada0>, <bert.run_classifier.InputFeatures object at 0x7fc63005a0f0>, <bert.run_classifier.InputFeatures object at 0x7fc63005aa90>, <bert.run_classifier.InputFeatures object at 0x7fc63005aeb8>, <bert.run_classifier.InputFeatures object at 0x7fc63005ac50>, <bert.run_classifier.InputFeatures object at 0x7fc63005a198>, <bert.run_classifier.InputFeatures object at 0x7fc63005acc0>, <bert.run_classifier.InputFeatures object at 0x7fc63005ab00>, <bert.run_classifier.InputFeatures object at 0x7fc63005a4e0>, <bert.run_classifier.InputFeatures object at 0x7fc630046588>, <bert.run_classifier.InputFeatures object at 0x7fc63005ab38>, <bert.run_classifier.InputFeatures object at 0x7fc6300464a8>, <bert.run_classifier.InputFeatures object at 0x7fc630046208>, <bert.run_classifier.InputFeatures object at 0x7fc630046f28>, <bert.run_classifier.InputFeatures object at 0x7fc630046ef0>, <bert.run_classifier.InputFeatures object at 0x7fc63005a128>, <bert.run_classifier.InputFeatures object at 0x7fc6300461d0>, <bert.run_classifier.InputFeatures object at 0x7fc63005ac18>, <bert.run_classifier.InputFeatures object at 0x7fc63005acf8>, <bert.run_classifier.InputFeatures object at 0x7fc5e015bf60>, <bert.run_classifier.InputFeatures object at 0x7fc5e0167fd0>, <bert.run_classifier.InputFeatures object at 0x7fc5e0167438>, <bert.run_classifier.InputFeatures object at 0x7fc630067b00>, <bert.run_classifier.InputFeatures object at 0x7fc5e0167470>, <bert.run_classifier.InputFeatures object at 0x7fc5e015b668>, <bert.run_classifier.InputFeatures object at 0x7fc630053588>, <bert.run_classifier.InputFeatures object at 0x7fc5e015bdd8>, <bert.run_classifier.InputFeatures object at 0x7fc5e015b5f8>, <bert.run_classifier.InputFeatures object at 0x7fc5e015be10>, <bert.run_classifier.InputFeatures object at 0x7fc63003a780>, <bert.run_classifier.InputFeatures object at 0x7fc63005ac88>, <bert.run_classifier.InputFeatures object at 0x7fc63005aac8>, <bert.run_classifier.InputFeatures object at 0x7fc630067198>, <bert.run_classifier.InputFeatures object at 0x7fc63005a400>, <bert.run_classifier.InputFeatures object at 0x7fc630067780>, <bert.run_classifier.InputFeatures object at 0x7fc63005a908>, <bert.run_classifier.InputFeatures object at 0x7fc63005a048>, <bert.run_classifier.InputFeatures object at 0x7fc63005a358>, <bert.run_classifier.InputFeatures object at 0x7fc63005a2b0>, <bert.run_classifier.InputFeatures object at 0x7fc63005a780>, <bert.run_classifier.InputFeatures object at 0x7fc63005a390>, <bert.run_classifier.InputFeatures object at 0x7fc630053b00>, <bert.run_classifier.InputFeatures object at 0x7fc63005af98>, <bert.run_classifier.InputFeatures object at 0x7fc63005aa20>, <bert.run_classifier.InputFeatures object at 0x7fc63005ae48>, <bert.run_classifier.InputFeatures object at 0x7fc63005a7b8>, <bert.run_classifier.InputFeatures object at 0x7fc630053a90>, <bert.run_classifier.InputFeatures object at 0x7fc6300536a0>, <bert.run_classifier.InputFeatures object at 0x7fc5e015bb00>, <bert.run_classifier.InputFeatures object at 0x7fc5e015bc50>, <bert.run_classifier.InputFeatures object at 0x7fc630047080>, <bert.run_classifier.InputFeatures object at 0x7fc630047c18>, <bert.run_classifier.InputFeatures object at 0x7fc630047978>, <bert.run_classifier.InputFeatures object at 0x7fc630047c88>, <bert.run_classifier.InputFeatures object at 0x7fc630047ef0>, <bert.run_classifier.InputFeatures object at 0x7fc630047dd8>, <bert.run_classifier.InputFeatures object at 0x7fc630047710>, <bert.run_classifier.InputFeatures object at 0x7fc630047f28>, <bert.run_classifier.InputFeatures object at 0x7fc630047860>, <bert.run_classifier.InputFeatures object at 0x7fc6300479b0>, <bert.run_classifier.InputFeatures object at 0x7fc630047b00>, <bert.run_classifier.InputFeatures object at 0x7fc63003ab00>, <bert.run_classifier.InputFeatures object at 0x7fc63003af28>, <bert.run_classifier.InputFeatures object at 0x7fc63003acc0>, <bert.run_classifier.InputFeatures object at 0x7fc63003acf8>, <bert.run_classifier.InputFeatures object at 0x7fc5e0167dd8>, <bert.run_classifier.InputFeatures object at 0x7fc5e0167860>, <bert.run_classifier.InputFeatures object at 0x7fc630053400>, <bert.run_classifier.InputFeatures object at 0x7fc6300533c8>, <bert.run_classifier.InputFeatures object at 0x7fc630053320>, <bert.run_classifier.InputFeatures object at 0x7fc630047630>, <bert.run_classifier.InputFeatures object at 0x7fc63003a400>, <bert.run_classifier.InputFeatures object at 0x7fc630047d30>, <bert.run_classifier.InputFeatures object at 0x7fc630047b70>, <bert.run_classifier.InputFeatures object at 0x7fc5e015b3c8>, <bert.run_classifier.InputFeatures object at 0x7fc5e015bcc0>, <bert.run_classifier.InputFeatures object at 0x7fc5e015b128>, <bert.run_classifier.InputFeatures object at 0x7fc5e015bfd0>, <bert.run_classifier.InputFeatures object at 0x7fc5e015b630>, <bert.run_classifier.InputFeatures object at 0x7fc5e015b278>, <bert.run_classifier.InputFeatures object at 0x7fc5e015b208>, <bert.run_classifier.InputFeatures object at 0x7fc63003afd0>, <bert.run_classifier.InputFeatures object at 0x7fc63003a828>, <bert.run_classifier.InputFeatures object at 0x7fc6300469e8>, <bert.run_classifier.InputFeatures object at 0x7fc630046668>, <bert.run_classifier.InputFeatures object at 0x7fc6300466a0>, <bert.run_classifier.InputFeatures object at 0x7fc63003a5c0>, <bert.run_classifier.InputFeatures object at 0x7fc630047240>, <bert.run_classifier.InputFeatures object at 0x7fc630047940>, <bert.run_classifier.InputFeatures object at 0x7fc630047898>, <bert.run_classifier.InputFeatures object at 0x7fc6300473c8>, <bert.run_classifier.InputFeatures object at 0x7fc6300477f0>, <bert.run_classifier.InputFeatures object at 0x7fc630047518>, <bert.run_classifier.InputFeatures object at 0x7fc6300474a8>, <bert.run_classifier.InputFeatures object at 0x7fc630067940>, <bert.run_classifier.InputFeatures object at 0x7fc630067d68>, <bert.run_classifier.InputFeatures object at 0x7fc6300677f0>, <bert.run_classifier.InputFeatures object at 0x7fc6300678d0>, <bert.run_classifier.InputFeatures object at 0x7fc630067860>, <bert.run_classifier.InputFeatures object at 0x7fc630053f98>, <bert.run_classifier.InputFeatures object at 0x7fc630053c18>, <bert.run_classifier.InputFeatures object at 0x7fc630053668>, <bert.run_classifier.InputFeatures object at 0x7fc6300679e8>, <bert.run_classifier.InputFeatures object at 0x7fc630067cc0>, <bert.run_classifier.InputFeatures object at 0x7fc630067710>, <bert.run_classifier.InputFeatures object at 0x7fc630053240>, <bert.run_classifier.InputFeatures object at 0x7fc630046ba8>, <bert.run_classifier.InputFeatures object at 0x7fc6300670f0>, <bert.run_classifier.InputFeatures object at 0x7fc5e0167358>, <bert.run_classifier.InputFeatures object at 0x7fc5e0167898>, <bert.run_classifier.InputFeatures object at 0x7fc5e0167f60>, <bert.run_classifier.InputFeatures object at 0x7fc5e0167710>, <bert.run_classifier.InputFeatures object at 0x7fc63003a550>, <bert.run_classifier.InputFeatures object at 0x7fc63003aba8>, <bert.run_classifier.InputFeatures object at 0x7fc630053390>, <bert.run_classifier.InputFeatures object at 0x7fc630053748>, <bert.run_classifier.InputFeatures object at 0x7fc630053a20>, <bert.run_classifier.InputFeatures object at 0x7fc630046940>, <bert.run_classifier.InputFeatures object at 0x7fc630046da0>, <bert.run_classifier.InputFeatures object at 0x7fc6300466d8>, <bert.run_classifier.InputFeatures object at 0x7fc630067278>, <bert.run_classifier.InputFeatures object at 0x7fc630067e80>, <bert.run_classifier.InputFeatures object at 0x7fc630067400>, <bert.run_classifier.InputFeatures object at 0x7fc630067f60>, <bert.run_classifier.InputFeatures object at 0x7fc630067898>, <bert.run_classifier.InputFeatures object at 0x7fc630067a90>, <bert.run_classifier.InputFeatures object at 0x7fc6300475f8>, <bert.run_classifier.InputFeatures object at 0x7fc630047fd0>, <bert.run_classifier.InputFeatures object at 0x7fc630047f60>, <bert.run_classifier.InputFeatures object at 0x7fc630047550>, <bert.run_classifier.InputFeatures object at 0x7fc6300477b8>, <bert.run_classifier.InputFeatures object at 0x7fc630047588>, <bert.run_classifier.InputFeatures object at 0x7fc6300531d0>, <bert.run_classifier.InputFeatures object at 0x7fc6300507f0>, <bert.run_classifier.InputFeatures object at 0x7fc630050048>, <bert.run_classifier.InputFeatures object at 0x7fc6300500b8>, <bert.run_classifier.InputFeatures object at 0x7fc6300500f0>, <bert.run_classifier.InputFeatures object at 0x7fc630050080>, <bert.run_classifier.InputFeatures object at 0x7fc630050160>, <bert.run_classifier.InputFeatures object at 0x7fc6300672e8>, <bert.run_classifier.InputFeatures object at 0x7fc630046b00>, <bert.run_classifier.InputFeatures object at 0x7fc630046898>, <bert.run_classifier.InputFeatures object at 0x7fc630046cc0>, <bert.run_classifier.InputFeatures object at 0x7fc630046470>, <bert.run_classifier.InputFeatures object at 0x7fc630046400>, <bert.run_classifier.InputFeatures object at 0x7fc630046b70>, <bert.run_classifier.InputFeatures object at 0x7fc630046fd0>, <bert.run_classifier.InputFeatures object at 0x7fc630046a20>, <bert.run_classifier.InputFeatures object at 0x7fc6300467b8>, <bert.run_classifier.InputFeatures object at 0x7fc630047048>, <bert.run_classifier.InputFeatures object at 0x7fc630047cc0>, <bert.run_classifier.InputFeatures object at 0x7fc630047ac8>, <bert.run_classifier.InputFeatures object at 0x7fc630047470>, <bert.run_classifier.InputFeatures object at 0x7fc630047be0>, <bert.run_classifier.InputFeatures object at 0x7fc630046d30>, <bert.run_classifier.InputFeatures object at 0x7fc630046f60>, <bert.run_classifier.InputFeatures object at 0x7fc63003a668>, <bert.run_classifier.InputFeatures object at 0x7fc6300465f8>, <bert.run_classifier.InputFeatures object at 0x7fc630046be0>, <bert.run_classifier.InputFeatures object at 0x7fc630047320>, <bert.run_classifier.InputFeatures object at 0x7fc630047668>, <bert.run_classifier.InputFeatures object at 0x7fc630067cf8>, <bert.run_classifier.InputFeatures object at 0x7fc630067f28>, <bert.run_classifier.InputFeatures object at 0x7fc630067550>, <bert.run_classifier.InputFeatures object at 0x7fc630067c18>, <bert.run_classifier.InputFeatures object at 0x7fc6300539b0>, <bert.run_classifier.InputFeatures object at 0x7fc630053eb8>, <bert.run_classifier.InputFeatures object at 0x7fc630053e80>, <bert.run_classifier.InputFeatures object at 0x7fc630053e48>, <bert.run_classifier.InputFeatures object at 0x7fc630053208>, <bert.run_classifier.InputFeatures object at 0x7fc6300534a8>, <bert.run_classifier.InputFeatures object at 0x7fc630053ef0>, <bert.run_classifier.InputFeatures object at 0x7fc630053b38>, <bert.run_classifier.InputFeatures object at 0x7fc630067ac8>, <bert.run_classifier.InputFeatures object at 0x7fc630067c88>, <bert.run_classifier.InputFeatures object at 0x7fc6300671d0>, <bert.run_classifier.InputFeatures object at 0x7fc630067a58>, <bert.run_classifier.InputFeatures object at 0x7fc6300532e8>, <bert.run_classifier.InputFeatures object at 0x7fc6300536d8>, <bert.run_classifier.InputFeatures object at 0x7fc630053fd0>, <bert.run_classifier.InputFeatures object at 0x7fc630053940>, <bert.run_classifier.InputFeatures object at 0x7fc630067e10>, <bert.run_classifier.InputFeatures object at 0x7fc630067048>, <bert.run_classifier.InputFeatures object at 0x7fc630067630>, <bert.run_classifier.InputFeatures object at 0x7fc630053f28>, <bert.run_classifier.InputFeatures object at 0x7fc6300532b0>, <bert.run_classifier.InputFeatures object at 0x7fc630067320>, <bert.run_classifier.InputFeatures object at 0x7fc630067828>, <bert.run_classifier.InputFeatures object at 0x7fc630050ac8>, <bert.run_classifier.InputFeatures object at 0x7fc630050198>, <bert.run_classifier.InputFeatures object at 0x7fc630050c88>, <bert.run_classifier.InputFeatures object at 0x7fc630050be0>, <bert.run_classifier.InputFeatures object at 0x7fc630050a20>, <bert.run_classifier.InputFeatures object at 0x7fc630050208>, <bert.run_classifier.InputFeatures object at 0x7fc6300503c8>, <bert.run_classifier.InputFeatures object at 0x7fc6300467f0>, <bert.run_classifier.InputFeatures object at 0x7fc630046c18>, <bert.run_classifier.InputFeatures object at 0x7fc630047438>, <bert.run_classifier.InputFeatures object at 0x7fc630047eb8>, <bert.run_classifier.InputFeatures object at 0x7fc6300470f0>, <bert.run_classifier.InputFeatures object at 0x7fc630047e10>, <bert.run_classifier.InputFeatures object at 0x7fc630047128>, <bert.run_classifier.InputFeatures object at 0x7fc6300474e0>, <bert.run_classifier.InputFeatures object at 0x7fc6300472b0>, <bert.run_classifier.InputFeatures object at 0x7fc630047da0>, <bert.run_classifier.InputFeatures object at 0x7fc630047828>, <bert.run_classifier.InputFeatures object at 0x7fc63003ad30>, <bert.run_classifier.InputFeatures object at 0x7fc63003a518>, <bert.run_classifier.InputFeatures object at 0x7fc63003a710>, <bert.run_classifier.InputFeatures object at 0x7fc63003ae80>, <bert.run_classifier.InputFeatures object at 0x7fc630047390>, <bert.run_classifier.InputFeatures object at 0x7fc6300475c0>, <bert.run_classifier.InputFeatures object at 0x7fc630047748>, <bert.run_classifier.InputFeatures object at 0x7fc6300479e8>, <bert.run_classifier.InputFeatures object at 0x7fc630047b38>, <bert.run_classifier.InputFeatures object at 0x7fc630047400>, <bert.run_classifier.InputFeatures object at 0x7fc630053160>, <bert.run_classifier.InputFeatures object at 0x7fc630047f98>, <bert.run_classifier.InputFeatures object at 0x7fc630047160>, <bert.run_classifier.InputFeatures object at 0x7fc6300478d0>, <bert.run_classifier.InputFeatures object at 0x7fc6300538d0>, <bert.run_classifier.InputFeatures object at 0x7fc63003a1d0>, <bert.run_classifier.InputFeatures object at 0x7fc6300537f0>, <bert.run_classifier.InputFeatures object at 0x7fc630053e10>, <bert.run_classifier.InputFeatures object at 0x7fc630053198>, <bert.run_classifier.InputFeatures object at 0x7fc63003a6a0>, <bert.run_classifier.InputFeatures object at 0x7fc630053860>, <bert.run_classifier.InputFeatures object at 0x7fc63003a7b8>, <bert.run_classifier.InputFeatures object at 0x7fc630053780>, <bert.run_classifier.InputFeatures object at 0x7fc63003a390>, <bert.run_classifier.InputFeatures object at 0x7fc63003ac50>, <bert.run_classifier.InputFeatures object at 0x7fc63003a6d8>, <bert.run_classifier.InputFeatures object at 0x7fc63003ada0>, <bert.run_classifier.InputFeatures object at 0x7fc630047a20>, <bert.run_classifier.InputFeatures object at 0x7fc63003ae48>, <bert.run_classifier.InputFeatures object at 0x7fc63003ad68>, <bert.run_classifier.InputFeatures object at 0x7fc63003ab38>, <bert.run_classifier.InputFeatures object at 0x7fc630053c88>, <bert.run_classifier.InputFeatures object at 0x7fc630053b70>, <bert.run_classifier.InputFeatures object at 0x7fc630053550>, <bert.run_classifier.InputFeatures object at 0x7fc630053dd8>, <bert.run_classifier.InputFeatures object at 0x7fc630053710>, <bert.run_classifier.InputFeatures object at 0x7fc6300537b8>, <bert.run_classifier.InputFeatures object at 0x7fc63003b3c8>, <bert.run_classifier.InputFeatures object at 0x7fc63003b128>, <bert.run_classifier.InputFeatures object at 0x7fc630053d68>, <bert.run_classifier.InputFeatures object at 0x7fc6300507b8>, <bert.run_classifier.InputFeatures object at 0x7fc630053438>, <bert.run_classifier.InputFeatures object at 0x7fc630053a58>, <bert.run_classifier.InputFeatures object at 0x7fc630053898>, <bert.run_classifier.InputFeatures object at 0x7fc630053ac8>, <bert.run_classifier.InputFeatures object at 0x7fc630053c50>, <bert.run_classifier.InputFeatures object at 0x7fc630053908>, <bert.run_classifier.InputFeatures object at 0x7fc630047278>, <bert.run_classifier.InputFeatures object at 0x7fc630047e80>, <bert.run_classifier.InputFeatures object at 0x7fc6300476d8>, <bert.run_classifier.InputFeatures object at 0x7fc63003a9b0>, <bert.run_classifier.InputFeatures object at 0x7fc630046390>, <bert.run_classifier.InputFeatures object at 0x7fc630050b00>, <bert.run_classifier.InputFeatures object at 0x7fc630050278>, <bert.run_classifier.InputFeatures object at 0x7fc630050390>, <bert.run_classifier.InputFeatures object at 0x7fc63006af98>, <bert.run_classifier.InputFeatures object at 0x7fc63006a0b8>, <bert.run_classifier.InputFeatures object at 0x7fc63006a0f0>, <bert.run_classifier.InputFeatures object at 0x7fc63006a6d8>, <bert.run_classifier.InputFeatures object at 0x7fc63006a438>, <bert.run_classifier.InputFeatures object at 0x7fc63006a588>, <bert.run_classifier.InputFeatures object at 0x7fc63006a5c0>, <bert.run_classifier.InputFeatures object at 0x7fc63006a6a0>, <bert.run_classifier.InputFeatures object at 0x7fc63006a5f8>, <bert.run_classifier.InputFeatures object at 0x7fc630050470>, <bert.run_classifier.InputFeatures object at 0x7fc63003be80>, <bert.run_classifier.InputFeatures object at 0x7fc63003a630>, <bert.run_classifier.InputFeatures object at 0x7fc63003add8>, <bert.run_classifier.InputFeatures object at 0x7fc63003b0f0>, <bert.run_classifier.InputFeatures object at 0x7fc63003aa90>, <bert.run_classifier.InputFeatures object at 0x7fc63003a860>, <bert.run_classifier.InputFeatures object at 0x7fc63003aa20>, <bert.run_classifier.InputFeatures object at 0x7fc63003af98>, <bert.run_classifier.InputFeatures object at 0x7fc63003a908>, <bert.run_classifier.InputFeatures object at 0x7fc63003ac88>, <bert.run_classifier.InputFeatures object at 0x7fc630047c50>, <bert.run_classifier.InputFeatures object at 0x7fc630047198>, <bert.run_classifier.InputFeatures object at 0x7fc63003bf98>, <bert.run_classifier.InputFeatures object at 0x7fc630046dd8>, <bert.run_classifier.InputFeatures object at 0x7fc630046518>, <bert.run_classifier.InputFeatures object at 0x7fc6300464e0>, <bert.run_classifier.InputFeatures object at 0x7fc630046ac8>, <bert.run_classifier.InputFeatures object at 0x7fc630046860>, <bert.run_classifier.InputFeatures object at 0x7fc630046d68>, <bert.run_classifier.InputFeatures object at 0x7fc630046198>, <bert.run_classifier.InputFeatures object at 0x7fc630046e10>, <bert.run_classifier.InputFeatures object at 0x7fc630046978>, <bert.run_classifier.InputFeatures object at 0x7fc630046c50>, <bert.run_classifier.InputFeatures object at 0x7fc63003a8d0>, <bert.run_classifier.InputFeatures object at 0x7fc63003a9e8>, <bert.run_classifier.InputFeatures object at 0x7fc63003a278>, <bert.run_classifier.InputFeatures object at 0x7fc63003a2b0>, <bert.run_classifier.InputFeatures object at 0x7fc63003a4e0>, <bert.run_classifier.InputFeatures object at 0x7fc63003a748>, <bert.run_classifier.InputFeatures object at 0x7fc63003ac18>, <bert.run_classifier.InputFeatures object at 0x7fc63003a588>, <bert.run_classifier.InputFeatures object at 0x7fc63003aa58>, <bert.run_classifier.InputFeatures object at 0x7fc63003a470>, <bert.run_classifier.InputFeatures object at 0x7fc630046748>, <bert.run_classifier.InputFeatures object at 0x7fc63003a5f8>, <bert.run_classifier.InputFeatures object at 0x7fc630046550>, <bert.run_classifier.InputFeatures object at 0x7fc6300468d0>, <bert.run_classifier.InputFeatures object at 0x7fc6300460b8>, <bert.run_classifier.InputFeatures object at 0x7fc630046438>, <bert.run_classifier.InputFeatures object at 0x7fc630046b38>, <bert.run_classifier.InputFeatures object at 0x7fc6300506d8>, <bert.run_classifier.InputFeatures object at 0x7fc63003a898>, <bert.run_classifier.InputFeatures object at 0x7fc630046c88>, <bert.run_classifier.InputFeatures object at 0x7fc630046908>, <bert.run_classifier.InputFeatures object at 0x7fc630046e48>, <bert.run_classifier.InputFeatures object at 0x7fc6300460f0>, <bert.run_classifier.InputFeatures object at 0x7fc63003a4a8>, <bert.run_classifier.InputFeatures object at 0x7fc63003abe0>, <bert.run_classifier.InputFeatures object at 0x7fc6300501d0>, <bert.run_classifier.InputFeatures object at 0x7fc63003a940>, <bert.run_classifier.InputFeatures object at 0x7fc63003a7f0>, <bert.run_classifier.InputFeatures object at 0x7fc63003a978>, <bert.run_classifier.InputFeatures object at 0x7fc630050518>, <bert.run_classifier.InputFeatures object at 0x7fc63003ae10>, <bert.run_classifier.InputFeatures object at 0x7fc630046a58>, <bert.run_classifier.InputFeatures object at 0x7fc630046828>, <bert.run_classifier.InputFeatures object at 0x7fc630046128>, <bert.run_classifier.InputFeatures object at 0x7fc630050b38>, <bert.run_classifier.InputFeatures object at 0x7fc630050c50>, <bert.run_classifier.InputFeatures object at 0x7fc630050828>, <bert.run_classifier.InputFeatures object at 0x7fc6300504e0>, <bert.run_classifier.InputFeatures object at 0x7fc6300505f8>, <bert.run_classifier.InputFeatures object at 0x7fc63003a080>, <bert.run_classifier.InputFeatures object at 0x7fc63003a3c8>, <bert.run_classifier.InputFeatures object at 0x7fc63003a438>, <bert.run_classifier.InputFeatures object at 0x7fc630050710>, <bert.run_classifier.InputFeatures object at 0x7fc63003a320>, <bert.run_classifier.InputFeatures object at 0x7fc63003aeb8>, <bert.run_classifier.InputFeatures object at 0x7fc63006abe0>, <bert.run_classifier.InputFeatures object at 0x7fc63006ab00>, <bert.run_classifier.InputFeatures object at 0x7fc63006a048>, <bert.run_classifier.InputFeatures object at 0x7fc6300509e8>, <bert.run_classifier.InputFeatures object at 0x7fc63006a240>, <bert.run_classifier.InputFeatures object at 0x7fc630050f98>, <bert.run_classifier.InputFeatures object at 0x7fc630050ba8>, <bert.run_classifier.InputFeatures object at 0x7fc63006a780>, <bert.run_classifier.InputFeatures object at 0x7fc63006aa90>, <bert.run_classifier.InputFeatures object at 0x7fc63006ab38>, <bert.run_classifier.InputFeatures object at 0x7fc63006af60>, <bert.run_classifier.InputFeatures object at 0x7fc63006a7b8>, <bert.run_classifier.InputFeatures object at 0x7fc63006a710>, <bert.run_classifier.InputFeatures object at 0x7fc63006a4a8>, <bert.run_classifier.InputFeatures object at 0x7fc63006a518>, <bert.run_classifier.InputFeatures object at 0x7fc63006acc0>, <bert.run_classifier.InputFeatures object at 0x7fc63006ad30>, <bert.run_classifier.InputFeatures object at 0x7fc63006a278>, <bert.run_classifier.InputFeatures object at 0x7fc63006a898>, <bert.run_classifier.InputFeatures object at 0x7fc630038ef0>, <bert.run_classifier.InputFeatures object at 0x7fc6300380b8>, <bert.run_classifier.InputFeatures object at 0x7fc63003b198>, <bert.run_classifier.InputFeatures object at 0x7fc63003b780>, <bert.run_classifier.InputFeatures object at 0x7fc63003b400>, <bert.run_classifier.InputFeatures object at 0x7fc630038160>, <bert.run_classifier.InputFeatures object at 0x7fc63006a198>, <bert.run_classifier.InputFeatures object at 0x7fc6300502b0>, <bert.run_classifier.InputFeatures object at 0x7fc630050fd0>, <bert.run_classifier.InputFeatures object at 0x7fc630050240>, <bert.run_classifier.InputFeatures object at 0x7fc63006ae10>, <bert.run_classifier.InputFeatures object at 0x7fc63006a860>, <bert.run_classifier.InputFeatures object at 0x7fc63006ae48>, <bert.run_classifier.InputFeatures object at 0x7fc6300380f0>, <bert.run_classifier.InputFeatures object at 0x7fc630038470>, <bert.run_classifier.InputFeatures object at 0x7fc63003b4a8>, <bert.run_classifier.InputFeatures object at 0x7fc63003bbe0>, <bert.run_classifier.InputFeatures object at 0x7fc630050320>, <bert.run_classifier.InputFeatures object at 0x7fc630050da0>, <bert.run_classifier.InputFeatures object at 0x7fc6300509b0>, <bert.run_classifier.InputFeatures object at 0x7fc630050e48>, <bert.run_classifier.InputFeatures object at 0x7fc63003bcc0>, <bert.run_classifier.InputFeatures object at 0x7fc63003bda0>, <bert.run_classifier.InputFeatures object at 0x7fc630050f60>, <bert.run_classifier.InputFeatures object at 0x7fc630050cc0>, <bert.run_classifier.InputFeatures object at 0x7fc630050940>, <bert.run_classifier.InputFeatures object at 0x7fc630050780>, <bert.run_classifier.InputFeatures object at 0x7fc630050a90>, <bert.run_classifier.InputFeatures object at 0x7fc630050e80>, <bert.run_classifier.InputFeatures object at 0x7fc63006a320>, <bert.run_classifier.InputFeatures object at 0x7fc63006ac18>, <bert.run_classifier.InputFeatures object at 0x7fc63003be48>, <bert.run_classifier.InputFeatures object at 0x7fc63003b438>, <bert.run_classifier.InputFeatures object at 0x7fc63003b6d8>, <bert.run_classifier.InputFeatures object at 0x7fc63003a198>, <bert.run_classifier.InputFeatures object at 0x7fc63003a2e8>, <bert.run_classifier.InputFeatures object at 0x7fc63003a0b8>, <bert.run_classifier.InputFeatures object at 0x7fc6300504a8>, <bert.run_classifier.InputFeatures object at 0x7fc63003aef0>, <bert.run_classifier.InputFeatures object at 0x7fc63003a048>, <bert.run_classifier.InputFeatures object at 0x7fc630050898>, <bert.run_classifier.InputFeatures object at 0x7fc630038c18>, <bert.run_classifier.InputFeatures object at 0x7fc63003a208>, <bert.run_classifier.InputFeatures object at 0x7fc63003b5c0>, <bert.run_classifier.InputFeatures object at 0x7fc63003b8d0>, <bert.run_classifier.InputFeatures object at 0x7fc63003b588>, <bert.run_classifier.InputFeatures object at 0x7fc630038cc0>, <bert.run_classifier.InputFeatures object at 0x7fc630038cf8>, <bert.run_classifier.InputFeatures object at 0x7fc630038278>, <bert.run_classifier.InputFeatures object at 0x7fc630038208>, <bert.run_classifier.InputFeatures object at 0x7fc630038d30>, <bert.run_classifier.InputFeatures object at 0x7fc6300c7d30>, <bert.run_classifier.InputFeatures object at 0x7fc6300c7c88>, <bert.run_classifier.InputFeatures object at 0x7fc6300c77b8>, <bert.run_classifier.InputFeatures object at 0x7fc6300c7208>, <bert.run_classifier.InputFeatures object at 0x7fc63006a400>, <bert.run_classifier.InputFeatures object at 0x7fc63003b048>, <bert.run_classifier.InputFeatures object at 0x7fc63003bcf8>, <bert.run_classifier.InputFeatures object at 0x7fc630050b70>, <bert.run_classifier.InputFeatures object at 0x7fc63006af28>, <bert.run_classifier.InputFeatures object at 0x7fc63006a3c8>, <bert.run_classifier.InputFeatures object at 0x7fc63006a160>, <bert.run_classifier.InputFeatures object at 0x7fc63006a630>, <bert.run_classifier.InputFeatures object at 0x7fc63006a470>, <bert.run_classifier.InputFeatures object at 0x7fc63006add8>, <bert.run_classifier.InputFeatures object at 0x7fc63006ac88>, <bert.run_classifier.InputFeatures object at 0x7fc63006ae80>, <bert.run_classifier.InputFeatures object at 0x7fc63006a080>, <bert.run_classifier.InputFeatures object at 0x7fc63006a668>, <bert.run_classifier.InputFeatures object at 0x7fc63006aba8>, <bert.run_classifier.InputFeatures object at 0x7fc63006ada0>, <bert.run_classifier.InputFeatures object at 0x7fc63006aeb8>, <bert.run_classifier.InputFeatures object at 0x7fc63003aac8>, <bert.run_classifier.InputFeatures object at 0x7fc630050d30>, <bert.run_classifier.InputFeatures object at 0x7fc63003ab70>, <bert.run_classifier.InputFeatures object at 0x7fc630038048>, <bert.run_classifier.InputFeatures object at 0x7fc63003af60>, <bert.run_classifier.InputFeatures object at 0x7fc63003a358>, <bert.run_classifier.InputFeatures object at 0x7fc63003bb70>, <bert.run_classifier.InputFeatures object at 0x7fc63003b6a0>, <bert.run_classifier.InputFeatures object at 0x7fc63003bb38>, <bert.run_classifier.InputFeatures object at 0x7fc63003b240>, <bert.run_classifier.InputFeatures object at 0x7fc63003bdd8>, <bert.run_classifier.InputFeatures object at 0x7fc63003b9b0>, <bert.run_classifier.InputFeatures object at 0x7fc63003ba20>, <bert.run_classifier.InputFeatures object at 0x7fc63003bac8>, <bert.run_classifier.InputFeatures object at 0x7fc63006a390>, <bert.run_classifier.InputFeatures object at 0x7fc63006a4e0>, <bert.run_classifier.InputFeatures object at 0x7fc63006a978>, <bert.run_classifier.InputFeatures object at 0x7fc63006afd0>, <bert.run_classifier.InputFeatures object at 0x7fc63003b940>, <bert.run_classifier.InputFeatures object at 0x7fc63003beb8>, <bert.run_classifier.InputFeatures object at 0x7fc63003b908>, <bert.run_classifier.InputFeatures object at 0x7fc63003b828>, <bert.run_classifier.InputFeatures object at 0x7fc63003b860>, <bert.run_classifier.InputFeatures object at 0x7fc63003b710>, <bert.run_classifier.InputFeatures object at 0x7fc63006aef0>, <bert.run_classifier.InputFeatures object at 0x7fc63006a2e8>, <bert.run_classifier.InputFeatures object at 0x7fc63006a550>, <bert.run_classifier.InputFeatures object at 0x7fc63003b390>, <bert.run_classifier.InputFeatures object at 0x7fc63003b748>, <bert.run_classifier.InputFeatures object at 0x7fc63003ba58>, <bert.run_classifier.InputFeatures object at 0x7fc63006a8d0>, <bert.run_classifier.InputFeatures object at 0x7fc63006a828>, <bert.run_classifier.InputFeatures object at 0x7fc63006ab70>, <bert.run_classifier.InputFeatures object at 0x7fc6300c7550>, <bert.run_classifier.InputFeatures object at 0x7fc6300c7748>, <bert.run_classifier.InputFeatures object at 0x7fc63003b630>, <bert.run_classifier.InputFeatures object at 0x7fc63003b898>, <bert.run_classifier.InputFeatures object at 0x7fc63003bc50>, <bert.run_classifier.InputFeatures object at 0x7fc63003b978>, <bert.run_classifier.InputFeatures object at 0x7fc63006a748>, <bert.run_classifier.InputFeatures object at 0x7fc63006a940>, <bert.run_classifier.InputFeatures object at 0x7fc630050668>, <bert.run_classifier.InputFeatures object at 0x7fc630050550>, <bert.run_classifier.InputFeatures object at 0x7fc6300505c0>, <bert.run_classifier.InputFeatures object at 0x7fc630050a58>, <bert.run_classifier.InputFeatures object at 0x7fc63006a7f0>, <bert.run_classifier.InputFeatures object at 0x7fc63006ac50>, <bert.run_classifier.InputFeatures object at 0x7fc63006a2b0>, <bert.run_classifier.InputFeatures object at 0x7fc63006a358>, <bert.run_classifier.InputFeatures object at 0x7fc63006a908>, <bert.run_classifier.InputFeatures object at 0x7fc63006a128>, <bert.run_classifier.InputFeatures object at 0x7fc63006ad68>, <bert.run_classifier.InputFeatures object at 0x7fc63003b518>, <bert.run_classifier.InputFeatures object at 0x7fc63003b7b8>, <bert.run_classifier.InputFeatures object at 0x7fc63003b668>, <bert.run_classifier.InputFeatures object at 0x7fc63003bf60>, <bert.run_classifier.InputFeatures object at 0x7fc63003bc18>, <bert.run_classifier.InputFeatures object at 0x7fc63006a9e8>, <bert.run_classifier.InputFeatures object at 0x7fc63006a208>, <bert.run_classifier.InputFeatures object at 0x7fc63003b0b8>, <bert.run_classifier.InputFeatures object at 0x7fc63006aac8>, <bert.run_classifier.InputFeatures object at 0x7fc63006a1d0>, <bert.run_classifier.InputFeatures object at 0x7fc63003b2e8>, <bert.run_classifier.InputFeatures object at 0x7fc63006acf8>, <bert.run_classifier.InputFeatures object at 0x7fc630050630>, <bert.run_classifier.InputFeatures object at 0x7fc63006aa20>, <bert.run_classifier.InputFeatures object at 0x7fc63006a9b0>, <bert.run_classifier.InputFeatures object at 0x7fc63006aa58>, <bert.run_classifier.InputFeatures object at 0x7fc6300502e8>, <bert.run_classifier.InputFeatures object at 0x7fc63003b550>, <bert.run_classifier.InputFeatures object at 0x7fc63003b470>, <bert.run_classifier.InputFeatures object at 0x7fc63003ba90>, <bert.run_classifier.InputFeatures object at 0x7fc63003b208>, <bert.run_classifier.InputFeatures object at 0x7fc63003b080>, <bert.run_classifier.InputFeatures object at 0x7fc63003bd68>, <bert.run_classifier.InputFeatures object at 0x7fc63003b2b0>, <bert.run_classifier.InputFeatures object at 0x7fc6300c73c8>, <bert.run_classifier.InputFeatures object at 0x7fc63003bd30>, <bert.run_classifier.InputFeatures object at 0x7fc63003b358>, <bert.run_classifier.InputFeatures object at 0x7fc63003b9e8>, <bert.run_classifier.InputFeatures object at 0x7fc63003bef0>, <bert.run_classifier.InputFeatures object at 0x7fc630038a58>, <bert.run_classifier.InputFeatures object at 0x7fc63003bba8>, <bert.run_classifier.InputFeatures object at 0x7fc63003b320>, <bert.run_classifier.InputFeatures object at 0x7fc630038fd0>, <bert.run_classifier.InputFeatures object at 0x7fc63003b7f0>, <bert.run_classifier.InputFeatures object at 0x7fc63003bc88>, <bert.run_classifier.InputFeatures object at 0x7fc63003bfd0>, <bert.run_classifier.InputFeatures object at 0x7fc63003b5f8>, <bert.run_classifier.InputFeatures object at 0x7fc6300cc438>, <bert.run_classifier.InputFeatures object at 0x7fc63003be10>, <bert.run_classifier.InputFeatures object at 0x7fc6300cc6d8>, <bert.run_classifier.InputFeatures object at 0x7fc6300cc518>, <bert.run_classifier.InputFeatures object at 0x7fc6300cc588>, <bert.run_classifier.InputFeatures object at 0x7fc6300cc4a8>, <bert.run_classifier.InputFeatures object at 0x7fc6300cc5c0>, <bert.run_classifier.InputFeatures object at 0x7fc63003bb00>, <bert.run_classifier.InputFeatures object at 0x7fc63003b278>, <bert.run_classifier.InputFeatures object at 0x7fc63003b1d0>, <bert.run_classifier.InputFeatures object at 0x7fc63003b160>, <bert.run_classifier.InputFeatures object at 0x7fc6300cc2e8>, <bert.run_classifier.InputFeatures object at 0x7fc63003b4e0>, <bert.run_classifier.InputFeatures object at 0x7fc6300c7b70>, <bert.run_classifier.InputFeatures object at 0x7fc6300c7048>, <bert.run_classifier.InputFeatures object at 0x7fc6300c7898>, <bert.run_classifier.InputFeatures object at 0x7fc6300c74e0>, <bert.run_classifier.InputFeatures object at 0x7fc6300c7128>, <bert.run_classifier.InputFeatures object at 0x7fc6300c75f8>, <bert.run_classifier.InputFeatures object at 0x7fc6300cc710>, <bert.run_classifier.InputFeatures object at 0x7fc6300cca58>, <bert.run_classifier.InputFeatures object at 0x7fc63003bf28>, <bert.run_classifier.InputFeatures object at 0x7fc630050748>, <bert.run_classifier.InputFeatures object at 0x7fc630038f98>, <bert.run_classifier.InputFeatures object at 0x7fc630038da0>, <bert.run_classifier.InputFeatures object at 0x7fc6300385c0>, <bert.run_classifier.InputFeatures object at 0x7fc630038f60>, <bert.run_classifier.InputFeatures object at 0x7fc630038198>, <bert.run_classifier.InputFeatures object at 0x7fc630038b38>, <bert.run_classifier.InputFeatures object at 0x7fc6300cc908>, <bert.run_classifier.InputFeatures object at 0x7fc630038390>, <bert.run_classifier.InputFeatures object at 0x7fc6300c7518>, <bert.run_classifier.InputFeatures object at 0x7fc630050cf8>, <bert.run_classifier.InputFeatures object at 0x7fc6300c7a58>, <bert.run_classifier.InputFeatures object at 0x7fc6300c76d8>, <bert.run_classifier.InputFeatures object at 0x7fc6300c7cc0>, <bert.run_classifier.InputFeatures object at 0x7fc6300c7e10>, <bert.run_classifier.InputFeatures object at 0x7fc6300c7438>, <bert.run_classifier.InputFeatures object at 0x7fc6300c72e8>, <bert.run_classifier.InputFeatures object at 0x7fc6300c7588>, <bert.run_classifier.InputFeatures object at 0x7fc6300c7f98>, <bert.run_classifier.InputFeatures object at 0x7fc6300df2b0>, <bert.run_classifier.InputFeatures object at 0x7fc6300dfcc0>, <bert.run_classifier.InputFeatures object at 0x7fc6300c7c18>, <bert.run_classifier.InputFeatures object at 0x7fc6300ccb70>, <bert.run_classifier.InputFeatures object at 0x7fc6300cccc0>, <bert.run_classifier.InputFeatures object at 0x7fc6300cc1d0>, <bert.run_classifier.InputFeatures object at 0x7fc6300cc198>, <bert.run_classifier.InputFeatures object at 0x7fc6300cc470>, <bert.run_classifier.InputFeatures object at 0x7fc6300cc7f0>, <bert.run_classifier.InputFeatures object at 0x7fc6300cc2b0>, <bert.run_classifier.InputFeatures object at 0x7fc6300cc400>, <bert.run_classifier.InputFeatures object at 0x7fc6300cc320>, <bert.run_classifier.InputFeatures object at 0x7fc6300cc0b8>, <bert.run_classifier.InputFeatures object at 0x7fc6300ccb00>, <bert.run_classifier.InputFeatures object at 0x7fc6300cce80>, <bert.run_classifier.InputFeatures object at 0x7fc6300ccba8>, <bert.run_classifier.InputFeatures object at 0x7fc6300cc240>, <bert.run_classifier.InputFeatures object at 0x7fc6300cc4e0>, <bert.run_classifier.InputFeatures object at 0x7fc630038630>, <bert.run_classifier.InputFeatures object at 0x7fc6300cc358>, <bert.run_classifier.InputFeatures object at 0x7fc6300df320>, <bert.run_classifier.InputFeatures object at 0x7fc6300df438>, <bert.run_classifier.InputFeatures object at 0x7fc6300df128>, <bert.run_classifier.InputFeatures object at 0x7fc630050c18>, <bert.run_classifier.InputFeatures object at 0x7fc6300cc9e8>, <bert.run_classifier.InputFeatures object at 0x7fc6300cc3c8>, <bert.run_classifier.InputFeatures object at 0x7fc6300cceb8>, <bert.run_classifier.InputFeatures object at 0x7fc6300cc780>, <bert.run_classifier.InputFeatures object at 0x7fc6300389b0>, <bert.run_classifier.InputFeatures object at 0x7fc6300df390>, <bert.run_classifier.InputFeatures object at 0x7fc6300df358>, <bert.run_classifier.InputFeatures object at 0x7fc6300c7630>, <bert.run_classifier.InputFeatures object at 0x7fc6300c7fd0>, <bert.run_classifier.InputFeatures object at 0x7fc6300c7a20>, <bert.run_classifier.InputFeatures object at 0x7fc6300df1d0>, <bert.run_classifier.InputFeatures object at 0x7fc6300dfba8>, <bert.run_classifier.InputFeatures object at 0x7fc630050978>, <bert.run_classifier.InputFeatures object at 0x7fc630050dd8>, <bert.run_classifier.InputFeatures object at 0x7fc630050f28>, <bert.run_classifier.InputFeatures object at 0x7fc630050438>, <bert.run_classifier.InputFeatures object at 0x7fc630050128>, <bert.run_classifier.InputFeatures object at 0x7fc630050eb8>, <bert.run_classifier.InputFeatures object at 0x7fc6300df198>, <bert.run_classifier.InputFeatures object at 0x7fc6300df9e8>, <bert.run_classifier.InputFeatures object at 0x7fc6300df0f0>, <bert.run_classifier.InputFeatures object at 0x7fc6300388d0>, <bert.run_classifier.InputFeatures object at 0x7fc6300389e8>, <bert.run_classifier.InputFeatures object at 0x7fc630038d68>, <bert.run_classifier.InputFeatures object at 0x7fc630038f28>, <bert.run_classifier.InputFeatures object at 0x7fc6300c7320>, <bert.run_classifier.InputFeatures object at 0x7fc6300c7e48>, <bert.run_classifier.InputFeatures object at 0x7fc6300c70f0>, <bert.run_classifier.InputFeatures object at 0x7fc6300c7860>, <bert.run_classifier.InputFeatures object at 0x7fc6300c7278>, <bert.run_classifier.InputFeatures object at 0x7fc6300c79e8>, <bert.run_classifier.InputFeatures object at 0x7fc6300c77f0>, <bert.run_classifier.InputFeatures object at 0x7fc6300c75c0>, <bert.run_classifier.InputFeatures object at 0x7fc6300c7940>, <bert.run_classifier.InputFeatures object at 0x7fc6300c7710>, <bert.run_classifier.InputFeatures object at 0x7fc6300c7dd8>, <bert.run_classifier.InputFeatures object at 0x7fc6300eb2b0>, <bert.run_classifier.InputFeatures object at 0x7fc6300eb518>, <bert.run_classifier.InputFeatures object at 0x7fc6300eb4e0>, <bert.run_classifier.InputFeatures object at 0x7fc6300eb048>, <bert.run_classifier.InputFeatures object at 0x7fc6300c7cf8>, <bert.run_classifier.InputFeatures object at 0x7fc6300c7400>, <bert.run_classifier.InputFeatures object at 0x7fc6300c7da0>, <bert.run_classifier.InputFeatures object at 0x7fc6300c7eb8>, <bert.run_classifier.InputFeatures object at 0x7fc6300c7908>, <bert.run_classifier.InputFeatures object at 0x7fc6300c7f60>, <bert.run_classifier.InputFeatures object at 0x7fc6300c7f28>, <bert.run_classifier.InputFeatures object at 0x7fc6300c74a8>, <bert.run_classifier.InputFeatures object at 0x7fc6300c7780>, <bert.run_classifier.InputFeatures object at 0x7fc6300c7b38>, <bert.run_classifier.InputFeatures object at 0x7fc6300c7d68>, <bert.run_classifier.InputFeatures object at 0x7fc6300c7e80>, <bert.run_classifier.InputFeatures object at 0x7fc6300c7828>, <bert.run_classifier.InputFeatures object at 0x7fc6300c7390>, <bert.run_classifier.InputFeatures object at 0x7fc6300c7978>, <bert.run_classifier.InputFeatures object at 0x7fc6300c79b0>, <bert.run_classifier.InputFeatures object at 0x7fc6300c71d0>, <bert.run_classifier.InputFeatures object at 0x7fc6300c78d0>, <bert.run_classifier.InputFeatures object at 0x7fc6300df588>, <bert.run_classifier.InputFeatures object at 0x7fc6300dff98>, <bert.run_classifier.InputFeatures object at 0x7fc6300df630>, <bert.run_classifier.InputFeatures object at 0x7fc6300df160>, <bert.run_classifier.InputFeatures object at 0x7fc6300c7b00>, <bert.run_classifier.InputFeatures object at 0x7fc6300c7198>, <bert.run_classifier.InputFeatures object at 0x7fc6300c70b8>, <bert.run_classifier.InputFeatures object at 0x7fc6300c7a90>, <bert.run_classifier.InputFeatures object at 0x7fc6300ccfd0>, <bert.run_classifier.InputFeatures object at 0x7fc6300cccf8>, <bert.run_classifier.InputFeatures object at 0x7fc630050d68>, <bert.run_classifier.InputFeatures object at 0x7fc6300cc550>, <bert.run_classifier.InputFeatures object at 0x7fc6300508d0>, <bert.run_classifier.InputFeatures object at 0x7fc6300eb198>, <bert.run_classifier.InputFeatures object at 0x7fc630050860>, <bert.run_classifier.InputFeatures object at 0x7fc6300eb320>, <bert.run_classifier.InputFeatures object at 0x7fc630050ef0>, <bert.run_classifier.InputFeatures object at 0x7fc630050588>, <bert.run_classifier.InputFeatures object at 0x7fc6300506a0>, <bert.run_classifier.InputFeatures object at 0x7fc6300c7358>, <bert.run_classifier.InputFeatures object at 0x7fc630050e10>, <bert.run_classifier.InputFeatures object at 0x7fc630050908>, <bert.run_classifier.InputFeatures object at 0x7fc6300c7470>, <bert.run_classifier.InputFeatures object at 0x7fc630050358>, <bert.run_classifier.InputFeatures object at 0x7fc630050400>, <bert.run_classifier.InputFeatures object at 0x7fc6300c7ac8>, <bert.run_classifier.InputFeatures object at 0x7fc6300c7240>, <bert.run_classifier.InputFeatures object at 0x7fc6300c7c50>, <bert.run_classifier.InputFeatures object at 0x7fc6300ebd68>, <bert.run_classifier.InputFeatures object at 0x7fc6300c7ba8>, <bert.run_classifier.InputFeatures object at 0x7fc6300c7080>, <bert.run_classifier.InputFeatures object at 0x7fc6300c7160>, <bert.run_classifier.InputFeatures object at 0x7fc6300c7ef0>, <bert.run_classifier.InputFeatures object at 0x7fc6300c7668>, <bert.run_classifier.InputFeatures object at 0x7fc6300df518>, <bert.run_classifier.InputFeatures object at 0x7fc6300dfda0>, <bert.run_classifier.InputFeatures object at 0x7fc6300cce10>, <bert.run_classifier.InputFeatures object at 0x7fc6300c72b0>, <bert.run_classifier.InputFeatures object at 0x7fc6300c76a0>, <bert.run_classifier.InputFeatures object at 0x7fc6300ccf28>, <bert.run_classifier.InputFeatures object at 0x7fc6300eb358>, <bert.run_classifier.InputFeatures object at 0x7fc630038b00>, <bert.run_classifier.InputFeatures object at 0x7fc630038dd8>, <bert.run_classifier.InputFeatures object at 0x7fc6300382e8>, <bert.run_classifier.InputFeatures object at 0x7fc6300383c8>, <bert.run_classifier.InputFeatures object at 0x7fc630038710>, <bert.run_classifier.InputFeatures object at 0x7fc630038748>, <bert.run_classifier.InputFeatures object at 0x7fc630038860>, <bert.run_classifier.InputFeatures object at 0x7fc630038eb8>, <bert.run_classifier.InputFeatures object at 0x7fc630038e48>, <bert.run_classifier.InputFeatures object at 0x7fc630038320>, <bert.run_classifier.InputFeatures object at 0x7fc630038b70>, <bert.run_classifier.InputFeatures object at 0x7fc630038358>, <bert.run_classifier.InputFeatures object at 0x7fc6300cc390>, <bert.run_classifier.InputFeatures object at 0x7fc6300384e0>, <bert.run_classifier.InputFeatures object at 0x7fc630038550>, <bert.run_classifier.InputFeatures object at 0x7fc630038668>, <bert.run_classifier.InputFeatures object at 0x7fc630038e10>, <bert.run_classifier.InputFeatures object at 0x7fc6300c7be0>, <bert.run_classifier.InputFeatures object at 0x7fc630038780>, <bert.run_classifier.InputFeatures object at 0x7fc6300cc668>, <bert.run_classifier.InputFeatures object at 0x7fc6300ccbe0>, <bert.run_classifier.InputFeatures object at 0x7fc6300eb7b8>, <bert.run_classifier.InputFeatures object at 0x7fc630038978>, <bert.run_classifier.InputFeatures object at 0x7fc6300387f0>, <bert.run_classifier.InputFeatures object at 0x7fc630038ac8>, <bert.run_classifier.InputFeatures object at 0x7fc6300eb588>, <bert.run_classifier.InputFeatures object at 0x7fc6300cc278>, <bert.run_classifier.InputFeatures object at 0x7fc630038080>, <bert.run_classifier.InputFeatures object at 0x7fc630038a20>, <bert.run_classifier.InputFeatures object at 0x7fc6300eb6a0>, <bert.run_classifier.InputFeatures object at 0x7fc630038be0>, <bert.run_classifier.InputFeatures object at 0x7fc630038438>, <bert.run_classifier.InputFeatures object at 0x7fc6300385f8>, <bert.run_classifier.InputFeatures object at 0x7fc6300eb4a8>, <bert.run_classifier.InputFeatures object at 0x7fc6300eba58>, <bert.run_classifier.InputFeatures object at 0x7fc6300eb0f0>, <bert.run_classifier.InputFeatures object at 0x7fc630038898>, <bert.run_classifier.InputFeatures object at 0x7fc6300df940>, <bert.run_classifier.InputFeatures object at 0x7fc630038ba8>, <bert.run_classifier.InputFeatures object at 0x7fc630038a90>, <bert.run_classifier.InputFeatures object at 0x7fc6300387b8>, <bert.run_classifier.InputFeatures object at 0x7fc630038c88>, <bert.run_classifier.InputFeatures object at 0x7fc6300eb438>, <bert.run_classifier.InputFeatures object at 0x7fc630038240>, <bert.run_classifier.InputFeatures object at 0x7fc630038c50>, <bert.run_classifier.InputFeatures object at 0x7fc6300eb0b8>, <bert.run_classifier.InputFeatures object at 0x7fc6300eba20>, <bert.run_classifier.InputFeatures object at 0x7fc6300eb550>, <bert.run_classifier.InputFeatures object at 0x7fc630038400>, <bert.run_classifier.InputFeatures object at 0x7fc630038940>, <bert.run_classifier.InputFeatures object at 0x7fc630038e80>, <bert.run_classifier.InputFeatures object at 0x7fc630038908>, <bert.run_classifier.InputFeatures object at 0x7fc6300cc128>, <bert.run_classifier.InputFeatures object at 0x7fc6300ccb38>, <bert.run_classifier.InputFeatures object at 0x7fc6300cc0f0>, <bert.run_classifier.InputFeatures object at 0x7fc6300cc8d0>, <bert.run_classifier.InputFeatures object at 0x7fc6300eb908>, <bert.run_classifier.InputFeatures object at 0x7fc6300eb390>, <bert.run_classifier.InputFeatures object at 0x7fc6300ebac8>, <bert.run_classifier.InputFeatures object at 0x7fc6300ebe48>, <bert.run_classifier.InputFeatures object at 0x7fc6300eb9e8>, <bert.run_classifier.InputFeatures object at 0x7fc6300ebda0>, <bert.run_classifier.InputFeatures object at 0x7fc6300eb668>, <bert.run_classifier.InputFeatures object at 0x7fc6300ebb38>, <bert.run_classifier.InputFeatures object at 0x7fc6300eb278>, <bert.run_classifier.InputFeatures object at 0x7fc6300eb9b0>, <bert.run_classifier.InputFeatures object at 0x7fc6300ebb70>, <bert.run_classifier.InputFeatures object at 0x7fc6300eb898>, <bert.run_classifier.InputFeatures object at 0x7fc6300ebdd8>, <bert.run_classifier.InputFeatures object at 0x7fc6300eb470>, <bert.run_classifier.InputFeatures object at 0x7fc6300ebf60>, <bert.run_classifier.InputFeatures object at 0x7fc6300386a0>, <bert.run_classifier.InputFeatures object at 0x7fc6300df208>, <bert.run_classifier.InputFeatures object at 0x7fc6300dfe80>, <bert.run_classifier.InputFeatures object at 0x7fc6300df4e0>, <bert.run_classifier.InputFeatures object at 0x7fc6300382b0>, <bert.run_classifier.InputFeatures object at 0x7fc6300cc940>, <bert.run_classifier.InputFeatures object at 0x7fc6300381d0>, <bert.run_classifier.InputFeatures object at 0x7fc6300eb5f8>, <bert.run_classifier.InputFeatures object at 0x7fc6300386d8>, <bert.run_classifier.InputFeatures object at 0x7fc630038588>, <bert.run_classifier.InputFeatures object at 0x7fc6300384a8>, <bert.run_classifier.InputFeatures object at 0x7fc630038128>, <bert.run_classifier.InputFeatures object at 0x7fc630038518>, <bert.run_classifier.InputFeatures object at 0x7fc630038828>, <bert.run_classifier.InputFeatures object at 0x7fc6300dff28>, <bert.run_classifier.InputFeatures object at 0x7fc6300df780>, <bert.run_classifier.InputFeatures object at 0x7fc6300ccc88>, <bert.run_classifier.InputFeatures object at 0x7fc6300ccdd8>, <bert.run_classifier.InputFeatures object at 0x7fc6300cc160>, <bert.run_classifier.InputFeatures object at 0x7fc6300cc5f8>, <bert.run_classifier.InputFeatures object at 0x7fc6300ebba8>, <bert.run_classifier.InputFeatures object at 0x7fc6300dfac8>, <bert.run_classifier.InputFeatures object at 0x7fc6300cce48>, <bert.run_classifier.InputFeatures object at 0x7fc6300ccef0>, <bert.run_classifier.InputFeatures object at 0x7fc6300df748>, <bert.run_classifier.InputFeatures object at 0x7fc6300ccd30>, <bert.run_classifier.InputFeatures object at 0x7fc6300cc978>, <bert.run_classifier.InputFeatures object at 0x7fc6300ccd68>, <bert.run_classifier.InputFeatures object at 0x7fc6300eb208>, <bert.run_classifier.InputFeatures object at 0x7fc6300eb080>, <bert.run_classifier.InputFeatures object at 0x7fc6300eb940>, <bert.run_classifier.InputFeatures object at 0x7fc6300ebc18>, <bert.run_classifier.InputFeatures object at 0x7fc6300ebf28>, <bert.run_classifier.InputFeatures object at 0x7fc6300ebe10>, <bert.run_classifier.InputFeatures object at 0x7fc6300dfb00>, <bert.run_classifier.InputFeatures object at 0x7fc6300eb780>, <bert.run_classifier.InputFeatures object at 0x7fc6300df978>, <bert.run_classifier.InputFeatures object at 0x7fc6300dfeb8>, <bert.run_classifier.InputFeatures object at 0x7fc6300df2e8>, <bert.run_classifier.InputFeatures object at 0x7fc6300df898>, <bert.run_classifier.InputFeatures object at 0x7fc6300df8d0>, <bert.run_classifier.InputFeatures object at 0x7fc6300dfa58>, <bert.run_classifier.InputFeatures object at 0x7fc6300df860>, <bert.run_classifier.InputFeatures object at 0x7fc6300df4a8>, <bert.run_classifier.InputFeatures object at 0x7fc6300dfc88>, <bert.run_classifier.InputFeatures object at 0x7fc6300df828>, <bert.run_classifier.InputFeatures object at 0x7fc6300dfd68>, <bert.run_classifier.InputFeatures object at 0x7fc6300cc6a0>, <bert.run_classifier.InputFeatures object at 0x7fc6300dfef0>, <bert.run_classifier.InputFeatures object at 0x7fc6300df470>, <bert.run_classifier.InputFeatures object at 0x7fc6300dffd0>, <bert.run_classifier.InputFeatures object at 0x7fc6300eb710>, <bert.run_classifier.InputFeatures object at 0x7fc6300dfb38>, <bert.run_classifier.InputFeatures object at 0x7fc6300eb1d0>, <bert.run_classifier.InputFeatures object at 0x7fc6300eb978>, <bert.run_classifier.InputFeatures object at 0x7fc6300eb5c0>, <bert.run_classifier.InputFeatures object at 0x7fc6300ebeb8>, <bert.run_classifier.InputFeatures object at 0x7fc6300eb160>, <bert.run_classifier.InputFeatures object at 0x7fc6300ebc50>, <bert.run_classifier.InputFeatures object at 0x7fc6300eb128>, <bert.run_classifier.InputFeatures object at 0x7fc6300ebcc0>, <bert.run_classifier.InputFeatures object at 0x7fc6300ebb00>, <bert.run_classifier.InputFeatures object at 0x7fc6300df9b0>, <bert.run_classifier.InputFeatures object at 0x7fc6300df240>, <bert.run_classifier.InputFeatures object at 0x7fc6300df7b8>, <bert.run_classifier.InputFeatures object at 0x7fc6300df0b8>, <bert.run_classifier.InputFeatures object at 0x7fc6300dfc18>, <bert.run_classifier.InputFeatures object at 0x7fc6300ccf98>, <bert.run_classifier.InputFeatures object at 0x7fc6300eb2e8>, <bert.run_classifier.InputFeatures object at 0x7fc6300ebe80>, <bert.run_classifier.InputFeatures object at 0x7fc6300df6d8>, <bert.run_classifier.InputFeatures object at 0x7fc6300ccf60>, <bert.run_classifier.InputFeatures object at 0x7fc6300ccc18>, <bert.run_classifier.InputFeatures object at 0x7fc6300cca90>, <bert.run_classifier.InputFeatures object at 0x7fc6300ccac8>, <bert.run_classifier.InputFeatures object at 0x7fc6300cca20>, <bert.run_classifier.InputFeatures object at 0x7fc6300eb630>, <bert.run_classifier.InputFeatures object at 0x7fc6300cc860>, <bert.run_classifier.InputFeatures object at 0x7fc6300cc9b0>, <bert.run_classifier.InputFeatures object at 0x7fc6300ebc88>, <bert.run_classifier.InputFeatures object at 0x7fc6300cc898>, <bert.run_classifier.InputFeatures object at 0x7fc6300cc630>, <bert.run_classifier.InputFeatures object at 0x7fc6300eb828>, <bert.run_classifier.InputFeatures object at 0x7fc6300c4080>, <bert.run_classifier.InputFeatures object at 0x7fc6300eb860>, <bert.run_classifier.InputFeatures object at 0x7fc6300ebcf8>, <bert.run_classifier.InputFeatures object at 0x7fc6300df5c0>, <bert.run_classifier.InputFeatures object at 0x7fc6300eb6d8>, <bert.run_classifier.InputFeatures object at 0x7fc6300eb240>, <bert.run_classifier.InputFeatures object at 0x7fc6300ebd30>, <bert.run_classifier.InputFeatures object at 0x7fc6300cc748>, <bert.run_classifier.InputFeatures object at 0x7fc6300dfcf8>, <bert.run_classifier.InputFeatures object at 0x7fc6300df3c8>, <bert.run_classifier.InputFeatures object at 0x7fc6300ccc50>, <bert.run_classifier.InputFeatures object at 0x7fc6300cc7b8>, <bert.run_classifier.InputFeatures object at 0x7fc6300cc828>, <bert.run_classifier.InputFeatures object at 0x7fc6300cc208>, <bert.run_classifier.InputFeatures object at 0x7fc6300cc080>, <bert.run_classifier.InputFeatures object at 0x7fc6300cc048>, <bert.run_classifier.InputFeatures object at 0x7fc6300eb3c8>, <bert.run_classifier.InputFeatures object at 0x7fc6300eba90>, <bert.run_classifier.InputFeatures object at 0x7fc6300eb8d0>, <bert.run_classifier.InputFeatures object at 0x7fc6300ebbe0>, <bert.run_classifier.InputFeatures object at 0x7fc6300cf048>, <bert.run_classifier.InputFeatures object at 0x7fc6300dfe10>, <bert.run_classifier.InputFeatures object at 0x7fc6300df080>, <bert.run_classifier.InputFeatures object at 0x7fc6300df5f8>, <bert.run_classifier.InputFeatures object at 0x7fc6300ccda0>, <bert.run_classifier.InputFeatures object at 0x7fc6300df668>, <bert.run_classifier.InputFeatures object at 0x7fc6300dfd30>, <bert.run_classifier.InputFeatures object at 0x7fc6300df908>, <bert.run_classifier.InputFeatures object at 0x7fc6300dfa20>, <bert.run_classifier.InputFeatures object at 0x7fc6300dfbe0>, <bert.run_classifier.InputFeatures object at 0x7fc6300c9470>, <bert.run_classifier.InputFeatures object at 0x7fc6300c4668>, <bert.run_classifier.InputFeatures object at 0x7fc6300c4748>, <bert.run_classifier.InputFeatures object at 0x7fc6300c4ac8>, <bert.run_classifier.InputFeatures object at 0x7fc6300c47b8>, <bert.run_classifier.InputFeatures object at 0x7fc6300c4860>, <bert.run_classifier.InputFeatures object at 0x7fc6300c4f60>, <bert.run_classifier.InputFeatures object at 0x7fc6300c4438>, <bert.run_classifier.InputFeatures object at 0x7fc6300c4780>, <bert.run_classifier.InputFeatures object at 0x7fc6300c4b00>, <bert.run_classifier.InputFeatures object at 0x7fc6300c4f28>, <bert.run_classifier.InputFeatures object at 0x7fc6300c41d0>, <bert.run_classifier.InputFeatures object at 0x7fc6300cf0b8>, <bert.run_classifier.InputFeatures object at 0x7fc6300cf2b0>, <bert.run_classifier.InputFeatures object at 0x7fc6300cf240>, <bert.run_classifier.InputFeatures object at 0x7fc6300cf278>, <bert.run_classifier.InputFeatures object at 0x7fc6300cf5f8>, <bert.run_classifier.InputFeatures object at 0x7fc6300cfb38>, <bert.run_classifier.InputFeatures object at 0x7fc6300cf128>, <bert.run_classifier.InputFeatures object at 0x7fc6300cfc50>, <bert.run_classifier.InputFeatures object at 0x7fc6300cf0f0>, <bert.run_classifier.InputFeatures object at 0x7fc6300e63c8>, <bert.run_classifier.InputFeatures object at 0x7fc6300e6ef0>, <bert.run_classifier.InputFeatures object at 0x7fc6300ebef0>, <bert.run_classifier.InputFeatures object at 0x7fc6300eb7f0>, <bert.run_classifier.InputFeatures object at 0x7fc6300c9160>, <bert.run_classifier.InputFeatures object at 0x7fc6300c9710>, <bert.run_classifier.InputFeatures object at 0x7fc6300c9748>, <bert.run_classifier.InputFeatures object at 0x7fc6300e6588>, <bert.run_classifier.InputFeatures object at 0x7fc6300c9240>, <bert.run_classifier.InputFeatures object at 0x7fc6300c90f0>, <bert.run_classifier.InputFeatures object at 0x7fc6300df6a0>]\n"
          ],
          "name": "stdout"
        }
      ]
    },
    {
      "cell_type": "markdown",
      "metadata": {
        "id": "t6Nukby2EB6-"
      },
      "source": [
        "Now we train our model! For me, using a Colab notebook running on Google's GPUs, my training time was about 14 minutes."
      ]
    },
    {
      "cell_type": "code",
      "metadata": {
        "colab": {
          "base_uri": "https://localhost:8080/"
        },
        "id": "nucD4gluYJmK",
        "outputId": "53a4fe84-d437-4a74-d07e-80e8c48987be"
      },
      "source": [
        "print(f'Beginning Training!')\n",
        "current_time = datetime.now()\n",
        "estimator.train(input_fn=train_input_fn, max_steps=num_train_steps)\n",
        "print(\"Training took time \", datetime.now() - current_time)"
      ],
      "execution_count": null,
      "outputs": [
        {
          "output_type": "stream",
          "text": [
            "Beginning Training!\n",
            "INFO:tensorflow:Skipping training since max_steps has already saved.\n"
          ],
          "name": "stdout"
        },
        {
          "output_type": "stream",
          "text": [
            "INFO:tensorflow:Skipping training since max_steps has already saved.\n"
          ],
          "name": "stderr"
        },
        {
          "output_type": "stream",
          "text": [
            "Training took time  0:00:01.356708\n"
          ],
          "name": "stdout"
        }
      ]
    },
    {
      "cell_type": "markdown",
      "metadata": {
        "id": "CmbLTVniARy3"
      },
      "source": [
        "Now let's use our test data to see how well our model did:"
      ]
    },
    {
      "cell_type": "code",
      "metadata": {
        "id": "JIhejfpyJ8Bx"
      },
      "source": [
        "test_input_fn = run_classifier.input_fn_builder(\n",
        "    features=test_features,\n",
        "    seq_length=MAX_SEQ_LENGTH,\n",
        "    is_training=False,\n",
        "    drop_remainder=False)"
      ],
      "execution_count": null,
      "outputs": []
    },
    {
      "cell_type": "code",
      "metadata": {
        "id": "PPVEXhNjYXC-",
        "colab": {
          "base_uri": "https://localhost:8080/"
        },
        "outputId": "430df45e-1188-4969-b484-5ffe65d1f829"
      },
      "source": [
        "evals = estimator.evaluate(input_fn=test_input_fn, steps=None)\n",
        "evals"
      ],
      "execution_count": null,
      "outputs": [
        {
          "output_type": "stream",
          "text": [
            "INFO:tensorflow:Calling model_fn.\n"
          ],
          "name": "stdout"
        },
        {
          "output_type": "stream",
          "text": [
            "INFO:tensorflow:Calling model_fn.\n"
          ],
          "name": "stderr"
        },
        {
          "output_type": "stream",
          "text": [
            "INFO:tensorflow:Saver not created because there are no variables in the graph to restore\n"
          ],
          "name": "stdout"
        },
        {
          "output_type": "stream",
          "text": [
            "INFO:tensorflow:Saver not created because there are no variables in the graph to restore\n"
          ],
          "name": "stderr"
        },
        {
          "output_type": "stream",
          "text": [
            "WARNING:tensorflow:From <ipython-input-17-ca03218f28a6>:34: calling dropout (from tensorflow.python.ops.nn_ops) with keep_prob is deprecated and will be removed in a future version.\n",
            "Instructions for updating:\n",
            "Please use `rate` instead of `keep_prob`. Rate should be set to `rate = 1 - keep_prob`.\n"
          ],
          "name": "stdout"
        },
        {
          "output_type": "stream",
          "text": [
            "WARNING:tensorflow:From <ipython-input-17-ca03218f28a6>:34: calling dropout (from tensorflow.python.ops.nn_ops) with keep_prob is deprecated and will be removed in a future version.\n",
            "Instructions for updating:\n",
            "Please use `rate` instead of `keep_prob`. Rate should be set to `rate = 1 - keep_prob`.\n"
          ],
          "name": "stderr"
        },
        {
          "output_type": "stream",
          "text": [
            "WARNING:tensorflow:From /usr/local/lib/python3.6/dist-packages/bert/optimization.py:27: The name tf.train.get_or_create_global_step is deprecated. Please use tf.compat.v1.train.get_or_create_global_step instead.\n",
            "\n"
          ],
          "name": "stdout"
        },
        {
          "output_type": "stream",
          "text": [
            "WARNING:tensorflow:From /usr/local/lib/python3.6/dist-packages/bert/optimization.py:27: The name tf.train.get_or_create_global_step is deprecated. Please use tf.compat.v1.train.get_or_create_global_step instead.\n",
            "\n"
          ],
          "name": "stderr"
        },
        {
          "output_type": "stream",
          "text": [
            "WARNING:tensorflow:From /usr/local/lib/python3.6/dist-packages/bert/optimization.py:32: The name tf.train.polynomial_decay is deprecated. Please use tf.compat.v1.train.polynomial_decay instead.\n",
            "\n"
          ],
          "name": "stdout"
        },
        {
          "output_type": "stream",
          "text": [
            "WARNING:tensorflow:From /usr/local/lib/python3.6/dist-packages/bert/optimization.py:32: The name tf.train.polynomial_decay is deprecated. Please use tf.compat.v1.train.polynomial_decay instead.\n",
            "\n"
          ],
          "name": "stderr"
        },
        {
          "output_type": "stream",
          "text": [
            "WARNING:tensorflow:From /usr/local/lib/python3.6/dist-packages/bert/optimization.py:70: The name tf.trainable_variables is deprecated. Please use tf.compat.v1.trainable_variables instead.\n",
            "\n"
          ],
          "name": "stdout"
        },
        {
          "output_type": "stream",
          "text": [
            "WARNING:tensorflow:From /usr/local/lib/python3.6/dist-packages/bert/optimization.py:70: The name tf.trainable_variables is deprecated. Please use tf.compat.v1.trainable_variables instead.\n",
            "\n"
          ],
          "name": "stderr"
        },
        {
          "output_type": "stream",
          "text": [
            "WARNING:tensorflow:From /tensorflow-1.15.2/python3.6/tensorflow_core/python/ops/math_grad.py:1375: where (from tensorflow.python.ops.array_ops) is deprecated and will be removed in a future version.\n",
            "Instructions for updating:\n",
            "Use tf.where in 2.0, which has the same broadcast rule as np.where\n"
          ],
          "name": "stdout"
        },
        {
          "output_type": "stream",
          "text": [
            "WARNING:tensorflow:From /tensorflow-1.15.2/python3.6/tensorflow_core/python/ops/math_grad.py:1375: where (from tensorflow.python.ops.array_ops) is deprecated and will be removed in a future version.\n",
            "Instructions for updating:\n",
            "Use tf.where in 2.0, which has the same broadcast rule as np.where\n",
            "/tensorflow-1.15.2/python3.6/tensorflow_core/python/framework/indexed_slices.py:424: UserWarning: Converting sparse IndexedSlices to a dense Tensor of unknown shape. This may consume a large amount of memory.\n",
            "  \"Converting sparse IndexedSlices to a dense Tensor of unknown shape. \"\n"
          ],
          "name": "stderr"
        },
        {
          "output_type": "stream",
          "text": [
            "WARNING:tensorflow:\n",
            "The TensorFlow contrib module will not be included in TensorFlow 2.0.\n",
            "For more information, please see:\n",
            "  * https://github.com/tensorflow/community/blob/master/rfcs/20180907-contrib-sunset.md\n",
            "  * https://github.com/tensorflow/addons\n",
            "  * https://github.com/tensorflow/io (for I/O related ops)\n",
            "If you depend on functionality not listed there, please file an issue.\n",
            "\n"
          ],
          "name": "stdout"
        },
        {
          "output_type": "stream",
          "text": [
            "WARNING:tensorflow:\n",
            "The TensorFlow contrib module will not be included in TensorFlow 2.0.\n",
            "For more information, please see:\n",
            "  * https://github.com/tensorflow/community/blob/master/rfcs/20180907-contrib-sunset.md\n",
            "  * https://github.com/tensorflow/addons\n",
            "  * https://github.com/tensorflow/io (for I/O related ops)\n",
            "If you depend on functionality not listed there, please file an issue.\n",
            "\n"
          ],
          "name": "stderr"
        },
        {
          "output_type": "stream",
          "text": [
            "WARNING:tensorflow:From /tensorflow-1.15.2/python3.6/tensorflow_core/contrib/metrics/python/metrics/classification.py:162: div (from tensorflow.python.ops.math_ops) is deprecated and will be removed in a future version.\n",
            "Instructions for updating:\n",
            "Deprecated in favor of operator or tf.math.divide.\n"
          ],
          "name": "stdout"
        },
        {
          "output_type": "stream",
          "text": [
            "WARNING:tensorflow:From /tensorflow-1.15.2/python3.6/tensorflow_core/contrib/metrics/python/metrics/classification.py:162: div (from tensorflow.python.ops.math_ops) is deprecated and will be removed in a future version.\n",
            "Instructions for updating:\n",
            "Deprecated in favor of operator or tf.math.divide.\n"
          ],
          "name": "stderr"
        },
        {
          "output_type": "stream",
          "text": [
            "INFO:tensorflow:Done calling model_fn.\n"
          ],
          "name": "stdout"
        },
        {
          "output_type": "stream",
          "text": [
            "INFO:tensorflow:Done calling model_fn.\n"
          ],
          "name": "stderr"
        },
        {
          "output_type": "stream",
          "text": [
            "INFO:tensorflow:Starting evaluation at 2020-12-01T23:18:26Z\n"
          ],
          "name": "stdout"
        },
        {
          "output_type": "stream",
          "text": [
            "INFO:tensorflow:Starting evaluation at 2020-12-01T23:18:26Z\n"
          ],
          "name": "stderr"
        },
        {
          "output_type": "stream",
          "text": [
            "INFO:tensorflow:Graph was finalized.\n"
          ],
          "name": "stdout"
        },
        {
          "output_type": "stream",
          "text": [
            "INFO:tensorflow:Graph was finalized.\n"
          ],
          "name": "stderr"
        },
        {
          "output_type": "stream",
          "text": [
            "INFO:tensorflow:Restoring parameters from gs://bert_model1/model/model.ckpt-1662\n"
          ],
          "name": "stdout"
        },
        {
          "output_type": "stream",
          "text": [
            "INFO:tensorflow:Restoring parameters from gs://bert_model1/model/model.ckpt-1662\n"
          ],
          "name": "stderr"
        },
        {
          "output_type": "stream",
          "text": [
            "INFO:tensorflow:Running local_init_op.\n"
          ],
          "name": "stdout"
        },
        {
          "output_type": "stream",
          "text": [
            "INFO:tensorflow:Running local_init_op.\n"
          ],
          "name": "stderr"
        },
        {
          "output_type": "stream",
          "text": [
            "INFO:tensorflow:Done running local_init_op.\n"
          ],
          "name": "stdout"
        },
        {
          "output_type": "stream",
          "text": [
            "INFO:tensorflow:Done running local_init_op.\n"
          ],
          "name": "stderr"
        },
        {
          "output_type": "stream",
          "text": [
            "INFO:tensorflow:Finished evaluation at 2020-12-01-23:19:17\n"
          ],
          "name": "stdout"
        },
        {
          "output_type": "stream",
          "text": [
            "INFO:tensorflow:Finished evaluation at 2020-12-01-23:19:17\n"
          ],
          "name": "stderr"
        },
        {
          "output_type": "stream",
          "text": [
            "INFO:tensorflow:Saving dict for global step 1662: auc = 0.9884099, eval_accuracy = 0.988421, f1_score = 0.9885057, false_negatives = 3.0, false_positives = 8.0, global_step = 1662, loss = 0.0650449, precision = 0.983368, recall = 0.99369746, true_negatives = 466.0, true_positives = 473.0\n"
          ],
          "name": "stdout"
        },
        {
          "output_type": "stream",
          "text": [
            "INFO:tensorflow:Saving dict for global step 1662: auc = 0.9884099, eval_accuracy = 0.988421, f1_score = 0.9885057, false_negatives = 3.0, false_positives = 8.0, global_step = 1662, loss = 0.0650449, precision = 0.983368, recall = 0.99369746, true_negatives = 466.0, true_positives = 473.0\n"
          ],
          "name": "stderr"
        },
        {
          "output_type": "stream",
          "text": [
            "INFO:tensorflow:Saving 'checkpoint_path' summary for global step 1662: gs://bert_model1/model/model.ckpt-1662\n"
          ],
          "name": "stdout"
        },
        {
          "output_type": "stream",
          "text": [
            "INFO:tensorflow:Saving 'checkpoint_path' summary for global step 1662: gs://bert_model1/model/model.ckpt-1662\n"
          ],
          "name": "stderr"
        },
        {
          "output_type": "execute_result",
          "data": {
            "text/plain": [
              "{'auc': 0.9884099,\n",
              " 'eval_accuracy': 0.988421,\n",
              " 'f1_score': 0.9885057,\n",
              " 'false_negatives': 3.0,\n",
              " 'false_positives': 8.0,\n",
              " 'global_step': 1662,\n",
              " 'loss': 0.0650449,\n",
              " 'precision': 0.983368,\n",
              " 'recall': 0.99369746,\n",
              " 'true_negatives': 466.0,\n",
              " 'true_positives': 473.0}"
            ]
          },
          "metadata": {
            "tags": []
          },
          "execution_count": 26
        }
      ]
    },
    {
      "cell_type": "code",
      "metadata": {
        "id": "NHYywMVsOgUH",
        "colab": {
          "base_uri": "https://localhost:8080/"
        },
        "outputId": "63ad444c-87eb-407f-e456-7450ad8bcb6a"
      },
      "source": [
        "conf_matrix = [[evals['false_negatives'], evals['true_positives']],\n",
        "               [evals['true_negatives'], evals['false_positives']]]\n",
        "print(conf_matrix)"
      ],
      "execution_count": null,
      "outputs": [
        {
          "output_type": "stream",
          "text": [
            "[[3.0, 473.0], [466.0, 8.0]]\n"
          ],
          "name": "stdout"
        }
      ]
    },
    {
      "cell_type": "markdown",
      "metadata": {
        "id": "WafoYhmGOUMf"
      },
      "source": [
        "## auc = 0.9884099\n",
        "## f1_score = 0.9885057\n",
        "## loss = 0.0650449\n",
        "## precision = 0.983368\n",
        "## recall = 0.99369746"
      ]
    },
    {
      "cell_type": "code",
      "metadata": {
        "colab": {
          "base_uri": "https://localhost:8080/"
        },
        "id": "_t3g24W66nGW",
        "outputId": "d7819fb7-50d2-4b11-8ab3-2541c9f9b364"
      },
      "source": [
        "def serving_input_fn():\n",
        "    label_ids = tf.placeholder(tf.int32, [None], name='label_ids')\n",
        "    input_ids = tf.placeholder(tf.int32, [None, MAX_SEQ_LENGTH], name='input_ids')\n",
        "    input_mask = tf.placeholder(tf.int32, [None, MAX_SEQ_LENGTH], name='input_mask')\n",
        "    segment_ids = tf.placeholder(tf.int32, [None, MAX_SEQ_LENGTH], name='segment_ids')\n",
        "    input_fn = tf.estimator.export.build_raw_serving_input_receiver_fn(\n",
        "        {\n",
        "        'label_ids': label_ids,\n",
        "        'input_ids': input_ids,\n",
        "        'input_mask': input_mask,\n",
        "        'segment_ids': segment_ids\n",
        "        }\n",
        "    )()\n",
        "    return input_fn\n",
        "\n",
        "estimator._export_to_tpu = False  # this is important\n",
        "estimator.export_saved_model('model', serving_input_fn)"
      ],
      "execution_count": null,
      "outputs": [
        {
          "output_type": "stream",
          "text": [
            "INFO:tensorflow:Calling model_fn.\n"
          ],
          "name": "stdout"
        },
        {
          "output_type": "stream",
          "text": [
            "INFO:tensorflow:Calling model_fn.\n"
          ],
          "name": "stderr"
        },
        {
          "output_type": "stream",
          "text": [
            "INFO:tensorflow:Saver not created because there are no variables in the graph to restore\n"
          ],
          "name": "stdout"
        },
        {
          "output_type": "stream",
          "text": [
            "INFO:tensorflow:Saver not created because there are no variables in the graph to restore\n"
          ],
          "name": "stderr"
        },
        {
          "output_type": "stream",
          "text": [
            "INFO:tensorflow:Done calling model_fn.\n"
          ],
          "name": "stdout"
        },
        {
          "output_type": "stream",
          "text": [
            "INFO:tensorflow:Done calling model_fn.\n"
          ],
          "name": "stderr"
        },
        {
          "output_type": "stream",
          "text": [
            "INFO:tensorflow:Signatures INCLUDED in export for Classify: None\n"
          ],
          "name": "stdout"
        },
        {
          "output_type": "stream",
          "text": [
            "INFO:tensorflow:Signatures INCLUDED in export for Classify: None\n"
          ],
          "name": "stderr"
        },
        {
          "output_type": "stream",
          "text": [
            "INFO:tensorflow:Signatures INCLUDED in export for Regress: None\n"
          ],
          "name": "stdout"
        },
        {
          "output_type": "stream",
          "text": [
            "INFO:tensorflow:Signatures INCLUDED in export for Regress: None\n"
          ],
          "name": "stderr"
        },
        {
          "output_type": "stream",
          "text": [
            "INFO:tensorflow:Signatures INCLUDED in export for Predict: ['serving_default']\n"
          ],
          "name": "stdout"
        },
        {
          "output_type": "stream",
          "text": [
            "INFO:tensorflow:Signatures INCLUDED in export for Predict: ['serving_default']\n"
          ],
          "name": "stderr"
        },
        {
          "output_type": "stream",
          "text": [
            "INFO:tensorflow:Signatures INCLUDED in export for Train: None\n"
          ],
          "name": "stdout"
        },
        {
          "output_type": "stream",
          "text": [
            "INFO:tensorflow:Signatures INCLUDED in export for Train: None\n"
          ],
          "name": "stderr"
        },
        {
          "output_type": "stream",
          "text": [
            "INFO:tensorflow:Signatures INCLUDED in export for Eval: None\n"
          ],
          "name": "stdout"
        },
        {
          "output_type": "stream",
          "text": [
            "INFO:tensorflow:Signatures INCLUDED in export for Eval: None\n"
          ],
          "name": "stderr"
        },
        {
          "output_type": "stream",
          "text": [
            "INFO:tensorflow:Restoring parameters from gs://bert_model1/model/model.ckpt-1662\n"
          ],
          "name": "stdout"
        },
        {
          "output_type": "stream",
          "text": [
            "INFO:tensorflow:Restoring parameters from gs://bert_model1/model/model.ckpt-1662\n"
          ],
          "name": "stderr"
        },
        {
          "output_type": "stream",
          "text": [
            "INFO:tensorflow:Assets added to graph.\n"
          ],
          "name": "stdout"
        },
        {
          "output_type": "stream",
          "text": [
            "INFO:tensorflow:Assets added to graph.\n"
          ],
          "name": "stderr"
        },
        {
          "output_type": "stream",
          "text": [
            "INFO:tensorflow:Assets written to: model/temp-b'1606865589'/assets\n"
          ],
          "name": "stdout"
        },
        {
          "output_type": "stream",
          "text": [
            "INFO:tensorflow:Assets written to: model/temp-b'1606865589'/assets\n"
          ],
          "name": "stderr"
        },
        {
          "output_type": "stream",
          "text": [
            "INFO:tensorflow:SavedModel written to: model/temp-b'1606865589'/saved_model.pb\n"
          ],
          "name": "stdout"
        },
        {
          "output_type": "stream",
          "text": [
            "INFO:tensorflow:SavedModel written to: model/temp-b'1606865589'/saved_model.pb\n"
          ],
          "name": "stderr"
        },
        {
          "output_type": "execute_result",
          "data": {
            "text/plain": [
              "b'model/1606865589'"
            ]
          },
          "metadata": {
            "tags": []
          },
          "execution_count": 41
        }
      ]
    },
    {
      "cell_type": "markdown",
      "metadata": {
        "id": "ueKsULteiz1B"
      },
      "source": [
        "Now let's write code to make predictions on new sentences:"
      ]
    },
    {
      "cell_type": "code",
      "metadata": {
        "id": "OsrbTD2EJTVl"
      },
      "source": [
        "\n",
        "\n",
        "def getPrediction(in_sentences):\n",
        "    label_list=[0,1]\n",
        "    labels = [\"real\", \"fake\"]\n",
        "    input_examples = [run_classifier.InputExample(guid=\"\", text_a = x, text_b = None, label = 0) for x in in_sentences] # here, \"\" is just a dummy label\n",
        "    input_features = run_classifier.convert_examples_to_features(input_examples, label_list, MAX_SEQ_LENGTH, tokenizer)\n",
        "    predict_input_fn = run_classifier.input_fn_builder(features=input_features, seq_length=MAX_SEQ_LENGTH, is_training=False, drop_remainder=False)\n",
        "    predictions = estimator.predict(predict_input_fn)\n",
        "    return [(sentence, prediction['probabilities'], labels[prediction['labels']]) for sentence, prediction in zip(in_sentences, predictions)]"
      ],
      "execution_count": null,
      "outputs": []
    },
    {
      "cell_type": "markdown",
      "metadata": {
        "id": "rDaQFR0q5apk"
      },
      "source": [
        "Requires:\n",
        "* input text\n",
        "* label list \n",
        "* MAX_SEQ_LENGTH\n",
        "* tokenizer\n",
        "* estimator"
      ]
    },
    {
      "cell_type": "code",
      "metadata": {
        "id": "-thbodgih_VJ"
      },
      "source": [
        "pred_sentences = [\n",
        "  'People won’t admit they’re going to vote for him. I don’t want the person that’s behind your public Facebook account, I want the person that’s behind your troll account. When I look at Pennsylvania, for example, I’ve got Biden up by one point, but I don’t think Biden is going to win Pennsylvania. I think Trump is probably going to win it. I think Trump will out-perform our polls by a point or two.',\n",
        "  'this is fake news'\n",
        "\n",
        "]"
      ],
      "execution_count": null,
      "outputs": []
    },
    {
      "cell_type": "code",
      "metadata": {
        "colab": {
          "base_uri": "https://localhost:8080/"
        },
        "id": "QrZmvZySKQTm",
        "outputId": "578ee798-258a-413b-8ab7-31c01540d931"
      },
      "source": [
        "%%timeit\n",
        "predictions = getPrediction(pred_sentences)\n",
        "predictions"
      ],
      "execution_count": null,
      "outputs": [
        {
          "output_type": "stream",
          "text": [
            "INFO:tensorflow:Writing example 0 of 2\n"
          ],
          "name": "stdout"
        },
        {
          "output_type": "stream",
          "text": [
            "INFO:tensorflow:Writing example 0 of 2\n"
          ],
          "name": "stderr"
        },
        {
          "output_type": "stream",
          "text": [
            "INFO:tensorflow:*** Example ***\n"
          ],
          "name": "stdout"
        },
        {
          "output_type": "stream",
          "text": [
            "INFO:tensorflow:*** Example ***\n"
          ],
          "name": "stderr"
        },
        {
          "output_type": "stream",
          "text": [
            "INFO:tensorflow:guid: \n"
          ],
          "name": "stdout"
        },
        {
          "output_type": "stream",
          "text": [
            "INFO:tensorflow:guid: \n"
          ],
          "name": "stderr"
        },
        {
          "output_type": "stream",
          "text": [
            "INFO:tensorflow:tokens: [CLS] people won ’ t admit they ’ re going to vote for him . i don ’ t want the person that ’ s behind your public facebook account , i want the person that ’ s behind your troll account . when i look at pennsylvania , for example , i ’ ve got bid ##en up by one point , but i don ’ t think bid ##en is going to win pennsylvania . i think trump is probably going to win it . i think trump will out - perform our polls by a point or two . [SEP]\n"
          ],
          "name": "stdout"
        },
        {
          "output_type": "stream",
          "text": [
            "INFO:tensorflow:tokens: [CLS] people won ’ t admit they ’ re going to vote for him . i don ’ t want the person that ’ s behind your public facebook account , i want the person that ’ s behind your troll account . when i look at pennsylvania , for example , i ’ ve got bid ##en up by one point , but i don ’ t think bid ##en is going to win pennsylvania . i think trump is probably going to win it . i think trump will out - perform our polls by a point or two . [SEP]\n"
          ],
          "name": "stderr"
        },
        {
          "output_type": "stream",
          "text": [
            "INFO:tensorflow:input_ids: 101 2111 2180 1521 1056 6449 2027 1521 2128 2183 2000 3789 2005 2032 1012 1045 2123 1521 1056 2215 1996 2711 2008 1521 1055 2369 2115 2270 9130 4070 1010 1045 2215 1996 2711 2008 1521 1055 2369 2115 18792 4070 1012 2043 1045 2298 2012 3552 1010 2005 2742 1010 1045 1521 2310 2288 7226 2368 2039 2011 2028 2391 1010 2021 1045 2123 1521 1056 2228 7226 2368 2003 2183 2000 2663 3552 1012 1045 2228 8398 2003 2763 2183 2000 2663 2009 1012 1045 2228 8398 2097 2041 1011 4685 2256 14592 2011 1037 2391 2030 2048 1012 102 0 0 0 0 0 0 0 0 0 0 0 0 0 0 0 0 0 0 0 0 0 0 0 0 0\n"
          ],
          "name": "stdout"
        },
        {
          "output_type": "stream",
          "text": [
            "INFO:tensorflow:input_ids: 101 2111 2180 1521 1056 6449 2027 1521 2128 2183 2000 3789 2005 2032 1012 1045 2123 1521 1056 2215 1996 2711 2008 1521 1055 2369 2115 2270 9130 4070 1010 1045 2215 1996 2711 2008 1521 1055 2369 2115 18792 4070 1012 2043 1045 2298 2012 3552 1010 2005 2742 1010 1045 1521 2310 2288 7226 2368 2039 2011 2028 2391 1010 2021 1045 2123 1521 1056 2228 7226 2368 2003 2183 2000 2663 3552 1012 1045 2228 8398 2003 2763 2183 2000 2663 2009 1012 1045 2228 8398 2097 2041 1011 4685 2256 14592 2011 1037 2391 2030 2048 1012 102 0 0 0 0 0 0 0 0 0 0 0 0 0 0 0 0 0 0 0 0 0 0 0 0 0\n"
          ],
          "name": "stderr"
        },
        {
          "output_type": "stream",
          "text": [
            "INFO:tensorflow:input_mask: 1 1 1 1 1 1 1 1 1 1 1 1 1 1 1 1 1 1 1 1 1 1 1 1 1 1 1 1 1 1 1 1 1 1 1 1 1 1 1 1 1 1 1 1 1 1 1 1 1 1 1 1 1 1 1 1 1 1 1 1 1 1 1 1 1 1 1 1 1 1 1 1 1 1 1 1 1 1 1 1 1 1 1 1 1 1 1 1 1 1 1 1 1 1 1 1 1 1 1 1 1 1 1 0 0 0 0 0 0 0 0 0 0 0 0 0 0 0 0 0 0 0 0 0 0 0 0 0\n"
          ],
          "name": "stdout"
        },
        {
          "output_type": "stream",
          "text": [
            "INFO:tensorflow:input_mask: 1 1 1 1 1 1 1 1 1 1 1 1 1 1 1 1 1 1 1 1 1 1 1 1 1 1 1 1 1 1 1 1 1 1 1 1 1 1 1 1 1 1 1 1 1 1 1 1 1 1 1 1 1 1 1 1 1 1 1 1 1 1 1 1 1 1 1 1 1 1 1 1 1 1 1 1 1 1 1 1 1 1 1 1 1 1 1 1 1 1 1 1 1 1 1 1 1 1 1 1 1 1 1 0 0 0 0 0 0 0 0 0 0 0 0 0 0 0 0 0 0 0 0 0 0 0 0 0\n"
          ],
          "name": "stderr"
        },
        {
          "output_type": "stream",
          "text": [
            "INFO:tensorflow:segment_ids: 0 0 0 0 0 0 0 0 0 0 0 0 0 0 0 0 0 0 0 0 0 0 0 0 0 0 0 0 0 0 0 0 0 0 0 0 0 0 0 0 0 0 0 0 0 0 0 0 0 0 0 0 0 0 0 0 0 0 0 0 0 0 0 0 0 0 0 0 0 0 0 0 0 0 0 0 0 0 0 0 0 0 0 0 0 0 0 0 0 0 0 0 0 0 0 0 0 0 0 0 0 0 0 0 0 0 0 0 0 0 0 0 0 0 0 0 0 0 0 0 0 0 0 0 0 0 0 0\n"
          ],
          "name": "stdout"
        },
        {
          "output_type": "stream",
          "text": [
            "INFO:tensorflow:segment_ids: 0 0 0 0 0 0 0 0 0 0 0 0 0 0 0 0 0 0 0 0 0 0 0 0 0 0 0 0 0 0 0 0 0 0 0 0 0 0 0 0 0 0 0 0 0 0 0 0 0 0 0 0 0 0 0 0 0 0 0 0 0 0 0 0 0 0 0 0 0 0 0 0 0 0 0 0 0 0 0 0 0 0 0 0 0 0 0 0 0 0 0 0 0 0 0 0 0 0 0 0 0 0 0 0 0 0 0 0 0 0 0 0 0 0 0 0 0 0 0 0 0 0 0 0 0 0 0 0\n"
          ],
          "name": "stderr"
        },
        {
          "output_type": "stream",
          "text": [
            "INFO:tensorflow:label: 0 (id = 0)\n"
          ],
          "name": "stdout"
        },
        {
          "output_type": "stream",
          "text": [
            "INFO:tensorflow:label: 0 (id = 0)\n"
          ],
          "name": "stderr"
        },
        {
          "output_type": "stream",
          "text": [
            "INFO:tensorflow:*** Example ***\n"
          ],
          "name": "stdout"
        },
        {
          "output_type": "stream",
          "text": [
            "INFO:tensorflow:*** Example ***\n"
          ],
          "name": "stderr"
        },
        {
          "output_type": "stream",
          "text": [
            "INFO:tensorflow:guid: \n"
          ],
          "name": "stdout"
        },
        {
          "output_type": "stream",
          "text": [
            "INFO:tensorflow:guid: \n"
          ],
          "name": "stderr"
        },
        {
          "output_type": "stream",
          "text": [
            "INFO:tensorflow:tokens: [CLS] this is fake news [SEP]\n"
          ],
          "name": "stdout"
        },
        {
          "output_type": "stream",
          "text": [
            "INFO:tensorflow:tokens: [CLS] this is fake news [SEP]\n"
          ],
          "name": "stderr"
        },
        {
          "output_type": "stream",
          "text": [
            "INFO:tensorflow:input_ids: 101 2023 2003 8275 2739 102 0 0 0 0 0 0 0 0 0 0 0 0 0 0 0 0 0 0 0 0 0 0 0 0 0 0 0 0 0 0 0 0 0 0 0 0 0 0 0 0 0 0 0 0 0 0 0 0 0 0 0 0 0 0 0 0 0 0 0 0 0 0 0 0 0 0 0 0 0 0 0 0 0 0 0 0 0 0 0 0 0 0 0 0 0 0 0 0 0 0 0 0 0 0 0 0 0 0 0 0 0 0 0 0 0 0 0 0 0 0 0 0 0 0 0 0 0 0 0 0 0 0\n"
          ],
          "name": "stdout"
        },
        {
          "output_type": "stream",
          "text": [
            "INFO:tensorflow:input_ids: 101 2023 2003 8275 2739 102 0 0 0 0 0 0 0 0 0 0 0 0 0 0 0 0 0 0 0 0 0 0 0 0 0 0 0 0 0 0 0 0 0 0 0 0 0 0 0 0 0 0 0 0 0 0 0 0 0 0 0 0 0 0 0 0 0 0 0 0 0 0 0 0 0 0 0 0 0 0 0 0 0 0 0 0 0 0 0 0 0 0 0 0 0 0 0 0 0 0 0 0 0 0 0 0 0 0 0 0 0 0 0 0 0 0 0 0 0 0 0 0 0 0 0 0 0 0 0 0 0 0\n"
          ],
          "name": "stderr"
        },
        {
          "output_type": "stream",
          "text": [
            "INFO:tensorflow:input_mask: 1 1 1 1 1 1 0 0 0 0 0 0 0 0 0 0 0 0 0 0 0 0 0 0 0 0 0 0 0 0 0 0 0 0 0 0 0 0 0 0 0 0 0 0 0 0 0 0 0 0 0 0 0 0 0 0 0 0 0 0 0 0 0 0 0 0 0 0 0 0 0 0 0 0 0 0 0 0 0 0 0 0 0 0 0 0 0 0 0 0 0 0 0 0 0 0 0 0 0 0 0 0 0 0 0 0 0 0 0 0 0 0 0 0 0 0 0 0 0 0 0 0 0 0 0 0 0 0\n"
          ],
          "name": "stdout"
        },
        {
          "output_type": "stream",
          "text": [
            "INFO:tensorflow:input_mask: 1 1 1 1 1 1 0 0 0 0 0 0 0 0 0 0 0 0 0 0 0 0 0 0 0 0 0 0 0 0 0 0 0 0 0 0 0 0 0 0 0 0 0 0 0 0 0 0 0 0 0 0 0 0 0 0 0 0 0 0 0 0 0 0 0 0 0 0 0 0 0 0 0 0 0 0 0 0 0 0 0 0 0 0 0 0 0 0 0 0 0 0 0 0 0 0 0 0 0 0 0 0 0 0 0 0 0 0 0 0 0 0 0 0 0 0 0 0 0 0 0 0 0 0 0 0 0 0\n"
          ],
          "name": "stderr"
        },
        {
          "output_type": "stream",
          "text": [
            "INFO:tensorflow:segment_ids: 0 0 0 0 0 0 0 0 0 0 0 0 0 0 0 0 0 0 0 0 0 0 0 0 0 0 0 0 0 0 0 0 0 0 0 0 0 0 0 0 0 0 0 0 0 0 0 0 0 0 0 0 0 0 0 0 0 0 0 0 0 0 0 0 0 0 0 0 0 0 0 0 0 0 0 0 0 0 0 0 0 0 0 0 0 0 0 0 0 0 0 0 0 0 0 0 0 0 0 0 0 0 0 0 0 0 0 0 0 0 0 0 0 0 0 0 0 0 0 0 0 0 0 0 0 0 0 0\n"
          ],
          "name": "stdout"
        },
        {
          "output_type": "stream",
          "text": [
            "INFO:tensorflow:segment_ids: 0 0 0 0 0 0 0 0 0 0 0 0 0 0 0 0 0 0 0 0 0 0 0 0 0 0 0 0 0 0 0 0 0 0 0 0 0 0 0 0 0 0 0 0 0 0 0 0 0 0 0 0 0 0 0 0 0 0 0 0 0 0 0 0 0 0 0 0 0 0 0 0 0 0 0 0 0 0 0 0 0 0 0 0 0 0 0 0 0 0 0 0 0 0 0 0 0 0 0 0 0 0 0 0 0 0 0 0 0 0 0 0 0 0 0 0 0 0 0 0 0 0 0 0 0 0 0 0\n"
          ],
          "name": "stderr"
        },
        {
          "output_type": "stream",
          "text": [
            "INFO:tensorflow:label: 0 (id = 0)\n"
          ],
          "name": "stdout"
        },
        {
          "output_type": "stream",
          "text": [
            "INFO:tensorflow:label: 0 (id = 0)\n"
          ],
          "name": "stderr"
        },
        {
          "output_type": "stream",
          "text": [
            "INFO:tensorflow:Calling model_fn.\n"
          ],
          "name": "stdout"
        },
        {
          "output_type": "stream",
          "text": [
            "INFO:tensorflow:Calling model_fn.\n"
          ],
          "name": "stderr"
        },
        {
          "output_type": "stream",
          "text": [
            "INFO:tensorflow:Saver not created because there are no variables in the graph to restore\n"
          ],
          "name": "stdout"
        },
        {
          "output_type": "stream",
          "text": [
            "INFO:tensorflow:Saver not created because there are no variables in the graph to restore\n"
          ],
          "name": "stderr"
        },
        {
          "output_type": "stream",
          "text": [
            "INFO:tensorflow:Done calling model_fn.\n"
          ],
          "name": "stdout"
        },
        {
          "output_type": "stream",
          "text": [
            "INFO:tensorflow:Done calling model_fn.\n"
          ],
          "name": "stderr"
        },
        {
          "output_type": "stream",
          "text": [
            "INFO:tensorflow:Graph was finalized.\n"
          ],
          "name": "stdout"
        },
        {
          "output_type": "stream",
          "text": [
            "INFO:tensorflow:Graph was finalized.\n"
          ],
          "name": "stderr"
        },
        {
          "output_type": "stream",
          "text": [
            "INFO:tensorflow:Restoring parameters from gs://bert_model1/model/model.ckpt-1662\n"
          ],
          "name": "stdout"
        },
        {
          "output_type": "stream",
          "text": [
            "INFO:tensorflow:Restoring parameters from gs://bert_model1/model/model.ckpt-1662\n"
          ],
          "name": "stderr"
        },
        {
          "output_type": "stream",
          "text": [
            "INFO:tensorflow:Running local_init_op.\n"
          ],
          "name": "stdout"
        },
        {
          "output_type": "stream",
          "text": [
            "INFO:tensorflow:Running local_init_op.\n"
          ],
          "name": "stderr"
        },
        {
          "output_type": "stream",
          "text": [
            "INFO:tensorflow:Done running local_init_op.\n"
          ],
          "name": "stdout"
        },
        {
          "output_type": "stream",
          "text": [
            "INFO:tensorflow:Done running local_init_op.\n"
          ],
          "name": "stderr"
        },
        {
          "output_type": "stream",
          "text": [
            "INFO:tensorflow:Writing example 0 of 2\n"
          ],
          "name": "stdout"
        },
        {
          "output_type": "stream",
          "text": [
            "INFO:tensorflow:Writing example 0 of 2\n"
          ],
          "name": "stderr"
        },
        {
          "output_type": "stream",
          "text": [
            "INFO:tensorflow:*** Example ***\n"
          ],
          "name": "stdout"
        },
        {
          "output_type": "stream",
          "text": [
            "INFO:tensorflow:*** Example ***\n"
          ],
          "name": "stderr"
        },
        {
          "output_type": "stream",
          "text": [
            "INFO:tensorflow:guid: \n"
          ],
          "name": "stdout"
        },
        {
          "output_type": "stream",
          "text": [
            "INFO:tensorflow:guid: \n"
          ],
          "name": "stderr"
        },
        {
          "output_type": "stream",
          "text": [
            "INFO:tensorflow:tokens: [CLS] people won ’ t admit they ’ re going to vote for him . i don ’ t want the person that ’ s behind your public facebook account , i want the person that ’ s behind your troll account . when i look at pennsylvania , for example , i ’ ve got bid ##en up by one point , but i don ’ t think bid ##en is going to win pennsylvania . i think trump is probably going to win it . i think trump will out - perform our polls by a point or two . [SEP]\n"
          ],
          "name": "stdout"
        },
        {
          "output_type": "stream",
          "text": [
            "INFO:tensorflow:tokens: [CLS] people won ’ t admit they ’ re going to vote for him . i don ’ t want the person that ’ s behind your public facebook account , i want the person that ’ s behind your troll account . when i look at pennsylvania , for example , i ’ ve got bid ##en up by one point , but i don ’ t think bid ##en is going to win pennsylvania . i think trump is probably going to win it . i think trump will out - perform our polls by a point or two . [SEP]\n"
          ],
          "name": "stderr"
        },
        {
          "output_type": "stream",
          "text": [
            "INFO:tensorflow:input_ids: 101 2111 2180 1521 1056 6449 2027 1521 2128 2183 2000 3789 2005 2032 1012 1045 2123 1521 1056 2215 1996 2711 2008 1521 1055 2369 2115 2270 9130 4070 1010 1045 2215 1996 2711 2008 1521 1055 2369 2115 18792 4070 1012 2043 1045 2298 2012 3552 1010 2005 2742 1010 1045 1521 2310 2288 7226 2368 2039 2011 2028 2391 1010 2021 1045 2123 1521 1056 2228 7226 2368 2003 2183 2000 2663 3552 1012 1045 2228 8398 2003 2763 2183 2000 2663 2009 1012 1045 2228 8398 2097 2041 1011 4685 2256 14592 2011 1037 2391 2030 2048 1012 102 0 0 0 0 0 0 0 0 0 0 0 0 0 0 0 0 0 0 0 0 0 0 0 0 0\n"
          ],
          "name": "stdout"
        },
        {
          "output_type": "stream",
          "text": [
            "INFO:tensorflow:input_ids: 101 2111 2180 1521 1056 6449 2027 1521 2128 2183 2000 3789 2005 2032 1012 1045 2123 1521 1056 2215 1996 2711 2008 1521 1055 2369 2115 2270 9130 4070 1010 1045 2215 1996 2711 2008 1521 1055 2369 2115 18792 4070 1012 2043 1045 2298 2012 3552 1010 2005 2742 1010 1045 1521 2310 2288 7226 2368 2039 2011 2028 2391 1010 2021 1045 2123 1521 1056 2228 7226 2368 2003 2183 2000 2663 3552 1012 1045 2228 8398 2003 2763 2183 2000 2663 2009 1012 1045 2228 8398 2097 2041 1011 4685 2256 14592 2011 1037 2391 2030 2048 1012 102 0 0 0 0 0 0 0 0 0 0 0 0 0 0 0 0 0 0 0 0 0 0 0 0 0\n"
          ],
          "name": "stderr"
        },
        {
          "output_type": "stream",
          "text": [
            "INFO:tensorflow:input_mask: 1 1 1 1 1 1 1 1 1 1 1 1 1 1 1 1 1 1 1 1 1 1 1 1 1 1 1 1 1 1 1 1 1 1 1 1 1 1 1 1 1 1 1 1 1 1 1 1 1 1 1 1 1 1 1 1 1 1 1 1 1 1 1 1 1 1 1 1 1 1 1 1 1 1 1 1 1 1 1 1 1 1 1 1 1 1 1 1 1 1 1 1 1 1 1 1 1 1 1 1 1 1 1 0 0 0 0 0 0 0 0 0 0 0 0 0 0 0 0 0 0 0 0 0 0 0 0 0\n"
          ],
          "name": "stdout"
        },
        {
          "output_type": "stream",
          "text": [
            "INFO:tensorflow:input_mask: 1 1 1 1 1 1 1 1 1 1 1 1 1 1 1 1 1 1 1 1 1 1 1 1 1 1 1 1 1 1 1 1 1 1 1 1 1 1 1 1 1 1 1 1 1 1 1 1 1 1 1 1 1 1 1 1 1 1 1 1 1 1 1 1 1 1 1 1 1 1 1 1 1 1 1 1 1 1 1 1 1 1 1 1 1 1 1 1 1 1 1 1 1 1 1 1 1 1 1 1 1 1 1 0 0 0 0 0 0 0 0 0 0 0 0 0 0 0 0 0 0 0 0 0 0 0 0 0\n"
          ],
          "name": "stderr"
        },
        {
          "output_type": "stream",
          "text": [
            "INFO:tensorflow:segment_ids: 0 0 0 0 0 0 0 0 0 0 0 0 0 0 0 0 0 0 0 0 0 0 0 0 0 0 0 0 0 0 0 0 0 0 0 0 0 0 0 0 0 0 0 0 0 0 0 0 0 0 0 0 0 0 0 0 0 0 0 0 0 0 0 0 0 0 0 0 0 0 0 0 0 0 0 0 0 0 0 0 0 0 0 0 0 0 0 0 0 0 0 0 0 0 0 0 0 0 0 0 0 0 0 0 0 0 0 0 0 0 0 0 0 0 0 0 0 0 0 0 0 0 0 0 0 0 0 0\n"
          ],
          "name": "stdout"
        },
        {
          "output_type": "stream",
          "text": [
            "INFO:tensorflow:segment_ids: 0 0 0 0 0 0 0 0 0 0 0 0 0 0 0 0 0 0 0 0 0 0 0 0 0 0 0 0 0 0 0 0 0 0 0 0 0 0 0 0 0 0 0 0 0 0 0 0 0 0 0 0 0 0 0 0 0 0 0 0 0 0 0 0 0 0 0 0 0 0 0 0 0 0 0 0 0 0 0 0 0 0 0 0 0 0 0 0 0 0 0 0 0 0 0 0 0 0 0 0 0 0 0 0 0 0 0 0 0 0 0 0 0 0 0 0 0 0 0 0 0 0 0 0 0 0 0 0\n"
          ],
          "name": "stderr"
        },
        {
          "output_type": "stream",
          "text": [
            "INFO:tensorflow:label: 0 (id = 0)\n"
          ],
          "name": "stdout"
        },
        {
          "output_type": "stream",
          "text": [
            "INFO:tensorflow:label: 0 (id = 0)\n"
          ],
          "name": "stderr"
        },
        {
          "output_type": "stream",
          "text": [
            "INFO:tensorflow:*** Example ***\n"
          ],
          "name": "stdout"
        },
        {
          "output_type": "stream",
          "text": [
            "INFO:tensorflow:*** Example ***\n"
          ],
          "name": "stderr"
        },
        {
          "output_type": "stream",
          "text": [
            "INFO:tensorflow:guid: \n"
          ],
          "name": "stdout"
        },
        {
          "output_type": "stream",
          "text": [
            "INFO:tensorflow:guid: \n"
          ],
          "name": "stderr"
        },
        {
          "output_type": "stream",
          "text": [
            "INFO:tensorflow:tokens: [CLS] this is fake news [SEP]\n"
          ],
          "name": "stdout"
        },
        {
          "output_type": "stream",
          "text": [
            "INFO:tensorflow:tokens: [CLS] this is fake news [SEP]\n"
          ],
          "name": "stderr"
        },
        {
          "output_type": "stream",
          "text": [
            "INFO:tensorflow:input_ids: 101 2023 2003 8275 2739 102 0 0 0 0 0 0 0 0 0 0 0 0 0 0 0 0 0 0 0 0 0 0 0 0 0 0 0 0 0 0 0 0 0 0 0 0 0 0 0 0 0 0 0 0 0 0 0 0 0 0 0 0 0 0 0 0 0 0 0 0 0 0 0 0 0 0 0 0 0 0 0 0 0 0 0 0 0 0 0 0 0 0 0 0 0 0 0 0 0 0 0 0 0 0 0 0 0 0 0 0 0 0 0 0 0 0 0 0 0 0 0 0 0 0 0 0 0 0 0 0 0 0\n"
          ],
          "name": "stdout"
        },
        {
          "output_type": "stream",
          "text": [
            "INFO:tensorflow:input_ids: 101 2023 2003 8275 2739 102 0 0 0 0 0 0 0 0 0 0 0 0 0 0 0 0 0 0 0 0 0 0 0 0 0 0 0 0 0 0 0 0 0 0 0 0 0 0 0 0 0 0 0 0 0 0 0 0 0 0 0 0 0 0 0 0 0 0 0 0 0 0 0 0 0 0 0 0 0 0 0 0 0 0 0 0 0 0 0 0 0 0 0 0 0 0 0 0 0 0 0 0 0 0 0 0 0 0 0 0 0 0 0 0 0 0 0 0 0 0 0 0 0 0 0 0 0 0 0 0 0 0\n"
          ],
          "name": "stderr"
        },
        {
          "output_type": "stream",
          "text": [
            "INFO:tensorflow:input_mask: 1 1 1 1 1 1 0 0 0 0 0 0 0 0 0 0 0 0 0 0 0 0 0 0 0 0 0 0 0 0 0 0 0 0 0 0 0 0 0 0 0 0 0 0 0 0 0 0 0 0 0 0 0 0 0 0 0 0 0 0 0 0 0 0 0 0 0 0 0 0 0 0 0 0 0 0 0 0 0 0 0 0 0 0 0 0 0 0 0 0 0 0 0 0 0 0 0 0 0 0 0 0 0 0 0 0 0 0 0 0 0 0 0 0 0 0 0 0 0 0 0 0 0 0 0 0 0 0\n"
          ],
          "name": "stdout"
        },
        {
          "output_type": "stream",
          "text": [
            "INFO:tensorflow:input_mask: 1 1 1 1 1 1 0 0 0 0 0 0 0 0 0 0 0 0 0 0 0 0 0 0 0 0 0 0 0 0 0 0 0 0 0 0 0 0 0 0 0 0 0 0 0 0 0 0 0 0 0 0 0 0 0 0 0 0 0 0 0 0 0 0 0 0 0 0 0 0 0 0 0 0 0 0 0 0 0 0 0 0 0 0 0 0 0 0 0 0 0 0 0 0 0 0 0 0 0 0 0 0 0 0 0 0 0 0 0 0 0 0 0 0 0 0 0 0 0 0 0 0 0 0 0 0 0 0\n"
          ],
          "name": "stderr"
        },
        {
          "output_type": "stream",
          "text": [
            "INFO:tensorflow:segment_ids: 0 0 0 0 0 0 0 0 0 0 0 0 0 0 0 0 0 0 0 0 0 0 0 0 0 0 0 0 0 0 0 0 0 0 0 0 0 0 0 0 0 0 0 0 0 0 0 0 0 0 0 0 0 0 0 0 0 0 0 0 0 0 0 0 0 0 0 0 0 0 0 0 0 0 0 0 0 0 0 0 0 0 0 0 0 0 0 0 0 0 0 0 0 0 0 0 0 0 0 0 0 0 0 0 0 0 0 0 0 0 0 0 0 0 0 0 0 0 0 0 0 0 0 0 0 0 0 0\n"
          ],
          "name": "stdout"
        },
        {
          "output_type": "stream",
          "text": [
            "INFO:tensorflow:segment_ids: 0 0 0 0 0 0 0 0 0 0 0 0 0 0 0 0 0 0 0 0 0 0 0 0 0 0 0 0 0 0 0 0 0 0 0 0 0 0 0 0 0 0 0 0 0 0 0 0 0 0 0 0 0 0 0 0 0 0 0 0 0 0 0 0 0 0 0 0 0 0 0 0 0 0 0 0 0 0 0 0 0 0 0 0 0 0 0 0 0 0 0 0 0 0 0 0 0 0 0 0 0 0 0 0 0 0 0 0 0 0 0 0 0 0 0 0 0 0 0 0 0 0 0 0 0 0 0 0\n"
          ],
          "name": "stderr"
        },
        {
          "output_type": "stream",
          "text": [
            "INFO:tensorflow:label: 0 (id = 0)\n"
          ],
          "name": "stdout"
        },
        {
          "output_type": "stream",
          "text": [
            "INFO:tensorflow:label: 0 (id = 0)\n"
          ],
          "name": "stderr"
        },
        {
          "output_type": "stream",
          "text": [
            "INFO:tensorflow:Calling model_fn.\n"
          ],
          "name": "stdout"
        },
        {
          "output_type": "stream",
          "text": [
            "INFO:tensorflow:Calling model_fn.\n"
          ],
          "name": "stderr"
        },
        {
          "output_type": "stream",
          "text": [
            "INFO:tensorflow:Saver not created because there are no variables in the graph to restore\n"
          ],
          "name": "stdout"
        },
        {
          "output_type": "stream",
          "text": [
            "INFO:tensorflow:Saver not created because there are no variables in the graph to restore\n"
          ],
          "name": "stderr"
        },
        {
          "output_type": "stream",
          "text": [
            "INFO:tensorflow:Done calling model_fn.\n"
          ],
          "name": "stdout"
        },
        {
          "output_type": "stream",
          "text": [
            "INFO:tensorflow:Done calling model_fn.\n"
          ],
          "name": "stderr"
        },
        {
          "output_type": "stream",
          "text": [
            "INFO:tensorflow:Graph was finalized.\n"
          ],
          "name": "stdout"
        },
        {
          "output_type": "stream",
          "text": [
            "INFO:tensorflow:Graph was finalized.\n"
          ],
          "name": "stderr"
        },
        {
          "output_type": "stream",
          "text": [
            "INFO:tensorflow:Restoring parameters from gs://bert_model1/model/model.ckpt-1662\n"
          ],
          "name": "stdout"
        },
        {
          "output_type": "stream",
          "text": [
            "INFO:tensorflow:Restoring parameters from gs://bert_model1/model/model.ckpt-1662\n"
          ],
          "name": "stderr"
        },
        {
          "output_type": "stream",
          "text": [
            "INFO:tensorflow:Running local_init_op.\n"
          ],
          "name": "stdout"
        },
        {
          "output_type": "stream",
          "text": [
            "INFO:tensorflow:Running local_init_op.\n"
          ],
          "name": "stderr"
        },
        {
          "output_type": "stream",
          "text": [
            "INFO:tensorflow:Done running local_init_op.\n"
          ],
          "name": "stdout"
        },
        {
          "output_type": "stream",
          "text": [
            "INFO:tensorflow:Done running local_init_op.\n"
          ],
          "name": "stderr"
        },
        {
          "output_type": "stream",
          "text": [
            "INFO:tensorflow:Writing example 0 of 2\n"
          ],
          "name": "stdout"
        },
        {
          "output_type": "stream",
          "text": [
            "INFO:tensorflow:Writing example 0 of 2\n"
          ],
          "name": "stderr"
        },
        {
          "output_type": "stream",
          "text": [
            "INFO:tensorflow:*** Example ***\n"
          ],
          "name": "stdout"
        },
        {
          "output_type": "stream",
          "text": [
            "INFO:tensorflow:*** Example ***\n"
          ],
          "name": "stderr"
        },
        {
          "output_type": "stream",
          "text": [
            "INFO:tensorflow:guid: \n"
          ],
          "name": "stdout"
        },
        {
          "output_type": "stream",
          "text": [
            "INFO:tensorflow:guid: \n"
          ],
          "name": "stderr"
        },
        {
          "output_type": "stream",
          "text": [
            "INFO:tensorflow:tokens: [CLS] people won ’ t admit they ’ re going to vote for him . i don ’ t want the person that ’ s behind your public facebook account , i want the person that ’ s behind your troll account . when i look at pennsylvania , for example , i ’ ve got bid ##en up by one point , but i don ’ t think bid ##en is going to win pennsylvania . i think trump is probably going to win it . i think trump will out - perform our polls by a point or two . [SEP]\n"
          ],
          "name": "stdout"
        },
        {
          "output_type": "stream",
          "text": [
            "INFO:tensorflow:tokens: [CLS] people won ’ t admit they ’ re going to vote for him . i don ’ t want the person that ’ s behind your public facebook account , i want the person that ’ s behind your troll account . when i look at pennsylvania , for example , i ’ ve got bid ##en up by one point , but i don ’ t think bid ##en is going to win pennsylvania . i think trump is probably going to win it . i think trump will out - perform our polls by a point or two . [SEP]\n"
          ],
          "name": "stderr"
        },
        {
          "output_type": "stream",
          "text": [
            "INFO:tensorflow:input_ids: 101 2111 2180 1521 1056 6449 2027 1521 2128 2183 2000 3789 2005 2032 1012 1045 2123 1521 1056 2215 1996 2711 2008 1521 1055 2369 2115 2270 9130 4070 1010 1045 2215 1996 2711 2008 1521 1055 2369 2115 18792 4070 1012 2043 1045 2298 2012 3552 1010 2005 2742 1010 1045 1521 2310 2288 7226 2368 2039 2011 2028 2391 1010 2021 1045 2123 1521 1056 2228 7226 2368 2003 2183 2000 2663 3552 1012 1045 2228 8398 2003 2763 2183 2000 2663 2009 1012 1045 2228 8398 2097 2041 1011 4685 2256 14592 2011 1037 2391 2030 2048 1012 102 0 0 0 0 0 0 0 0 0 0 0 0 0 0 0 0 0 0 0 0 0 0 0 0 0\n"
          ],
          "name": "stdout"
        },
        {
          "output_type": "stream",
          "text": [
            "INFO:tensorflow:input_ids: 101 2111 2180 1521 1056 6449 2027 1521 2128 2183 2000 3789 2005 2032 1012 1045 2123 1521 1056 2215 1996 2711 2008 1521 1055 2369 2115 2270 9130 4070 1010 1045 2215 1996 2711 2008 1521 1055 2369 2115 18792 4070 1012 2043 1045 2298 2012 3552 1010 2005 2742 1010 1045 1521 2310 2288 7226 2368 2039 2011 2028 2391 1010 2021 1045 2123 1521 1056 2228 7226 2368 2003 2183 2000 2663 3552 1012 1045 2228 8398 2003 2763 2183 2000 2663 2009 1012 1045 2228 8398 2097 2041 1011 4685 2256 14592 2011 1037 2391 2030 2048 1012 102 0 0 0 0 0 0 0 0 0 0 0 0 0 0 0 0 0 0 0 0 0 0 0 0 0\n"
          ],
          "name": "stderr"
        },
        {
          "output_type": "stream",
          "text": [
            "INFO:tensorflow:input_mask: 1 1 1 1 1 1 1 1 1 1 1 1 1 1 1 1 1 1 1 1 1 1 1 1 1 1 1 1 1 1 1 1 1 1 1 1 1 1 1 1 1 1 1 1 1 1 1 1 1 1 1 1 1 1 1 1 1 1 1 1 1 1 1 1 1 1 1 1 1 1 1 1 1 1 1 1 1 1 1 1 1 1 1 1 1 1 1 1 1 1 1 1 1 1 1 1 1 1 1 1 1 1 1 0 0 0 0 0 0 0 0 0 0 0 0 0 0 0 0 0 0 0 0 0 0 0 0 0\n"
          ],
          "name": "stdout"
        },
        {
          "output_type": "stream",
          "text": [
            "INFO:tensorflow:input_mask: 1 1 1 1 1 1 1 1 1 1 1 1 1 1 1 1 1 1 1 1 1 1 1 1 1 1 1 1 1 1 1 1 1 1 1 1 1 1 1 1 1 1 1 1 1 1 1 1 1 1 1 1 1 1 1 1 1 1 1 1 1 1 1 1 1 1 1 1 1 1 1 1 1 1 1 1 1 1 1 1 1 1 1 1 1 1 1 1 1 1 1 1 1 1 1 1 1 1 1 1 1 1 1 0 0 0 0 0 0 0 0 0 0 0 0 0 0 0 0 0 0 0 0 0 0 0 0 0\n"
          ],
          "name": "stderr"
        },
        {
          "output_type": "stream",
          "text": [
            "INFO:tensorflow:segment_ids: 0 0 0 0 0 0 0 0 0 0 0 0 0 0 0 0 0 0 0 0 0 0 0 0 0 0 0 0 0 0 0 0 0 0 0 0 0 0 0 0 0 0 0 0 0 0 0 0 0 0 0 0 0 0 0 0 0 0 0 0 0 0 0 0 0 0 0 0 0 0 0 0 0 0 0 0 0 0 0 0 0 0 0 0 0 0 0 0 0 0 0 0 0 0 0 0 0 0 0 0 0 0 0 0 0 0 0 0 0 0 0 0 0 0 0 0 0 0 0 0 0 0 0 0 0 0 0 0\n"
          ],
          "name": "stdout"
        },
        {
          "output_type": "stream",
          "text": [
            "INFO:tensorflow:segment_ids: 0 0 0 0 0 0 0 0 0 0 0 0 0 0 0 0 0 0 0 0 0 0 0 0 0 0 0 0 0 0 0 0 0 0 0 0 0 0 0 0 0 0 0 0 0 0 0 0 0 0 0 0 0 0 0 0 0 0 0 0 0 0 0 0 0 0 0 0 0 0 0 0 0 0 0 0 0 0 0 0 0 0 0 0 0 0 0 0 0 0 0 0 0 0 0 0 0 0 0 0 0 0 0 0 0 0 0 0 0 0 0 0 0 0 0 0 0 0 0 0 0 0 0 0 0 0 0 0\n"
          ],
          "name": "stderr"
        },
        {
          "output_type": "stream",
          "text": [
            "INFO:tensorflow:label: 0 (id = 0)\n"
          ],
          "name": "stdout"
        },
        {
          "output_type": "stream",
          "text": [
            "INFO:tensorflow:label: 0 (id = 0)\n"
          ],
          "name": "stderr"
        },
        {
          "output_type": "stream",
          "text": [
            "INFO:tensorflow:*** Example ***\n"
          ],
          "name": "stdout"
        },
        {
          "output_type": "stream",
          "text": [
            "INFO:tensorflow:*** Example ***\n"
          ],
          "name": "stderr"
        },
        {
          "output_type": "stream",
          "text": [
            "INFO:tensorflow:guid: \n"
          ],
          "name": "stdout"
        },
        {
          "output_type": "stream",
          "text": [
            "INFO:tensorflow:guid: \n"
          ],
          "name": "stderr"
        },
        {
          "output_type": "stream",
          "text": [
            "INFO:tensorflow:tokens: [CLS] this is fake news [SEP]\n"
          ],
          "name": "stdout"
        },
        {
          "output_type": "stream",
          "text": [
            "INFO:tensorflow:tokens: [CLS] this is fake news [SEP]\n"
          ],
          "name": "stderr"
        },
        {
          "output_type": "stream",
          "text": [
            "INFO:tensorflow:input_ids: 101 2023 2003 8275 2739 102 0 0 0 0 0 0 0 0 0 0 0 0 0 0 0 0 0 0 0 0 0 0 0 0 0 0 0 0 0 0 0 0 0 0 0 0 0 0 0 0 0 0 0 0 0 0 0 0 0 0 0 0 0 0 0 0 0 0 0 0 0 0 0 0 0 0 0 0 0 0 0 0 0 0 0 0 0 0 0 0 0 0 0 0 0 0 0 0 0 0 0 0 0 0 0 0 0 0 0 0 0 0 0 0 0 0 0 0 0 0 0 0 0 0 0 0 0 0 0 0 0 0\n"
          ],
          "name": "stdout"
        },
        {
          "output_type": "stream",
          "text": [
            "INFO:tensorflow:input_ids: 101 2023 2003 8275 2739 102 0 0 0 0 0 0 0 0 0 0 0 0 0 0 0 0 0 0 0 0 0 0 0 0 0 0 0 0 0 0 0 0 0 0 0 0 0 0 0 0 0 0 0 0 0 0 0 0 0 0 0 0 0 0 0 0 0 0 0 0 0 0 0 0 0 0 0 0 0 0 0 0 0 0 0 0 0 0 0 0 0 0 0 0 0 0 0 0 0 0 0 0 0 0 0 0 0 0 0 0 0 0 0 0 0 0 0 0 0 0 0 0 0 0 0 0 0 0 0 0 0 0\n"
          ],
          "name": "stderr"
        },
        {
          "output_type": "stream",
          "text": [
            "INFO:tensorflow:input_mask: 1 1 1 1 1 1 0 0 0 0 0 0 0 0 0 0 0 0 0 0 0 0 0 0 0 0 0 0 0 0 0 0 0 0 0 0 0 0 0 0 0 0 0 0 0 0 0 0 0 0 0 0 0 0 0 0 0 0 0 0 0 0 0 0 0 0 0 0 0 0 0 0 0 0 0 0 0 0 0 0 0 0 0 0 0 0 0 0 0 0 0 0 0 0 0 0 0 0 0 0 0 0 0 0 0 0 0 0 0 0 0 0 0 0 0 0 0 0 0 0 0 0 0 0 0 0 0 0\n"
          ],
          "name": "stdout"
        },
        {
          "output_type": "stream",
          "text": [
            "INFO:tensorflow:input_mask: 1 1 1 1 1 1 0 0 0 0 0 0 0 0 0 0 0 0 0 0 0 0 0 0 0 0 0 0 0 0 0 0 0 0 0 0 0 0 0 0 0 0 0 0 0 0 0 0 0 0 0 0 0 0 0 0 0 0 0 0 0 0 0 0 0 0 0 0 0 0 0 0 0 0 0 0 0 0 0 0 0 0 0 0 0 0 0 0 0 0 0 0 0 0 0 0 0 0 0 0 0 0 0 0 0 0 0 0 0 0 0 0 0 0 0 0 0 0 0 0 0 0 0 0 0 0 0 0\n"
          ],
          "name": "stderr"
        },
        {
          "output_type": "stream",
          "text": [
            "INFO:tensorflow:segment_ids: 0 0 0 0 0 0 0 0 0 0 0 0 0 0 0 0 0 0 0 0 0 0 0 0 0 0 0 0 0 0 0 0 0 0 0 0 0 0 0 0 0 0 0 0 0 0 0 0 0 0 0 0 0 0 0 0 0 0 0 0 0 0 0 0 0 0 0 0 0 0 0 0 0 0 0 0 0 0 0 0 0 0 0 0 0 0 0 0 0 0 0 0 0 0 0 0 0 0 0 0 0 0 0 0 0 0 0 0 0 0 0 0 0 0 0 0 0 0 0 0 0 0 0 0 0 0 0 0\n"
          ],
          "name": "stdout"
        },
        {
          "output_type": "stream",
          "text": [
            "INFO:tensorflow:segment_ids: 0 0 0 0 0 0 0 0 0 0 0 0 0 0 0 0 0 0 0 0 0 0 0 0 0 0 0 0 0 0 0 0 0 0 0 0 0 0 0 0 0 0 0 0 0 0 0 0 0 0 0 0 0 0 0 0 0 0 0 0 0 0 0 0 0 0 0 0 0 0 0 0 0 0 0 0 0 0 0 0 0 0 0 0 0 0 0 0 0 0 0 0 0 0 0 0 0 0 0 0 0 0 0 0 0 0 0 0 0 0 0 0 0 0 0 0 0 0 0 0 0 0 0 0 0 0 0 0\n"
          ],
          "name": "stderr"
        },
        {
          "output_type": "stream",
          "text": [
            "INFO:tensorflow:label: 0 (id = 0)\n"
          ],
          "name": "stdout"
        },
        {
          "output_type": "stream",
          "text": [
            "INFO:tensorflow:label: 0 (id = 0)\n"
          ],
          "name": "stderr"
        },
        {
          "output_type": "stream",
          "text": [
            "INFO:tensorflow:Calling model_fn.\n"
          ],
          "name": "stdout"
        },
        {
          "output_type": "stream",
          "text": [
            "INFO:tensorflow:Calling model_fn.\n"
          ],
          "name": "stderr"
        },
        {
          "output_type": "stream",
          "text": [
            "INFO:tensorflow:Saver not created because there are no variables in the graph to restore\n"
          ],
          "name": "stdout"
        },
        {
          "output_type": "stream",
          "text": [
            "INFO:tensorflow:Saver not created because there are no variables in the graph to restore\n"
          ],
          "name": "stderr"
        },
        {
          "output_type": "stream",
          "text": [
            "INFO:tensorflow:Done calling model_fn.\n"
          ],
          "name": "stdout"
        },
        {
          "output_type": "stream",
          "text": [
            "INFO:tensorflow:Done calling model_fn.\n"
          ],
          "name": "stderr"
        },
        {
          "output_type": "stream",
          "text": [
            "INFO:tensorflow:Graph was finalized.\n"
          ],
          "name": "stdout"
        },
        {
          "output_type": "stream",
          "text": [
            "INFO:tensorflow:Graph was finalized.\n"
          ],
          "name": "stderr"
        },
        {
          "output_type": "stream",
          "text": [
            "INFO:tensorflow:Restoring parameters from gs://bert_model1/model/model.ckpt-1662\n"
          ],
          "name": "stdout"
        },
        {
          "output_type": "stream",
          "text": [
            "INFO:tensorflow:Restoring parameters from gs://bert_model1/model/model.ckpt-1662\n"
          ],
          "name": "stderr"
        },
        {
          "output_type": "stream",
          "text": [
            "INFO:tensorflow:Running local_init_op.\n"
          ],
          "name": "stdout"
        },
        {
          "output_type": "stream",
          "text": [
            "INFO:tensorflow:Running local_init_op.\n"
          ],
          "name": "stderr"
        },
        {
          "output_type": "stream",
          "text": [
            "INFO:tensorflow:Done running local_init_op.\n"
          ],
          "name": "stdout"
        },
        {
          "output_type": "stream",
          "text": [
            "INFO:tensorflow:Done running local_init_op.\n"
          ],
          "name": "stderr"
        },
        {
          "output_type": "stream",
          "text": [
            "INFO:tensorflow:Writing example 0 of 2\n"
          ],
          "name": "stdout"
        },
        {
          "output_type": "stream",
          "text": [
            "INFO:tensorflow:Writing example 0 of 2\n"
          ],
          "name": "stderr"
        },
        {
          "output_type": "stream",
          "text": [
            "INFO:tensorflow:*** Example ***\n"
          ],
          "name": "stdout"
        },
        {
          "output_type": "stream",
          "text": [
            "INFO:tensorflow:*** Example ***\n"
          ],
          "name": "stderr"
        },
        {
          "output_type": "stream",
          "text": [
            "INFO:tensorflow:guid: \n"
          ],
          "name": "stdout"
        },
        {
          "output_type": "stream",
          "text": [
            "INFO:tensorflow:guid: \n"
          ],
          "name": "stderr"
        },
        {
          "output_type": "stream",
          "text": [
            "INFO:tensorflow:tokens: [CLS] people won ’ t admit they ’ re going to vote for him . i don ’ t want the person that ’ s behind your public facebook account , i want the person that ’ s behind your troll account . when i look at pennsylvania , for example , i ’ ve got bid ##en up by one point , but i don ’ t think bid ##en is going to win pennsylvania . i think trump is probably going to win it . i think trump will out - perform our polls by a point or two . [SEP]\n"
          ],
          "name": "stdout"
        },
        {
          "output_type": "stream",
          "text": [
            "INFO:tensorflow:tokens: [CLS] people won ’ t admit they ’ re going to vote for him . i don ’ t want the person that ’ s behind your public facebook account , i want the person that ’ s behind your troll account . when i look at pennsylvania , for example , i ’ ve got bid ##en up by one point , but i don ’ t think bid ##en is going to win pennsylvania . i think trump is probably going to win it . i think trump will out - perform our polls by a point or two . [SEP]\n"
          ],
          "name": "stderr"
        },
        {
          "output_type": "stream",
          "text": [
            "INFO:tensorflow:input_ids: 101 2111 2180 1521 1056 6449 2027 1521 2128 2183 2000 3789 2005 2032 1012 1045 2123 1521 1056 2215 1996 2711 2008 1521 1055 2369 2115 2270 9130 4070 1010 1045 2215 1996 2711 2008 1521 1055 2369 2115 18792 4070 1012 2043 1045 2298 2012 3552 1010 2005 2742 1010 1045 1521 2310 2288 7226 2368 2039 2011 2028 2391 1010 2021 1045 2123 1521 1056 2228 7226 2368 2003 2183 2000 2663 3552 1012 1045 2228 8398 2003 2763 2183 2000 2663 2009 1012 1045 2228 8398 2097 2041 1011 4685 2256 14592 2011 1037 2391 2030 2048 1012 102 0 0 0 0 0 0 0 0 0 0 0 0 0 0 0 0 0 0 0 0 0 0 0 0 0\n"
          ],
          "name": "stdout"
        },
        {
          "output_type": "stream",
          "text": [
            "INFO:tensorflow:input_ids: 101 2111 2180 1521 1056 6449 2027 1521 2128 2183 2000 3789 2005 2032 1012 1045 2123 1521 1056 2215 1996 2711 2008 1521 1055 2369 2115 2270 9130 4070 1010 1045 2215 1996 2711 2008 1521 1055 2369 2115 18792 4070 1012 2043 1045 2298 2012 3552 1010 2005 2742 1010 1045 1521 2310 2288 7226 2368 2039 2011 2028 2391 1010 2021 1045 2123 1521 1056 2228 7226 2368 2003 2183 2000 2663 3552 1012 1045 2228 8398 2003 2763 2183 2000 2663 2009 1012 1045 2228 8398 2097 2041 1011 4685 2256 14592 2011 1037 2391 2030 2048 1012 102 0 0 0 0 0 0 0 0 0 0 0 0 0 0 0 0 0 0 0 0 0 0 0 0 0\n"
          ],
          "name": "stderr"
        },
        {
          "output_type": "stream",
          "text": [
            "INFO:tensorflow:input_mask: 1 1 1 1 1 1 1 1 1 1 1 1 1 1 1 1 1 1 1 1 1 1 1 1 1 1 1 1 1 1 1 1 1 1 1 1 1 1 1 1 1 1 1 1 1 1 1 1 1 1 1 1 1 1 1 1 1 1 1 1 1 1 1 1 1 1 1 1 1 1 1 1 1 1 1 1 1 1 1 1 1 1 1 1 1 1 1 1 1 1 1 1 1 1 1 1 1 1 1 1 1 1 1 0 0 0 0 0 0 0 0 0 0 0 0 0 0 0 0 0 0 0 0 0 0 0 0 0\n"
          ],
          "name": "stdout"
        },
        {
          "output_type": "stream",
          "text": [
            "INFO:tensorflow:input_mask: 1 1 1 1 1 1 1 1 1 1 1 1 1 1 1 1 1 1 1 1 1 1 1 1 1 1 1 1 1 1 1 1 1 1 1 1 1 1 1 1 1 1 1 1 1 1 1 1 1 1 1 1 1 1 1 1 1 1 1 1 1 1 1 1 1 1 1 1 1 1 1 1 1 1 1 1 1 1 1 1 1 1 1 1 1 1 1 1 1 1 1 1 1 1 1 1 1 1 1 1 1 1 1 0 0 0 0 0 0 0 0 0 0 0 0 0 0 0 0 0 0 0 0 0 0 0 0 0\n"
          ],
          "name": "stderr"
        },
        {
          "output_type": "stream",
          "text": [
            "INFO:tensorflow:segment_ids: 0 0 0 0 0 0 0 0 0 0 0 0 0 0 0 0 0 0 0 0 0 0 0 0 0 0 0 0 0 0 0 0 0 0 0 0 0 0 0 0 0 0 0 0 0 0 0 0 0 0 0 0 0 0 0 0 0 0 0 0 0 0 0 0 0 0 0 0 0 0 0 0 0 0 0 0 0 0 0 0 0 0 0 0 0 0 0 0 0 0 0 0 0 0 0 0 0 0 0 0 0 0 0 0 0 0 0 0 0 0 0 0 0 0 0 0 0 0 0 0 0 0 0 0 0 0 0 0\n"
          ],
          "name": "stdout"
        },
        {
          "output_type": "stream",
          "text": [
            "INFO:tensorflow:segment_ids: 0 0 0 0 0 0 0 0 0 0 0 0 0 0 0 0 0 0 0 0 0 0 0 0 0 0 0 0 0 0 0 0 0 0 0 0 0 0 0 0 0 0 0 0 0 0 0 0 0 0 0 0 0 0 0 0 0 0 0 0 0 0 0 0 0 0 0 0 0 0 0 0 0 0 0 0 0 0 0 0 0 0 0 0 0 0 0 0 0 0 0 0 0 0 0 0 0 0 0 0 0 0 0 0 0 0 0 0 0 0 0 0 0 0 0 0 0 0 0 0 0 0 0 0 0 0 0 0\n"
          ],
          "name": "stderr"
        },
        {
          "output_type": "stream",
          "text": [
            "INFO:tensorflow:label: 0 (id = 0)\n"
          ],
          "name": "stdout"
        },
        {
          "output_type": "stream",
          "text": [
            "INFO:tensorflow:label: 0 (id = 0)\n"
          ],
          "name": "stderr"
        },
        {
          "output_type": "stream",
          "text": [
            "INFO:tensorflow:*** Example ***\n"
          ],
          "name": "stdout"
        },
        {
          "output_type": "stream",
          "text": [
            "INFO:tensorflow:*** Example ***\n"
          ],
          "name": "stderr"
        },
        {
          "output_type": "stream",
          "text": [
            "INFO:tensorflow:guid: \n"
          ],
          "name": "stdout"
        },
        {
          "output_type": "stream",
          "text": [
            "INFO:tensorflow:guid: \n"
          ],
          "name": "stderr"
        },
        {
          "output_type": "stream",
          "text": [
            "INFO:tensorflow:tokens: [CLS] this is fake news [SEP]\n"
          ],
          "name": "stdout"
        },
        {
          "output_type": "stream",
          "text": [
            "INFO:tensorflow:tokens: [CLS] this is fake news [SEP]\n"
          ],
          "name": "stderr"
        },
        {
          "output_type": "stream",
          "text": [
            "INFO:tensorflow:input_ids: 101 2023 2003 8275 2739 102 0 0 0 0 0 0 0 0 0 0 0 0 0 0 0 0 0 0 0 0 0 0 0 0 0 0 0 0 0 0 0 0 0 0 0 0 0 0 0 0 0 0 0 0 0 0 0 0 0 0 0 0 0 0 0 0 0 0 0 0 0 0 0 0 0 0 0 0 0 0 0 0 0 0 0 0 0 0 0 0 0 0 0 0 0 0 0 0 0 0 0 0 0 0 0 0 0 0 0 0 0 0 0 0 0 0 0 0 0 0 0 0 0 0 0 0 0 0 0 0 0 0\n"
          ],
          "name": "stdout"
        },
        {
          "output_type": "stream",
          "text": [
            "INFO:tensorflow:input_ids: 101 2023 2003 8275 2739 102 0 0 0 0 0 0 0 0 0 0 0 0 0 0 0 0 0 0 0 0 0 0 0 0 0 0 0 0 0 0 0 0 0 0 0 0 0 0 0 0 0 0 0 0 0 0 0 0 0 0 0 0 0 0 0 0 0 0 0 0 0 0 0 0 0 0 0 0 0 0 0 0 0 0 0 0 0 0 0 0 0 0 0 0 0 0 0 0 0 0 0 0 0 0 0 0 0 0 0 0 0 0 0 0 0 0 0 0 0 0 0 0 0 0 0 0 0 0 0 0 0 0\n"
          ],
          "name": "stderr"
        },
        {
          "output_type": "stream",
          "text": [
            "INFO:tensorflow:input_mask: 1 1 1 1 1 1 0 0 0 0 0 0 0 0 0 0 0 0 0 0 0 0 0 0 0 0 0 0 0 0 0 0 0 0 0 0 0 0 0 0 0 0 0 0 0 0 0 0 0 0 0 0 0 0 0 0 0 0 0 0 0 0 0 0 0 0 0 0 0 0 0 0 0 0 0 0 0 0 0 0 0 0 0 0 0 0 0 0 0 0 0 0 0 0 0 0 0 0 0 0 0 0 0 0 0 0 0 0 0 0 0 0 0 0 0 0 0 0 0 0 0 0 0 0 0 0 0 0\n"
          ],
          "name": "stdout"
        },
        {
          "output_type": "stream",
          "text": [
            "INFO:tensorflow:input_mask: 1 1 1 1 1 1 0 0 0 0 0 0 0 0 0 0 0 0 0 0 0 0 0 0 0 0 0 0 0 0 0 0 0 0 0 0 0 0 0 0 0 0 0 0 0 0 0 0 0 0 0 0 0 0 0 0 0 0 0 0 0 0 0 0 0 0 0 0 0 0 0 0 0 0 0 0 0 0 0 0 0 0 0 0 0 0 0 0 0 0 0 0 0 0 0 0 0 0 0 0 0 0 0 0 0 0 0 0 0 0 0 0 0 0 0 0 0 0 0 0 0 0 0 0 0 0 0 0\n"
          ],
          "name": "stderr"
        },
        {
          "output_type": "stream",
          "text": [
            "INFO:tensorflow:segment_ids: 0 0 0 0 0 0 0 0 0 0 0 0 0 0 0 0 0 0 0 0 0 0 0 0 0 0 0 0 0 0 0 0 0 0 0 0 0 0 0 0 0 0 0 0 0 0 0 0 0 0 0 0 0 0 0 0 0 0 0 0 0 0 0 0 0 0 0 0 0 0 0 0 0 0 0 0 0 0 0 0 0 0 0 0 0 0 0 0 0 0 0 0 0 0 0 0 0 0 0 0 0 0 0 0 0 0 0 0 0 0 0 0 0 0 0 0 0 0 0 0 0 0 0 0 0 0 0 0\n"
          ],
          "name": "stdout"
        },
        {
          "output_type": "stream",
          "text": [
            "INFO:tensorflow:segment_ids: 0 0 0 0 0 0 0 0 0 0 0 0 0 0 0 0 0 0 0 0 0 0 0 0 0 0 0 0 0 0 0 0 0 0 0 0 0 0 0 0 0 0 0 0 0 0 0 0 0 0 0 0 0 0 0 0 0 0 0 0 0 0 0 0 0 0 0 0 0 0 0 0 0 0 0 0 0 0 0 0 0 0 0 0 0 0 0 0 0 0 0 0 0 0 0 0 0 0 0 0 0 0 0 0 0 0 0 0 0 0 0 0 0 0 0 0 0 0 0 0 0 0 0 0 0 0 0 0\n"
          ],
          "name": "stderr"
        },
        {
          "output_type": "stream",
          "text": [
            "INFO:tensorflow:label: 0 (id = 0)\n"
          ],
          "name": "stdout"
        },
        {
          "output_type": "stream",
          "text": [
            "INFO:tensorflow:label: 0 (id = 0)\n"
          ],
          "name": "stderr"
        },
        {
          "output_type": "stream",
          "text": [
            "INFO:tensorflow:Calling model_fn.\n"
          ],
          "name": "stdout"
        },
        {
          "output_type": "stream",
          "text": [
            "INFO:tensorflow:Calling model_fn.\n"
          ],
          "name": "stderr"
        },
        {
          "output_type": "stream",
          "text": [
            "INFO:tensorflow:Saver not created because there are no variables in the graph to restore\n"
          ],
          "name": "stdout"
        },
        {
          "output_type": "stream",
          "text": [
            "INFO:tensorflow:Saver not created because there are no variables in the graph to restore\n"
          ],
          "name": "stderr"
        },
        {
          "output_type": "stream",
          "text": [
            "INFO:tensorflow:Done calling model_fn.\n"
          ],
          "name": "stdout"
        },
        {
          "output_type": "stream",
          "text": [
            "INFO:tensorflow:Done calling model_fn.\n"
          ],
          "name": "stderr"
        },
        {
          "output_type": "stream",
          "text": [
            "INFO:tensorflow:Graph was finalized.\n"
          ],
          "name": "stdout"
        },
        {
          "output_type": "stream",
          "text": [
            "INFO:tensorflow:Graph was finalized.\n"
          ],
          "name": "stderr"
        },
        {
          "output_type": "stream",
          "text": [
            "INFO:tensorflow:Restoring parameters from gs://bert_model1/model/model.ckpt-1662\n"
          ],
          "name": "stdout"
        },
        {
          "output_type": "stream",
          "text": [
            "INFO:tensorflow:Restoring parameters from gs://bert_model1/model/model.ckpt-1662\n"
          ],
          "name": "stderr"
        },
        {
          "output_type": "stream",
          "text": [
            "INFO:tensorflow:Running local_init_op.\n"
          ],
          "name": "stdout"
        },
        {
          "output_type": "stream",
          "text": [
            "INFO:tensorflow:Running local_init_op.\n"
          ],
          "name": "stderr"
        },
        {
          "output_type": "stream",
          "text": [
            "INFO:tensorflow:Done running local_init_op.\n"
          ],
          "name": "stdout"
        },
        {
          "output_type": "stream",
          "text": [
            "INFO:tensorflow:Done running local_init_op.\n"
          ],
          "name": "stderr"
        },
        {
          "output_type": "stream",
          "text": [
            "1 loop, best of 3: 8.93 s per loop\n"
          ],
          "name": "stdout"
        }
      ]
    },
    {
      "cell_type": "markdown",
      "metadata": {
        "id": "MXkRiEBUqN3n"
      },
      "source": [
        "Voila! We have a fake news classifier!"
      ]
    },
    {
      "cell_type": "code",
      "metadata": {
        "colab": {
          "base_uri": "https://localhost:8080/",
          "height": 829
        },
        "id": "QsG2GElu64AA",
        "outputId": "4ecd5cf1-8496-4d8e-8266-622dfe3a1e03"
      },
      "source": [
        "from tensorflow.contrib import predictor\n",
        "from pathlib import Path\n",
        "import os\n",
        "\n",
        "export_dir = 'model'\n",
        "subdirs = [x for x in Path(export_dir).iterdir()\n",
        "           if x.is_dir() and 'temp' not in str(x)]\n",
        "latest = str(sorted(subdirs)[-1])\n",
        "predict_fn = predictor.from_saved_model(latest)\n",
        "input_examples = [run_classifier.InputExample(guid=\"\", text_a = x, text_b = None, label = 0) for x in pred_sentences] # here, \"\" is just a dummy label\n",
        "input_features = run_classifier.convert_examples_to_features(input_examples, label_list, MAX_SEQ_LENGTH, tokenizer)\n",
        "predict_input_fn = run_classifier.input_fn_builder(features=input_features, seq_length=MAX_SEQ_LENGTH, is_training=False, drop_remainder=False)\n",
        "pred = predict_fn(predict_input_fn)['output']"
      ],
      "execution_count": null,
      "outputs": [
        {
          "output_type": "stream",
          "text": [
            "INFO:tensorflow:Restoring parameters from model/1606865589/variables/variables\n"
          ],
          "name": "stdout"
        },
        {
          "output_type": "stream",
          "text": [
            "INFO:tensorflow:Restoring parameters from model/1606865589/variables/variables\n"
          ],
          "name": "stderr"
        },
        {
          "output_type": "stream",
          "text": [
            "INFO:tensorflow:Writing example 0 of 2\n"
          ],
          "name": "stdout"
        },
        {
          "output_type": "stream",
          "text": [
            "INFO:tensorflow:Writing example 0 of 2\n"
          ],
          "name": "stderr"
        },
        {
          "output_type": "stream",
          "text": [
            "INFO:tensorflow:*** Example ***\n"
          ],
          "name": "stdout"
        },
        {
          "output_type": "stream",
          "text": [
            "INFO:tensorflow:*** Example ***\n"
          ],
          "name": "stderr"
        },
        {
          "output_type": "stream",
          "text": [
            "INFO:tensorflow:guid: \n"
          ],
          "name": "stdout"
        },
        {
          "output_type": "stream",
          "text": [
            "INFO:tensorflow:guid: \n"
          ],
          "name": "stderr"
        },
        {
          "output_type": "stream",
          "text": [
            "INFO:tensorflow:tokens: [CLS] people won ’ t admit they ’ re going to vote for him . i don ’ t want the person that ’ s behind your public facebook account , i want the person that ’ s behind your troll account . when i look at pennsylvania , for example , i ’ ve got bid ##en up by one point , but i don ’ t think bid ##en is going to win pennsylvania . i think trump is probably going to win it . i think trump will out - perform our polls by a point or two . [SEP]\n"
          ],
          "name": "stdout"
        },
        {
          "output_type": "stream",
          "text": [
            "INFO:tensorflow:tokens: [CLS] people won ’ t admit they ’ re going to vote for him . i don ’ t want the person that ’ s behind your public facebook account , i want the person that ’ s behind your troll account . when i look at pennsylvania , for example , i ’ ve got bid ##en up by one point , but i don ’ t think bid ##en is going to win pennsylvania . i think trump is probably going to win it . i think trump will out - perform our polls by a point or two . [SEP]\n"
          ],
          "name": "stderr"
        },
        {
          "output_type": "stream",
          "text": [
            "INFO:tensorflow:input_ids: 101 2111 2180 1521 1056 6449 2027 1521 2128 2183 2000 3789 2005 2032 1012 1045 2123 1521 1056 2215 1996 2711 2008 1521 1055 2369 2115 2270 9130 4070 1010 1045 2215 1996 2711 2008 1521 1055 2369 2115 18792 4070 1012 2043 1045 2298 2012 3552 1010 2005 2742 1010 1045 1521 2310 2288 7226 2368 2039 2011 2028 2391 1010 2021 1045 2123 1521 1056 2228 7226 2368 2003 2183 2000 2663 3552 1012 1045 2228 8398 2003 2763 2183 2000 2663 2009 1012 1045 2228 8398 2097 2041 1011 4685 2256 14592 2011 1037 2391 2030 2048 1012 102 0 0 0 0 0 0 0 0 0 0 0 0 0 0 0 0 0 0 0 0 0 0 0 0 0\n"
          ],
          "name": "stdout"
        },
        {
          "output_type": "stream",
          "text": [
            "INFO:tensorflow:input_ids: 101 2111 2180 1521 1056 6449 2027 1521 2128 2183 2000 3789 2005 2032 1012 1045 2123 1521 1056 2215 1996 2711 2008 1521 1055 2369 2115 2270 9130 4070 1010 1045 2215 1996 2711 2008 1521 1055 2369 2115 18792 4070 1012 2043 1045 2298 2012 3552 1010 2005 2742 1010 1045 1521 2310 2288 7226 2368 2039 2011 2028 2391 1010 2021 1045 2123 1521 1056 2228 7226 2368 2003 2183 2000 2663 3552 1012 1045 2228 8398 2003 2763 2183 2000 2663 2009 1012 1045 2228 8398 2097 2041 1011 4685 2256 14592 2011 1037 2391 2030 2048 1012 102 0 0 0 0 0 0 0 0 0 0 0 0 0 0 0 0 0 0 0 0 0 0 0 0 0\n"
          ],
          "name": "stderr"
        },
        {
          "output_type": "stream",
          "text": [
            "INFO:tensorflow:input_mask: 1 1 1 1 1 1 1 1 1 1 1 1 1 1 1 1 1 1 1 1 1 1 1 1 1 1 1 1 1 1 1 1 1 1 1 1 1 1 1 1 1 1 1 1 1 1 1 1 1 1 1 1 1 1 1 1 1 1 1 1 1 1 1 1 1 1 1 1 1 1 1 1 1 1 1 1 1 1 1 1 1 1 1 1 1 1 1 1 1 1 1 1 1 1 1 1 1 1 1 1 1 1 1 0 0 0 0 0 0 0 0 0 0 0 0 0 0 0 0 0 0 0 0 0 0 0 0 0\n"
          ],
          "name": "stdout"
        },
        {
          "output_type": "stream",
          "text": [
            "INFO:tensorflow:input_mask: 1 1 1 1 1 1 1 1 1 1 1 1 1 1 1 1 1 1 1 1 1 1 1 1 1 1 1 1 1 1 1 1 1 1 1 1 1 1 1 1 1 1 1 1 1 1 1 1 1 1 1 1 1 1 1 1 1 1 1 1 1 1 1 1 1 1 1 1 1 1 1 1 1 1 1 1 1 1 1 1 1 1 1 1 1 1 1 1 1 1 1 1 1 1 1 1 1 1 1 1 1 1 1 0 0 0 0 0 0 0 0 0 0 0 0 0 0 0 0 0 0 0 0 0 0 0 0 0\n"
          ],
          "name": "stderr"
        },
        {
          "output_type": "stream",
          "text": [
            "INFO:tensorflow:segment_ids: 0 0 0 0 0 0 0 0 0 0 0 0 0 0 0 0 0 0 0 0 0 0 0 0 0 0 0 0 0 0 0 0 0 0 0 0 0 0 0 0 0 0 0 0 0 0 0 0 0 0 0 0 0 0 0 0 0 0 0 0 0 0 0 0 0 0 0 0 0 0 0 0 0 0 0 0 0 0 0 0 0 0 0 0 0 0 0 0 0 0 0 0 0 0 0 0 0 0 0 0 0 0 0 0 0 0 0 0 0 0 0 0 0 0 0 0 0 0 0 0 0 0 0 0 0 0 0 0\n"
          ],
          "name": "stdout"
        },
        {
          "output_type": "stream",
          "text": [
            "INFO:tensorflow:segment_ids: 0 0 0 0 0 0 0 0 0 0 0 0 0 0 0 0 0 0 0 0 0 0 0 0 0 0 0 0 0 0 0 0 0 0 0 0 0 0 0 0 0 0 0 0 0 0 0 0 0 0 0 0 0 0 0 0 0 0 0 0 0 0 0 0 0 0 0 0 0 0 0 0 0 0 0 0 0 0 0 0 0 0 0 0 0 0 0 0 0 0 0 0 0 0 0 0 0 0 0 0 0 0 0 0 0 0 0 0 0 0 0 0 0 0 0 0 0 0 0 0 0 0 0 0 0 0 0 0\n"
          ],
          "name": "stderr"
        },
        {
          "output_type": "stream",
          "text": [
            "INFO:tensorflow:label: 0 (id = 0)\n"
          ],
          "name": "stdout"
        },
        {
          "output_type": "stream",
          "text": [
            "INFO:tensorflow:label: 0 (id = 0)\n"
          ],
          "name": "stderr"
        },
        {
          "output_type": "stream",
          "text": [
            "INFO:tensorflow:*** Example ***\n"
          ],
          "name": "stdout"
        },
        {
          "output_type": "stream",
          "text": [
            "INFO:tensorflow:*** Example ***\n"
          ],
          "name": "stderr"
        },
        {
          "output_type": "stream",
          "text": [
            "INFO:tensorflow:guid: \n"
          ],
          "name": "stdout"
        },
        {
          "output_type": "stream",
          "text": [
            "INFO:tensorflow:guid: \n"
          ],
          "name": "stderr"
        },
        {
          "output_type": "stream",
          "text": [
            "INFO:tensorflow:tokens: [CLS] this is fake news [SEP]\n"
          ],
          "name": "stdout"
        },
        {
          "output_type": "stream",
          "text": [
            "INFO:tensorflow:tokens: [CLS] this is fake news [SEP]\n"
          ],
          "name": "stderr"
        },
        {
          "output_type": "stream",
          "text": [
            "INFO:tensorflow:input_ids: 101 2023 2003 8275 2739 102 0 0 0 0 0 0 0 0 0 0 0 0 0 0 0 0 0 0 0 0 0 0 0 0 0 0 0 0 0 0 0 0 0 0 0 0 0 0 0 0 0 0 0 0 0 0 0 0 0 0 0 0 0 0 0 0 0 0 0 0 0 0 0 0 0 0 0 0 0 0 0 0 0 0 0 0 0 0 0 0 0 0 0 0 0 0 0 0 0 0 0 0 0 0 0 0 0 0 0 0 0 0 0 0 0 0 0 0 0 0 0 0 0 0 0 0 0 0 0 0 0 0\n"
          ],
          "name": "stdout"
        },
        {
          "output_type": "stream",
          "text": [
            "INFO:tensorflow:input_ids: 101 2023 2003 8275 2739 102 0 0 0 0 0 0 0 0 0 0 0 0 0 0 0 0 0 0 0 0 0 0 0 0 0 0 0 0 0 0 0 0 0 0 0 0 0 0 0 0 0 0 0 0 0 0 0 0 0 0 0 0 0 0 0 0 0 0 0 0 0 0 0 0 0 0 0 0 0 0 0 0 0 0 0 0 0 0 0 0 0 0 0 0 0 0 0 0 0 0 0 0 0 0 0 0 0 0 0 0 0 0 0 0 0 0 0 0 0 0 0 0 0 0 0 0 0 0 0 0 0 0\n"
          ],
          "name": "stderr"
        },
        {
          "output_type": "stream",
          "text": [
            "INFO:tensorflow:input_mask: 1 1 1 1 1 1 0 0 0 0 0 0 0 0 0 0 0 0 0 0 0 0 0 0 0 0 0 0 0 0 0 0 0 0 0 0 0 0 0 0 0 0 0 0 0 0 0 0 0 0 0 0 0 0 0 0 0 0 0 0 0 0 0 0 0 0 0 0 0 0 0 0 0 0 0 0 0 0 0 0 0 0 0 0 0 0 0 0 0 0 0 0 0 0 0 0 0 0 0 0 0 0 0 0 0 0 0 0 0 0 0 0 0 0 0 0 0 0 0 0 0 0 0 0 0 0 0 0\n"
          ],
          "name": "stdout"
        },
        {
          "output_type": "stream",
          "text": [
            "INFO:tensorflow:input_mask: 1 1 1 1 1 1 0 0 0 0 0 0 0 0 0 0 0 0 0 0 0 0 0 0 0 0 0 0 0 0 0 0 0 0 0 0 0 0 0 0 0 0 0 0 0 0 0 0 0 0 0 0 0 0 0 0 0 0 0 0 0 0 0 0 0 0 0 0 0 0 0 0 0 0 0 0 0 0 0 0 0 0 0 0 0 0 0 0 0 0 0 0 0 0 0 0 0 0 0 0 0 0 0 0 0 0 0 0 0 0 0 0 0 0 0 0 0 0 0 0 0 0 0 0 0 0 0 0\n"
          ],
          "name": "stderr"
        },
        {
          "output_type": "stream",
          "text": [
            "INFO:tensorflow:segment_ids: 0 0 0 0 0 0 0 0 0 0 0 0 0 0 0 0 0 0 0 0 0 0 0 0 0 0 0 0 0 0 0 0 0 0 0 0 0 0 0 0 0 0 0 0 0 0 0 0 0 0 0 0 0 0 0 0 0 0 0 0 0 0 0 0 0 0 0 0 0 0 0 0 0 0 0 0 0 0 0 0 0 0 0 0 0 0 0 0 0 0 0 0 0 0 0 0 0 0 0 0 0 0 0 0 0 0 0 0 0 0 0 0 0 0 0 0 0 0 0 0 0 0 0 0 0 0 0 0\n"
          ],
          "name": "stdout"
        },
        {
          "output_type": "stream",
          "text": [
            "INFO:tensorflow:segment_ids: 0 0 0 0 0 0 0 0 0 0 0 0 0 0 0 0 0 0 0 0 0 0 0 0 0 0 0 0 0 0 0 0 0 0 0 0 0 0 0 0 0 0 0 0 0 0 0 0 0 0 0 0 0 0 0 0 0 0 0 0 0 0 0 0 0 0 0 0 0 0 0 0 0 0 0 0 0 0 0 0 0 0 0 0 0 0 0 0 0 0 0 0 0 0 0 0 0 0 0 0 0 0 0 0 0 0 0 0 0 0 0 0 0 0 0 0 0 0 0 0 0 0 0 0 0 0 0 0\n"
          ],
          "name": "stderr"
        },
        {
          "output_type": "stream",
          "text": [
            "INFO:tensorflow:label: 0 (id = 0)\n"
          ],
          "name": "stdout"
        },
        {
          "output_type": "stream",
          "text": [
            "INFO:tensorflow:label: 0 (id = 0)\n"
          ],
          "name": "stderr"
        },
        {
          "output_type": "error",
          "ename": "AttributeError",
          "evalue": "ignored",
          "traceback": [
            "\u001b[0;31m---------------------------------------------------------------------------\u001b[0m",
            "\u001b[0;31mAttributeError\u001b[0m                            Traceback (most recent call last)",
            "\u001b[0;32m<ipython-input-45-c56d7551d38f>\u001b[0m in \u001b[0;36m<module>\u001b[0;34m()\u001b[0m\n\u001b[1;32m     11\u001b[0m \u001b[0minput_features\u001b[0m \u001b[0;34m=\u001b[0m \u001b[0mrun_classifier\u001b[0m\u001b[0;34m.\u001b[0m\u001b[0mconvert_examples_to_features\u001b[0m\u001b[0;34m(\u001b[0m\u001b[0minput_examples\u001b[0m\u001b[0;34m,\u001b[0m \u001b[0mlabel_list\u001b[0m\u001b[0;34m,\u001b[0m \u001b[0mMAX_SEQ_LENGTH\u001b[0m\u001b[0;34m,\u001b[0m \u001b[0mtokenizer\u001b[0m\u001b[0;34m)\u001b[0m\u001b[0;34m\u001b[0m\u001b[0;34m\u001b[0m\u001b[0m\n\u001b[1;32m     12\u001b[0m \u001b[0mpredict_input_fn\u001b[0m \u001b[0;34m=\u001b[0m \u001b[0mrun_classifier\u001b[0m\u001b[0;34m.\u001b[0m\u001b[0minput_fn_builder\u001b[0m\u001b[0;34m(\u001b[0m\u001b[0mfeatures\u001b[0m\u001b[0;34m=\u001b[0m\u001b[0minput_features\u001b[0m\u001b[0;34m,\u001b[0m \u001b[0mseq_length\u001b[0m\u001b[0;34m=\u001b[0m\u001b[0mMAX_SEQ_LENGTH\u001b[0m\u001b[0;34m,\u001b[0m \u001b[0mis_training\u001b[0m\u001b[0;34m=\u001b[0m\u001b[0;32mFalse\u001b[0m\u001b[0;34m,\u001b[0m \u001b[0mdrop_remainder\u001b[0m\u001b[0;34m=\u001b[0m\u001b[0;32mFalse\u001b[0m\u001b[0;34m)\u001b[0m\u001b[0;34m\u001b[0m\u001b[0;34m\u001b[0m\u001b[0m\n\u001b[0;32m---> 13\u001b[0;31m \u001b[0mpred\u001b[0m \u001b[0;34m=\u001b[0m \u001b[0mpredict_fn\u001b[0m\u001b[0;34m.\u001b[0m\u001b[0mpredict\u001b[0m\u001b[0;34m(\u001b[0m\u001b[0mpredict_input_fn\u001b[0m\u001b[0;34m)\u001b[0m\u001b[0;34m[\u001b[0m\u001b[0;34m'output'\u001b[0m\u001b[0;34m]\u001b[0m\u001b[0;34m\u001b[0m\u001b[0;34m\u001b[0m\u001b[0m\n\u001b[0m",
            "\u001b[0;31mAttributeError\u001b[0m: 'SavedModelPredictor' object has no attribute 'predict'"
          ]
        }
      ]
    },
    {
      "cell_type": "code",
      "metadata": {
        "id": "lU5zZQoh3jj7"
      },
      "source": [
        ""
      ],
      "execution_count": null,
      "outputs": []
    }
  ]
}